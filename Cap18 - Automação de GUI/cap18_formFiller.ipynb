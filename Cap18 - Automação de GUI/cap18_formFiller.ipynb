{
 "metadata": {
  "language_info": {
   "codemirror_mode": {
    "name": "ipython",
    "version": 3
   },
   "file_extension": ".py",
   "mimetype": "text/x-python",
   "name": "python",
   "nbconvert_exporter": "python",
   "pygments_lexer": "ipython3",
   "version": "3.7.9-final"
  },
  "orig_nbformat": 2,
  "kernelspec": {
   "name": "python3",
   "display_name": "Python 3",
   "language": "python"
  }
 },
 "nbformat": 4,
 "nbformat_minor": 2,
 "cells": [
  {
   "cell_type": "code",
   "execution_count": 1,
   "metadata": {
    "tags": []
   },
   "outputs": [],
   "source": [
    "#!/home/pdajgs/python_labs/py3.7/bin/python3\n",
    "\n",
    "import pyautogui, time\n",
    "\n",
    "# defina as variáveis com as coordenadas corretas obtidas em seu computador\n",
    "nameField = (648,319)\n",
    "submitButton = (651,817)\n",
    "submitButtonColor = (75,141,249)\n",
    "submitAnotherLink = (760,224)\n",
    "\n",
    "formData = [{'name':'Alice','fear':'eavesdroppers','source':'wand','robocop':4,'comments':'Tell Bob I said hi.'},{'name':'Bob','fear':'bees','source':'amulet','robocop':4,'comments':'n/a'},{'name':'Carol','fear':'puppets','source':'crystal ball','robocop':1,'comments':'Please take the puppets out of the break room.'},{'name':'Alex Murphy','fear':'ED-209','source':'money','robocop':5,'comments':'Protect the innocent. Serve the public trust. Uphold the law.'}]\n",
    "\n",
    "# definindo uma pausa para cada chamada da função\n",
    "pyautogui.PAUSE = 0.5\n",
    "\n",
    "for person in formData:\n",
    "    # uma chance para encerrar o programa\n",
    "    print('>>> 5 SECOND PAUSE TO LET USER PRESS CTRL+C <<<')\n",
    "    time.sleep(5)\n",
    "    # espera até a pagina do formulário tenha sido carregada\n",
    "    while not pyautogui.pixelMatchesColor(submitButton[0],submitButton[1],submitButtonColor):\n",
    "        time.sleep(0.5)\n",
    "    print('Entering %s info...' %(person['name']))\n",
    "    pyautogui.click(nameField[0],nameField[1])\n",
    "    # preenche o campo Name\n",
    "    pyautogui.typewrite(person['name'] + '\\t')\n",
    "    # preenche o campo Greatest Fear(s)\n",
    "    pyautogui.typewrite(person['fear'] + '\\t')\n",
    "    # preenche o campo Source of Wizard Powers\n",
    "    if person['source'] == 'wand':\n",
    "        pyautogui.typewrite(['down','\\t'])\n",
    "    elif person['source'] == 'amulet':\n",
    "        pyautogui.typewrite(['down','down','\\t'])\n",
    "    elif person['source'] == 'crystal ball':\n",
    "        pyautogui.typewrite(['down','down','down','\\t'])\n",
    "    elif person['source'] == 'money':\n",
    "        pyautogui.typewrite(['down','down','down','down','\\t'])\n",
    "    # preenche o campo robocop\n",
    "    if person['robocop'] == 1:\n",
    "        pyautogui.typewrite(['','\\t'])\n",
    "    elif person['robocop'] == 2:\n",
    "        pyautogui.typewrite(['right','\\t'])\n",
    "    elif person['robocop'] == 3:\n",
    "        pyautogui.typewrite(['right','right','\\t'])\n",
    "    elif person['robocop'] == 4:\n",
    "        pyautogui.typewrite(['right','right','right','\\t'])\n",
    "    elif person['robocop'] == 5:\n",
    "        pyautogui.typewrite(['right','right','right','right','\\t'])\n",
    "    # preenche o campo adicional comments\n",
    "    pyautogui.typewrite(person['comments'] + '\\t')\n",
    "    # clica em submit\n",
    "    pyautogui.press('enter')\n",
    "    # espera até que a pagina do formulário tenha sido carregada\n",
    "    print('Clicked Submit.')\n",
    "    time.sleep(5)\n",
    "    # clica no link Submit another response\n",
    "    pyautogui.click(submitAnotherLink[0],submitAnotherLink[1])"
   ]
  },
  {
   "cell_type": "code",
   "execution_count": null,
   "metadata": {},
   "outputs": [],
   "source": []
  }
 ]
}