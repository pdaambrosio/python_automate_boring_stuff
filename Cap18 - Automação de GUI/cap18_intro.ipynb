{
 "metadata": {
  "language_info": {
   "codemirror_mode": {
    "name": "ipython",
    "version": 3
   },
   "file_extension": ".py",
   "mimetype": "text/x-python",
   "name": "python",
   "nbconvert_exporter": "python",
   "pygments_lexer": "ipython3",
   "version": "3.7.9-final"
  },
  "orig_nbformat": 2,
  "kernelspec": {
   "name": "python3",
   "display_name": "Python 3",
   "language": "python"
  }
 },
 "nbformat": 4,
 "nbformat_minor": 2,
 "cells": [
  {
   "cell_type": "code",
   "execution_count": 7,
   "metadata": {},
   "outputs": [],
   "source": [
    "# pausas e falhas de segurança\n",
    "import pyautogui\n",
    "\n",
    "pyautogui.PAUSE = 1\n",
    "pyautogui.FAILSAFE = True"
   ]
  },
  {
   "cell_type": "code",
   "execution_count": 13,
   "metadata": {},
   "outputs": [
    {
     "output_type": "stream",
     "name": "stdout",
     "text": [
      "3286\n1080\n"
     ]
    }
   ],
   "source": [
    "# controlando os movimentos do mouse\n",
    "import pyautogui\n",
    "\n",
    "pyautogui.size() # descobrir resolução da tela\n",
    "largura, altura = pyautogui.size()\n",
    "\n",
    "print(largura)\n",
    "print(altura)"
   ]
  },
  {
   "cell_type": "code",
   "execution_count": 11,
   "metadata": {},
   "outputs": [],
   "source": [
    "# movendo o mouse\n",
    "import pyautogui\n",
    "\n",
    "# pyautogui.moveTo(100,100, duration=1)\n",
    "\n",
    "for i in range(10):\n",
    "    pyautogui.moveTo(100,100, duration=0.25)\n",
    "    pyautogui.moveTo(200,100, duration=0.25)\n",
    "    pyautogui.moveTo(200,200, duration=0.25)\n",
    "    pyautogui.moveTo(100,200, duration=0.25)"
   ]
  },
  {
   "cell_type": "code",
   "execution_count": 14,
   "metadata": {},
   "outputs": [],
   "source": [
    "import pyautogui\n",
    "\n",
    "for i in range(10):\n",
    "    pyautogui.moveRel(100,0,duration=0.25)\n",
    "    pyautogui.moveRel(0,100,duration=0.25)\n",
    "    pyautogui.moveRel(-100,0,duration=0.25)\n",
    "    pyautogui.moveRel(0,-100,duration=0.25)"
   ]
  },
  {
   "cell_type": "code",
   "execution_count": 18,
   "metadata": {},
   "outputs": [
    {
     "output_type": "execute_result",
     "data": {
      "text/plain": [
       "Point(x=2348, y=507)"
      ]
     },
     "metadata": {},
     "execution_count": 18
    }
   ],
   "source": [
    "# verificando a posição do mouse\n",
    "import pyautogui\n",
    "\n",
    "pyautogui.position()"
   ]
  },
  {
   "cell_type": "code",
   "execution_count": 4,
   "metadata": {},
   "outputs": [],
   "source": [
    "# clicando com o mouse\n",
    "\n",
    "import pyautogui\n",
    "\n",
    "pyautogui.click(1456,14) # esse metodo utiliza mouserDown() e mouseup()\n",
    "\n",
    "# também pode ser utilizado\n",
    "\n",
    "pyautogui.doubleClick(1456,15) # clique duplo\n",
    "pyautogui.rightClick(1456,14) # botão direito\n",
    "pyautogui.middleClick(1456,14) # botão do meio"
   ]
  },
  {
   "cell_type": "code",
   "execution_count": null,
   "metadata": {},
   "outputs": [],
   "source": [
    "# arrastando mouse\n",
    "\n",
    "import cap18_spiralDraw"
   ]
  },
  {
   "cell_type": "code",
   "execution_count": 5,
   "metadata": {},
   "outputs": [
    {
     "output_type": "stream",
     "name": "stdout",
     "text": [
      "Done!\n"
     ]
    }
   ],
   "source": [
    "# fazendo rolagens com o mouse\n",
    "\n",
    "import pyautogui, time\n",
    "\n",
    "time.sleep(3)\n",
    "\n",
    "pyautogui.scroll(200) # numeros positivos para UP e negativos para Down\n",
    "\n",
    "print('Done!')\n",
    "\n",
    "# exemplo para gerar texto para testar o scroll (rolagem)\n",
    "import pyperclip\n",
    "\n",
    "numbers = ''\n",
    "for i in range(200):\n",
    "    numbers += str(i) + '\\n'\n",
    "pyperclip.copy(numbers)\n",
    "# depois só colar em um editor de textos"
   ]
  },
  {
   "cell_type": "code",
   "execution_count": 3,
   "metadata": {},
   "outputs": [
    {
     "output_type": "stream",
     "name": "stdout",
     "text": [
      "(0, 0, 0)\n(0, 0, 0)\n"
     ]
    }
   ],
   "source": [
    "# trabalhando com tela\n",
    "\n",
    "import pyautogui\n",
    "\n",
    "im = pyautogui.screenshot()\n",
    "print(im.getpixel((0,0)))\n",
    "print(im.getpixel((50,200)))"
   ]
  },
  {
   "cell_type": "code",
   "execution_count": 7,
   "metadata": {},
   "outputs": [
    {
     "output_type": "execute_result",
     "data": {
      "text/plain": [
       "(0, 0, 0)"
      ]
     },
     "metadata": {},
     "execution_count": 7
    }
   ],
   "source": [
    "# analisando a tela de captura\n",
    "\n",
    "import pyautogui, time\n",
    "\n",
    "time.sleep(5)\n",
    "screen = pyautogui.screenshot()\n",
    "screen.getpixel((50,200))\n",
    "\n",
    "# pyautogui.pixelMatchesColor(50,200,(0,0,0))"
   ]
  },
  {
   "cell_type": "code",
   "execution_count": 9,
   "metadata": {},
   "outputs": [
    {
     "output_type": "execute_result",
     "data": {
      "text/plain": [
       "[]"
      ]
     },
     "metadata": {},
     "execution_count": 9
    }
   ],
   "source": [
    "# reconhecimento de imagens\n",
    "\n",
    "import pyautogui\n",
    "\n",
    "pyautogui.locateOnScreen('./submit.png') # localizar a coordenada da imagem na tela\n",
    "\n",
    "list(pyautogui.locateAllOnScreen('./submit.png')) # localiza todas as coordenadas da imagem\n",
    "\n",
    "# digamos que o valor retornado seja (643, 745, 70, 29)\n",
    "\n",
    "pyautogui.center((643, 745, 70, 29)) # localizar o centro da imagem, que nesse caso seria (678, 759)\n",
    "pyautogui.click((678, 759))"
   ]
  },
  {
   "cell_type": "code",
   "execution_count": 13,
   "metadata": {},
   "outputs": [],
   "source": [
    "# controlando o teclado\n",
    "\n",
    "import pyautogui, time\n",
    "\n",
    "time.sleep(3)\n",
    "pyautogui.click(100,100)\n",
    "pyautogui.typewrite('Hello World!')\n",
    "pyautogui.typewrite('Hello World!', 0.25) # com pausa"
   ]
  },
  {
   "cell_type": "code",
   "execution_count": 19,
   "metadata": {},
   "outputs": [],
   "source": [
    "# teclas\n",
    "\n",
    "import pyautogui, time\n",
    "\n",
    "time.sleep(3)\n",
    "pyautogui.typewrite(['a','b','left','left','X','Y'], 0.25)\n",
    "\n",
    "pyautogui.KEYBOARD_KEYS # indices de teclas que podem ser utilizadas no pyautogui.typewrite(), conforme exemplo acima"
   ]
  },
  {
   "cell_type": "code",
   "execution_count": 20,
   "metadata": {},
   "outputs": [],
   "source": [
    "# precionando e soltando teclas\n",
    "\n",
    "import pyautogui\n",
    "\n",
    "pyautogui.keyDown('shift') # preciona (segura) a tecla shift\n",
    "pyautogui.press('4') # aperta a tecla 4, o metodo typewrite também poderia ser utilizado\n",
    "pyautogui.keyUp('shift') # solta a tecla shift"
   ]
  },
  {
   "cell_type": "code",
   "execution_count": null,
   "metadata": {},
   "outputs": [],
   "source": [
    "# exemplo de teclas de atalho\n",
    "\n",
    "import pyautogui\n",
    "\n",
    "# CTRL + C\n",
    "pyautogui.keyDown('ctrl')\n",
    "pyautogui.keyDown('c')\n",
    "pyautogui.keyUp('c')\n",
    "pyautogui.keyUp('ctrl')\n",
    "\n",
    "# ou utilize o metodo hotkey\n",
    "pyautogui.hotkey('ctrl', 'c')"
   ]
  },
  {
   "cell_type": "code",
   "execution_count": null,
   "metadata": {},
   "outputs": [],
   "source": [
    "# teclas de atalho em funções\n",
    "\n",
    "import pyautogui, time\n",
    "\n",
    "def commentAfterDelay():\n",
    "    pyautogui.click(100,100)\n",
    "    pyautogui.typewrite('In IDLE, alt+3 comment out line.')\n",
    "    time.sleep(3)\n",
    "    pyautogui.hotkey('alt', '3')\n",
    "\n",
    "commentAfterDelay()"
   ]
  },
  {
   "cell_type": "code",
   "execution_count": null,
   "metadata": {},
   "outputs": [],
   "source": [
    "# revisão das funções do PyautoGUI\n",
    "\n",
    "# moveTo(x,y) - Move o cursor do mouse para as coordenadas X e Y especificadas\n",
    "# moveRel(xOffset, yOffset) - Move o cursor do mouse em relação a sua posição atual\n",
    "# dragTo(x,y) - Move o botão do mouse enquanto o botão esquerdo está pressionado\n",
    "# dragRel(xOffset, yOffset) - Move o cursor do mouse em relação a sua posição atual enquanto o botão esquerdo está pressionado\n",
    "# click(x,y,button) - Simula um click do botão esquerdo, por padrão\n",
    "# rightClick() - Simula um click do botão direito\n",
    "# middleClicl() - Simula um click do botão do meio\n",
    "# doubleClick() - Simula um clique duplo do botão esquerdo\n",
    "# mouseDown(x,y,button) - Simula o pressionamento do botão especificado na posição X,Y\n",
    "# mouseUp(x,y,button) - Simula  a liberação do botão especificado na posição X,Y\n",
    "# scroll(units) - Simula a roda do mouse. Um numero positivo faz a rolagem para cima; um numero negativo faz a rolagem para baixo\n",
    "# typewrite(message) - Controla o teclado para digitar a string especificada\n",
    "# typewrite([key1,key2,key3]) - Pressiona as teclas do teclado de acordo com a especificação na string\n",
    "# press(key) - Pressiona a tecla referente a string especificada\n",
    "# keyDown(key) - Simula o pressionamento da tecla especificada\n",
    "# keyUp(key) - Simula a liberação da tecla especificada\n",
    "# hotkey([key1,key2,key3]) - Simula o pressionamento das teclas de acordo com a string especificada\n",
    "# screenshot() - Retorna a captura de tela na forma de um objeto image\n"
   ]
  }
 ]
}