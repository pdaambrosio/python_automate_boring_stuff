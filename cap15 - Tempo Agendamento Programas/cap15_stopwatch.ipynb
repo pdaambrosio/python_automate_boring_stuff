{
 "metadata": {
  "language_info": {
   "codemirror_mode": {
    "name": "ipython",
    "version": 3
   },
   "file_extension": ".py",
   "mimetype": "text/x-python",
   "name": "python",
   "nbconvert_exporter": "python",
   "pygments_lexer": "ipython3",
   "version": "3.7.9-final"
  },
  "orig_nbformat": 2,
  "kernelspec": {
   "name": "Python 3.7.9 64-bit",
   "display_name": "Python 3.7.9 64-bit",
   "metadata": {
    "interpreter": {
     "hash": "d56ee6b60aebec99d6cd94134b60660a07005c400af5f583210d629c4771da92"
    }
   }
  }
 },
 "nbformat": 4,
 "nbformat_minor": 2,
 "cells": [
  {
   "cell_type": "code",
   "execution_count": 6,
   "metadata": {},
   "outputs": [
    {
     "output_type": "stream",
     "name": "stdout",
     "text": [
      "Press ENTER to begin. Afterwards, press ENTER to \"click\" the stopwatch. Press Ctrl+C to quit.\n",
      "Started\n",
      "1603829986.1\n",
      "Lap #1: 7.18 (32.17)\n",
      "Lap #2: 8.62 (1.44)\n",
      "Lap #3: 10.55 (1.93)\n",
      "Lap #4: 14.72 (4.17)\n",
      "Lap #5: 19.69 (4.97)\n",
      "Lap #6: 21.07 (1.38)\n",
      "\n",
      "Done.\n"
     ]
    }
   ],
   "source": [
    "#!/home/pdajgs/python_labs/py3.7/bin/python3\n",
    "\n",
    "# cronômetro\n",
    "\n",
    "import time\n",
    "\n",
    "print('Press ENTER to begin. Afterwards, press ENTER to \"click\" the stopwatch. Press Ctrl+C to quit.')\n",
    "input() # tecle enter para começar\n",
    "print('Started')\n",
    "# print(round(startTime, 2))\n",
    "\n",
    "startTime = time.time()     # horario de inicio da primeira rodada\n",
    "# lastTime = startTime\n",
    "lapNum = 1\n",
    "\n",
    "try:\n",
    "    while True:\n",
    "        input()\n",
    "        lapTime = round(time.time() - lastTime, 2)\n",
    "        totalTime = round(time.time() - startTime, 2)\n",
    "        print('Lap #%s: %s (%s)' %(lapNum, totalTime, lapTime))\n",
    "        lapNum += 1\n",
    "        lastTime = time.time() # reinicia a última rodada\n",
    "except KeyboardInterrupt:\n",
    "    # trata a exceção de CTRL+C para evitar que sua mensagem de erro seja exibida.\n",
    "    print('\\nDone.')\n",
    "\n"
   ]
  },
  {
   "cell_type": "code",
   "execution_count": null,
   "metadata": {},
   "outputs": [],
   "source": []
  }
 ]
}