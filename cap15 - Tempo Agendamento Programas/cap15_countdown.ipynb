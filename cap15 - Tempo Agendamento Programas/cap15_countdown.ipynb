{
 "metadata": {
  "language_info": {
   "codemirror_mode": {
    "name": "ipython",
    "version": 3
   },
   "file_extension": ".py",
   "mimetype": "text/x-python",
   "name": "python",
   "nbconvert_exporter": "python",
   "pygments_lexer": "ipython3",
   "version": "3.7.9-final"
  },
  "orig_nbformat": 2,
  "kernelspec": {
   "name": "python3",
   "display_name": "Python 3"
  }
 },
 "nbformat": 4,
 "nbformat_minor": 2,
 "cells": [
  {
   "cell_type": "code",
   "execution_count": 9,
   "metadata": {},
   "outputs": [],
   "source": [
    "#!/home/pdajgs/python_labs/py3.7/bin/python3\n",
    "\n",
    "import time, subprocess\n",
    "\n",
    "def alarme(timeLeft):\n",
    "    while timeLeft > 0:\n",
    "        print(timeLeft, end='-')\n",
    "        time.sleep(1)\n",
    "        timeLeft -= 1\n",
    "    subprocess.Popen(['/usr/bin/rhythmbox', 'alarm.wav'])"
   ]
  },
  {
   "cell_type": "code",
   "execution_count": 7,
   "metadata": {},
   "outputs": [
    {
     "output_type": "execute_result",
     "data": {
      "text/plain": [
       "<subprocess.Popen at 0x7fbf797ae350>"
      ]
     },
     "metadata": {},
     "execution_count": 7
    }
   ],
   "source": [
    "alarme(10)"
   ]
  },
  {
   "cell_type": "code",
   "execution_count": null,
   "metadata": {},
   "outputs": [],
   "source": []
  }
 ]
}