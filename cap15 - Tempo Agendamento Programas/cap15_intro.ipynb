{
 "metadata": {
  "language_info": {
   "codemirror_mode": {
    "name": "ipython",
    "version": 3
   },
   "file_extension": ".py",
   "mimetype": "text/x-python",
   "name": "python",
   "nbconvert_exporter": "python",
   "pygments_lexer": "ipython3",
   "version": "3.7.9-final"
  },
  "orig_nbformat": 2,
  "kernelspec": {
   "name": "python3",
   "display_name": "Python 3.7.9 64-bit",
   "metadata": {
    "interpreter": {
     "hash": "d56ee6b60aebec99d6cd94134b60660a07005c400af5f583210d629c4771da92"
    }
   }
  }
 },
 "nbformat": 4,
 "nbformat_minor": 2,
 "cells": [
  {
   "cell_type": "code",
   "execution_count": 1,
   "metadata": {},
   "outputs": [
    {
     "output_type": "execute_result",
     "data": {
      "text/plain": [
       "1603380450.5745695"
      ]
     },
     "metadata": {},
     "execution_count": 1
    }
   ],
   "source": [
    "# Unix epoch (Era Unix ou Época Unix). time.time() exibe os segundos desde 00:00 de 1 de Janeiro de 1970 em float\n",
    "\n",
    "import time\n",
    "\n",
    "time.time()"
   ]
  },
  {
   "cell_type": "code",
   "execution_count": 1,
   "metadata": {},
   "outputs": [
    {
     "output_type": "stream",
     "name": "stdout",
     "text": [
      "The result is 456569 digits long.\nTook 2.44 seconds to calculate.\n"
     ]
    }
   ],
   "source": [
    "# calculando o tempo do codigo\n",
    "\n",
    "import time\n",
    "\n",
    "def calcProd():\n",
    "    # calcula o produto dos 100.000 primeiros números\n",
    "    product = 1\n",
    "    for i in range(1, 100000):\n",
    "        product = product * i\n",
    "    return product\n",
    "\n",
    "startTime = time.time()\n",
    "prod = calcProd()\n",
    "endTime = time.time()\n",
    "\n",
    "print('The result is %s digits long.' %len(str(prod)))\n",
    "print('Took %s seconds to calculate.' %(round(endTime - startTime, 2)))"
   ]
  },
  {
   "cell_type": "code",
   "execution_count": 7,
   "metadata": {},
   "outputs": [
    {
     "output_type": "stream",
     "name": "stdout",
     "text": [
      "         3 function calls in 0.000 seconds\n\n   Ordered by: standard name\n\n   ncalls  tottime  percall  cumtime  percall filename:lineno(function)\n        1    0.000    0.000    0.000    0.000 <string>:1(<module>)\n        1    0.000    0.000    0.000    0.000 {built-in method builtins.exec}\n        1    0.000    0.000    0.000    0.000 {method 'disable' of '_lsprof.Profiler' objects}\n\n\n"
     ]
    }
   ],
   "source": [
    "# cProfile.run()\n",
    "\n",
    "import cProfile\n",
    "\n",
    "def calcProd():\n",
    "    # calcula o produto dos 100.000 primeiros números\n",
    "    product = 1\n",
    "    for i in range(1, 100000):\n",
    "        product = product * i\n",
    "    return product\n",
    "\n",
    "prod = calcProd()\n",
    "\n",
    "cProfile.run('prod')"
   ]
  },
  {
   "cell_type": "code",
   "execution_count": null,
   "metadata": {},
   "outputs": [],
   "source": []
  },
  {
   "cell_type": "code",
   "execution_count": 10,
   "metadata": {},
   "outputs": [
    {
     "output_type": "stream",
     "name": "stdout",
     "text": [
      "Tick\n",
      "Tock\n",
      "Tick\n",
      "Tock\n",
      "Tick\n",
      "Tock\n",
      "Done!\n"
     ]
    }
   ],
   "source": [
    "# função time.sleep()\n",
    "\n",
    "import time\n",
    "\n",
    "for i in range(3):\n",
    "    print('Tick')\n",
    "    time.sleep(1)\n",
    "    print('Tock')\n",
    "    time.sleep(1)\n",
    "time.sleep(5)\n",
    "print('Done!')"
   ]
  },
  {
   "cell_type": "code",
   "execution_count": 12,
   "metadata": {},
   "outputs": [],
   "source": [
    "# geralmente ctrl+c não interrompe as chamadas do time.sleep(), sendo assim, caso precise gerar uma pausa de 30 segundos, use um loop for para que o ctrl+c funcione\n",
    "\n",
    "for i in range(30):\n",
    "    time.sleep(1)\n",
    "    print(i)"
   ]
  },
  {
   "cell_type": "code",
   "execution_count": 13,
   "metadata": {},
   "outputs": [
    {
     "output_type": "stream",
     "name": "stdout",
     "text": [
      "1603392940.9739776\n1603392941\n1603392940.97\n1603392940.974\n"
     ]
    }
   ],
   "source": [
    "# arredondando numeros com 'round()'\n",
    "\n",
    "import time\n",
    "\n",
    "now = time.time()\n",
    "\n",
    "print(now)\n",
    "print(round(now))\n",
    "print(round(now, 2))\n",
    "print(round(now, 4))\n"
   ]
  },
  {
   "cell_type": "code",
   "execution_count": 17,
   "metadata": {},
   "outputs": [
    {
     "output_type": "stream",
     "name": "stdout",
     "text": [
      "(27, 10, 2020)\n(17, 32, 41)\n"
     ]
    }
   ],
   "source": [
    "# Modulo datetime\n",
    "\n",
    "import datetime\n",
    "\n",
    "dt = datetime.datetime.now()\n",
    "date = dt.day, dt.month, dt.year\n",
    "hour = dt.hour, dt.minute, dt.second\n",
    "\n",
    "print(date)\n",
    "print(hour)"
   ]
  },
  {
   "cell_type": "code",
   "execution_count": 21,
   "metadata": {},
   "outputs": [
    {
     "output_type": "stream",
     "name": "stdout",
     "text": [
      "1970-01-12 10:46:40\n2020-10-27 17:36:08.040354\n"
     ]
    }
   ],
   "source": [
    "# convertendo timestamp Unix epoch\n",
    "\n",
    "import datetime\n",
    "\n",
    "print(datetime.datetime.fromtimestamp(1000000))\n",
    "print(datetime.datetime.fromtimestamp(time.time())) # bem util"
   ]
  },
  {
   "cell_type": "code",
   "execution_count": 2,
   "metadata": {},
   "outputs": [
    {
     "output_type": "stream",
     "name": "stdout",
     "text": [
      "True\nFalse\nTrue\nTrue\n"
     ]
    }
   ],
   "source": [
    "# comparando objetos datetime()\n",
    "\n",
    "import datetime\n",
    "\n",
    "halloween2015 = datetime.datetime(2015, 10, 31, 0, 0, 0)\n",
    "newyear2016 = datetime.datetime(2016, 1, 1, 0, 0, 0)\n",
    "oct31_2015 = datetime.datetime(2015, 10, 31, 0, 0, 0)\n",
    "\n",
    "print(halloween2015 == oct31_2015)\n",
    "print(halloween2015 > newyear2016)\n",
    "print(newyear2016 > halloween2015)\n",
    "print(newyear2016 != oct31_2015)"
   ]
  },
  {
   "cell_type": "code",
   "execution_count": 7,
   "metadata": {},
   "outputs": [
    {
     "output_type": "stream",
     "name": "stdout",
     "text": [
      "11 36548 0\n986948.0\n11 days, 10:09:08\n"
     ]
    }
   ],
   "source": [
    "# time delta\n",
    "\n",
    "import datetime\n",
    "\n",
    "delta = datetime.timedelta(days=11, hours=10, minutes=9, seconds=8)\n",
    "\n",
    "print(delta.days, delta.seconds, delta.microseconds)\n",
    "print(delta.total_seconds())\n",
    "print(delta)"
   ]
  },
  {
   "cell_type": "code",
   "execution_count": 9,
   "metadata": {},
   "outputs": [
    {
     "output_type": "stream",
     "name": "stdout",
     "text": [
      "2020-10-28 11:12:38.846450\n2023-07-25 11:12:38.846450\n"
     ]
    }
   ],
   "source": [
    "# operações aritméticas com datetime()\n",
    "\n",
    "dt = datetime.datetime.now()\n",
    "\n",
    "print(dt)\n",
    "\n",
    "thousandDays = datetime.timedelta(days=1000)\n",
    "\n",
    "print(dt + thousandDays)\n"
   ]
  },
  {
   "cell_type": "code",
   "execution_count": 10,
   "metadata": {},
   "outputs": [
    {
     "output_type": "stream",
     "name": "stdout",
     "text": [
      "2015-10-21 16:29:00\n1985-10-28 16:29:00\n1955-11-05 16:29:00\n"
     ]
    }
   ],
   "source": [
    "# operações aritméticas 2\n",
    "\n",
    "import datetime\n",
    "\n",
    "oct21st = datetime.datetime(2015, 10, 21, 16, 29, 0)\n",
    "aboutThirtyYears = datetime.timedelta(days=365 * 30)\n",
    "\n",
    "print(oct21st)\n",
    "print(oct21st - aboutThirtyYears)\n",
    "print(oct21st - (2 * aboutThirtyYears))"
   ]
  },
  {
   "cell_type": "code",
   "execution_count": 11,
   "metadata": {},
   "outputs": [
    {
     "output_type": "stream",
     "name": "stdout",
     "text": [
      "Done!\n"
     ]
    }
   ],
   "source": [
    "# fazendo pausa até uma data específica\n",
    "\n",
    "import datetime, time\n",
    "\n",
    "halloween2016 = datetime.datetime(2016, 10, 31, 0, 0, 0)\n",
    "\n",
    "while datetime.datetime.now() < halloween2016:\n",
    "    time.sleep(1)\n",
    "\n",
    "print('Done!')"
   ]
  },
  {
   "cell_type": "code",
   "execution_count": 18,
   "metadata": {},
   "outputs": [
    {
     "output_type": "stream",
     "name": "stdout",
     "text": [
      "21/10/2015 16:29:00\n04:29 PM\n12:04 PM\nOctober of 20\n"
     ]
    }
   ],
   "source": [
    "# convertendo objetos datetime() para strings\n",
    "\n",
    "import datetime\n",
    "\n",
    "oct21st = datetime.datetime(2015, 10, 21, 16, 29, 0)\n",
    "now = datetime.datetime.now()\n",
    "\n",
    "print(oct21st.strftime(f'%d/%m/%Y %H:%M:%S'))\n",
    "print(oct21st.strftime(f'%I:%M %p'))\n",
    "print(now.strftime(f'%I:%M %p'))\n",
    "print(now.strftime(\"%B of %y\"))"
   ]
  },
  {
   "cell_type": "code",
   "execution_count": 26,
   "metadata": {},
   "outputs": [
    {
     "output_type": "stream",
     "name": "stdout",
     "text": [
      "2015-10-21 00:00:00\n2015-10-21 16:29:00\n2015-10-01 00:00:00\n2063-11-01 00:00:00\n"
     ]
    }
   ],
   "source": [
    "# convertendo strings em objetos datetime\n",
    "\n",
    "import datetime\n",
    "\n",
    "print(datetime.datetime.strptime('October 21, 2015', f'%B %d, %Y'))\n",
    "print(datetime.datetime.strptime('2015/10/21 16:29:00', f'%Y/%m/%d %H:%M:%S')) # o parse deve corresponder exatamente ao valos da string, caso contrario o Python lançara uma exceção 'ValueError'.\n",
    "print(datetime.datetime.strptime(\"October of'15\", \"%B of'%y\"))\n",
    "print(datetime.datetime.strptime(\"November of'63\", \"%B of'%y\"))"
   ]
  },
  {
   "cell_type": "code",
   "execution_count": 2,
   "metadata": {},
   "outputs": [
    {
     "output_type": "execute_result",
     "data": {
      "text/plain": [
       "datetime.datetime(2020, 10, 29, 17, 26, 11, 888356)"
      ]
     },
     "metadata": {},
     "execution_count": 2
    }
   ],
   "source": [
    "import datetime\n",
    "\n",
    "datetime.datetime.now()"
   ]
  },
  {
   "cell_type": "code",
   "execution_count": 12,
   "metadata": {},
   "outputs": [
    {
     "output_type": "stream",
     "name": "stdout",
     "text": [
      "Cats & Dogs & Frogs\n",
      "Cats & Dogs & Frogs\n"
     ]
    }
   ],
   "source": [
    "# passando argumentos á função-alvo da thread\n",
    "\n",
    "print('Cats', 'Dogs', 'Frogs', sep=' & ')\n",
    "\n",
    "import threading\n",
    "\n",
    "threadObj = threading.Thread(target=print, args=['Cats', 'Dogs', 'Frogs'], kwargs={'sep':' & '})\n",
    "threadObj.start()"
   ]
  },
  {
   "cell_type": "code",
   "execution_count": 1,
   "metadata": {},
   "outputs": [
    {
     "output_type": "execute_result",
     "data": {
      "text/plain": [
       "<subprocess.Popen at 0x7f1134458fd0>"
      ]
     },
     "metadata": {},
     "execution_count": 1
    }
   ],
   "source": [
    "# Iniciando outros programas a partir do Python\n",
    "\n",
    "import subprocess\n",
    "\n",
    "subprocess.Popen('/usr/bin/gnome-calculator')"
   ]
  },
  {
   "cell_type": "code",
   "execution_count": 3,
   "metadata": {},
   "outputs": [
    {
     "output_type": "stream",
     "name": "stdout",
     "text": [
      "None\n",
      "0\n"
     ]
    }
   ],
   "source": [
    "import subprocess\n",
    "\n",
    "calc = subprocess.Popen('/usr/bin/gnome-calculator')\n",
    "\n",
    "print(calc.poll())  # para saber se o programa terminou a execução com ou sem erros (0 sem erros)\n",
    "print(calc.wait())  # aguarda o programa terminar"
   ]
  },
  {
   "cell_type": "code",
   "execution_count": 5,
   "metadata": {},
   "outputs": [],
   "source": [
    "# Passando argumentos de linha de comando para o Popen\n",
    "\n",
    "import subprocess\n",
    "\n",
    "text = subprocess.Popen(['/usr/bin/gedit', '/home/pdajgs/Downloads/ipirlcapp0016_kernel.txt'])\n",
    "\n"
   ]
  },
  {
   "cell_type": "code",
   "execution_count": 6,
   "metadata": {},
   "outputs": [],
   "source": [
    "import subprocess\n",
    "\n",
    "ls = subprocess.Popen(['/usr/bin/ls', '-lhA'])"
   ]
  },
  {
   "cell_type": "code",
   "execution_count": 10,
   "metadata": {},
   "outputs": [
    {
     "output_type": "error",
     "ename": "TypeError",
     "evalue": "__init__() got an unexpected keyword argument 'check'",
     "traceback": [
      "\u001b[0;31m---------------------------------------------------------------------------\u001b[0m",
      "\u001b[0;31mTypeError\u001b[0m                                 Traceback (most recent call last)",
      "\u001b[0;32m<ipython-input-10-4a920487f4a9>\u001b[0m in \u001b[0;36m<module>\u001b[0;34m\u001b[0m\n\u001b[1;32m      3\u001b[0m \u001b[0;32mimport\u001b[0m \u001b[0msubprocess\u001b[0m\u001b[0;34m\u001b[0m\u001b[0;34m\u001b[0m\u001b[0m\n\u001b[1;32m      4\u001b[0m \u001b[0;34m\u001b[0m\u001b[0m\n\u001b[0;32m----> 5\u001b[0;31m \u001b[0msubprocess\u001b[0m\u001b[0;34m.\u001b[0m\u001b[0mPopen\u001b[0m\u001b[0;34m(\u001b[0m\u001b[0;34m[\u001b[0m\u001b[0;34m'/usr/bin/python3.7'\u001b[0m\u001b[0;34m,\u001b[0m \u001b[0;34m'cap15_calcProd.py'\u001b[0m\u001b[0;34m]\u001b[0m\u001b[0;34m,\u001b[0m \u001b[0mcheck\u001b[0m\u001b[0;34m=\u001b[0m\u001b[0;32mTrue\u001b[0m\u001b[0;34m)\u001b[0m\u001b[0;34m\u001b[0m\u001b[0;34m\u001b[0m\u001b[0m\n\u001b[0m",
      "\u001b[0;31mTypeError\u001b[0m: __init__() got an unexpected keyword argument 'check'"
     ]
    }
   ],
   "source": [
    "# Executando outros scripts\n",
    "\n",
    "import subprocess\n",
    "\n",
    "subprocess.Popen(['/usr/bin/python3.7', 'cap15_calcProd.py'], check=True)"
   ]
  },
  {
   "cell_type": "code",
   "execution_count": 13,
   "metadata": {},
   "outputs": [
    {
     "output_type": "execute_result",
     "data": {
      "text/plain": [
       "CompletedProcess(args=['ls', '-lhA'], returncode=0, stdout=b'total 40K\\n-rw-r--r--. 1 pdajgs pdajgs  438 Oct 22 12:35 cap15_calcProd.py\\n-rw-r--r--. 1 pdajgs pdajgs  15K Nov 23 11:36 cap15_intro.ipynb\\n-rw-r--r--. 1 pdajgs pdajgs 3.1K Nov 23 10:09 cap15_multidownloadXkcd.ipynb\\n-rw-r--r--. 1 pdajgs pdajgs 2.3K Oct 27 17:21 cap15_stopwatch.ipynb\\n-rw-r--r--. 1 pdajgs pdajgs   44 Oct 22 16:01 cap15_stopwatch.py\\n-rw-r--r--. 1 pdajgs pdajgs 1.1K Oct 29 22:17 cap15_threadDemo.ipynb\\n-rw-r--r--. 1 pdajgs pdajgs  241 Oct 29 22:18 cap15_threadDemo.py\\n', stderr=b'')"
      ]
     },
     "metadata": {},
     "execution_count": 13
    }
   ],
   "source": [
    "# Abrindo arquivos com programas default\n",
    "\n",
    "import subprocess\n",
    "\n",
    "# subprocess.run(['see', '/home/pdajgs/Downloads/ipirlcapp0016_kernel.txt'])\n",
    "subprocess.run(['ls', '-lhA'], capture_output=True)"
   ]
  },
  {
   "cell_type": "code",
   "execution_count": null,
   "metadata": {},
   "outputs": [],
   "source": []
  }
 ]
}