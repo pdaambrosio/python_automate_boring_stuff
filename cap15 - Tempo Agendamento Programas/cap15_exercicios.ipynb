{
 "metadata": {
  "language_info": {
   "codemirror_mode": {
    "name": "ipython",
    "version": 3
   },
   "file_extension": ".py",
   "mimetype": "text/x-python",
   "name": "python",
   "nbconvert_exporter": "python",
   "pygments_lexer": "ipython3",
   "version": "3.7.9-final"
  },
  "orig_nbformat": 2,
  "kernelspec": {
   "name": "python3",
   "display_name": "Python 3"
  }
 },
 "nbformat": 4,
 "nbformat_minor": 2,
 "cells": [
  {
   "source": [
    "1. O que é Unix epoch?"
   ],
   "cell_type": "markdown",
   "metadata": {}
  },
  {
   "cell_type": "code",
   "execution_count": null,
   "metadata": {},
   "outputs": [],
   "source": [
    "# É um instante de referência que muitos programas que manipulam data e hora utilizam. Esse instante corresponde a 1 de Janeiro de 1970, UTC."
   ]
  },
  {
   "source": [
    "2. Qual função retorna o número de segundos desde o Unix Epoch?"
   ],
   "cell_type": "markdown",
   "metadata": {}
  },
  {
   "cell_type": "code",
   "execution_count": 2,
   "metadata": {},
   "outputs": [
    {
     "output_type": "execute_result",
     "data": {
      "text/plain": [
       "1606253165.5165327"
      ]
     },
     "metadata": {},
     "execution_count": 2
    }
   ],
   "source": [
    "# a função time.time()\n",
    "\n",
    "import time\n",
    "\n",
    "time.time()"
   ]
  },
  {
   "source": [
    "3. Como podemos fazer uma pausa de 5 segundos em um programa?"
   ],
   "cell_type": "markdown",
   "metadata": {}
  },
  {
   "cell_type": "code",
   "execution_count": 3,
   "metadata": {},
   "outputs": [],
   "source": [
    "# com a função time.sleep(5)\n",
    "\n",
    "import time\n",
    "\n",
    "time.sleep(5)"
   ]
  },
  {
   "source": [
    "4. Que a função round() retorna?"
   ],
   "cell_type": "markdown",
   "metadata": {}
  },
  {
   "cell_type": "code",
   "execution_count": 4,
   "metadata": {},
   "outputs": [
    {
     "output_type": "execute_result",
     "data": {
      "text/plain": [
       "2"
      ]
     },
     "metadata": {},
     "execution_count": 4
    }
   ],
   "source": [
    "# retorna o inteiro mais proximo do argumento passado\n",
    "\n",
    "round(2.4)"
   ]
  },
  {
   "source": [
    "5. Qual a diferença entre um objeto datetime e um objeto timedelta?\n"
   ],
   "cell_type": "markdown",
   "metadata": {}
  },
  {
   "cell_type": "code",
   "execution_count": 8,
   "metadata": {},
   "outputs": [
    {
     "output_type": "stream",
     "name": "stdout",
     "text": [
      "2015-10-21 16:29:00\n1985-10-28 16:29:00\n1955-11-05 16:29:00\n"
     ]
    }
   ],
   "source": [
    "# o datetime representa um instante especifico no tempo, o timedelta representa uma duração\n",
    "\n",
    "import datetime\n",
    "\n",
    "oct21st = datetime.datetime(2015, 10, 21, 16, 29, 0)\n",
    "aboutThirtyYears = datetime.timedelta(days=365 * 30)\n",
    "\n",
    "print(oct21st)\n",
    "print(oct21st - aboutThirtyYears)\n",
    "print(oct21st - (2 * aboutThirtyYears))\n"
   ]
  },
  {
   "source": [
    "6. Suponha que você tenha uma função chamada spam(), como podemos executar essa função em uma thread separada?"
   ],
   "cell_type": "markdown",
   "metadata": {}
  },
  {
   "cell_type": "code",
   "execution_count": null,
   "metadata": {},
   "outputs": [],
   "source": [
    "# utilizando a função threading\n",
    "\n",
    "import threading\n",
    "\n",
    "threadObj = threading.Thread(target=spam)\n",
    "threadObj.start()"
   ]
  },
  {
   "source": [
    "7. O que podemos fazer para evitar problemas de concorrência em threads?"
   ],
   "cell_type": "markdown",
   "metadata": {}
  },
  {
   "cell_type": "code",
   "execution_count": null,
   "metadata": {},
   "outputs": [],
   "source": [
    "# se certificando que o codigo executado em uma thread não leia nem escreva nas mesmas variavéis que o codigo que estiver em outra thread."
   ]
  },
  {
   "source": [
    "8. Como podemos fazer seu programa Python executar um programa em seu sistema operacional (calc)?"
   ],
   "cell_type": "markdown",
   "metadata": {}
  },
  {
   "cell_type": "code",
   "execution_count": 9,
   "metadata": {},
   "outputs": [
    {
     "output_type": "execute_result",
     "data": {
      "text/plain": [
       "<subprocess.Popen at 0x7f55c7af65d0>"
      ]
     },
     "metadata": {},
     "execution_count": 9
    }
   ],
   "source": [
    "# utilizando o subprocess\n",
    "\n",
    "import subprocess\n",
    "\n",
    "subprocess.Popen('/usr/bin/gnome-calculator')"
   ]
  },
  {
   "cell_type": "code",
   "execution_count": null,
   "metadata": {},
   "outputs": [],
   "source": []
  }
 ]
}