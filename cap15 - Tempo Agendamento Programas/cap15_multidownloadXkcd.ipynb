{
 "metadata": {
  "language_info": {
   "codemirror_mode": {
    "name": "ipython",
    "version": 3
   },
   "file_extension": ".py",
   "mimetype": "text/x-python",
   "name": "python",
   "nbconvert_exporter": "python",
   "pygments_lexer": "ipython3",
   "version": "3.7.9-final"
  },
  "orig_nbformat": 2,
  "kernelspec": {
   "name": "python3",
   "display_name": "Python 3"
  }
 },
 "nbformat": 4,
 "nbformat_minor": 2,
 "cells": [
  {
   "cell_type": "code",
   "execution_count": null,
   "metadata": {
    "tags": [
     "outputPrepend"
    ]
   },
   "outputs": [],
   "source": [
    "#!/home/pdajgs/python_labs/py3.7/bin/python3\n",
    "\n",
    "import requests, os, bs4, threading\n",
    "\n",
    "os.makedirs('xkcd', exist_ok=True)\n",
    "\n",
    "def downloadXkcd(startComic, endComic):\n",
    "    # download da pagina\n",
    "    for urlNumer in range(startComic, endComic + 1):\n",
    "        print('Downloading page http://xkcd.com/%s' %(urlNumer))\n",
    "        \n",
    "        res = requests.get('http://xkcd.com/%s' %(urlNumer))\n",
    "        res.raise_for_status()\n",
    "        soup = bs4.BeautifulSoup(res.text)\n",
    "\n",
    "        # Encontrar a URL da imagem da tirinha\n",
    "        comicElem = soup.select('#comic img')\n",
    "        if comicElem == []:\n",
    "            print('Could not found comic image.')\n",
    "        else:\n",
    "            comicUrl = 'http:' + comicElem[0].get('src')    # url da imagem \n",
    "            print('Download image %s...' %(comicUrl))\n",
    "            res = requests.get(comicUrl)\n",
    "            res.raise_for_status()\n",
    "            \n",
    "            # Salva a imagem em ./xkcd\n",
    "            imageFile = open(os.path.join('xkcd', os.path.basename(comicUrl)), 'wb')\n",
    "            for chunk in res.iter_content(100000):\n",
    "                imageFile.write(chunk)\n",
    "            imageFile.close()\n",
    "\n",
    "    # print('\\nDone!!')\n",
    "\n",
    "\n",
    "downloadThreads = []            # uma lista com o objetos threads\n",
    "for i in range(1, 1400, 100):   # executa o loop 14 vezes e cria 14 threads\n",
    "    downloadThread = threading.Thread(target=downloadXkcd, args=(i, i+99))\n",
    "    downloadThreads.append(downloadThread)\n",
    "    downloadThread.start()\n",
    "    \n",
    "# espera todas as threads terminarem\n",
    "for downloadThread in downloadThreads:\n",
    "    downloadThread.join()\n",
    "print('\\nDone!')"
   ]
  },
  {
   "cell_type": "code",
   "execution_count": null,
   "metadata": {},
   "outputs": [],
   "source": [
    "downloadXkcd(106, 107)"
   ]
  },
  {
   "cell_type": "code",
   "execution_count": null,
   "metadata": {},
   "outputs": [],
   "source": [
    "url = requests.get('http://xkcd.com/104')\n",
    "url.raise_for_status()\n",
    "\n",
    "soup = bs4.BeautifulSoup(url.text)\n",
    "commic = soup.select('#comic img')\n",
    "\n",
    "print(commic)\n",
    "print(commic[0].get('src'))\n"
   ]
  },
  {
   "cell_type": "code",
   "execution_count": null,
   "metadata": {},
   "outputs": [],
   "source": []
  }
 ]
}