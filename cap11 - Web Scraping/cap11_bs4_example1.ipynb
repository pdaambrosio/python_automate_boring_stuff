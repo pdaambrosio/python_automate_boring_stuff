{
 "metadata": {
  "language_info": {
   "codemirror_mode": {
    "name": "ipython",
    "version": 3
   },
   "file_extension": ".py",
   "mimetype": "text/x-python",
   "name": "python",
   "nbconvert_exporter": "python",
   "pygments_lexer": "ipython3",
   "version": "3.7.8-final"
  },
  "orig_nbformat": 2,
  "kernelspec": {
   "name": "python37764bitpy37virtualenv724f8c74c5c7478bad670819f0cdf1e2",
   "display_name": "Python 3.7.7 64-bit ('py3.7': virtualenv)"
  }
 },
 "nbformat": 4,
 "nbformat_minor": 2,
 "cells": [
  {
   "cell_type": "code",
   "execution_count": 1,
   "metadata": {
    "tags": []
   },
   "outputs": [
    {
     "output_type": "stream",
     "name": "stdout",
     "text": "<class 'bs4.element.ResultSet'>\n1\n<class 'bs4.element.Tag'>\nAl Sweigart\n<span id=\"author\">Al Sweigart</span>\n{'id': 'author'}\n"
    }
   ],
   "source": [
    "import bs4\n",
    "\n",
    "with open('example.html', 'r') as exampleFile:\n",
    "    exampleSoup = bs4.BeautifulSoup(exampleFile.read())\n",
    "\n",
    "# extraindo os elementos com a tag \"#author\" \n",
    "\n",
    "elems = exampleSoup.select('#author')\n",
    "\n",
    "print(type(elems))\n",
    "print(len(elems))\n",
    "print(type(elems[0]))\n",
    "print(elems[0].getText())\n",
    "print(str(elems[0]))\n",
    "print(elems[0].attrs)"
   ]
  },
  {
   "cell_type": "code",
   "execution_count": 12,
   "metadata": {},
   "outputs": [
    {
     "output_type": "execute_result",
     "data": {
      "text/plain": "'By Al Sweigart'"
     },
     "metadata": {},
     "execution_count": 12
    }
   ],
   "source": [
    "# extraindo elemento <p>\n",
    "\n",
    "pElems = exampleSoup.select('p')\n",
    "\n",
    "str(pElems[0])      #traz o codigo completo do elemento <p> [0]\n",
    "\n",
    "pElems[0].getText() #traz o conteúdo do [0]\n",
    "\n",
    "str(pElems[1])      #traz o codigo completo do elemento <p> [1]\n",
    "\n",
    "pElems[1].getText() #traz o conteúdo do [1]\n",
    "\n",
    "str(pElems[2])      #traz o codigo completo do elemento <p> [2]\n",
    "\n",
    "pElems[2].getText() #traz o conteúdo do [2]"
   ]
  },
  {
   "cell_type": "code",
   "execution_count": 18,
   "metadata": {},
   "outputs": [
    {
     "output_type": "execute_result",
     "data": {
      "text/plain": "[<p>Download my <strong>Python</strong> book from <a href=\"http://inventwithpython.com\">my website</a>.</p>,\n <p class=\"slogan\">Learn Python the easy way!</p>,\n <p>By <span id=\"author\">Al Sweigart</span></p>]"
     },
     "metadata": {},
     "execution_count": 18
    }
   ],
   "source": [
    "len(pElems)\n",
    "pElems          #traz a lista\n",
    "pElems[0]       #elemento 0 da lista, mesmo sem o str"
   ]
  },
  {
   "cell_type": "code",
   "execution_count": 7,
   "metadata": {},
   "outputs": [
    {
     "output_type": "execute_result",
     "data": {
      "text/plain": "'Al Sweigart'"
     },
     "metadata": {},
     "execution_count": 7
    }
   ],
   "source": []
  },
  {
   "cell_type": "code",
   "execution_count": null,
   "metadata": {},
   "outputs": [],
   "source": []
  }
 ]
}