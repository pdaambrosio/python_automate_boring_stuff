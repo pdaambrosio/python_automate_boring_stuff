{
 "metadata": {
  "language_info": {
   "codemirror_mode": {
    "name": "ipython",
    "version": 3
   },
   "file_extension": ".py",
   "mimetype": "text/x-python",
   "name": "python",
   "nbconvert_exporter": "python",
   "pygments_lexer": "ipython3",
   "version": "3.7.9-final"
  },
  "orig_nbformat": 2,
  "kernelspec": {
   "name": "python37764bitpy37virtualenv724f8c74c5c7478bad670819f0cdf1e2",
   "display_name": "Python 3.7.7 64-bit ('py3.7': virtualenv)"
  }
 },
 "nbformat": 4,
 "nbformat_minor": 2,
 "cells": [
  {
   "cell_type": "code",
   "execution_count": null,
   "metadata": {},
   "outputs": [],
   "source": [
    "import requests\n",
    "\n",
    "res = requests.get('https://automatetheboringstuff.com/files/rj.txt')\n",
    "type(res)"
   ]
  },
  {
   "cell_type": "code",
   "execution_count": null,
   "metadata": {},
   "outputs": [],
   "source": [
    "res.status_code == requests.codes.ok"
   ]
  },
  {
   "cell_type": "code",
   "execution_count": null,
   "metadata": {},
   "outputs": [],
   "source": [
    "len(res.text)"
   ]
  },
  {
   "cell_type": "code",
   "execution_count": null,
   "metadata": {
    "tags": []
   },
   "outputs": [],
   "source": [
    "print(res.text[:250])"
   ]
  },
  {
   "cell_type": "code",
   "execution_count": null,
   "metadata": {},
   "outputs": [],
   "source": [
    "res.raise_for_status()"
   ]
  },
  {
   "cell_type": "code",
   "execution_count": null,
   "metadata": {},
   "outputs": [],
   "source": [
    "res = requests.get('https://automatetheboringstuff.com/files/error.txt') # a pagina não existe\n",
    "res.raise_for_status()"
   ]
  },
  {
   "cell_type": "code",
   "execution_count": null,
   "metadata": {
    "tags": []
   },
   "outputs": [],
   "source": [
    "res = requests.get('https://automatetheboringstuff.com/files/error.txt') # a pagina não existe\n",
    "\n",
    "try:\n",
    "    res.raise_for_status()\n",
    "except Exception as exc:\n",
    "    print('There was a problem: %s' %(exc))\n"
   ]
  },
  {
   "cell_type": "code",
   "execution_count": null,
   "metadata": {},
   "outputs": [],
   "source": [
    "import requests\n",
    "\n",
    "res = requests.get('https://automatetheboringstuff.com/files/rj.txt')\n",
    "\n",
    "try:\n",
    "    res.raise_for_status()\n",
    "except Exception as e:\n",
    "    print(e)\n",
    "\n",
    "with open('RomeuAndJuliet.txt', 'wb') as playFile:\n",
    "    for line in res.iter_content(1000000):\n",
    "        playFile.write(line)"
   ]
  },
  {
   "cell_type": "code",
   "execution_count": null,
   "metadata": {
    "tags": []
   },
   "outputs": [],
   "source": [
    "import bs4\n",
    "\n",
    "with open('example.html', 'r') as exampleFile:\n",
    "    exampleSoup = bs4.BeautifulSoup(exampleFile.read())\n",
    "\n",
    "# extraindo os elementos com a tag \"#author\" \n",
    "\n",
    "elems = exampleSoup.select('#author')\n",
    "\n",
    "print(type(elems))\n",
    "print(len(elems))\n",
    "print(type(elems[0]))\n",
    "print(elems[0].getText())\n",
    "print(str(elems[0]))\n",
    "print(elems[0].attrs)"
   ]
  },
  {
   "cell_type": "code",
   "execution_count": null,
   "metadata": {},
   "outputs": [],
   "source": [
    "# extraindo elemento <p>\n",
    "\n",
    "pElems = exampleSoup.select('p')\n",
    "\n",
    "str(pElems[0])      #traz o codigo completo do elemento <p> [0]\n",
    "\n",
    "pElems[0].getText() #traz o conteúdo do [0]\n",
    "\n",
    "str(pElems[1])      #traz o codigo completo do elemento <p> [1]\n",
    "\n",
    "pElems[1].getText() #traz o conteúdo do [1]\n",
    "\n",
    "str(pElems[2])      #traz o codigo completo do elemento <p> [2]\n",
    "\n",
    "pElems[2].getText() #traz o conteúdo do [2]"
   ]
  },
  {
   "cell_type": "code",
   "execution_count": null,
   "metadata": {},
   "outputs": [],
   "source": [
    "len(pElems)\n",
    "pElems          #traz a lista\n",
    "pElems[0]       #elemento 0 da lista, mesmo sem o str"
   ]
  },
  {
   "cell_type": "code",
   "execution_count": null,
   "metadata": {},
   "outputs": [],
   "source": [
    "# Obtendo dados dos atributos de um elemento\n",
    "\n",
    "import bs4\n",
    "\n",
    "soup = bs4.BeautifulSoup(open('./example.html'))\n",
    "\n",
    "spanElem = soup.select('span')[0]\n",
    "\n",
    "spanElem                    #or str(spanElem)\n",
    "spanElem.get('id')          #selecionando elemento\n",
    "spanElem.get('some_nonexistent_addr') == None\n",
    "spanElem.attrs"
   ]
  },
  {
   "cell_type": "code",
   "execution_count": null,
   "metadata": {},
   "outputs": [],
   "source": [
    "spanElem"
   ]
  },
  {
   "cell_type": "code",
   "execution_count": null,
   "metadata": {},
   "outputs": [],
   "source": [
    "# Controlando navegador com Selenium\n",
    "\n",
    "from selenium import webdriver\n",
    "from selenium.webdriver.common.keys import Keys\n",
    "\n",
    "capabilities = webdriver.DesiredCapabilities().FIREFOX\n",
    "capabilities[\"marionette\"] = False\n",
    "binary = '/usr/bin/firefox'\n",
    "driver = webdriver.Firefox(firefox_binary=binary, capabilities=capabilities)\n",
    "\n",
    "browser = webdriver.Firefox()"
   ]
  },
  {
   "cell_type": "code",
   "execution_count": null,
   "metadata": {},
   "outputs": [],
   "source": [
    "from selenium import webdriver\n",
    "from selenium.webdriver.common.keys import Keys\n",
    "\n",
    "driver = webdriver.Chrome()\n",
    "driver.get(\"http://www.python.org\")\n"
   ]
  },
  {
   "cell_type": "code",
   "execution_count": null,
   "metadata": {},
   "outputs": [],
   "source": [
    "from selenium import webdriver\n",
    "from selenium.webdriver.common.keys import Keys\n",
    "from selenium.webdriver.common.desired_capabilities import DesiredCapabilities\n",
    "\n",
    "capabilities = webdriver.DesiredCapabilities.CHROME\n",
    "driver = webdriver.Firefox(capabilities=capabilities)\n",
    "driver.get(\"http://www.python.org\")\n"
   ]
  },
  {
   "cell_type": "code",
   "execution_count": null,
   "metadata": {},
   "outputs": [],
   "source": [
    "from selenium import webdriver\n",
    "from selenium.webdriver.common.keys import Keys\n",
    "\n",
    "driver = webdriver.Firefox()\n",
    "driver.get(\"http://www.python.org\")\n",
    "assert \"Python\" in driver.title\n",
    "elem = driver.find_element_by_name(\"q\")\n",
    "elem.clear()\n",
    "elem.send_keys(\"pycon\")\n",
    "elem.send_keys(Keys.RETURN)\n",
    "assert \"No results found.\" not in driver.page_source\n",
    "driver.close()\n"
   ]
  },
  {
   "cell_type": "code",
   "execution_count": null,
   "metadata": {
    "tags": []
   },
   "outputs": [],
   "source": [
    "from selenium import webdriver\n",
    "from selenium.webdriver.common.keys import Keys\n",
    "\n",
    "browser = webdriver.Chrome()\n",
    "# driver.get(\"http://www.python.org\")\n",
    "\n",
    "print(type(browser))\n",
    "\n",
    "browser.get('http://inventwithpython.com')"
   ]
  },
  {
   "cell_type": "code",
   "execution_count": null,
   "metadata": {},
   "outputs": [],
   "source": [
    "# Tabela de elementos Selenium\n",
    "\n",
    "browser.find_element_by_class_name(nome)          # Um elemento que utilizam a classe CSS nome.\n",
    "browser.find_elements_by_class_name(nome)         # Todos os elementos que utilizam a classe CSS nome.\n",
    "\n",
    "browser.find_element_by_css_selector(seletor)     # Um elemento que corresponde ao seletor CSS \n",
    "browser.find_elements_by_css_selector(seletor)    # Todos os elementos que correspondem ao seletor CSS\n",
    "\n",
    "browser.find_element_by_id(id)                    # Um elemento com o valor atribuido do id correspondente\n",
    "browser.find_elements_by_id(id)                   # Todos elementos com o valor atribuido do id correspondente\n",
    "\n",
    "browser.find_element_by_link_text(text)           # Um elemento que corresponde totalmente ao texto especificado\n",
    "browser.find_elements_by_link_text(text)          # Todos os elementos que correspondem totalmente ao texto especificado\n",
    "\n",
    "browser.find_element_by_partial_link_text(texto)  # Um elemento que contém o texto especificado\n",
    "browser.find_elements_by_partial_link_text(texto) # Todos os elementos que contém o texto especificado\n",
    "\n",
    "browser.find_element_by_name(nome)                # Um elemento que contém o valor correspondente de nome\n",
    "browser.find_elements_by_name(nome)               # Todos os elementos que contém o valor correspondente de nome\n",
    "\n",
    "browser.find_element_by_tag_name(nome)            # Um elemento com a tag nome correspondente (sem diferenciar letras maiúsculas de minúsculas, um elemento <a> corresponde a 'a' e a 'A')\n",
    "browser.find_elements_by_tag_name(nome)           # Todos os elementos com a tag nome correspondente (sem diferenciar letras maiúsculas de minúsculas, um elemento <a> corresponde a 'a' e a 'A')"
   ]
  },
  {
   "cell_type": "code",
   "execution_count": null,
   "metadata": {},
   "outputs": [],
   "source": [
    "# Atributos e metodos\n",
    "\n",
    "'''\n",
    "tag_name                =   O nome da tag, por exemplo 'a' para um elemento <a>\n",
    "get_attribute(nome)     =   O valor do atributo nome do elemento\n",
    "text                    =   O texto do elemento, por exemplo, 'hello' em <span>hello</hello>\n",
    "clear()                 =   Para campos de texto ou elementos correspondentes á área de texto, limpa o texto digitado\n",
    "is_displayed()          =   Retorna True se o elemento estiver visivel; caso contrario, retorne False\n",
    "is_enabled()            =   Para elementos de entrada, retorna True se o selemento estiver habilitado; caso contrario, retorna False\n",
    "is_selected()           =   Para elementos relacionados a caixas de seleção ou botões de rádio, retorna True se o elemento estiver selecionado, ou False\n",
    "location                =   Um dicionario com chaves 'x' e 'y' para a posição do elemento na pagina\n",
    "'''"
   ]
  },
  {
   "cell_type": "code",
   "execution_count": null,
   "metadata": {
    "tags": []
   },
   "outputs": [],
   "source": [
    "from selenium import webdriver\n",
    "from selenium.webdriver.common.keys import Keys\n",
    "\n",
    "browser = webdriver.Chrome()\n",
    "browser.get('http://inventwithpython.com')\n",
    "\n",
    "try:\n",
    "    elem = browser.find_element_by_class_name('jumbotron')\n",
    "    print('Found %s element with that class name!' %(elem.tag_name))\n",
    "except:\n",
    "    print('Was not able to find an element with that name.')"
   ]
  },
  {
   "cell_type": "code",
   "execution_count": null,
   "metadata": {},
   "outputs": [],
   "source": [
    "from selenium import webdriver\n",
    "from selenium.webdriver.common.keys import Keys\n",
    "\n",
    "browser = webdriver.Chrome()\n",
    "browser.get('http://inventwithpython.com')\n",
    "\n",
    "linkElem2 = browser.find_element_by_link_text('Read Online for Free')\n",
    "\n",
    "linkElem2.click()"
   ]
  },
  {
   "cell_type": "code",
   "execution_count": null,
   "metadata": {},
   "outputs": [],
   "source": [
    "# my test\n",
    "\n",
    "from selenium import webdriver\n",
    "from selenium.webdriver.common.keys import Keys\n",
    "\n",
    "browser = webdriver.Chrome()\n",
    "browser.get('https://login.yahoo.com/')\n",
    "\n",
    "emailElem = browser.find_element_by_id('login-username')\n",
    "emailElem.send_keys('myemail')\n",
    "emailElem.submit()\n",
    "\n",
    "# linkElem3 = browser.find_element_by_id('login-signin')\n",
    "# linkElem3.click()"
   ]
  },
  {
   "cell_type": "code",
   "execution_count": null,
   "metadata": {},
   "outputs": [],
   "source": [
    "# book example\n",
    "\n",
    "from selenium import webdriver\n",
    "from selenium.webdriver.common.keys import Keys\n",
    "\n",
    "browser = webdriver.Chrome()\n",
    "browser.get('https://login.yahoo.com/')\n",
    "\n",
    "emailElem = browser.find_element_by_id('login-username')\n",
    "emailElem.send_keys('myemail')\n",
    "\n",
    "passwordElem = browser.find_element_by_id('login-passwd')\n",
    "\n",
    "passwordElem.send_keys('12345')\n",
    "\n",
    "passwordElem.submit()"
   ]
  },
  {
   "cell_type": "code",
   "execution_count": 1,
   "metadata": {},
   "outputs": [],
   "source": [
    "import time\n",
    "from selenium import webdriver\n",
    "from selenium.webdriver.common.keys import Keys\n",
    "\n",
    "browser = webdriver.Chrome()\n",
    "browser.get('http://nostarch.com')\n",
    "\n",
    "htmlElem = browser.find_element_by_tag_name('html')\n",
    "time.sleep(10)\n",
    "htmlElem.send_keys(Keys.END)\n",
    "time.sleep(5)\n",
    "htmlElem.send_keys(Keys.HOME)\n",
    "time.sleep(5)\n",
    "browser.quit()"
   ]
  },
  {
   "cell_type": "code",
   "execution_count": null,
   "metadata": {},
   "outputs": [],
   "source": [
    "# special keys Selenium\n",
    "\n",
    "'''\n",
    "keys.DOWN, keys.UP, keys.LEFT, keys.RIGHT           =   Teclas de direção do teclado\n",
    "keys.ENTER, keys.RETURN                             =   Teclas enter e return\n",
    "keys.HOME, keys.END, keys.PAG_UP, keys.PAG_DOWN     =   Teclas home, end, pagup e pagdown\n",
    "keys.ESCAPE, keys.BACK_SPACE, keys.DELETE           =   Teclas esc, backspace e delete\n",
    "keys.TAB                                            =   Tecla tab\n",
    "keys.F1, keys.F2...,keys.F12                        =   Teclas de F1 até F12\n",
    "\n",
    "browser.back()                                      =   Clica no botão back do navegador\n",
    "browser.forward()                                   =   Clica no botão forward\n",
    "browser.refresh()                                   =   Clica no botão reload\n",
    "browser.quit()                                      =   Fecha o navegador\n",
    "'''"
   ]
  },
  {
   "cell_type": "code",
   "execution_count": 3,
   "metadata": {},
   "outputs": [],
   "source": [
    "import time\n",
    "from selenium import webdriver\n",
    "from selenium.webdriver.common.keys import Keys\n",
    "\n",
    "class zapzap:\n",
    "    def __init__(self):\n",
    "        self.message = \"Tá por ai baitola\n",
    "        ???\"\n",
    "        self.groups = ['Magar Loca']\n",
    "        # options = webdriver.ChromeOptions(chrome_options='lang=pt-br')\n",
    "        self.driver = webdriver.Chrome()\n",
    "\n",
    "    def sendMessage(self):\n",
    "        self.driver.get('https://web.whatsapp.com')\n",
    "        time.sleep(10)\n",
    "        for i in self.groups:\n",
    "            i = self.driver.find_element_by_xpath(f\"//span[@title='{i}']\")\n",
    "            i.click()\n",
    "            time.sleep(3)\n",
    "            chatbox = self.driver.find_element_by_class_name('_3uMse')\n",
    "            time.sleep(3)\n",
    "            # chatbox.submit()\n",
    "            chatbox.click()\n",
    "            chatbox.send_keys(self.message)\n",
    "            send = self.driver.find_element_by_xpath(\"//span[@data-icon='send']\")\n",
    "            time.sleep(3)\n",
    "            send.click()\n",
    "            time.sleep(5)\n",
    "\n",
    "bot = zapzap()\n",
    "bot.sendMessage()"
   ]
  },
  {
   "cell_type": "code",
   "execution_count": null,
   "metadata": {},
   "outputs": [],
   "source": []
  }
 ]
}