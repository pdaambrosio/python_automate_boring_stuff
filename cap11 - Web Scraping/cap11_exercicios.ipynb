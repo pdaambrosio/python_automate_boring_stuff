{
 "metadata": {
  "language_info": {
   "codemirror_mode": {
    "name": "ipython",
    "version": 3
   },
   "file_extension": ".py",
   "mimetype": "text/x-python",
   "name": "python",
   "nbconvert_exporter": "python",
   "pygments_lexer": "ipython3",
   "version": "3.7.9-final"
  },
  "orig_nbformat": 2,
  "kernelspec": {
   "name": "python37764bitpy37virtualenv724f8c74c5c7478bad670819f0cdf1e2",
   "display_name": "Python 3.7.7 64-bit ('py3.7': virtualenv)"
  }
 },
 "nbformat": 4,
 "nbformat_minor": 2,
 "cells": [
  {
   "source": [
    "1. Descreva brevemente as diferenças entre os módulos webbrowser, requests, BeautifulSoup e selenium."
   ],
   "cell_type": "markdown",
   "metadata": {}
  },
  {
   "cell_type": "code",
   "execution_count": 13,
   "metadata": {
    "tags": []
   },
   "outputs": [
    {
     "output_type": "stream",
     "name": "stdout",
     "text": "<Response [200]>\n<img alt=\"DuckDuckGo Dax Logo\" class=\"abt--hero__logo\" src=\"/assets/common/dax-logo.svg\"/>\n/assets/common/dax-logo.svg\n"
    }
   ],
   "source": [
    "# O módulo webbrowser tem o método open(), que apenas iniciará um navegador web em um URL especifico. Exemplo.:\n",
    "\n",
    "import webbrowser\n",
    "\n",
    "site = webbrowser.open('http://duckduckgo.com')\n",
    "\n",
    "site\n",
    "\n",
    "# O modulo requests pode fazer download de paginas da web. Exemplo.:\n",
    "\n",
    "import requests\n",
    "\n",
    "site2 = requests.get('http://duckduckgo.com/about')\n",
    "siste2.raise_for_status()\n",
    "print(site2)\n",
    "\n",
    "# O modulo BeautifulSoup faz parse de HTML. Exemplo.:\n",
    "\n",
    "import bs4\n",
    "\n",
    "parse = bs4.BeautifulSoup(site2.text)\n",
    "elem = parse.select_one('img', class_='abt--hero__logo')\n",
    "\n",
    "print(elem)\n",
    "print(elem.get('src'))\n",
    "\n",
    "# Por fim, o módulo selenium pode iniciar e controlar o navegador\n",
    "\n",
    "import time\n",
    "from selenium import webdriver\n",
    "from selenium.webdriver.common.keys import Keys\n",
    "\n",
    "navegador = webdriver.Chrome()\n",
    "navegador.get('http://duckduckgo.com')\n",
    "time.sleep(5)\n",
    "link = navegador.find_element_by_id('logo_homepage_link')\n",
    "link.click()"
   ]
  },
  {
   "source": [
    "2. Que tipo de objeto é retornado por requests.get()? Como podemos acessar o conteúdo baixado na forma de um valor de string?"
   ],
   "cell_type": "markdown",
   "metadata": {}
  },
  {
   "cell_type": "code",
   "execution_count": 17,
   "metadata": {
    "tags": []
   },
   "outputs": [
    {
     "output_type": "execute_result",
     "data": {
      "text/plain": "requests.models.Response"
     },
     "metadata": {},
     "execution_count": 17
    }
   ],
   "source": [
    "# A função requests.get() retorna um objeto Response; seu atributo text contém os dados baixados em forma de string. Exemplo.:\n",
    "\n",
    "type(site2)\n",
    "\n",
    "print(site2.text)"
   ]
  },
  {
   "source": [
    "3. Que metodo do request valida se o download funcionou?"
   ],
   "cell_type": "markdown",
   "metadata": {}
  },
  {
   "cell_type": "code",
   "execution_count": null,
   "metadata": {},
   "outputs": [],
   "source": [
    "# O metodo raise_for_status() gera uma exceção se o download tiver problema. Exemplo.:\n",
    "\n",
    "import requests\n",
    "\n",
    "site = requests.get('http://teste.com')\n",
    "site.raise_for_status()\n",
    "print(site)"
   ]
  },
  {
   "source": [
    "4. Como o código de status HTTP de uma resposta de Requests pode ser obtido?"
   ],
   "cell_type": "markdown",
   "metadata": {}
  },
  {
   "cell_type": "code",
   "execution_count": 3,
   "metadata": {},
   "outputs": [
    {
     "output_type": "execute_result",
     "data": {
      "text/plain": "200"
     },
     "metadata": {},
     "execution_count": 3
    }
   ],
   "source": [
    "# O atributo status_code do objeto Response contem o codigo de status HTTP\n",
    "\n",
    "import requests\n",
    "\n",
    "site = requests.get('http://google.com')\n",
    "site.raise_for_status()\n",
    "\n",
    "site.status_code"
   ]
  },
  {
   "source": [
    "5. Como podemos salvar uma resposta de um Requests em um arquivo?"
   ],
   "cell_type": "markdown",
   "metadata": {}
  },
  {
   "cell_type": "code",
   "execution_count": 6,
   "metadata": {},
   "outputs": [],
   "source": [
    "# Após abrir seu arquivo em modo 'wb' de 'escrita binaria', utilize um loop for que faça uma iteração pelo método iter_content() do objeto Response e grave porções de dados nos arquivos. Exemplo.:\n",
    "\n",
    "import requests\n",
    "\n",
    "with open('site.html', 'wb') as filename:\n",
    "    site = requests.get('http://google.com')\n",
    "    site.raise_for_status()\n",
    "    for i in site.iter_content(1000):\n",
    "        filename.write(i)\n"
   ]
  },
  {
   "source": [
    "6. Qual o atalho do teclado para abrir a ferramenta de desenvolvedor de um navegador?"
   ],
   "cell_type": "markdown",
   "metadata": {}
  },
  {
   "cell_type": "code",
   "execution_count": 23,
   "metadata": {},
   "outputs": [],
   "source": [
    "# F12\n",
    "\n",
    "import time\n",
    "from selenium import webdriver\n",
    "from selenium.webdriver.common.keys import Keys\n",
    "\n",
    "browser = webdriver.Chrome()\n",
    "browser.get('http://nostarch.com')\n",
    "\n",
    "elem = browser.find_element_by_tag_name('html')\n",
    "time.sleep(5)\n",
    "elem.send_keys(Keys.F12)"
   ]
  },
  {
   "source": [
    "7. Como podemos visualizar o HTML de um elemento especifico de uma pagina da web?"
   ],
   "cell_type": "markdown",
   "metadata": {}
  },
  {
   "cell_type": "code",
   "execution_count": null,
   "metadata": {},
   "outputs": [],
   "source": [
    "# Click com o botão direito no elemento da pagina e click em 'inspect element'"
   ]
  },
  {
   "source": [
    "8. Qual a string de um seletor CSS que encontra o elemento com um atributo 'id' igual a main?"
   ],
   "cell_type": "markdown",
   "metadata": {}
  },
  {
   "cell_type": "code",
   "execution_count": null,
   "metadata": {},
   "outputs": [],
   "source": [
    "# '#main'"
   ]
  },
  {
   "source": [
    "9. Qual a string de um seletor CSS que encontra o elemento com uma classe CSS igual a 'highlight'?"
   ],
   "cell_type": "markdown",
   "metadata": {}
  },
  {
   "cell_type": "code",
   "execution_count": null,
   "metadata": {},
   "outputs": [],
   "source": [
    "# '.highligth'"
   ]
  },
  {
   "source": [
    "10. Qual a string de um seletor CSS que encontra todos os elementos \"<div\\>\" em outro elemento \"<div\\>\"?"
   ],
   "cell_type": "markdown",
   "metadata": {}
  },
  {
   "cell_type": "code",
   "execution_count": null,
   "metadata": {},
   "outputs": [],
   "source": [
    "# 'div div'"
   ]
  },
  {
   "source": [
    "11. Qual a string de um seletor CSS que encontra o elemento \"<button\\>\" com um atributo value definido como favorite?"
   ],
   "cell_type": "markdown",
   "metadata": {}
  },
  {
   "cell_type": "code",
   "execution_count": null,
   "metadata": {},
   "outputs": [],
   "source": [
    "# 'button[value=\"favorite\"]'"
   ]
  },
  {
   "source": [
    "12. Suponha que você tenha um objeto Tag de Beautiful Soup armazenado na variavel 'spam' para o elemento '<div\\>Hello World!</div\\>', como podemos obter a string \"Hello World\" do objeto Tag?"
   ],
   "cell_type": "markdown",
   "metadata": {}
  },
  {
   "cell_type": "code",
   "execution_count": null,
   "metadata": {},
   "outputs": [],
   "source": [
    "# spam.getText()"
   ]
  },
  {
   "source": [
    "13. Como podemos armazenar todos os atributos de um objeto Tag de Beautiful Soup em uma variável chamada linkElem?"
   ],
   "cell_type": "markdown",
   "metadata": {}
  },
  {
   "cell_type": "code",
   "execution_count": null,
   "metadata": {},
   "outputs": [],
   "source": [
    "# linkElem.attrs"
   ]
  },
  {
   "source": [
    "14. Como podemos importar corretamente o modulo Selenium?"
   ],
   "cell_type": "markdown",
   "metadata": {}
  },
  {
   "cell_type": "code",
   "execution_count": null,
   "metadata": {},
   "outputs": [],
   "source": [
    "# O módulo Selenium é importado com...\n",
    "\n",
    "from Selenium import webdrive"
   ]
  },
  {
   "source": [
    "15. Qual a diferença enres os metodos find_element_* e o find_elements_*?"
   ],
   "cell_type": "markdown",
   "metadata": {}
  },
  {
   "cell_type": "code",
   "execution_count": null,
   "metadata": {},
   "outputs": [],
   "source": [
    "# O metodo find_element_* retorna o primeiro elemento, o metodo find_elements_* retorna uma lista de elementos"
   ]
  },
  {
   "source": [
    "16. Quais os metodos os objetos WebElement de Selenium tem para simular cliques de mouses e teclas?"
   ],
   "cell_type": "markdown",
   "metadata": {}
  },
  {
   "cell_type": "code",
   "execution_count": null,
   "metadata": {},
   "outputs": [],
   "source": [
    "# Os metodos click() e send_keys() simulam cliques de mouse e pressionamentos de teclas, respectivamente."
   ]
  },
  {
   "source": [
    "17. Você poderia chamar send_keys(Keys.ENTER) no objeto WebElement do botão Submit, porém qual é a maneira mais facil de submeter um formulario usando Selenium?"
   ],
   "cell_type": "markdown",
   "metadata": {}
  },
  {
   "cell_type": "code",
   "execution_count": null,
   "metadata": {},
   "outputs": [],
   "source": [
    "# Chamar o metodo subimit() em qualquer elemento de um formulario, submete o formulario."
   ]
  },
  {
   "source": [
    "18. Como podemos simular cliques no botões Forward, Back e Refresh de um navegador Selenium?"
   ],
   "cell_type": "markdown",
   "metadata": {}
  },
  {
   "cell_type": "code",
   "execution_count": null,
   "metadata": {},
   "outputs": [],
   "source": [
    "# Os metodos foward(), back(), e refresh() do objeto WebDriver simulam esses botões do navegador."
   ]
  }
 ]
}