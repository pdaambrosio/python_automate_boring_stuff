{
 "metadata": {
  "language_info": {
   "codemirror_mode": {
    "name": "ipython",
    "version": 3
   },
   "file_extension": ".py",
   "mimetype": "text/x-python",
   "name": "python",
   "nbconvert_exporter": "python",
   "pygments_lexer": "ipython3",
   "version": "3.7.9-final"
  },
  "orig_nbformat": 2,
  "kernelspec": {
   "name": "python37764bitpy37virtualenv724f8c74c5c7478bad670819f0cdf1e2",
   "display_name": "Python 3.7.7 64-bit ('py3.7': virtualenv)"
  }
 },
 "nbformat": 4,
 "nbformat_minor": 2,
 "cells": [
  {
   "cell_type": "code",
   "execution_count": 11,
   "metadata": {
    "tags": []
   },
   "outputs": [
    {
     "output_type": "stream",
     "name": "stdout",
     "text": "Pesquisando...\n'int' object is not iterable\n"
    }
   ],
   "source": [
    "#!/home/pdajgs/python_labs/py3.7/bin/python3\n",
    "\n",
    "# abre os resultados das pesquisas no google em abas\n",
    "\n",
    "import requests, sys, webbrowser, bs4\n",
    "\n",
    "print('Pesquisando...')\n",
    "\n",
    "try:\n",
    "    search = '+'.join(sys.argv[1:])\n",
    "    link = requests.get(f'http://google.com/search?q={search}')\n",
    "    link.raise_for_status()\n",
    "    # soup = bs4.BeautifulSoup(link.text, 'html.parser')\n",
    "    soup = bs4.BeautifulSoup(link.text)\n",
    "    # linkElement = soup.select('div#main > div > div > div > a')\n",
    "    linkElements = soup.select('.kCrYT > a')\n",
    "    # linkElement = soup.select('.r > a') #exemplo do livro, não funfa\n",
    "    # print(linkElement[0].get('href'))\n",
    "    numOpen = min(5, len(linkElements))\n",
    "    for i in range(numOpen): #o range foi utilizado pois \"int object is not iterable\"\n",
    "        webbrowser.open('http://google.com'+ linkElements[i].get('href'))\n",
    "except Exception as e:\n",
    "    print(e)\n"
   ]
  },
  {
   "cell_type": "code",
   "execution_count": null,
   "metadata": {},
   "outputs": [],
   "source": []
  }
 ]
}