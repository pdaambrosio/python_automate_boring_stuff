{
 "metadata": {
  "language_info": {
   "codemirror_mode": {
    "name": "ipython",
    "version": 3
   },
   "file_extension": ".py",
   "mimetype": "text/x-python",
   "name": "python",
   "nbconvert_exporter": "python",
   "pygments_lexer": "ipython3",
   "version": "3.7.9-final"
  },
  "orig_nbformat": 2,
  "kernelspec": {
   "name": "python37764bitpy37virtualenv724f8c74c5c7478bad670819f0cdf1e2",
   "display_name": "Python 3.7.7 64-bit ('py3.7': virtualenv)"
  }
 },
 "nbformat": 4,
 "nbformat_minor": 2,
 "cells": [
  {
   "cell_type": "code",
   "execution_count": 2,
   "metadata": {
    "tags": []
   },
   "outputs": [
    {
     "output_type": "stream",
     "name": "stdout",
     "text": "Download page http://xkcd.com...\nDownload image http://imgs.xkcd.com/comics/gravitational_wave_pulsars.png...\nDownload page http://xkcd.com/2357/...\nDownload image http://imgs.xkcd.com/comics/polls_vs_the_street.png...\nDone\n"
    }
   ],
   "source": [
    "#!/home/pdajgs/python_labs/py3.7/bin/python3\n",
    "\n",
    "import requests, os, bs4\n",
    "\n",
    "try:\n",
    "    url = 'http://xkcd.com'            # url do site XKCD\n",
    "    os.makedirs('xkcd', exist_ok=True) # \"exist_ok\" impede que ocorra exceção, caso o diretorio exista\n",
    "except Exception as e:\n",
    "    print(e)\n",
    "\n",
    "while not url.endswith('#'):\n",
    "    print('Download page %s...' %(url))\n",
    "    try:\n",
    "        res = requests.get(url)\n",
    "        res.raise_for_status()\n",
    "    except Exception as f:\n",
    "        print(f)\n",
    "\n",
    "    soup = bs4.BeautifulSoup(res.text)\n",
    "    comicElem = soup.select('#comic img')\n",
    "\n",
    "    if comicElem == []:\n",
    "        print('Could not found comic image.')\n",
    "    else:\n",
    "        comicUrl = 'http:' + comicElem[0].get('src')    # url da imagem \n",
    "        print('Download image %s...' %(comicUrl))\n",
    "        res = requests.get(comicUrl)\n",
    "        res.raise_for_status()\n",
    "        imageFile = open(os.path.join('xkcd', os.path.basename(comicUrl)), 'wb')\n",
    "        \n",
    "        for i in res.iter_content(1000):\n",
    "            imageFile.write(i)\n",
    "        imageFile.close()\n",
    "    \n",
    "    prevLink = soup.select('a[rel=\"prev\"]')[0]\n",
    "    url = 'http://xkcd.com' + prevLink.get('href')\n",
    "\n",
    "print('Done')"
   ]
  },
  {
   "cell_type": "code",
   "execution_count": 25,
   "metadata": {},
   "outputs": [
    {
     "output_type": "execute_result",
     "data": {
      "text/plain": "'/2355/'"
     },
     "metadata": {},
     "execution_count": 25
    }
   ],
   "source": [
    "soup.select('a[rel=\"prev\"]')[0].get('href')"
   ]
  },
  {
   "cell_type": "code",
   "execution_count": 7,
   "metadata": {
    "tags": []
   },
   "outputs": [
    {
     "output_type": "error",
     "ename": "TypeError",
     "evalue": "'generator' object is not subscriptable",
     "traceback": [
      "\u001b[0;31m---------------------------------------------------------------------------\u001b[0m",
      "\u001b[0;31mTypeError\u001b[0m                                 Traceback (most recent call last)",
      "\u001b[0;32m<ipython-input-7-26725eea47c9>\u001b[0m in \u001b[0;36m<module>\u001b[0;34m\u001b[0m\n\u001b[0;32m----> 1\u001b[0;31m \u001b[0mres\u001b[0m\u001b[0;34m.\u001b[0m\u001b[0miter_content\u001b[0m\u001b[0;34m(\u001b[0m\u001b[0;34m)\u001b[0m\u001b[0;34m[\u001b[0m\u001b[0;36m0\u001b[0m\u001b[0;34m]\u001b[0m\u001b[0;34m\u001b[0m\u001b[0;34m\u001b[0m\u001b[0m\n\u001b[0m",
      "\u001b[0;31mTypeError\u001b[0m: 'generator' object is not subscriptable"
     ]
    }
   ],
   "source": []
  },
  {
   "cell_type": "code",
   "execution_count": null,
   "metadata": {},
   "outputs": [],
   "source": []
  }
 ]
}