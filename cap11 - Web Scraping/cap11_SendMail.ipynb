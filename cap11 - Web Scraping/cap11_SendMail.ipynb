{
 "cells": [
  {
   "cell_type": "code",
   "execution_count": 24,
   "metadata": {
    "tags": []
   },
   "outputs": [],
   "source": [
    "#!/home/pdajgs/python_labs/py3.7/bin/python3\n",
    "\n",
    "import time\n",
    "from selenium import webdriver\n",
    "from selenium.webdriver.common.keys import Keys\n",
    "\n",
    "mail = input('Type an e-mail: ')\n",
    "text = '''\n",
    "Amo a liberdade, por isso deixo livre tudo que tenho...\n",
    "Se voltar é porque conquistei, se não, é porque nunca possuí!\n",
    "'''\n",
    "# text = input('Type a message: ')\n",
    "\n",
    "browser = webdriver.Chrome()\n",
    "browser.get('https://login.live.com/login.srf?wa=wsignin1.0&rpsnv=13&ct=1600572069&rver=7.0.6737.0&wp=MBI_SSL&wreply=https%3a%2f%2foutlook.live.com%2fowa%2f%3fnlp%3d1%26RpsCsrfState%3de48c6051-661d-558b-19bd-3c1e5dcb7784&id=292841&aadredir=1&whr=hotmail.com&CBCXT=out&lw=1&fl=dob%2cflname%2cwld&cobrandid=90015')\n",
    "\n",
    "try:\n",
    "    login = browser.find_element_by_name('loginfmt')\n",
    "    login.send_keys('my_email_address')\n",
    "    time.sleep(3)\n",
    "    loginNext = browser.find_element_by_class_name('ext-primary')\n",
    "    loginNext.click()\n",
    "    time.sleep(3)\n",
    "    passwd = browser.find_element_by_name('passwd')\n",
    "    time.sleep(1)\n",
    "    passwd.send_keys('my_password')\n",
    "    passwdNext = browser.find_element_by_class_name('ext-primary')\n",
    "    passwdNext.click()\n",
    "    time.sleep(3)\n",
    "    newMessage = browser.find_element_by_class_name('ms-Button-label')\n",
    "    newMessage.click()\n",
    "    time.sleep(3)\n",
    "    sendMail = browser.find_element_by_class_name('ms-BasePicker-input')\n",
    "    sendMail.click()\n",
    "    sendMail.send_keys(mail)\n",
    "    time.sleep(5)\n",
    "    sendSubjects = browser.find_element_by_class_name('ms-TextField-field')\n",
    "    # sendSubjects.click()\n",
    "    sendSubjects.send_keys('test subject mail')\n",
    "    time.sleep(3)\n",
    "    sendTextBox = browser.find_element_by_class_name('_4utP_vaqQ3UQZH0GEBVQe')\n",
    "    sendTextBox.click()\n",
    "    sendTextBox.send_keys(text)\n",
    "    sendButton = browser.find_element_by_id('id__965')\n",
    "    sendButton.click()\n",
    "    browser.quit()\n",
    "except Exception as m:\n",
    "    print(m)\n",
    "    browser.quit()\n",
    "\n"
   ]
  },
  {
   "cell_type": "code",
   "execution_count": null,
   "metadata": {},
   "outputs": [],
   "source": []
  }
 ],
 "metadata": {
  "kernelspec": {
   "display_name": "Python 3.7.9 64-bit",
   "name": "python_defaultSpec_1600709822550"
  },
  "language_info": {
   "codemirror_mode": {
    "name": "ipython",
    "version": 3
   },
   "file_extension": ".py",
   "mimetype": "text/x-python",
   "name": "python",
   "nbconvert_exporter": "python",
   "pygments_lexer": "ipython3",
   "version": "3.7.9-final"
  },
  "orig_nbformat": 2
 },
 "nbformat": 4,
 "nbformat_minor": 2
}
