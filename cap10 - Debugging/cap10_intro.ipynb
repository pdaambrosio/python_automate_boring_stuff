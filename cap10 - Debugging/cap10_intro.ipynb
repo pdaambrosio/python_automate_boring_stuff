{
 "metadata": {
  "language_info": {
   "codemirror_mode": {
    "name": "ipython",
    "version": 3
   },
   "file_extension": ".py",
   "mimetype": "text/x-python",
   "name": "python",
   "nbconvert_exporter": "python",
   "pygments_lexer": "ipython3",
   "version": "3.7.8-final"
  },
  "orig_nbformat": 2,
  "kernelspec": {
   "name": "python37764bitpy37virtualenv724f8c74c5c7478bad670819f0cdf1e2",
   "display_name": "Python 3.7.7 64-bit ('py3.7': virtualenv)"
  }
 },
 "nbformat": 4,
 "nbformat_minor": 2,
 "cells": [
  {
   "cell_type": "code",
   "execution_count": null,
   "metadata": {},
   "outputs": [],
   "source": [
    "# gerando excessões\n",
    "\n",
    "raise Exception(\"This is error message.\")"
   ]
  },
  {
   "cell_type": "code",
   "execution_count": null,
   "metadata": {
    "tags": []
   },
   "outputs": [],
   "source": [
    "# traceback, gravando em arquivo\n",
    "\n",
    "import traceback        # necessario importar o modulo traceback\n",
    "\n",
    "try:\n",
    "    raise Exception (\"This is error message.\")\n",
    "except:\n",
    "    with open('./errorInfo.txt', 'w') as errorFile:\n",
    "        errorFile.write(traceback.format_exc())\n",
    "        print('Traceback info was written to errorInfo.txt')"
   ]
  },
  {
   "cell_type": "code",
   "execution_count": null,
   "metadata": {},
   "outputs": [],
   "source": [
    "# asserção ou verificação de sanidade\n",
    "\n",
    "rua_1 = {'s1':'green', 's2':'yellow', 's3':'red'}\n",
    "rua_2 = {'norte':'yellow', 'sul':'green'}\n",
    "\n",
    "def semaforo (pare):\n",
    "    for key in pare.keys():\n",
    "        if pare[key] == 'green':\n",
    "            pare[key] = 'yellow'\n",
    "        elif pare[key] == 'yellow':\n",
    "            pare[key] = 'red'\n",
    "        elif pare[key] == 'red':\n",
    "            pare[key] = 'green'\n",
    "    print(pare.values())\n",
    "    assert 'red' in pare.values(), 'Precisa conter red. ' + str(pare) # verifica se a string 'red' existe"
   ]
  },
  {
   "cell_type": "code",
   "execution_count": null,
   "metadata": {
    "tags": []
   },
   "outputs": [],
   "source": [
    "semaforo(rua_2)"
   ]
  },
  {
   "cell_type": "code",
   "execution_count": null,
   "metadata": {},
   "outputs": [],
   "source": [
    "rua_2"
   ]
  },
  {
   "cell_type": "code",
   "execution_count": null,
   "metadata": {
    "tags": []
   },
   "outputs": [],
   "source": [
    "#!/home/pdajgs/python_labs/py3.7/bin/python3\n",
    "\n",
    "# logging ou debug, outro exemplo\n",
    "# muito top\n",
    "\n",
    "import logging\n",
    "\n",
    "logging.basicConfig(level=logging.DEBUG, format='%(asctime)s-%(levelname)s-%(message)s')\n",
    "logging.debug('Start Program')\n",
    "\n",
    "rua_1 = {'s1':'green', 's2':'yellow', 's3':'red'}\n",
    "rua_2 = {'norte':'yellow', 'sul':'green'}\n",
    "\n",
    "def semaforo (pare):\n",
    "    logging.debug(f'Start semaforo {pare}')\n",
    "    for key in pare.keys():\n",
    "        if pare[key] == 'green':\n",
    "            pare[key] = 'yellow'\n",
    "        elif pare[key] == 'yellow':\n",
    "            pare[key] = 'red'\n",
    "        elif pare[key] == 'red':\n",
    "            pare[key] = 'green'\n",
    "    assert 'red' in pare.values(), 'Precisa conter red. ' + str(pare) # verifica se a string 'red' existe\n",
    "    logging.debug(f'End semaforo {pare}')\n",
    "\n",
    "print(semaforo(rua_2))\n",
    "logging.debug('End Program')"
   ]
  },
  {
   "cell_type": "code",
   "execution_count": null,
   "metadata": {
    "tags": []
   },
   "outputs": [],
   "source": [
    "# niveis logging e desabilitando\n",
    "\n",
    "import logging\n",
    "\n",
    "#logging.disable() # desabilita todos os logs abaixo desta linha\n",
    "\n",
    "logging.basicConfig(level=logging.DEBUG, format='%(asctime)s-%(levelname)s-%(message)s')\n",
    "\n",
    "logging.debug('O mais detalhado')\n",
    "\n",
    "logging.info('Com informações')\n",
    "\n",
    "logging.warning('Menssagens de erros nos logs')\n",
    "\n",
    "logging.error('Quando ocorrer erros')\n",
    "\n",
    "logging.critical('Erros criticos, onde o programa não se recupera')"
   ]
  },
  {
   "cell_type": "code",
   "execution_count": 1,
   "metadata": {
    "tags": []
   },
   "outputs": [],
   "source": [
    "# enviando logging para um arquivo\n",
    "\n",
    "import logging\n",
    "\n",
    "logging.basicConfig(filename='./program.log', filemode='w', level=logging.DEBUG, format='%(asctime)s-%(levelname)s-%(message)s')\n",
    "\n",
    "logging.debug('O mais detalhado')\n",
    "\n",
    "logging.info('Com informações')\n",
    "\n",
    "logging.warning('Menssagens de erros nos logs')\n",
    "\n",
    "logging.error('Quando ocorrer erros')\n",
    "\n",
    "logging.critical('Erros criticos, onde o programa não se recupera')"
   ]
  },
  {
   "cell_type": "code",
   "execution_count": null,
   "metadata": {},
   "outputs": [],
   "source": []
  }
 ]
}