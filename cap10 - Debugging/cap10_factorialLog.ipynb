{
 "metadata": {
  "language_info": {
   "codemirror_mode": {
    "name": "ipython",
    "version": 3
   },
   "file_extension": ".py",
   "mimetype": "text/x-python",
   "name": "python",
   "nbconvert_exporter": "python",
   "pygments_lexer": "ipython3",
   "version": "3.7.8-final"
  },
  "orig_nbformat": 2,
  "kernelspec": {
   "name": "python37764bitpy37virtualenv724f8c74c5c7478bad670819f0cdf1e2",
   "display_name": "Python 3.7.7 64-bit ('py3.7': virtualenv)"
  }
 },
 "nbformat": 4,
 "nbformat_minor": 2,
 "cells": [
  {
   "cell_type": "code",
   "execution_count": 10,
   "metadata": {
    "tags": []
   },
   "outputs": [
    {
     "output_type": "stream",
     "name": "stderr",
     "text": "2020-08-30 14:31:29,404-DEBUG-Start of Program\n2020-08-30 14:31:29,410-DEBUG-Start of factorial (5)\n2020-08-30 14:31:29,416-DEBUG-i is 1, total is 1\n2020-08-30 14:31:29,417-DEBUG-i is 2, total is 2\n2020-08-30 14:31:29,429-DEBUG-i is 3, total is 6\n2020-08-30 14:31:29,433-DEBUG-i is 4, total is 24\n2020-08-30 14:31:29,435-DEBUG-i is 5, total is 120\n2020-08-30 14:31:29,441-DEBUG-End of factorial (5)\n2020-08-30 14:31:29,443-DEBUG-End of program\n120\n"
    }
   ],
   "source": [
    "# logging ou debug\n",
    "#!/home/pdajgs/python_labs/py3.7/bin/python3\n",
    "\n",
    "import logging\n",
    "\n",
    "logging.basicConfig(level=logging.DEBUG, format='%(asctime)s-%(levelname)s-%(message)s')\n",
    "logging.debug('Start of Program')\n",
    "\n",
    "def factorial (num):\n",
    "    logging.debug('Start of factorial (%s)' %(num))\n",
    "    total = 1\n",
    "    for i in range(1, num + 1):\n",
    "        total *= i\n",
    "        logging.debug('i is '+ str(i) + ', total is '+ str(total))  \n",
    "    logging.debug('End of factorial (%s)' %(num))\n",
    "    return total\n",
    "    \n",
    "print(factorial(5))\n",
    "logging.debug('End of program')\n"
   ]
  },
  {
   "cell_type": "code",
   "execution_count": 11,
   "metadata": {
    "tags": []
   },
   "outputs": [
    {
     "output_type": "stream",
     "name": "stderr",
     "text": "2020-08-30 17:05:50,019-DEBUG-Start of Program\n2020-08-30 17:05:50,023-DEBUG-Start of factorial (5)\n2020-08-30 17:05:50,024-DEBUG-i is 0, total is 0\n2020-08-30 17:05:50,025-DEBUG-i is 1, total is 0\n2020-08-30 17:05:50,027-DEBUG-i is 2, total is 0\n2020-08-30 17:05:50,030-DEBUG-i is 3, total is 0\n2020-08-30 17:05:50,031-DEBUG-i is 4, total is 0\n2020-08-30 17:05:50,033-DEBUG-i is 5, total is 0\n2020-08-30 17:05:50,034-DEBUG-End of factorial (5)\n2020-08-30 17:05:50,036-DEBUG-End of program\n0\n"
    }
   ],
   "source": [
    "# errado, para analises futuras\n",
    "\n",
    "# logging ou debug\n",
    "#!/home/pdajgs/python_labs/py3.7/bin/python3\n",
    "\n",
    "import logging\n",
    "\n",
    "logging.basicConfig(level=logging.DEBUG, format='%(asctime)s-%(levelname)s-%(message)s')\n",
    "logging.debug('Start of Program')\n",
    "\n",
    "def factorial (num):\n",
    "    logging.debug('Start of factorial (%s)' %(num))\n",
    "    total = 1\n",
    "    for i in range(num + 1):\n",
    "        total *= i\n",
    "        logging.debug('i is '+ str(i) + ', total is '+ str(total))  \n",
    "    logging.debug('End of factorial (%s)' %(num))\n",
    "    return total\n",
    "    \n",
    "print(factorial(5))\n",
    "logging.debug('End of program')"
   ]
  },
  {
   "cell_type": "code",
   "execution_count": null,
   "metadata": {},
   "outputs": [],
   "source": []
  }
 ]
}