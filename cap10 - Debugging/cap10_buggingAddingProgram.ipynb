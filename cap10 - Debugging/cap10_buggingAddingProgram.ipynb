{
 "metadata": {
  "language_info": {
   "codemirror_mode": {
    "name": "ipython",
    "version": 3
   },
   "file_extension": ".py",
   "mimetype": "text/x-python",
   "name": "python",
   "nbconvert_exporter": "python",
   "pygments_lexer": "ipython3",
   "version": "3.7.8-final"
  },
  "orig_nbformat": 2,
  "kernelspec": {
   "name": "python37764bitpy37virtualenv724f8c74c5c7478bad670819f0cdf1e2",
   "display_name": "Python 3.7.7 64-bit ('py3.7': virtualenv)"
  }
 },
 "nbformat": 4,
 "nbformat_minor": 2,
 "cells": [
  {
   "cell_type": "code",
   "execution_count": 24,
   "metadata": {
    "tags": []
   },
   "outputs": [
    {
     "output_type": "stream",
     "name": "stdout",
     "text": "Enter the first number: 1\nEnter the second number: 2\nEnter the third number: 3\n\nThe sum is: 6\n"
    }
   ],
   "source": [
    "#!/home/pdajgs/python_labs/py3.7/bin/python3\n",
    "\n",
    "# try:\n",
    "first = int(input())\n",
    "print(f'Enter the first number: {first}')\n",
    "assert first >= 1, 'precisa conter algum valor inteiro'\n",
    "second = int(input())\n",
    "print(f'Enter the second number: {second}')\n",
    "assert second >= 1, 'precisa conter algum valor inteiro'\n",
    "third = int(input())\n",
    "print(f'Enter the third number: {third}')\n",
    "assert third >= 1, 'precisa conter algum valor inteiro'\n",
    "# assert first > 1 and third > 0 and second > 0, 'precisa conter valor maior que 0'\n",
    "# except:\n",
    "#     print('Valor invalido')\n",
    "\n",
    "print(f'\\nThe sum is: {first+second+third}')"
   ]
  },
  {
   "cell_type": "code",
   "execution_count": null,
   "metadata": {},
   "outputs": [],
   "source": []
  }
 ]
}