{
 "metadata": {
  "language_info": {
   "codemirror_mode": {
    "name": "ipython",
    "version": 3
   },
   "file_extension": ".py",
   "mimetype": "text/x-python",
   "name": "python",
   "nbconvert_exporter": "python",
   "pygments_lexer": "ipython3",
   "version": "3.7.8-final"
  },
  "orig_nbformat": 2,
  "kernelspec": {
   "name": "python37764bitpy37virtualenv724f8c74c5c7478bad670819f0cdf1e2",
   "display_name": "Python 3.7.7 64-bit ('py3.7': virtualenv)"
  }
 },
 "nbformat": 4,
 "nbformat_minor": 2,
 "cells": [
  {
   "cell_type": "code",
   "execution_count": null,
   "metadata": {},
   "outputs": [],
   "source": [
    "# original\n",
    "\n",
    "import random\n",
    "\n",
    "guess = ''\n",
    "\n",
    "while guess no in ('heads','tails'):\n",
    "    print('Guess the coin toss! Enter heads or tails:')\n",
    "    guess = input()\n",
    "\n",
    "toss = random.randint(0,1) # 0 é coroa (tails), 1 é cara (heads)\n",
    "\n",
    "if toss == guess:\n",
    "    print('You go it!')\n",
    "else:\n",
    "    print('Nope! Guess again!')\n",
    "    guess = input()\n",
    "    if toss == guess:\n",
    "        print('You go it!')\n",
    "    else:\n",
    "        print('Nope. You are really bad at this game.')"
   ]
  },
  {
   "cell_type": "code",
   "execution_count": 31,
   "metadata": {
    "tags": []
   },
   "outputs": [
    {
     "output_type": "stream",
     "name": "stderr",
     "text": "2020-09-01 19:37:27,496-DEBUG-Start Program\n\nGuess the coin toss! Enter heads or tails:\n2020-09-01 19:37:29,279-DEBUG-guess is: tails\n2020-09-01 19:37:29,287-DEBUG-toss is: tails\n2020-09-01 19:37:29,297-DEBUG-End Program\nYou go it!\n"
    }
   ],
   "source": [
    "# com logging\n",
    "\n",
    "import random, logging\n",
    "\n",
    "logging.basicConfig(level=logging.DEBUG, format='%(asctime)s-%(levelname)s-%(message)s')\n",
    "logging.debug('Start Program\\n')\n",
    "\n",
    "guess = ''\n",
    "while guess not in ('heads','tails'):\n",
    "    print('Guess the coin toss! Enter heads or tails:')\n",
    "    guess = input()\n",
    "    logging.debug(f'guess is: {guess}')\n",
    "\n",
    "toss = random.choice(['heads','tails']) # tails é coroa, heads é cara\n",
    "if toss == guess:\n",
    "    logging.debug(f'toss is: {toss}')\n",
    "    print('You go it!')\n",
    "else:\n",
    "    logging.debug(f'toss is: {toss}')\n",
    "    print('Nope! Guess again!')\n",
    "    guess = input()\n",
    "    logging.debug(f'guess is: {guess}')\n",
    "    if toss == guess:\n",
    "        logging.debug(f'toss is: {toss}')\n",
    "        print('You go it!')\n",
    "    else:\n",
    "        logging.debug(f'toss is: {toss}')\n",
    "        print('Nope. You are really bad at this game.')\n",
    "\n",
    "logging.debug('End Program')"
   ]
  },
  {
   "cell_type": "code",
   "execution_count": 30,
   "metadata": {},
   "outputs": [
    {
     "output_type": "execute_result",
     "data": {
      "text/plain": "'b'"
     },
     "metadata": {},
     "execution_count": 30
    }
   ],
   "source": [
    "random.choice(['a','b'])"
   ]
  },
  {
   "cell_type": "code",
   "execution_count": null,
   "metadata": {},
   "outputs": [],
   "source": []
  }
 ]
}