{
 "metadata": {
  "language_info": {
   "codemirror_mode": {
    "name": "ipython",
    "version": 3
   },
   "file_extension": ".py",
   "mimetype": "text/x-python",
   "name": "python",
   "nbconvert_exporter": "python",
   "pygments_lexer": "ipython3",
   "version": "3.7.9-final"
  },
  "orig_nbformat": 2,
  "kernelspec": {
   "name": "python3",
   "display_name": "Python 3",
   "language": "python"
  }
 },
 "nbformat": 4,
 "nbformat_minor": 2,
 "cells": [
  {
   "source": [
    "1. Como podemos disparar o recurso de falha com segurança do PyAutoGUI para interromper um programa?"
   ],
   "cell_type": "markdown",
   "metadata": {}
  },
  {
   "cell_type": "code",
   "execution_count": 1,
   "metadata": {},
   "outputs": [],
   "source": [
    "# mova o mouse para as coordenadas (0,0) que é o canto superior esquerdo da tela\n",
    "import pyautogui\n",
    "\n",
    "pyautogui.moveTo(0,0, duration=0.25)"
   ]
  },
  {
   "source": [
    "2. Qual função retorna a resolução atual da tela?"
   ],
   "cell_type": "markdown",
   "metadata": {}
  },
  {
   "cell_type": "code",
   "execution_count": 2,
   "metadata": {},
   "outputs": [
    {
     "output_type": "execute_result",
     "data": {
      "text/plain": [
       "Size(width=3286, height=1080)"
      ]
     },
     "metadata": {},
     "execution_count": 2
    }
   ],
   "source": [
    "# pyautogui.size() retorna uma tupla com dois inteiros que correspondem a largura e altura da tela\n",
    "import pyautogui\n",
    "\n",
    "pyautogui.size()"
   ]
  },
  {
   "source": [
    "3. Qual função retorna as coordenadas da posição atual do cursor do mouse?"
   ],
   "cell_type": "markdown",
   "metadata": {}
  },
  {
   "cell_type": "code",
   "execution_count": 3,
   "metadata": {},
   "outputs": [
    {
     "output_type": "execute_result",
     "data": {
      "text/plain": [
       "Point(x=276, y=879)"
      ]
     },
     "metadata": {},
     "execution_count": 3
    }
   ],
   "source": [
    "# pyautogui.position() retorna uma tupla com dois inteiros para as coordenadas X e Y do mouse\n",
    "\n",
    "import pyautogui\n",
    "\n",
    "pyautogui.position()"
   ]
  },
  {
   "source": [
    "4. Qual é a diferença entre pyautogui.moveTo() e pyautogui.moveRel()?"
   ],
   "cell_type": "markdown",
   "metadata": {}
  },
  {
   "cell_type": "code",
   "execution_count": null,
   "metadata": {},
   "outputs": [],
   "source": [
    "# pyautogui.moveTo() move o mouse para as coordenadas absolutas na tela; pyautogui.moveRel() move o mouse em relação a sua posição atual"
   ]
  },
  {
   "source": [
    "5. Quais funções podem ser usadas para arrastar o mouse?"
   ],
   "cell_type": "markdown",
   "metadata": {}
  },
  {
   "cell_type": "code",
   "execution_count": null,
   "metadata": {},
   "outputs": [],
   "source": [
    "# pyautogui.moveTo() e pyautogui.dragRel()"
   ]
  },
  {
   "source": [
    "6. Qual chamada de função digitará os caracteres de \"Hello World!\"?"
   ],
   "cell_type": "markdown",
   "metadata": {}
  },
  {
   "cell_type": "code",
   "execution_count": null,
   "metadata": {},
   "outputs": [],
   "source": [
    "# pyautogui.typewrite('Hello World!')"
   ]
  },
  {
   "source": [
    "7. Como podemos efetuar o pressionamento de teclas especiais, por exemplo, a seta para esquerda do teclado?"
   ],
   "cell_type": "markdown",
   "metadata": {}
  },
  {
   "cell_type": "code",
   "execution_count": null,
   "metadata": {},
   "outputs": [],
   "source": [
    "# conforme abaixo\n",
    "\n",
    "import pyautogui\n",
    "\n",
    "pyautogui.typewrite(['a','b','left','left','X','Y'], 0.25)\n",
    "\n",
    "pyautogui.KEYBOARD_KEYS # indices de teclas que podem ser utilizadas no pyautogui.typewrite(), conforme exemplo acima\n",
    "\n",
    "# exemplo com typewrite\n",
    "\n",
    "pyautogui.keyDown('shift') # preciona (segura) a tecla shift\n",
    "pyautogui.press('4') # aperta a tecla 4, o metodo typewrite também poderia ser utilizado\n",
    "pyautogui.keyUp('shift') # solta a tecla shift\n",
    "\n",
    "# CTRL + C\n",
    "pyautogui.keyDown('ctrl')\n",
    "pyautogui.keyDown('c')\n",
    "pyautogui.keyUp('c')\n",
    "pyautogui.keyUp('ctrl')\n",
    "\n",
    "# ou utilize o metodo hotkey\n",
    "pyautogui.hotkey('ctrl', 'c')"
   ]
  },
  {
   "source": [
    "8. Como podemos salvar o conteúdo atual da tela em uma arquivo de imagem chamado \"screenshot.png\"?"
   ],
   "cell_type": "markdown",
   "metadata": {}
  },
  {
   "cell_type": "code",
   "execution_count": null,
   "metadata": {},
   "outputs": [],
   "source": [
    "# utilizando o comando abaixo\n",
    "\n",
    "import pyautogui\n",
    "\n",
    "pyautogui.screenshot('screenshot.png')"
   ]
  },
  {
   "source": [
    "9. Que código define uma pausa de dous segundos após toda chamada de função de PyAutoGUI?"
   ],
   "cell_type": "markdown",
   "metadata": {}
  },
  {
   "cell_type": "code",
   "execution_count": null,
   "metadata": {},
   "outputs": [],
   "source": [
    "# utilize o comando abaixo\n",
    "import pyautogui\n",
    "\n",
    "pyautogui.PAUSE = 2"
   ]
  }
 ]
}