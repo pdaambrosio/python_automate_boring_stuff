{
 "metadata": {
  "language_info": {
   "codemirror_mode": {
    "name": "ipython",
    "version": 3
   },
   "file_extension": ".py",
   "mimetype": "text/x-python",
   "name": "python",
   "nbconvert_exporter": "python",
   "pygments_lexer": "ipython3",
   "version": "3.7.9-final"
  },
  "orig_nbformat": 2,
  "kernelspec": {
   "name": "python3",
   "display_name": "Python 3",
   "language": "python"
  }
 },
 "nbformat": 4,
 "nbformat_minor": 2,
 "cells": [
  {
   "cell_type": "code",
   "execution_count": 10,
   "metadata": {},
   "outputs": [
    {
     "output_type": "stream",
     "name": "stdout",
     "text": [
      "Done!\n"
     ]
    }
   ],
   "source": [
    "#!/home/pdajgs/python_labs/py3.7/bin/python3\n",
    "\n",
    "import pyautogui, time\n",
    "\n",
    "pyautogui.PAUSE = 1\n",
    "pyautogui.FAILSAFE = True\n",
    "\n",
    "time.sleep(5)\n",
    "pyautogui.click()\n",
    "distance = 200\n",
    "\n",
    "while distance > 0:\n",
    "    pyautogui.dragRel(distance, 0, duration=0.2) # move para direita\n",
    "    distance = distance - 5\n",
    "    pyautogui.dragRel(0, distance, duration=0.2) # move para baixo\n",
    "    pyautogui.dragRel(-distance, 0, duration=0.2) # move para esquerda\n",
    "    distance = distance - 5\n",
    "    pyautogui.dragRel(0, -distance, duration=0.2) # move para cima\n",
    "print('Done!')"
   ]
  },
  {
   "cell_type": "code",
   "execution_count": null,
   "metadata": {},
   "outputs": [],
   "source": []
  }
 ]
}