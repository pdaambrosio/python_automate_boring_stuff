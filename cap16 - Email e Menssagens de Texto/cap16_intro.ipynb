{
 "metadata": {
  "language_info": {
   "codemirror_mode": {
    "name": "ipython",
    "version": 3
   },
   "file_extension": ".py",
   "mimetype": "text/x-python",
   "name": "python",
   "nbconvert_exporter": "python",
   "pygments_lexer": "ipython3",
   "version": "3.7.9-final"
  },
  "orig_nbformat": 2,
  "kernelspec": {
   "name": "python3",
   "display_name": "Python 3"
  }
 },
 "nbformat": 4,
 "nbformat_minor": 2,
 "cells": [
  {
   "cell_type": "code",
   "execution_count": null,
   "metadata": {},
   "outputs": [],
   "source": [
    "# configurando o SMTP\n",
    "\n",
    "import smtplib\n",
    "\n",
    "smtpObj1 = smtplib.SMTP('smtp.gmail.com', 587) # TLS\n",
    "smtpObj2 = smtplib.SMTP_SSL('smtp.gmail.com', 465) # SSL\n",
    "\n",
    "type(smtpObj)"
   ]
  },
  {
   "cell_type": "code",
   "execution_count": 2,
   "metadata": {},
   "outputs": [
    {
     "output_type": "execute_result",
     "data": {
      "text/plain": [
       "(235, b'2.7.0 Accepted')"
      ]
     },
     "metadata": {},
     "execution_count": 2
    }
   ],
   "source": [
    "# enviando a menssagem de 'Hello' do SMTP\n",
    "\n",
    "import smtplib\n",
    "\n",
    "smtpObj = smtplib.SMTP('smtp.gmail.com', 587)\n",
    "smtpObj.ehlo() # o primeiro item da tupla deve ser o inteiro 250 (que é o codigo de sucesso do SMTP)\n",
    "\n",
    "# para porta 587 (TLS) é obrigatorio iniciar a criptografia com o metódo starttls(), conforme abaixo.:\n",
    "\n",
    "smtpObj.starttls() # 220 no retorno indica que o servidor está pronto\n",
    "\n",
    "# logar no e-mail\n",
    "\n",
    "smtpObj.login('pda.ambrosio@gmail.com', input()) # criar senha de APP, 235 indica que a conexão foi bem sucedida"
   ]
  },
  {
   "cell_type": "code",
   "execution_count": 3,
   "metadata": {},
   "outputs": [
    {
     "output_type": "execute_result",
     "data": {
      "text/plain": [
       "{}"
      ]
     },
     "metadata": {},
     "execution_count": 3
    }
   ],
   "source": [
    "# enviando um e-mail\n",
    "\n",
    "smtpObj.sendmail('pda.ambrosio@gmail.com', 'juliana.a.a.s2705@gmail.com', 'Subject: So long.\\nDear Juliana, so long and thanks for all the fish. Sincerely, Paul')  # o metodo sendmail possui três argumentos, o primeito é o e-mail do remetente 'from', o segundo é o destinatario 'to' e o terceiro uma string com o conteudo do e-mail que deve começar com 'Subject:' para o assunto e '\\n' para o conteudo do e-mail\n",
    "\n",
    "# este deve retornar um dicionario vazio, indicando que o e-mail foi enviado com sucesso\n",
    "\n"
   ]
  },
  {
   "cell_type": "code",
   "execution_count": 4,
   "metadata": {},
   "outputs": [
    {
     "output_type": "execute_result",
     "data": {
      "text/plain": [
       "(451, b'4.4.2 Timeout - closing connection. o125sm642559qke.56 - gsmtp')"
      ]
     },
     "metadata": {},
     "execution_count": 4
    }
   ],
   "source": [
    "# desconectando do servidor SMTP\n",
    "\n",
    "smtpObj.quit() # o valor 221 indica que a conexão foi encerrada"
   ]
  },
  {
   "cell_type": "code",
   "execution_count": 1,
   "metadata": {},
   "outputs": [
    {
     "output_type": "stream",
     "name": "stdout",
     "text": [
      "[((b'\\\\HasNoChildren',), b'/', 'Amigos-Júndiai'),\n ((b'\\\\HasNoChildren',), b'/', 'Amigos-SP'),\n ((b'\\\\HasNoChildren',), b'/', 'Arquivar'),\n ((b'\\\\HasNoChildren',), b'/', 'Assosiação'),\n ((b'\\\\HasChildren',), b'/', 'Banco Santander'),\n ((b'\\\\HasNoChildren',), b'/', 'Banco Santander/Pagamentos Santander'),\n ((b'\\\\HasNoChildren',), b'/', 'Cadastros Variados'),\n ((b'\\\\HasNoChildren',), b'/', 'Certificados'),\n ((b'\\\\HasNoChildren',), b'/', 'Clube do Hardware'),\n ((b'\\\\HasNoChildren',), b'/', 'Compras On-Line'),\n ((b'\\\\HasNoChildren',), b'/', 'Compras WAZ'),\n ((b'\\\\HasNoChildren',), b'/', 'Compras no Exterior'),\n ((b'\\\\HasNoChildren',), b'/', 'Contatos Profissionais'),\n ((b'\\\\HasNoChildren',), b'/', 'Cursos On-line'),\n ((b'\\\\HasNoChildren',), b'/', 'Deleted Items'),\n ((b'\\\\HasNoChildren',), b'/', 'Fundação Bradesco'),\n ((b'\\\\HasNoChildren',), b'/', 'Gmail - Drive'),\n ((b'\\\\HasNoChildren',), b'/', 'INBOX'),\n ((b'\\\\HasNoChildren',), b'/', 'IR'),\n ((b'\\\\HasNoChildren',), b'/', 'Ingressos.com'),\n ((b'\\\\HasNoChildren',), b'/', 'Junk'),\n ((b'\\\\HasNoChildren',), b'/', 'Microsoft'),\n ((b'\\\\HasNoChildren',), b'/', 'Nmap'),\n ((b'\\\\HasNoChildren',), b'/', 'Nota Fiscal Paulista'),\n ((b'\\\\HasNoChildren',), b'/', 'Notes'),\n ((b'\\\\HasNoChildren',), b'/', 'Outros'),\n ((b'\\\\HasNoChildren',), b'/', 'POP'),\n ((b'\\\\HasNoChildren',), b'/', 'Pag Seguro'),\n ((b'\\\\HasNoChildren',), b'/', 'Panamericano'),\n ((b'\\\\HasNoChildren',), b'/', 'Pessoais'),\n ((b'\\\\HasNoChildren',), b'/', 'Reclamações'),\n ((b'\\\\HasNoChildren',), b'/', 'Resposta de CV 2010'),\n ((b'\\\\HasNoChildren',), b'/', 'Resposta de Curriculos'),\n ((b'\\\\HasNoChildren',), b'/', 'SPTC - Policia Cientifica'),\n ((b'\\\\HasNoChildren',), b'/', 'Sent Items'),\n ((b'\\\\HasNoChildren',), b'/', 'Sent Mail'),\n ((b'\\\\HasNoChildren',), b'/', 'SonicWall'),\n ((b'\\\\HasNoChildren',), b'/', 'Trash'),\n ((b'\\\\HasNoChildren',), b'/', 'UCN e Cadastro de Curriculos'),\n ((b'\\\\HasNoChildren',), b'/', 'Usuários e Senhas'),\n ((b'\\\\HasNoChildren',), b'/', 'Vagas .com'),\n ((b'\\\\HasNoChildren',), b'/', 'WAZ'),\n ((b'\\\\HasNoChildren',), b'/', 'Xbox 360'),\n ((b'\\\\HasChildren', b'\\\\Noselect'), b'/', '[Gmail]'),\n ((b'\\\\All', b'\\\\HasNoChildren'), b'/', '[Gmail]/All Mail'),\n ((b'\\\\Drafts', b'\\\\HasNoChildren'), b'/', '[Gmail]/Drafts'),\n ((b'\\\\HasNoChildren', b'\\\\Important'), b'/', '[Gmail]/Important'),\n ((b'\\\\HasNoChildren', b'\\\\Sent'), b'/', '[Gmail]/Sent Mail'),\n ((b'\\\\HasNoChildren', b'\\\\Junk'), b'/', '[Gmail]/Spam'),\n ((b'\\\\Flagged', b'\\\\HasNoChildren'), b'/', '[Gmail]/Starred'),\n ((b'\\\\HasNoChildren', b'\\\\Trash'), b'/', '[Gmail]/Trash')]\n"
     ]
    }
   ],
   "source": [
    "# IMAP - Internet Message Access Protocol\n",
    "\n",
    "import imapclient\n",
    "\n",
    "# conectando ao servidor\n",
    "imapConnect = imapclient.IMAPClient('imap.gmail.com', ssl=True)\n",
    "\n",
    "# fazendo login\n",
    "imapConnect.login('pda.ambrosio@gmail.com', input())\n",
    "\n",
    "# procurando e-mails\n",
    "import pprint\n",
    "\n",
    "pprint.pprint(imapConnect.list_folders()) # lista os diretorios no seu INBOX\n",
    "imapConnect.select_folder('INBOX', readonly=True) # selecionar uma pasta\n",
    "\n",
    "# realizando pesquisa\n",
    "imapConnect.search(['ALL']) # retorna todas as menssagens da pasta\n",
    "imapConnect.search(['ON 05-Jul-2020']) # retorna todas as mensagens enviadas em 05 de Julho de 2020\n",
    "imapConnect.search(['SINCE 01-Jan-2020', 'BEFORE 01-Feb-2020', 'UNSEEN']) # retorna todas as menssagens enviadas em 01 de Janeiro de 2020 que não tenham sido lidas (seria de 01 Janeiro de 2020 até 01 de Fevereiro de 2020, sem incluir o 01 de Fereiro)\n",
    "imapConnect.search(['SINCE 01-Jan-2020', 'FROM exemple@example.com']) # retorna todas as mensagens de \"exemple@example.com\" enviadas desde o inicio de Janeiro de 2020\n",
    "imapConnect.search(['SINCE 01-Jan-2020', 'NOT FROM exemple@example.com']) # retorna todas as mensagens enviadas por todos, exceto por \"exemple@example.com\", desde Janeiro de 2020\n",
    "imapConnect.search(['OR FROM exemple@example.com FROM juliana@example.com']) # retorna todas as mensagens enviadas por \"exemple@example.com\" ou por \"juliana@example.com\"\n",
    "imapConnect.search(['FROM exemple@example.com', 'FROM juliana@example.com']) # jamais irá retornar as mensagens vistos que só pode haver um endereço from\n",
    "\n",
    "# o metodo search irá retornar UIDs\n",
    "\n",
    "# limites de tamanho (limite padrão 10.000 bytes)\n",
    "import imaplib\n",
    "\n",
    "imaplib._MAXLINE = 10000000\n",
    "\n",
    "# para gmail existe um metodo search mais sofisticado\n",
    "imapConnect.gmail_search('meaning of life')\n",
    "\n",
    "# buscando e-mails e marcando como não lidos\n",
    "\n",
    "# e-mails de juliana.a.a.s@gmail.com que irá gerar uma lista de UIDs\n",
    "UIDs = imapConnect.search(['FROM juliana.a.a.s@gmail.com'])\n",
    "# lendo mensagens\n",
    "rawMessages = imapConnect.fetch(UIDs, ['BODY[]'])\n",
    "import pprint\n",
    "pprint.pprint(rawMessages)\n",
    "\n",
    "# para que os e-mail acessados sejam marcados como lidos\n",
    "imapConnect.select_folder('INBOX',readonly=False)"
   ]
  },
  {
   "cell_type": "code",
   "execution_count": 2,
   "metadata": {},
   "outputs": [
    {
     "output_type": "error",
     "ename": "ModuleNotFoundError",
     "evalue": "No module named 'pyzmail'",
     "traceback": [
      "\u001b[0;31m---------------------------------------------------------------------------\u001b[0m",
      "\u001b[0;31mModuleNotFoundError\u001b[0m                       Traceback (most recent call last)",
      "\u001b[0;32m<ipython-input-2-f5a784fc0b49>\u001b[0m in \u001b[0;36m<module>\u001b[0;34m\u001b[0m\n\u001b[0;32m----> 1\u001b[0;31m \u001b[0;32mimport\u001b[0m \u001b[0mpyzmail\u001b[0m\u001b[0;34m\u001b[0m\u001b[0;34m\u001b[0m\u001b[0m\n\u001b[0m",
      "\u001b[0;31mModuleNotFoundError\u001b[0m: No module named 'pyzmail'"
     ]
    }
   ],
   "source": [
    "# obtendo mensagens puras\n",
    "import pyzmail # faz o parse do e-mail, erro ao instalar via PIP\n",
    "\n",
    "message = pyzmail.PyzMessage.factory(rawMessages[UID]['BODY[]'])\n",
    "message.get_subject()\n",
    "message.get_addresses('from')\n",
    "message.get_addresses('to')\n",
    "message.get_addresses('cc')\n",
    "message.get_addresses('bcc')\n",
    "\n",
    "message.text_part != None\n",
    "message.text_part.get_payload().decode(message.text_part.charset) # caso a linha de cima seja True\n",
    "\n",
    "message.html_part != None\n",
    "message.get_payload().decode(message.html_part.charset)"
   ]
  },
  {
   "cell_type": "code",
   "execution_count": null,
   "metadata": {},
   "outputs": [],
   "source": [
    "# apagando e-mails\n",
    "imapConnect.select_folder('INBOX', readonly=False)\n",
    "UIDs = imapConnect.search(['ON 01-Jan-2020'])\n",
    "\n",
    "imapConnect.delete_messages(UIDs)\n",
    "imapConnect.expunge() # se for gmail, não será necessário"
   ]
  },
  {
   "cell_type": "code",
   "execution_count": null,
   "metadata": {},
   "outputs": [],
   "source": [
    "# desconectando do servidor IMAP\n",
    "\n",
    "imapConnect.logout()"
   ]
  },
  {
   "cell_type": "code",
   "execution_count": 17,
   "metadata": {},
   "outputs": [],
   "source": [
    "# enviando SMS com Twilio\n",
    "# após ter criado sua conta e instalado o modulo...\n",
    "\n",
    "from twilio.rest import Client\n",
    "\n",
    "accountSID = 'ACd38918e78df8f80dac0ef3cfe303ba93'\n",
    "authToken = '479f3ae04476660358cc5c1b6f720626'\n",
    "\n",
    "twilioCli = Client(accountSID, authToken)\n",
    "myTwilioNumber = \"+12056977443\"\n",
    "myCellPhone = \"+5511972424687\"\n",
    "\n",
    "message = twilioCli.messages.create(body='Mr. Watson - Como here - I want to see you.', from_=myTwilioNumber, to=myCellPhone)"
   ]
  },
  {
   "cell_type": "code",
   "execution_count": 22,
   "metadata": {},
   "outputs": [
    {
     "output_type": "stream",
     "name": "stdout",
     "text": [
      "queued\n2020-12-01 01:32:12+00:00\nTrue\nSM3a02bbdd27ba48be99d40ceb677305d6\n"
     ]
    }
   ],
   "source": [
    "print(message.status)\n",
    "print(message.date_created)\n",
    "print(message.date_sent == None)\n",
    "print(message.sid)"
   ]
  },
  {
   "cell_type": "code",
   "execution_count": 29,
   "metadata": {},
   "outputs": [
    {
     "output_type": "stream",
     "name": "stdout",
     "text": [
      "<Twilio.Api.V2010.MessageContext account_sid=ACd38918e78df8f80dac0ef3cfe303ba93 sid=SM3a02bbdd27ba48be99d40ceb677305d6>\n"
     ]
    }
   ],
   "source": [
    "updatedMessage = twilioCli.messages.get(message.sid)\n",
    "print(updatedMessage)"
   ]
  },
  {
   "cell_type": "code",
   "execution_count": 3,
   "metadata": {},
   "outputs": [],
   "source": [
    "# utilizando o textMyself.py\n",
    "\n",
    "import cap16_textMyself\n",
    "\n"
   ]
  },
  {
   "cell_type": "code",
   "execution_count": null,
   "metadata": {},
   "outputs": [],
   "source": []
  }
 ]
}