{
 "metadata": {
  "language_info": {
   "codemirror_mode": {
    "name": "ipython",
    "version": 3
   },
   "file_extension": ".py",
   "mimetype": "text/x-python",
   "name": "python",
   "nbconvert_exporter": "python",
   "pygments_lexer": "ipython3",
   "version": "3.7.9-final"
  },
  "orig_nbformat": 2,
  "kernelspec": {
   "name": "python3",
   "display_name": "Python 3"
  }
 },
 "nbformat": 4,
 "nbformat_minor": 2,
 "cells": [
  {
   "cell_type": "code",
   "execution_count": 7,
   "metadata": {},
   "outputs": [
    {
     "output_type": "stream",
     "name": "stdout",
     "text": [
      "Sending email to alice@example.com\n",
      "Sending email to bob@example.com\n",
      "Sending email to eve@example.com\n"
     ]
    },
    {
     "output_type": "execute_result",
     "data": {
      "text/plain": [
       "(221, b'2.0.0 closing connection j202sm109766qke.108 - gsmtp')"
      ]
     },
     "metadata": {},
     "execution_count": 7
    }
   ],
   "source": [
    "#!/home/pdajgs/python_labs/py3.7/bin/python3\n",
    "\n",
    "import openpyxl, smtplib, sys\n",
    "\n",
    "# abrir a planilha e obter o status do ultimo pagamento\n",
    "planilha = openpyxl.load_workbook('./duesRecords.xlsx')\n",
    "pastaTr = planilha.get_sheet_by_name('Sheet1')\n",
    "\n",
    "colunaFinal = pastaTr.max_column\n",
    "ultimoMes = pastaTr.cell(row=1, column=colunaFinal).value\n",
    "\n",
    "devedores = {}\n",
    "\n",
    "for i in range(2, pastaTr.max_row+1):\n",
    "    pagamento = pastaTr.cell(row=i,column=colunaFinal).value\n",
    "    if pagamento != 'paid':\n",
    "        nome = pastaTr.cell(row=i, column=1).value\n",
    "        email = pastaTr.cell(row=i, column=2).value\n",
    "        devedores[nome] = email\n",
    "\n",
    "# fazendo login no e-mail\n",
    "smtpLogin = smtplib.SMTP('smtp.gmail.com', '587')\n",
    "smtpLogin.ehlo()\n",
    "smtpLogin.starttls()\n",
    "\n",
    "#smtpLogin.login('pda.ambrosio@gmail.com', sys.argv[1])\n",
    "smtpLogin.login('pda.ambrosio@gmail.com', input())\n",
    "\n",
    "for nome, email in devedores.items():\n",
    "    body = \"Subject: %s dues unpaid.\\nDear %s,\\nRecords show that you have not paid dues for %s. Please make this as soon as possible. Thank you!\" %(ultimoMes,nome,email)\n",
    "    print('Sending email to %s' %email)\n",
    "    sendmailStatus = smtpLogin.sendmail('pda.ambrosio@gmail.com',email,body)\n",
    "    if sendmailStatus != {}:\n",
    "        print('There was a problem sending email to %s: %s' %(email,sendmailStatus))\n",
    "smtpLogin.quit()\n"
   ]
  },
  {
   "cell_type": "code",
   "execution_count": null,
   "metadata": {},
   "outputs": [],
   "source": []
  }
 ]
}