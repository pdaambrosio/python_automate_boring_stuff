{
 "cells": [
  {
   "cell_type": "code",
   "execution_count": null,
   "metadata": {},
   "outputs": [],
   "source": [
    "#!/home/pdajgs/python_labs/py3.7/bin/python3\n",
    "\n",
    "# configurações pré-definidas\n",
    "accountSID = 'my_account_sid'\n",
    "authToken = 'my_auth_token'\n",
    "myNumber = 'my_number'\n",
    "twilioNumber = 'my_twilio_number'\n",
    "\n",
    "# função de envio\n",
    "from twilio.rest import Client\n",
    "\n",
    "def textMyself(message):\n",
    "    twilioCli = Client(accountSID, authToken)\n",
    "    twilioCli.messages.create(body=message, from_=twilioNumber, to=myNumber)"
   ]
  }
 ],
 "metadata": {
  "language_info": {
   "codemirror_mode": {
    "name": "ipython",
    "version": 3
   },
   "file_extension": ".py",
   "mimetype": "text/x-python",
   "name": "python",
   "nbconvert_exporter": "python",
   "pygments_lexer": "ipython3",
   "version": 3
  },
  "orig_nbformat": 2
 },
 "nbformat": 4,
 "nbformat_minor": 2
}
