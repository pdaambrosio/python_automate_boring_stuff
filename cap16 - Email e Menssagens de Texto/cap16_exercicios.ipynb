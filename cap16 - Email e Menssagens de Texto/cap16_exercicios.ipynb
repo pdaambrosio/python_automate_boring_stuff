{
 "cells": [
  {
   "cell_type": "markdown",
   "metadata": {},
   "source": [
    "1. Qual é o protocolo para enviar e-mails? E para verificar e receber e-mails?"
   ]
  },
  {
   "cell_type": "code",
   "execution_count": null,
   "metadata": {},
   "outputs": [],
   "source": [
    "# SMTP para enviar e IMAP para verificar e receber\n",
    "\n",
    "# SMTP\n",
    "import smtplib\n",
    "smtpObj = smtplib.SMTP('smtp.gmail.com', 587)\n",
    "smtpObj.ehlo() # o primeiro item da tupla deve ser o inteiro 250 (que é o codigo de sucesso do SMTP)\n",
    "# para porta 587 (TLS) é obrigatorio iniciar a criptografia com o metódo starttls(), conforme abaixo.:\n",
    "smtpObj.starttls() # 220 no retorno indica que o servidor está pronto\n",
    "# logar no e-mail\n",
    "smtpObj.login('pda.ambrosio@gmail.com', input()) # criar senha de APP, 235 indica que a conexão foi bem sucedida\n",
    "\n",
    "# IMAP\n",
    "import imapclient\n",
    "# conectando ao servidor\n",
    "imapConnect = imapclient.IMAPClient('imap.gmail.com', ssl=True)\n",
    "# fazendo login\n",
    "imapConnect.login('pda.ambrosio@gmail.com', input())\n",
    "# procurando e-mails\n",
    "import pprint\n",
    "pprint.pprint(imapConnect.list_folders()) # lista os diretorios no seu INBOX\n",
    "imapConnect.select_folder('INBOX', readonly=True) # selecionar uma pasta"
   ]
  },
  {
   "cell_type": "markdown",
   "metadata": {},
   "source": [
    "2. Quais são as quatro funções/metodos de smtplib que devem ser chamados para fazer login em um servidor SMTP?"
   ]
  },
  {
   "cell_type": "code",
   "execution_count": null,
   "metadata": {},
   "outputs": [],
   "source": [
    "import smtplib\n",
    "smtpObj = smtplib.SMTP('smtp.gmail.com', 587) # conectar via SMTP em seu provedor de e-mails\n",
    "smtpObj.ehlo() # o primeiro item da tupla deve ser o inteiro 250 (que é o codigo de sucesso do SMTP)\n",
    "# para porta 587 (TLS) é obrigatorio iniciar a criptografia com o metódo starttls(), conforme abaixo.:\n",
    "smtpObj.starttls() # 220 no retorno indica que o servidor está pronto\n",
    "# logar no e-mail\n",
    "smtpObj.login('pda.ambrosio@gmail.com', input()) # criar senha de APP, 235 indica que a conexão foi bem sucedida"
   ]
  },
  {
   "cell_type": "markdown",
   "metadata": {},
   "source": [
    "3. Quas são as duas funções/métodos de imapclient que devem ser chamados para fazer login em um servidor IMAP?"
   ]
  },
  {
   "cell_type": "code",
   "execution_count": null,
   "metadata": {},
   "outputs": [],
   "source": [
    "import imapclient\n",
    "# conectando ao servidor com o endereço IMAP do seu provedor\n",
    "imapConnect = imapclient.IMAPClient('imap.gmail.com', ssl=True)\n",
    "# fazendo login\n",
    "imapConnect.login('pda.ambrosio@gmail.com', input())"
   ]
  },
  {
   "cell_type": "markdown",
   "metadata": {},
   "source": [
    "4. Que tipo de argumento deve ser passado para imapObj.search()?"
   ]
  },
  {
   "cell_type": "code",
   "execution_count": null,
   "metadata": {},
   "outputs": [],
   "source": [
    "# Uma lista de strings de palavras-chaves IMAP, por exemplo, 'BEFORE <date>', 'FROM <string"
   ]
  },
  {
   "cell_type": "markdown",
   "metadata": {},
   "source": [
    "5. O que deverá ser feito se o seu codigo obtiver uma mensagem de erro contendo \"got more than 10000 bytes\"?"
   ]
  },
  {
   "cell_type": "code",
   "execution_count": null,
   "metadata": {},
   "outputs": [],
   "source": [
    "# O limite padrão do imaplib deverá ser alterado conforme abaixo...:\n",
    "\n",
    "# alterando o limite de tamanho (limite padrão 10.000 bytes)\n",
    "import imaplib\n",
    "\n",
    "imaplib._MAXLINE = 10000000"
   ]
  },
  {
   "cell_type": "markdown",
   "metadata": {},
   "source": [
    "6. O módulo imapclient cuida da conexão com um servidor IMAP e permite encontrar e-mails. Qual é o modulo que cuida da leitura dos e-mails obtidos por imapclient?"
   ]
  },
  {
   "cell_type": "code",
   "execution_count": null,
   "metadata": {},
   "outputs": [],
   "source": [
    "# podemos usar o modulo pyzmail para ler os e-mails baixados\n",
    "\n",
    "import pyzmail # faz o parse do e-mail, erro ao instalar via PIP\n",
    "\n",
    "message = pyzmail.PyzMessage.factory(rawMessages[UID]['BODY[]'])\n",
    "message.get_subject()\n",
    "message.get_addresses('from')\n",
    "message.get_addresses('to')\n",
    "message.get_addresses('cc')\n",
    "message.get_addresses('bcc')\n",
    "\n",
    "message.text_part != None\n",
    "message.text_part.get_payload().decode(message.text_part.charset) # caso a linha de cima seja True\n",
    "\n",
    "message.html_part != None\n",
    "message.get_payload().decode(message.html_part.charset)\n"
   ]
  },
  {
   "cell_type": "markdown",
   "metadata": {},
   "source": [
    "7. Quais são as três informações do Twilio necessárias antes de podermos enviar mensagens de texto?"
   ]
  },
  {
   "cell_type": "code",
   "execution_count": null,
   "metadata": {},
   "outputs": [],
   "source": [
    "# o SID da conta, o token de autenticação e o numero de telefone fornecido pelo Twilio. Conforme o exemplo abaixo.:\n",
    "\n",
    "# enviando SMS com Twilio\n",
    "# após ter criado sua conta e instalado o modulo...\n",
    "\n",
    "from twilio.rest import Client\n",
    "\n",
    "accountSID = 'my_account_sid'\n",
    "authToken = 'my_auth_token'\n",
    "\n",
    "twilioCli = Client(accountSID, authToken)\n",
    "myTwilioNumber = \"my_twilio_number\"\n",
    "myCellPhone = \"my_cell_phone_number\"\n",
    "\n",
    "message = twilioCli.messages.create(body='Mr. Watson - Como here - I want to see you.', from_=myTwilioNumber, to=myCellPhone)\n",
    "\n"
   ]
  }
 ],
 "metadata": {
  "language_info": {
   "codemirror_mode": {
    "name": "ipython",
    "version": 3
   },
   "file_extension": ".py",
   "mimetype": "text/x-python",
   "name": "python",
   "nbconvert_exporter": "python",
   "pygments_lexer": "ipython3",
   "version": 3
  },
  "orig_nbformat": 2
 },
 "nbformat": 4,
 "nbformat_minor": 2
}
