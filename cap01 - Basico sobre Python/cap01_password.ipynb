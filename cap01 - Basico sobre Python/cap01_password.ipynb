{
 "cells": [
  {
   "cell_type": "code",
   "execution_count": null,
   "metadata": {},
   "outputs": [],
   "source": [
    "password_file = open('SecretPasswordFile.txt')\n",
    "secret_password = password_file.read()\n",
    "print('Enter your password:')\n",
    "type_password = input()\n",
    "\n",
    "if type_password == secret_password:\n",
    "    print('Access  Granted')\n",
    "if type_password == '12345':\n",
    "    print('That password is one that an idiot puts on their luggage.')\n",
    "else:\n",
    "    print('Access Denied')"
   ]
  },
  {
   "cell_type": "code",
   "execution_count": null,
   "metadata": {},
   "outputs": [],
   "source": []
  }
 ],
 "metadata": {
  "kernelspec": {
   "display_name": "Python 3",
   "language": "python",
   "name": "python3"
  },
  "language_info": {
   "codemirror_mode": {
    "name": "ipython",
    "version": 3
   },
   "file_extension": ".py",
   "mimetype": "text/x-python",
   "name": "python",
   "nbconvert_exporter": "python",
   "pygments_lexer": "ipython3",
   "version": "3.7.7"
  }
 },
 "nbformat": 4,
 "nbformat_minor": 4
}