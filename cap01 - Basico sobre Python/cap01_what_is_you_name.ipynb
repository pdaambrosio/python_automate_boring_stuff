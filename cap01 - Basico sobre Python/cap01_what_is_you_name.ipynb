{
 "cells": [
  {
   "cell_type": "code",
   "execution_count": null,
   "metadata": {},
   "outputs": [],
   "source": [
    "print('Hello World')\n",
    "\n",
    "print('What is your name?')\n",
    "myname = input()\n",
    "print('Its goot ro meet you, '+myname)\n",
    "print('The length of your name is:')\n",
    "print(len(myname))\n",
    "print('What is your age?')\n",
    "age=int(input())\n",
    "print('You will be ' + str((age + 1)) + ' in a year')"
   ]
  },
  {
   "cell_type": "code",
   "execution_count": null,
   "metadata": {},
   "outputs": [],
   "source": []
  }
 ],
 "metadata": {
  "kernelspec": {
   "display_name": "Python 3",
   "language": "python",
   "name": "python3"
  },
  "language_info": {
   "codemirror_mode": {
    "name": "ipython",
    "version": 3
   },
   "file_extension": ".py",
   "mimetype": "text/x-python",
   "name": "python",
   "nbconvert_exporter": "python",
   "pygments_lexer": "ipython3",
   "version": "3.7.7"
  }
 },
 "nbformat": 4,
 "nbformat_minor": 4
}