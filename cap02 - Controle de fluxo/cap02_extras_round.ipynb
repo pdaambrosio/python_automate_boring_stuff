{
 "cells": [
  {
   "cell_type": "markdown",
   "metadata": {},
   "source": [
    "#### A função round() tem uma característica especial: se o número flutuante estiver igual distância entre o inteiro de cima e o inteiro de baixo, ela arredonda pro número par mais próximo!"
   ]
  },
  {
   "cell_type": "code",
   "execution_count": null,
   "metadata": {
    "tags": []
   },
   "outputs": [],
   "source": [
    "numero = 1.23456789\n",
    "\n",
    "print(round(numero, 1))\n",
    "print(round(numero, 2))\n",
    "print(round(numero, 3))\n",
    "print(round(numero, 4))\n",
    "print(round(numero, 5))\n",
    "print(round(numero, 6))\n",
    "print(round(numero, 7))\n",
    "print(round(numero, 8))"
   ]
  },
  {
   "cell_type": "markdown",
   "metadata": {},
   "source": [
    "Pra arredondar pra baixo um número num basta fazer:\n",
    "round(num - 0.5)\n",
    "\n",
    "Para arredondar pra cima:\n",
    "round(num + 0.5)\n",
    "\n",
    "Mas só funciona se for para números decimais, ok ?"
   ]
  },
  {
   "cell_type": "markdown",
   "metadata": {},
   "source": [
    "Escreva um script que peça um número ao usuário.\n",
    "Em seguida, ele deve descobrir se o número é inteiro ou decimal.\n",
    "\n",
    "Se for decimal, deve dizer o número arredondado pra cima e arredondado pra baixo.\n",
    "\n",
    "\n",
    "Primeiro, vamos descobrir se é inteiro ou decimal.\n",
    "Um número num vai ser inteiro quando ele for igual ao seu número arredondado: num == round(num) retorna True para um inteiro e False para um decimal.\n",
    "\n",
    "Caso seja decimal, usamos round(num-0.5) pra arredondar pra baixo e round(num+0.5) pra arredondar pra cima.\n",
    "\n",
    "Nosso código Python fica:"
   ]
  },
  {
   "cell_type": "code",
   "execution_count": 17,
   "metadata": {
    "tags": []
   },
   "outputs": [
    {
     "output_type": "stream",
     "name": "stdout",
     "text": "Decimal\nArredondado pra baixo:  100\nArredondado pra cima :  101\n"
    }
   ],
   "source": [
    "num = float(input('Numero original: '))\n",
    "\n",
    "if num == round(num):\n",
    "   print(\"Inteiro: \", int(num))\n",
    "else:\n",
    "   print(\"Decimal\")\n",
    "   print(\"Arredondado pra baixo: \", round(num-0.5) )\n",
    "   print(\"Arredondado pra cima : \", round(num+0.5) )"
   ]
  },
  {
   "cell_type": "code",
   "execution_count": null,
   "metadata": {
    "tags": []
   },
   "outputs": [],
   "source": []
  },
  {
   "cell_type": "code",
   "execution_count": null,
   "metadata": {},
   "outputs": [],
   "source": []
  }
 ],
 "metadata": {
  "language_info": {
   "codemirror_mode": {
    "name": "ipython",
    "version": 3
   },
   "file_extension": ".py",
   "mimetype": "text/x-python",
   "name": "python",
   "nbconvert_exporter": "python",
   "pygments_lexer": "ipython3",
   "version": "3.7.7-final"
  },
  "orig_nbformat": 2,
  "kernelspec": {
   "name": "python37764bitpy37virtualenv724f8c74c5c7478bad670819f0cdf1e2",
   "display_name": "Python 3.7.7 64-bit ('py3.7': virtualenv)"
  }
 },
 "nbformat": 4,
 "nbformat_minor": 2
}