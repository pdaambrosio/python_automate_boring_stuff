{
 "cells": [
  {
   "cell_type": "markdown",
   "metadata": {},
   "source": [
    "#### 1. Quais são os dois tipos de dados booleanos? Como eles são escritos?"
   ]
  },
  {
   "cell_type": "markdown",
   "metadata": {},
   "source": [
    "Verdadeiro ou falso e no codigo são escritos 'True' ou 'False'."
   ]
  },
  {
   "cell_type": "markdown",
   "metadata": {},
   "source": [
    "#### 2. Quais são os três operadores booleanos?"
   ]
  },
  {
   "cell_type": "markdown",
   "metadata": {},
   "source": [
    "'False', 'True' e 'None'"
   ]
  },
  {
   "cell_type": "markdown",
   "metadata": {},
   "source": [
    "#### 3. Escreva a tabela de operadores booleanos e como elas são avaliadas"
   ]
  },
  {
   "cell_type": "markdown",
   "metadata": {},
   "source": [
    "##### Expressão:           Avaliada como:\n",
    "\n",
    "True and True        True\n",
    "True and False       False\n",
    "False and True       False\n",
    "False and False      False\n",
    "\n",
    "True or True         True\n",
    "True or False        True\n",
    "False or True        True\n",
    "False or False       False\n",
    "\n",
    "not True             False\n",
    "not False            True"
   ]
  },
  {
   "cell_type": "markdown",
   "metadata": {},
   "source": [
    "#### 4. Para que valores as expressões abaixo são avaliadas?"
   ]
  },
  {
   "cell_type": "code",
   "execution_count": null,
   "metadata": {},
   "outputs": [],
   "source": [
    "(5 > 4) and (3 == 5)                    # False\n",
    "not(5 > 4)                              # False\n",
    "(5 > 4) or (3 == 5)                     # True\n",
    "not((5 > 4) or (3 == 5))                # False\n",
    "(True and True) and (True == False)     # False\n",
    "(not False) or (not True)               # True"
   ]
  },
  {
   "cell_type": "markdown",
   "metadata": {},
   "source": [
    "#### 5. Quais os sei operadores de comparação?"
   ]
  },
  {
   "cell_type": "markdown",
   "metadata": {},
   "source": [
    "==      igual a\n",
    "!=      diferente de\n",
    "<       menor que\n",
    ">       maior que\n",
    "<=      menor ou igual a\n",
    ">=      maior ou igual a"
   ]
  },
  {
   "cell_type": "markdown",
   "metadata": {},
   "source": [
    "#### Qual a diferença entre o operador 'igual a' e o operador de atribuição?"
   ]
  },
  {
   "cell_type": "markdown",
   "metadata": {},
   "source": [
    "Operadores de atribuição realizam uma operação e em seguida, atribuem o resultado da operação para a variável que está a esquerda do operador de atribuição. O 'igual a' só compara os valores."
   ]
  },
  {
   "cell_type": "markdown",
   "metadata": {},
   "source": [
    "#### 7. Explique uma condição e como você usaria uma?"
   ]
  },
  {
   "cell_type": "markdown",
   "metadata": {},
   "source": [
    "Condições são utilizadas para avaliar valores ou strings se são verdadeiros ou falsos. Por exemplo:\n",
    "\n",
    "num = 5\n",
    "if num <= 5:\n",
    "    num = num + 5\n",
    "else:\n",
    "    num = 10"
   ]
  },
  {
   "cell_type": "markdown",
   "metadata": {},
   "source": [
    "#### 8. Identifique os três blocos de código a seguir:"
   ]
  },
  {
   "cell_type": "code",
   "execution_count": null,
   "metadata": {
    "tags": []
   },
   "outputs": [],
   "source": [
    "spam = 0\n",
    "if spam == 10:\n",
    "    print('eggs')\n",
    "    if spam > 5:\n",
    "        print('bacon')\n",
    "    else:\n",
    "        print('ham')\n",
    "    print(spam)\n",
    "print(spam)"
   ]
  },
  {
   "cell_type": "markdown",
   "metadata": {},
   "source": [
    "#### 9. Escreva um codigo que exiba 'Hello' se 1 estiver armazenado em spam, 'Howdy' se 2 estiver armazenado em spam e 'Greetings' se outro valo estiver armazenado."
   ]
  },
  {
   "cell_type": "code",
   "execution_count": null,
   "metadata": {
    "tags": []
   },
   "outputs": [],
   "source": [
    "spam = 0\n",
    "if spam == 1:\n",
    "    print('Hello')\n",
    "elif spam == 2:\n",
    "    print ('Howdy')\n",
    "else:\n",
    "    print('Greetings!')"
   ]
  },
  {
   "cell_type": "markdown",
   "metadata": {},
   "source": [
    "#### 10. Que tecla você deve pressionar se o seu programa estiver preso em um loop infinito?"
   ]
  },
  {
   "cell_type": "markdown",
   "metadata": {},
   "source": [
    "ctrl + c"
   ]
  },
  {
   "cell_type": "markdown",
   "metadata": {},
   "source": [
    "#### 11. Qual a diferença entre 'Break' e 'Continue'?"
   ]
  },
  {
   "cell_type": "markdown",
   "metadata": {},
   "source": [
    "'Break' para a execução do loop e 'Continue' retoma o loop do inicio."
   ]
  },
  {
   "cell_type": "markdown",
   "metadata": {},
   "source": [
    "#### 12. Qual a diferença entre range(10), range(0, 10) e range(0, 10, 1) em um loop for?"
   ]
  },
  {
   "cell_type": "code",
   "execution_count": null,
   "metadata": {
    "tags": []
   },
   "outputs": [],
   "source": [
    "for i in range(0, 10): # numeros de 0 á 9 começando pelo 0\n",
    "    print(i)\n",
    "\n",
    "print('') # Pular linha\n",
    "\n",
    "for i in range(10): # numeros de 0 á 9\n",
    "    print(i)\n",
    "\n",
    "print('') # Pular linha\n",
    "\n",
    "for i in range(0, 10, 1): # numeros de 0 á 9 de um em um, pode ser 'range(0, 10, 2)' de 2 em 2\n",
    "    print(i)"
   ]
  },
  {
   "cell_type": "markdown",
   "metadata": {},
   "source": [
    "#### 13. Crie um programa que mostre os números de 1 a 10 com loop 'for' e depois outro programa seguindo a mesma logica do o loop 'while'."
   ]
  },
  {
   "cell_type": "code",
   "execution_count": null,
   "metadata": {
    "tags": []
   },
   "outputs": [],
   "source": [
    "for i in range (1, 11):\n",
    "    print(i)\n",
    "\n",
    "print('')\n",
    "\n",
    "cont = 0\n",
    "while cont < 10:\n",
    "    cont = cont + 1\n",
    "    print(cont)"
   ]
  },
  {
   "cell_type": "markdown",
   "metadata": {},
   "source": [
    "#### 14. Se você tivesse uma função chamada 'bacon()' em um modulo chamado 'spam', como você chamaria após ter importado 'spam'?"
   ]
  },
  {
   "cell_type": "markdown",
   "metadata": {},
   "source": [
    "spam.bacon()"
   ]
  },
  {
   "cell_type": "code",
   "execution_count": null,
   "metadata": {},
   "outputs": [],
   "source": []
  }
 ],
 "metadata": {
  "language_info": {
   "codemirror_mode": {
    "name": "ipython",
    "version": 3
   },
   "file_extension": ".py",
   "mimetype": "text/x-python",
   "name": "python",
   "nbconvert_exporter": "python",
   "pygments_lexer": "ipython3",
   "version": "3.7.7-final"
  },
  "orig_nbformat": 2,
  "kernelspec": {
   "name": "python37764bitpy37virtualenv724f8c74c5c7478bad670819f0cdf1e2",
   "display_name": "Python 3.7.7 64-bit ('py3.7': virtualenv)"
  }
 },
 "nbformat": 4,
 "nbformat_minor": 2
}