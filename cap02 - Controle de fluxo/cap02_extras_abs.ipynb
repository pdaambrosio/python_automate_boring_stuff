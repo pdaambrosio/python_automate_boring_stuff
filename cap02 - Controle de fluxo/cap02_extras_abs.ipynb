{
 "cells": [
  {
   "cell_type": "markdown",
   "metadata": {},
   "source": [
    "#### O valor absoluto de qualquer número se refere a sua magnitude e não ao sinal que pode ter, seja ele positivo ou negativo ... Em termos matemáticos, o valor absoluto é uma operação que permite qualquer número tornar-se positivo."
   ]
  },
  {
   "cell_type": "code",
   "execution_count": 2,
   "metadata": {
    "tags": []
   },
   "outputs": [
    {
     "output_type": "stream",
     "name": "stdout",
     "text": "2\n3\n10\n20\n"
    }
   ],
   "source": [
    "print(abs(-2))\n",
    "print(abs(3))\n",
    "print(abs(+10))\n",
    "print(abs(-20))"
   ]
  },
  {
   "cell_type": "code",
   "execution_count": null,
   "metadata": {},
   "outputs": [],
   "source": []
  }
 ],
 "metadata": {
  "language_info": {
   "codemirror_mode": {
    "name": "ipython",
    "version": 3
   },
   "file_extension": ".py",
   "mimetype": "text/x-python",
   "name": "python",
   "nbconvert_exporter": "python",
   "pygments_lexer": "ipython3",
   "version": "3.7.7-final"
  },
  "orig_nbformat": 2,
  "kernelspec": {
   "name": "python37764bitpy37virtualenv724f8c74c5c7478bad670819f0cdf1e2",
   "display_name": "Python 3.7.7 64-bit ('py3.7': virtualenv)"
  }
 },
 "nbformat": 4,
 "nbformat_minor": 2
}