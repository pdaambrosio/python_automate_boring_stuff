{
 "metadata": {
  "language_info": {
   "codemirror_mode": {
    "name": "ipython",
    "version": 3
   },
   "file_extension": ".py",
   "mimetype": "text/x-python",
   "name": "python",
   "nbconvert_exporter": "python",
   "pygments_lexer": "ipython3",
   "version": "3.7.7-final"
  },
  "orig_nbformat": 2,
  "kernelspec": {
   "name": "python37764bitpy37virtualenv724f8c74c5c7478bad670819f0cdf1e2",
   "display_name": "Python 3.7.7 64-bit ('py3.7': virtualenv)"
  }
 },
 "nbformat": 4,
 "nbformat_minor": 2,
 "cells": [
  {
   "cell_type": "markdown",
   "metadata": {},
   "source": [
    "1. O que são caracteres de escape?"
   ]
  },
  {
   "cell_type": "code",
   "execution_count": 1,
   "metadata": {},
   "outputs": [],
   "source": [
    "# permite usar caracteres que de outra maneira não poderiam ser utilizados em uma string, exemplo:\n",
    "\n",
    "# Caractere de escape\n",
    "# \\' aspas simples\n",
    "# \\\" aspas duplas\n",
    "# \\t tabulação\n",
    "# \\n quebra de linha\n",
    "# \\\\ barra invertida"
   ]
  },
  {
   "cell_type": "markdown",
   "metadata": {},
   "source": [
    " 2. O que os caracteres \\n e \\t representam?"
   ]
  },
  {
   "cell_type": "code",
   "execution_count": 3,
   "metadata": {
    "tags": []
   },
   "outputs": [
    {
     "output_type": "stream",
     "name": "stdout",
     "text": "teste\nteste\nteste\tteste\n"
    }
   ],
   "source": [
    "# \\n é quebra de linha e \\t é tabulação, exemplo:\n",
    "\n",
    "print('teste\\nteste')\n",
    "print('teste\\tteste')"
   ]
  },
  {
   "cell_type": "markdown",
   "metadata": {},
   "source": [
    "3. Como podemos inserir um caractere \\ de barra invertida em uma string?"
   ]
  },
  {
   "cell_type": "code",
   "execution_count": 15,
   "metadata": {
    "tags": []
   },
   "outputs": [
    {
     "output_type": "stream",
     "name": "stdout",
     "text": "\\home\\psantos\\\n"
    }
   ],
   "source": [
    "# podemos inserir utilizando a \\\\ na string, exemplo:\n",
    "print('\\home\\psantos\\\\')"
   ]
  },
  {
   "cell_type": "markdown",
   "metadata": {},
   "source": [
    "4. O valor \"Howl's moving castle\" é uma string valida. Por que não ha problema no fato de o caractere único de aspas simples não estar escapado?"
   ]
  },
  {
   "cell_type": "code",
   "execution_count": 16,
   "metadata": {
    "tags": []
   },
   "outputs": [
    {
     "output_type": "stream",
     "name": "stdout",
     "text": "Howl's castle\n"
    }
   ],
   "source": [
    "# Na verdade o motivo é que a string iniciou e finalizou com aspas duplas \"\", conforme exemplo abaixo.:\n",
    "print(\"Howl's castle\")"
   ]
  },
  {
   "cell_type": "markdown",
   "metadata": {},
   "source": [
    "5. Se não quiser colocar o '\\n' em uma string, como podemos utilizar a quebra de linha?"
   ]
  },
  {
   "cell_type": "code",
   "execution_count": 18,
   "metadata": {
    "tags": []
   },
   "outputs": [
    {
     "output_type": "stream",
     "name": "stdout",
     "text": "teste\nteste\nteste\n\n"
    }
   ],
   "source": [
    "# stings de multiplas linhas permitem que isso, exemplo:\n",
    "\n",
    "texto = '''teste\n",
    "teste\n",
    "teste\n",
    "'''\n",
    "\n",
    "print(texto)"
   ]
  },
  {
   "cell_type": "markdown",
   "metadata": {},
   "source": [
    "6. As expressões são avaliadas como?\n",
    "'Hello World'[1]\n",
    "'Hello World'[0:5]\n",
    "'Hello World'[:5]\n",
    "'Hello World'[3:]"
   ]
  },
  {
   "cell_type": "code",
   "execution_count": 20,
   "metadata": {
    "tags": []
   },
   "outputs": [
    {
     "output_type": "stream",
     "name": "stdout",
     "text": "e\nHello\nHello\nlo World\n"
    }
   ],
   "source": [
    "# assim ó...\n",
    "\n",
    "print('Hello World'[1])\n",
    "print('Hello World'[0:5])\n",
    "print('Hello World'[:5])\n",
    "print('Hello World'[3:])"
   ]
  },
  {
   "cell_type": "markdown",
   "metadata": {},
   "source": [
    "7. As expressões são avaliadas como?\n",
    "'Hello'.upper()\n",
    "'Hello'.upper().isupper()\n",
    "'Hello'.upper().islower()\n"
   ]
  },
  {
   "cell_type": "code",
   "execution_count": 21,
   "metadata": {
    "tags": []
   },
   "outputs": [
    {
     "output_type": "stream",
     "name": "stdout",
     "text": "HELLO\nTrue\nFalse\n"
    }
   ],
   "source": [
    "# serão avaliadas assim...\n",
    "\n",
    "print('Hello'.upper())\n",
    "print('Hello'.upper().isupper())\n",
    "print('Hello'.upper().islower())"
   ]
  },
  {
   "cell_type": "markdown",
   "metadata": {},
   "source": [
    "8. Como as expressões abaixo serão avaliadas?\n",
    "'Remenber, remenber, the fifth of November'.split()\n",
    "'-'join.'The can be only one'.split()"
   ]
  },
  {
   "cell_type": "code",
   "execution_count": 25,
   "metadata": {
    "tags": []
   },
   "outputs": [
    {
     "output_type": "stream",
     "name": "stdout",
     "text": "['Remenber,', 'remenber,', 'the', 'fifth', 'of', 'November']\nThe-can-be-only-one\n"
    }
   ],
   "source": [
    "# será avaliada assim ó...\n",
    "\n",
    "print('Remenber, remenber, the fifth of November'.split())\n",
    "print('-'.join('The can be only one'.split()))"
   ]
  },
  {
   "cell_type": "markdown",
   "metadata": {},
   "source": [
    "9. Quais metodos podem ser utilizados para alinhar strings?"
   ]
  },
  {
   "cell_type": "code",
   "execution_count": 27,
   "metadata": {
    "tags": []
   },
   "outputs": [
    {
     "output_type": "stream",
     "name": "stdout",
     "text": "*****Hello\nHello-----\n=======Hello========\n"
    }
   ],
   "source": [
    "# esses aqui...\n",
    "\n",
    "print('Hello'.rjust(10,'*'))\n",
    "print('Hello'.ljust(10,'-'))\n",
    "print('Hello'.center(20,'='))"
   ]
  },
  {
   "cell_type": "markdown",
   "metadata": {},
   "source": [
    "10. Como podemos remover caracteres de espaços em branco no inicio e no fim de uma string?"
   ]
  },
  {
   "cell_type": "code",
   "execution_count": 28,
   "metadata": {
    "tags": []
   },
   "outputs": [
    {
     "output_type": "stream",
     "name": "stdout",
     "text": "remove left\nremove right\n"
    }
   ],
   "source": [
    "# os metodos 'lstrip()' e 'rstip()' podem ser utilizados para isso...\n",
    "\n",
    "print('  remove left'.lstrip())\n",
    "print('remove right  '.rstrip())"
   ]
  },
  {
   "cell_type": "code",
   "execution_count": null,
   "metadata": {},
   "outputs": [],
   "source": []
  }
 ]
}