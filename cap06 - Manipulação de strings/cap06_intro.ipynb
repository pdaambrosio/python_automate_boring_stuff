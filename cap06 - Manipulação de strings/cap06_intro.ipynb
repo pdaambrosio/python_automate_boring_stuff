{
 "cells": [
  {
   "cell_type": "code",
   "execution_count": null,
   "metadata": {},
   "outputs": [],
   "source": [
    "# Com aspas simples\n",
    "'That is Alice's cat'"
   ]
  },
  {
   "cell_type": "code",
   "execution_count": null,
   "metadata": {},
   "outputs": [],
   "source": [
    "# Com aspas duplas\n",
    "\"That is Alice's cat\""
   ]
  },
  {
   "cell_type": "code",
   "execution_count": null,
   "metadata": {},
   "outputs": [],
   "source": [
    "# Com escape\n",
    "'That is Alice\\'s cat'"
   ]
  },
  {
   "cell_type": "code",
   "execution_count": null,
   "metadata": {},
   "outputs": [],
   "source": [
    "# Caractere de escape\n",
    "# \\' aspas simples\n",
    "# \\\" aspas duplas\n",
    "# \\t tabulação\n",
    "# \\n quebra de linha\n",
    "# \\\\ barra invertida"
   ]
  },
  {
   "cell_type": "code",
   "execution_count": 1,
   "metadata": {
    "tags": []
   },
   "outputs": [
    {
     "output_type": "stream",
     "name": "stdout",
     "text": "Hello there!\nHow are you?\nI'm doing fine.\n"
    }
   ],
   "source": [
    "print(\"Hello there!\\nHow are you?\\nI\\'m doing fine.\")"
   ]
  },
  {
   "cell_type": "code",
   "execution_count": 2,
   "metadata": {
    "tags": []
   },
   "outputs": [
    {
     "output_type": "stream",
     "name": "stdout",
     "text": "That is Carol\\'cat.\n"
    }
   ],
   "source": [
    "# raw string ignora todos os caracteres de escape e exibe qualquer barra invertida que estiver na string. exemplo:\n",
    "\n",
    "print(r'That is Carol\\'cat.')"
   ]
  },
  {
   "cell_type": "code",
   "execution_count": null,
   "metadata": {
    "tags": []
   },
   "outputs": [],
   "source": [
    "# aspas triplas\n",
    "\n",
    "print('''Dear Alice,\n",
    "\n",
    "Eve's cat has been arrested for catnapping, cat burglary, and extotion.\n",
    "\n",
    "Sincerely,\n",
    "Bob\n",
    "''')"
   ]
  },
  {
   "cell_type": "code",
   "execution_count": null,
   "metadata": {
    "tags": []
   },
   "outputs": [],
   "source": [
    "# slice\n",
    "\n",
    "spam = 'Hello World'\n",
    "fizz = spam[0:5]\n",
    "\n",
    "print(spam[0:5])\n",
    "print()\n",
    "print(spam[6:])\n",
    "print()\n",
    "print(fizz)\n",
    "\n",
    "# in e not in com strings\n",
    "print()\n",
    "print('Hello' in spam)\n",
    "print('HELLO' in  spam)\n",
    "print('' in spam)\n",
    "\n",
    "# upper e lower\n",
    "print()\n",
    "spam.upper()\n",
    "spam.lower()"
   ]
  },
  {
   "cell_type": "code",
   "execution_count": null,
   "metadata": {
    "tags": []
   },
   "outputs": [],
   "source": [
    "print('How are you?')\n",
    "feeling = input()\n",
    "if feeling.lower() == 'great':\n",
    "    print('I feel great to.')\n",
    "else:\n",
    "    print('I hope the rest of your day is good')"
   ]
  },
  {
   "cell_type": "code",
   "execution_count": 19,
   "metadata": {
    "tags": []
   },
   "outputs": [
    {
     "output_type": "stream",
     "name": "stdout",
     "text": "False\nFalse\nTrue\n"
    }
   ],
   "source": [
    "\n",
    "print(spam.islower())\n",
    "print(spam.isupper())\n",
    "print('HELLO'.isupper())"
   ]
  },
  {
   "cell_type": "code",
   "execution_count": 1,
   "metadata": {
    "tags": []
   },
   "outputs": [
    {
     "output_type": "stream",
     "name": "stdout",
     "text": "Enter your age:\nSelect a new password (letters and numbers only):\n"
    }
   ],
   "source": [
    "# outros metodos de strings 'isalpha()', 'isalnum()', 'isdecimal()', 'isspace()' e 'istitle()'.\n",
    "# validateinput.py\n",
    "\n",
    "while True:\n",
    "    print('Enter your age:')\n",
    "    age = input()\n",
    "    if age.isdecimal():\n",
    "        break\n",
    "    print('Please entet a number for your age.')\n",
    "\n",
    "while True:\n",
    "    print('Select a new password (letters and numbers only):')\n",
    "    password = input()\n",
    "    if password.isalnum():\n",
    "        break\n",
    "    print('Passwords can only have letters and numbers.')"
   ]
  },
  {
   "cell_type": "code",
   "execution_count": 2,
   "metadata": {
    "tags": []
   },
   "outputs": [
    {
     "output_type": "stream",
     "name": "stdout",
     "text": "True\nTrue\n"
    }
   ],
   "source": [
    "# metodos 'startwith()' e 'endwith()'\n",
    "\n",
    "spam = 'Hello World!'\n",
    "\n",
    "print(spam.startswith('Hello'))\n",
    "print(spam.endswith('World!'))"
   ]
  },
  {
   "cell_type": "code",
   "execution_count": 4,
   "metadata": {
    "tags": []
   },
   "outputs": [
    {
     "output_type": "stream",
     "name": "stdout",
     "text": "cats,rats,bats\ncatsratsbats\nMy\nname\nis\nSymon\nMyABCnameABCisABCSymon\n\n['My', 'name', 'is', 'Symon']\n['My', 'name', 'is', 'Symon']\n['Dear Alice,', 'How have you been? I am fine.', 'There is a conteiner in the fridge', 'that is labeled \"Milk Experiment\".', 'Please do not drink it.', 'Sincerely,', 'Bob']\n"
    }
   ],
   "source": [
    "# metodos 'join()' e 'split()'\n",
    "\n",
    "print(','.join(['cats', 'rats', 'bats']))\n",
    "print(''.join(['cats', 'rats', 'bats']))\n",
    "print('\\n'.join(['My', 'name', 'is', 'Symon']))\n",
    "print('ABC'.join(['My', 'name', 'is', 'Symon']))\n",
    "\n",
    "print()\n",
    "\n",
    "print('My name is Symon'.split())\n",
    "print('MyABCnameABCisABCSymon'.split('ABC'))\n",
    "\n",
    "spam = '''Dear Alice,\n",
    "How have you been? I am fine.\n",
    "There is a conteiner in the fridge\n",
    "that is labeled \"Milk Experiment\".\n",
    "Please do not drink it.\n",
    "Sincerely,\n",
    "Bob'''\n",
    "\n",
    "print(spam.split('\\n'))\n"
   ]
  },
  {
   "cell_type": "code",
   "execution_count": 17,
   "metadata": {
    "tags": []
   },
   "outputs": [
    {
     "output_type": "stream",
     "name": "stdout",
     "text": "*****Hello\nHello-----\n=======Hello========\n"
    }
   ],
   "source": [
    "# metodos 'rjust()', 'ljust()' e 'center()'\n",
    "\n",
    "print('Hello'.rjust(10,'*'))\n",
    "print('Hello'.ljust(10,'-'))\n",
    "print('Hello'.center(20,'='))"
   ]
  },
  {
   "cell_type": "code",
   "execution_count": null,
   "metadata": {},
   "outputs": [],
   "source": []
  }
 ],
 "metadata": {
  "language_info": {
   "codemirror_mode": {
    "name": "ipython",
    "version": 3
   },
   "file_extension": ".py",
   "mimetype": "text/x-python",
   "name": "python",
   "nbconvert_exporter": "python",
   "pygments_lexer": "ipython3",
   "version": "3.7.7-final"
  },
  "orig_nbformat": 2,
  "kernelspec": {
   "name": "python37764bitpy37virtualenv724f8c74c5c7478bad670819f0cdf1e2",
   "display_name": "Python 3.7.7 64-bit ('py3.7': virtualenv)"
  }
 },
 "nbformat": 4,
 "nbformat_minor": 2
}