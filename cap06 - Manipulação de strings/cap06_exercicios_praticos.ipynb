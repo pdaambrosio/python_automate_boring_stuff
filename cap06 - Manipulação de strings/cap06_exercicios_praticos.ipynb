{
 "metadata": {
  "language_info": {
   "codemirror_mode": {
    "name": "ipython",
    "version": 3
   },
   "file_extension": ".py",
   "mimetype": "text/x-python",
   "name": "python",
   "nbconvert_exporter": "python",
   "pygments_lexer": "ipython3",
   "version": "3.7.7-final"
  },
  "orig_nbformat": 2,
  "kernelspec": {
   "name": "python37764bitpy37virtualenv724f8c74c5c7478bad670819f0cdf1e2",
   "display_name": "Python 3.7.7 64-bit ('py3.7': virtualenv)"
  }
 },
 "nbformat": 4,
 "nbformat_minor": 2,
 "cells": [
  {
   "cell_type": "code",
   "execution_count": 30,
   "metadata": {},
   "outputs": [],
   "source": [
    "# Projeto prático\n",
    "# Escreva um programa que execute a seguinte tarefa\n",
    "\n",
    "# Crie uma função chamada printTable() que receba uma lista de listas de strings e a exiba em uma tabela bem organizada, com cada coluna justificada a direita. Suponha que todas as listas internas contenham o mesmo número de strings. Por exemplo, o valor poderá ter o seguinte aspecto:\n",
    "\n",
    "table_data = [['apples','oranges','cherries','banana'],['Alice','Bob','Carol','David'],['dogs','cats','moose','goose']]\n",
    "\n",
    "# def printTable(table):"
   ]
  },
  {
   "cell_type": "code",
   "execution_count": 73,
   "metadata": {
    "tags": []
   },
   "outputs": [
    {
     "output_type": "stream",
     "name": "stdout",
     "text": "-----apples----\n----oranges----\n----cherries---\n-----banana----\n"
    }
   ],
   "source": [
    "for i in table_data[0]:\n",
    "    widths = [0] * len(table_data)\n",
    "    print(str(i).center(15,'-'))\n"
   ]
  },
  {
   "cell_type": "code",
   "execution_count": null,
   "metadata": {},
   "outputs": [],
   "source": []
  }
 ]
}