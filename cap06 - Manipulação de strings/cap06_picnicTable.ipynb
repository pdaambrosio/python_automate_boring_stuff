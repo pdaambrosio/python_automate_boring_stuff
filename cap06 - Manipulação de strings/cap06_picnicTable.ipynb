{
 "cells": [
  {
   "cell_type": "code",
   "execution_count": 2,
   "metadata": {
    "tags": []
   },
   "outputs": [
    {
     "output_type": "stream",
     "name": "stdout",
     "text": "---PicNic Items--\nsandwiches..    4\napples......   12\ncups........    4\ncookies..... 8000\n-------PicNic Items-------\nsandwiches..........     4\napples..............    12\ncups................     4\ncookies.............  8000\n"
    }
   ],
   "source": [
    "def print_picnic(items_dict, left_width, right_width):\n",
    "    print('PicNic Items'.center(left_width + right_width,'-'))\n",
    "    for k, v in items_dict.items():\n",
    "        print(k.ljust(left_width,'.') + str(v).rjust(right_width))\n",
    "\n",
    "picnic_items = {'sandwiches':4, 'apples':12, 'cups':4, 'cookies':8000}\n",
    "\n",
    "print_picnic(picnic_items, 12, 5)\n",
    "print_picnic(picnic_items, 20, 6)"
   ]
  },
  {
   "cell_type": "code",
   "execution_count": 1,
   "metadata": {},
   "outputs": [
    {
     "output_type": "execute_result",
     "data": {
      "text/plain": "'Hello World!!!'"
     },
     "metadata": {},
     "execution_count": 1
    }
   ],
   "source": [
    "# copiando e colando strings com o modulo pyperclip()\n",
    "\n",
    "import pyperclip\n",
    "\n",
    "pyperclip.copy('Hello World!!!')\n",
    "pyperclip.paste()"
   ]
  },
  {
   "cell_type": "code",
   "execution_count": 2,
   "metadata": {},
   "outputs": [
    {
     "output_type": "execute_result",
     "data": {
      "text/plain": "'12345'"
     },
     "metadata": {},
     "execution_count": 2
    }
   ],
   "source": []
  },
  {
   "cell_type": "code",
   "execution_count": null,
   "metadata": {},
   "outputs": [],
   "source": []
  }
 ],
 "metadata": {
  "language_info": {
   "codemirror_mode": {
    "name": "ipython",
    "version": 3
   },
   "file_extension": ".py",
   "mimetype": "text/x-python",
   "name": "python",
   "nbconvert_exporter": "python",
   "pygments_lexer": "ipython3",
   "version": "3.7.7-final"
  },
  "orig_nbformat": 2,
  "kernelspec": {
   "name": "python37764bitpy37virtualenv724f8c74c5c7478bad670819f0cdf1e2",
   "display_name": "Python 3.7.7 64-bit ('py3.7': virtualenv)"
  }
 },
 "nbformat": 4,
 "nbformat_minor": 2
}