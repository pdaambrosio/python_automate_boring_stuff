{
 "cells": [
  {
   "cell_type": "code",
   "execution_count": 2,
   "metadata": {},
   "outputs": [],
   "source": [
    "texto = '''Pinturas de Alfredo Norfini\n",
    "Pinturas de Pedro Américo\n",
    "Vice-presidentes do Brasil por idade ao chegar à vice-presidência\n",
    "Pinturas de Bertha Worms\n",
    "Presidentes do Brasil por profissão e formação acadêmica\n",
    "Presidentes do Brasil por tempo no cargo\n",
    "Pinturas de Belmiro de Almeida'''\n",
    "\n",
    "lines = texto.split('\\n')"
   ]
  },
  {
   "cell_type": "code",
   "execution_count": 5,
   "metadata": {},
   "outputs": [
    {
     "data": {
      "text/plain": [
       "['Pinturas de Alfredo Norfini',\n",
       " 'Pinturas de Pedro Américo',\n",
       " 'Vice-presidentes do Brasil por idade ao chegar à vice-presidência',\n",
       " 'Pinturas de Bertha Worms',\n",
       " 'Presidentes do Brasil por profissão e formação acadêmica',\n",
       " 'Presidentes do Brasil por tempo no cargo',\n",
       " 'Pinturas de Belmiro de Almeida']"
      ]
     },
     "execution_count": 5,
     "metadata": {},
     "output_type": "execute_result"
    }
   ],
   "source": [
    "lines"
   ]
  },
  {
   "cell_type": "code",
   "execution_count": 7,
   "metadata": {},
   "outputs": [
    {
     "data": {
      "text/plain": [
       "range(0, 7)"
      ]
     },
     "execution_count": 7,
     "metadata": {},
     "output_type": "execute_result"
    }
   ],
   "source": [
    "range(len(lines))"
   ]
  },
  {
   "cell_type": "code",
   "execution_count": 5,
   "metadata": {
    "tags": []
   },
   "outputs": [
    {
     "output_type": "stream",
     "name": "stdout",
     "text": "Pinturas de Alfredo Norfini\nPinturas de Pedro Américo\nVice-presidentes do Brasil por idade ao chegar à vice-presidência\nPinturas de Bertha Worms\nPresidentes do Brasil por profissão e formação acadêmica\nPresidentes do Brasil por tempo no cargo\nPinturas de Belmiro de Almeida\n"
    }
   ],
   "source": [
    "for i in range(len(lines)):\n",
    "    print(lines[i])"
   ]
  },
  {
   "cell_type": "code",
   "execution_count": 10,
   "metadata": {},
   "outputs": [],
   "source": [
    "import pyperclip\n",
    "\n",
    "for i in range(len(lines)):\n",
    "    lines[i] = '*' + lines[i]\n",
    "pyperclip.copy(str(lines))"
   ]
  },
  {
   "cell_type": "code",
   "execution_count": null,
   "metadata": {},
   "outputs": [],
   "source": []
  }
 ],
 "metadata": {
  "kernelspec": {
   "display_name": "Python 3.7.7 64-bit ('py3.7': virtualenv)",
   "language": "python",
   "name": "python37764bitpy37virtualenv724f8c74c5c7478bad670819f0cdf1e2"
  },
  "language_info": {
   "codemirror_mode": {
    "name": "ipython",
    "version": 3
   },
   "file_extension": ".py",
   "mimetype": "text/x-python",
   "name": "python",
   "nbconvert_exporter": "python",
   "pygments_lexer": "ipython3",
   "version": "3.7.7-final"
  }
 },
 "nbformat": 4,
 "nbformat_minor": 4
}