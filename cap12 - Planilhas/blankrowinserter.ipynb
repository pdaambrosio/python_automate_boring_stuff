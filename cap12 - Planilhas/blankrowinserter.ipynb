{
 "metadata": {
  "language_info": {
   "codemirror_mode": {
    "name": "ipython",
    "version": 3
   },
   "file_extension": ".py",
   "mimetype": "text/x-python",
   "name": "python",
   "nbconvert_exporter": "python",
   "pygments_lexer": "ipython3",
   "version": "3.7.9-final"
  },
  "orig_nbformat": 2,
  "kernelspec": {
   "name": "Python 3.7.9 64-bit",
   "display_name": "Python 3.7.9 64-bit",
   "metadata": {
    "interpreter": {
     "hash": "d56ee6b60aebec99d6cd94134b60660a07005c400af5f583210d629c4771da92"
    }
   }
  }
 },
 "nbformat": 4,
 "nbformat_minor": 2,
 "cells": [
  {
   "cell_type": "code",
   "execution_count": 12,
   "metadata": {
    "tags": []
   },
   "outputs": [
    {
     "output_type": "stream",
     "name": "stdout",
     "text": "Done\n"
    }
   ],
   "source": [
    "#!/home/pdajgs/python_labs/py3.7/bin/python3\n",
    "\n",
    "import openpyxl, sys\n",
    "\n",
    "try:\n",
    "    lineReference = int(sys.argv[1])\n",
    "    lineInsert = int(sys.argv[2])\n",
    "    fileExcel = sys.argv[3]\n",
    "except ValueError as e:\n",
    "    print('Os primeiros valores devem ser inteiros, conforme exemplo... 3 2 file.xlsx')\n",
    "\n",
    "# abrindo planilhas \n",
    "\n",
    "wb = openpyxl.load_workbook(fileExcel)\n",
    "sheet = wb.active\n",
    "\n",
    "wbWrite = openpyxl.Workbook()\n",
    "sheetWrite = wbWrite.active\n",
    "\n",
    "for row in range(lineReference, sheet.max_row + 1):\n",
    "    for col in range(1, sheet.max_column + 1):\n",
    "        if row < lineReference:\n",
    "            sheetWrite.cell(row=row, column=col).value = sheet.cell(row=row, column=col).value\n",
    "        else:\n",
    "            sheetWrite.cell(row=(row + lineInsert), column=col).value = sheet.cell(row=row, column=col).value\n",
    "\n",
    "wbWrite.save('xInsert.xlsx')\n",
    "print('Done')"
   ]
  },
  {
   "cell_type": "code",
   "execution_count": null,
   "metadata": {},
   "outputs": [],
   "source": [
    "# updatedProduceSales.xlsx"
   ]
  }
 ]
}