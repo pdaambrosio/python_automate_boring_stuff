{
 "metadata": {
  "language_info": {
   "codemirror_mode": {
    "name": "ipython",
    "version": 3
   },
   "file_extension": ".py",
   "mimetype": "text/x-python",
   "name": "python",
   "nbconvert_exporter": "python",
   "pygments_lexer": "ipython3",
   "version": "3.7.9-final"
  },
  "orig_nbformat": 2,
  "kernelspec": {
   "name": "Python 3.7.9 64-bit ('py3.7': virtualenv)",
   "display_name": "Python 3.7.9 64-bit ('py3.7': virtualenv)",
   "metadata": {
    "interpreter": {
     "hash": "d56ee6b60aebec99d6cd94134b60660a07005c400af5f583210d629c4771da92"
    }
   }
  }
 },
 "nbformat": 4,
 "nbformat_minor": 2,
 "cells": [
  {
   "cell_type": "code",
   "execution_count": 1,
   "metadata": {},
   "outputs": [],
   "source": [
    "#!/home/pdajgs/python_labs/py3.7/bin/python3\n",
    "\n",
    "import openpyxl\n",
    "\n",
    "wb = openpyxl.load_workbook('produceSales.xlsx')\n",
    "sheet = wb.get_sheet_by_name('Sheet')\n",
    "\n",
    "priceUpdates = {'Garlic':3.07, 'Celery':1.19, 'Lemon':1.27}\n",
    "\n",
    "for rowNum in range(2, sheet.max_row):     # o 2 é para pular a primeira linha\n",
    "    produceName = sheet.cell(row=rowNum, column=1).value\n",
    "    if produceName in priceUpdates:\n",
    "        sheet.cell(row=rowNum, column=2).value = priceUpdates[produceName]\n",
    "\n",
    "wb.save('updatedProduceSales.xlsx')"
   ]
  },
  {
   "cell_type": "code",
   "execution_count": null,
   "metadata": {},
   "outputs": [],
   "source": []
  }
 ]
}