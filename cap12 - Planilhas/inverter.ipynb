{
 "metadata": {
  "language_info": {
   "codemirror_mode": {
    "name": "ipython",
    "version": 3
   },
   "file_extension": ".py",
   "mimetype": "text/x-python",
   "name": "python",
   "nbconvert_exporter": "python",
   "pygments_lexer": "ipython3",
   "version": "3.7.9-final"
  },
  "orig_nbformat": 2,
  "kernelspec": {
   "name": "Python 3.7.9 64-bit",
   "display_name": "Python 3.7.9 64-bit",
   "metadata": {
    "interpreter": {
     "hash": "d56ee6b60aebec99d6cd94134b60660a07005c400af5f583210d629c4771da92"
    }
   }
  }
 },
 "nbformat": 4,
 "nbformat_minor": 2,
 "cells": [
  {
   "cell_type": "code",
   "execution_count": 2,
   "metadata": {
    "tags": []
   },
   "outputs": [
    {
     "output_type": "stream",
     "name": "stdout",
     "text": "Done!\n"
    }
   ],
   "source": [
    "import openpyxl\n",
    "\n",
    "fileExcel = input()\n",
    "\n",
    "readWb = openpyxl.load_workbook(fileExcel)\n",
    "readSheet = readWb.active\n",
    "\n",
    "writeWb = openpyxl.Workbook()\n",
    "writeSheet = writeWb.active\n",
    "\n",
    "for readRow in range(1, readSheet.max_row + 1):\n",
    "    for readCol in range(1, readSheet.max_column + 1):\n",
    "        writeSheet.cell(row=readCol, column=readRow).value = readSheet.cell(row=readRow, column=readCol).value\n",
    "\n",
    "writeWb.save('xInverter.xlsx')\n",
    "\n",
    "print('Done!')"
   ]
  },
  {
   "cell_type": "code",
   "execution_count": null,
   "metadata": {},
   "outputs": [],
   "source": []
  }
 ]
}