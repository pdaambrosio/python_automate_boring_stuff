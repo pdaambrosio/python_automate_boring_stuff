{
 "metadata": {
  "language_info": {
   "codemirror_mode": {
    "name": "ipython",
    "version": 3
   },
   "file_extension": ".py",
   "mimetype": "text/x-python",
   "name": "python",
   "nbconvert_exporter": "python",
   "pygments_lexer": "ipython3",
   "version": "3.7.9-final"
  },
  "orig_nbformat": 2,
  "kernelspec": {
   "name": "Python 3.7.9 64-bit",
   "display_name": "Python 3.7.9 64-bit",
   "metadata": {
    "interpreter": {
     "hash": "d56ee6b60aebec99d6cd94134b60660a07005c400af5f583210d629c4771da92"
    }
   }
  }
 },
 "nbformat": 4,
 "nbformat_minor": 2,
 "cells": [
  {
   "cell_type": "code",
   "execution_count": 2,
   "metadata": {},
   "outputs": [
    {
     "output_type": "execute_result",
     "data": {
      "text/plain": "openpyxl.workbook.workbook.Workbook"
     },
     "metadata": {},
     "execution_count": 2
    }
   ],
   "source": [
    "import openpyxl, os\n",
    "\n",
    "wb = openpyxl.load_workbook('example.xlsx')\n",
    "\n",
    "os.getcwd() # exibe o diretorio atual\n",
    "os.chdir() # alterar o diretorio de trabalho\n",
    "\n",
    "type(wb)"
   ]
  },
  {
   "cell_type": "code",
   "execution_count": 3,
   "metadata": {},
   "outputs": [
    {
     "output_type": "execute_result",
     "data": {
      "text/plain": "['Sheet1', 'Sheet2', 'Sheet3']"
     },
     "metadata": {},
     "execution_count": 3
    }
   ],
   "source": [
    "wb.get_sheet_names() # nome das planilhas"
   ]
  },
  {
   "cell_type": "code",
   "execution_count": 7,
   "metadata": {},
   "outputs": [
    {
     "output_type": "execute_result",
     "data": {
      "text/plain": "<Worksheet \"Sheet3\">"
     },
     "metadata": {},
     "execution_count": 7
    }
   ],
   "source": [
    "sheet = wb.get_sheet_by_name('Sheet3')\n",
    "sheet"
   ]
  },
  {
   "cell_type": "code",
   "execution_count": 8,
   "metadata": {},
   "outputs": [
    {
     "output_type": "execute_result",
     "data": {
      "text/plain": "openpyxl.worksheet.worksheet.Worksheet"
     },
     "metadata": {},
     "execution_count": 8
    }
   ],
   "source": [
    "type(sheet)"
   ]
  },
  {
   "cell_type": "code",
   "execution_count": 10,
   "metadata": {},
   "outputs": [
    {
     "output_type": "execute_result",
     "data": {
      "text/plain": "'Sheet3'"
     },
     "metadata": {},
     "execution_count": 10
    }
   ],
   "source": [
    "sheet.title"
   ]
  },
  {
   "cell_type": "code",
   "execution_count": 14,
   "metadata": {},
   "outputs": [
    {
     "output_type": "execute_result",
     "data": {
      "text/plain": "<Worksheet \"Sheet1\">"
     },
     "metadata": {},
     "execution_count": 14
    }
   ],
   "source": [
    "anotherSheet = wb.active\n",
    "anotherSheet"
   ]
  },
  {
   "cell_type": "code",
   "execution_count": 15,
   "metadata": {},
   "outputs": [],
   "source": [
    "wb.close()"
   ]
  },
  {
   "cell_type": "code",
   "execution_count": 11,
   "metadata": {
    "tags": []
   },
   "outputs": [
    {
     "output_type": "stream",
     "name": "stdout",
     "text": "Row 1, column 2 is Apples\nCell B1 is Apples\n"
    },
    {
     "output_type": "execute_result",
     "data": {
      "text/plain": "73"
     },
     "metadata": {},
     "execution_count": 11
    }
   ],
   "source": [
    "# acessando objeto Cell\n",
    "\n",
    "import openpyxl, os\n",
    "\n",
    "wb = openpyxl.load_workbook('example.xlsx')\n",
    "sheet = wb.get_sheet_by_name('Sheet1')\n",
    "\n",
    "sheet['A1']\n",
    "sheet['A1'].value\n",
    "\n",
    "# print(sheet['A1'])\n",
    "# print(sheet['A1'].value)\n",
    "\n",
    "c = sheet['B1']\n",
    "c.value\n",
    "\n",
    "print(f'Row {c.row}, column {c.column} is {c.value}')\n",
    "print(f'Cell {c.coordinate} is {c.value}')\n",
    "\n",
    "sheet['C1'].value"
   ]
  },
  {
   "cell_type": "code",
   "execution_count": 28,
   "metadata": {
    "tags": []
   },
   "outputs": [
    {
     "output_type": "stream",
     "name": "stdout",
     "text": "1 Apples\n2 Cherries\n3 Pears\n4 Oranges\n5 Apples\n6 Bananas\n7 Strawberries\n\n1 Apples\n3 Pears\n5 Apples\n7 Strawberries\n"
    }
   ],
   "source": [
    "# Especificando colunas\n",
    "\n",
    "sheet.cell(row=1, column=2).value\n",
    "\n",
    "for i in range(1, 8):\n",
    "    print(i, sheet.cell(row=i, column=2).value)\n",
    "print()\n",
    "\n",
    "# impar\n",
    "for i in range(1, 8, 2):\n",
    "    print(i, sheet.cell(row=i, column=2).value)"
   ]
  },
  {
   "cell_type": "code",
   "execution_count": 33,
   "metadata": {
    "tags": []
   },
   "outputs": [
    {
     "output_type": "stream",
     "name": "stdout",
     "text": "7\n3\n"
    }
   ],
   "source": [
    "# Verificando o tamanho da planilha\n",
    "\n",
    "import openpyxl\n",
    "\n",
    "wb = openpyxl.load_workbook('example.xlsx')\n",
    "\n",
    "sheet = wb.get_sheet_by_name('Sheet1')\n",
    "\n",
    "print(sheet.max_row)\n",
    "print(sheet.max_column)"
   ]
  },
  {
   "cell_type": "code",
   "execution_count": 42,
   "metadata": {
    "tags": []
   },
   "outputs": [
    {
     "output_type": "stream",
     "name": "stdout",
     "text": "A\nB\nAA\nAHP\n\nC\n\n1\n27\n"
    }
   ],
   "source": [
    "# Conversão entre letras e numeros\n",
    "\n",
    "import openpyxl\n",
    "\n",
    "from openpyxl.utils import get_column_letter, column_index_from_string\n",
    "\n",
    "print(get_column_letter(1))\n",
    "print(get_column_letter(2))\n",
    "print(get_column_letter(27))\n",
    "print(get_column_letter(900))\n",
    "\n",
    "wb = openpyxl.load_workbook('example.xlsx')\n",
    "sheet = wb.get_sheet_by_name('Sheet1')\n",
    "print()\n",
    "print(get_column_letter(sheet.max_column))\n",
    "print()\n",
    "print(column_index_from_string('A'))\n",
    "print(column_index_from_string('AA'))"
   ]
  },
  {
   "cell_type": "code",
   "execution_count": 53,
   "metadata": {
    "tags": []
   },
   "outputs": [
    {
     "output_type": "stream",
     "name": "stdout",
     "text": "A1 2015-04-05 13:34:02\nB1 Apples\nC1 73\n--- end row ----\n\nA2 2015-04-05 03:41:23\nB2 Cherries\nC2 85\n--- end row ----\n\nA3 2015-04-06 12:46:51\nB3 Pears\nC3 14\n--- end row ----\n\n"
    }
   ],
   "source": [
    "# Obtendo linhas e colunas\n",
    "\n",
    "import openpyxl\n",
    "\n",
    "wb = openpyxl.load_workbook('example.xlsx')\n",
    "sheet = wb.get_sheet_by_name('Sheet1')\n",
    "\n",
    "tuple(sheet['A1':'C3'])\n",
    "\n",
    "for row in sheet['A1':\"C3\"]:\n",
    "    for obj in row:\n",
    "        print(obj.coordinate, obj.value)\n",
    "    print('--- end row ----\\n')"
   ]
  },
  {
   "cell_type": "code",
   "execution_count": 98,
   "metadata": {
    "tags": []
   },
   "outputs": [
    {
     "output_type": "stream",
     "name": "stdout",
     "text": "Apples\nCherries\nPears\nOranges\nApples\nBananas\nStrawberries\n"
    }
   ],
   "source": [
    "# metodo alternativo usando o columns\n",
    "\n",
    "import openpyxl\n",
    "\n",
    "wb = openpyxl.load_workbook('example.xlsx')\n",
    "sheet = wb.active\n",
    "\n",
    "for obj in tuple(sheet.columns)[1]:\n",
    "    print(obj.value)"
   ]
  },
  {
   "cell_type": "code",
   "execution_count": 103,
   "metadata": {},
   "outputs": [
    {
     "output_type": "execute_result",
     "data": {
      "text/plain": "(<Cell 'Sheet1'.A1>, <Cell 'Sheet1'.B1>, <Cell 'Sheet1'.C1>)"
     },
     "metadata": {},
     "execution_count": 103
    }
   ],
   "source": [
    "tuple(sheet.rows)\n",
    "tuple(sheet.rows)[0]"
   ]
  },
  {
   "cell_type": "code",
   "execution_count": 105,
   "metadata": {},
   "outputs": [
    {
     "output_type": "execute_result",
     "data": {
      "text/plain": "(<Cell 'Sheet1'.A1>,\n <Cell 'Sheet1'.A2>,\n <Cell 'Sheet1'.A3>,\n <Cell 'Sheet1'.A4>,\n <Cell 'Sheet1'.A5>,\n <Cell 'Sheet1'.A6>,\n <Cell 'Sheet1'.A7>)"
     },
     "metadata": {},
     "execution_count": 105
    }
   ],
   "source": [
    "tuple(sheet.columns)\n",
    "tuple(sheet.columns)[0]"
   ]
  },
  {
   "cell_type": "code",
   "execution_count": 2,
   "metadata": {},
   "outputs": [
    {
     "output_type": "execute_result",
     "data": {
      "text/plain": "['Sheet']"
     },
     "metadata": {},
     "execution_count": 2
    }
   ],
   "source": [
    "# Criando e salvando arquivos no Excel\n",
    "\n",
    "import openpyxl\n",
    "\n",
    "wb = openpyxl.Workbook()\n",
    "\n",
    "wb.get_sheet_names()"
   ]
  },
  {
   "cell_type": "code",
   "execution_count": 9,
   "metadata": {},
   "outputs": [],
   "source": [
    "sheet = wb.active             # wb.get_active_sheet()\n",
    "sheet.title\n",
    "\n",
    "sheet.title = 'Plan01'\n",
    "\n",
    "wb.get_sheet_names()\n",
    "\n",
    "wb.save('plan01.xlsx')"
   ]
  },
  {
   "cell_type": "code",
   "execution_count": 13,
   "metadata": {
    "tags": []
   },
   "outputs": [
    {
     "output_type": "execute_result",
     "data": {
      "text/plain": "['Sheet', 'Sheet1']"
     },
     "metadata": {},
     "execution_count": 13
    }
   ],
   "source": [
    "# Criando e removendo planilhas\n",
    "\n",
    "import openpyxl\n",
    "\n",
    "wb = openpyxl.Workbook()\n",
    "wb.get_sheet_names()\n",
    "\n",
    "wb.create_sheet()\n",
    "wb.get_sheet_names()"
   ]
  },
  {
   "cell_type": "code",
   "execution_count": 25,
   "metadata": {},
   "outputs": [
    {
     "output_type": "execute_result",
     "data": {
      "text/plain": "['Plan01', 'Plan02']"
     },
     "metadata": {},
     "execution_count": 25
    }
   ],
   "source": [
    "wb.create_sheet(title='Plan01', index=0)\n",
    "wb.create_sheet(title='Plan02', index=1)\n",
    "wb.get_sheet_names()"
   ]
  },
  {
   "cell_type": "code",
   "execution_count": 23,
   "metadata": {},
   "outputs": [],
   "source": [
    "wb.remove(wb.get_sheet_by_name('Plan011'))\n",
    "wb.remove(wb.get_sheet_by_name('Sheet'))\n",
    "wb.remove(wb.get_sheet_by_name('Sheet1'))"
   ]
  },
  {
   "cell_type": "code",
   "execution_count": 26,
   "metadata": {},
   "outputs": [
    {
     "output_type": "execute_result",
     "data": {
      "text/plain": "['Plan01', 'Plan02']"
     },
     "metadata": {},
     "execution_count": 26
    }
   ],
   "source": [
    "wb.get_sheet_names()"
   ]
  },
  {
   "cell_type": "code",
   "execution_count": 29,
   "metadata": {},
   "outputs": [],
   "source": [
    "# Escrevendo valores em células\n",
    "\n",
    "import openpyxl\n",
    "\n",
    "wb = openpyxl.Workbook()\n",
    "sheet = wb.get_sheet_by_name('Sheet')\n",
    "sheet['A1'] = 'Hello World!'\n",
    "sheet['A1'].value"
   ]
  },
  {
   "cell_type": "code",
   "execution_count": 7,
   "metadata": {},
   "outputs": [],
   "source": [
    "# Alterando formatação\n",
    "\n",
    "import openpyxl\n",
    "from openpyxl.styles import Font, NamedStyle\n",
    "\n",
    "wb = openpyxl.Workbook()\n",
    "sheet = wb.get_sheet_by_name('Sheet')\n",
    "\n",
    "# italic24Font = Font(size=24, italic=True)\n",
    "styleObject = NamedStyle(name='styleObject')\n",
    "styleObject.font = Font(size=24, italic=True)\n",
    "wb.add_named_style(styleObject)\n",
    "\n",
    "sheet['A1'].style = 'styleObject'\n",
    "\n",
    "wb.save('styled.xlsx')"
   ]
  },
  {
   "cell_type": "code",
   "execution_count": 12,
   "metadata": {},
   "outputs": [],
   "source": [
    "import openpyxl\n",
    "from openpyxl.styles import Font, NamedStyle\n",
    "\n",
    "wb = openpyxl.Workbook()\n",
    "sheet = wb.get_sheet_by_name('Sheet')\n",
    "\n",
    "fontObj1 = Font(name='Times New Roman', bold=True)\n",
    "styleObj1 = NamedStyle('styleObj1')\n",
    "styleObj1.font = fontObj1\n",
    "sheet['A1'].style = styleObj1\n",
    "sheet['A1'] = 'Bold Times New Roman'\n",
    "\n",
    "fontObj2 = Font(size=24, italic=True)\n",
    "styleObj2 = NamedStyle('styleObj2')\n",
    "styleObj2.font = fontObj2\n",
    "sheet['B3'].style = styleObj2\n",
    "sheet['B3'] = '24 pt Italic'\n",
    "\n",
    "wb.save('styles.xlsx')"
   ]
  },
  {
   "cell_type": "code",
   "execution_count": 13,
   "metadata": {},
   "outputs": [],
   "source": [
    "# Formulas\n",
    "\n",
    "import openpyxl\n",
    "\n",
    "past1 = openpyxl.Workbook()\n",
    "plan = past1.active\n",
    "\n",
    "plan['A1'] = 200\n",
    "plan['A2'] = 300\n",
    "plan['A3'] = '=SUM(A1:A2)'\n",
    "\n",
    "past1.save('writeFormula.xlsx')\n",
    "\n"
   ]
  },
  {
   "cell_type": "code",
   "execution_count": 24,
   "metadata": {
    "tags": []
   },
   "outputs": [
    {
     "output_type": "stream",
     "name": "stdout",
     "text": "=SUM(A1:A2)\n500\n"
    }
   ],
   "source": [
    "# Obtendo formulas e valores\n",
    "\n",
    "import openpyxl\n",
    "\n",
    "pastFormula = openpyxl.load_workbook('writeFormula.xlsx')\n",
    "plan = pastFormula.active\n",
    "\n",
    "print(plan['A3'].value)\n",
    "\n",
    "pastFormula2 = openpyxl.load_workbook('writeFormula.xlsx', data_only=True)   # somente o valor, necessário abrir o arquivo pelo menos uma vez com o editor em questão (Excel), para o resultado ser armazenado na planilha\n",
    "plan2 = pastFormula2.active\n",
    "\n",
    "print(plan2['A3'].value)"
   ]
  },
  {
   "cell_type": "code",
   "execution_count": 29,
   "metadata": {},
   "outputs": [],
   "source": [
    "# Definindo a altura da linha e a largura da coluna\n",
    "\n",
    "import openpyxl\n",
    "\n",
    "pasta = openpyxl.Workbook()\n",
    "plan1 = pasta.active\n",
    "plan1.title = 'plan1'\n",
    "\n",
    "plan1['A1'] = 'Tall row'\n",
    "plan1['D1'] = 'Wide column'\n",
    "\n",
    "plan1.row_dimensions[1].height = 70\n",
    "plan1.column_dimensions['D'].width = 20\n",
    "\n",
    "pasta.save('dimensions.xlsx')"
   ]
  },
  {
   "cell_type": "code",
   "execution_count": 30,
   "metadata": {},
   "outputs": [],
   "source": [
    "# Mesclar celulas\n",
    "\n",
    "import openpyxl\n",
    "\n",
    "pasta = openpyxl.Workbook()\n",
    "plan1 = pasta.active\n",
    "plan1.title = 'Plan01'\n",
    "\n",
    "plan1.merge_cells('A1:D3')\n",
    "plan1['A1'] = 'Twelve cells merged together.'\n",
    "\n",
    "plan1.merge_cells('C5:D5')\n",
    "plan1['C5'] = 'Two merged cells'\n",
    "\n",
    "pasta.save('merged.xlsx')"
   ]
  },
  {
   "cell_type": "code",
   "execution_count": 33,
   "metadata": {},
   "outputs": [],
   "source": [
    "# Removendo mesclagem\n",
    "\n",
    "import openpyxl\n",
    "\n",
    "mergedPlan = openpyxl.load_workbook('merged.xlsx')\n",
    "plan1 = mergedPlan.active\n",
    "\n",
    "plan1.unmerge_cells('A1:D3')\n",
    "plan1.unmerge_cells('C5:D5')\n",
    "\n",
    "mergedPlan.save('unmerged.xlsx')"
   ]
  },
  {
   "cell_type": "code",
   "execution_count": 36,
   "metadata": {},
   "outputs": [],
   "source": [
    "# Congelando painéis (linhas e colunas)\n",
    "\n",
    "import openpyxl\n",
    "\n",
    "freezeProductSales = openpyxl.load_workbook('produceSales.xlsx')\n",
    "plan1 = freezeProductSales.active\n",
    "\n",
    "plan1.freeze_panes = 'E2'\n",
    "\n",
    "freezeProductSales.save('freezeProduceSales.xlsx')"
   ]
  },
  {
   "cell_type": "code",
   "execution_count": 43,
   "metadata": {},
   "outputs": [],
   "source": [
    "# Gráficos\n",
    "\n",
    "import openpyxl\n",
    "\n",
    "pastGrafic = openpyxl.Workbook()\n",
    "graf01 = pastGrafic.active\n",
    "\n",
    "for i in range(1, 11):\n",
    "    graf01['A'+str(i)] = i\n",
    "\n",
    "from openpyxl.chart import BarChart, Series, Reference\n",
    "\n",
    "chart1 = BarChart()\n",
    "chart1.type = 'col'\n",
    "chart1.style = 10\n",
    "chart1.title = 'Bar Chart'\n",
    "chart1.y_axis.title = 'Test number'\n",
    "chart1.x_axis.title = 'Sample length (mm)'\n",
    "\n",
    "data = Reference(graf01, min_col=1, min_row=1, max_row=11 max_col=1)\n",
    "chart1.add_data(data, titles_from_data=True)\n",
    "\n",
    "graf01.add_chart(chart1, 'A13')\n",
    "\n",
    "# EXEMPLO DO LIVRO NÃO ROLA\n",
    "# refObj = openpyxl.chart.Reference(graf01, min_col=1, min_row=1, max_col=1, max_row=10)\n",
    "# seriesObj = openpyxl.chart.Series(refObj, title='First series')\n",
    "\n",
    "# chartObj = openpyxl.chart.BarChart()\n",
    "# chartObj.append(seriesObj)\n",
    "\n",
    "# chartObj. = 50\n",
    "# chartObj.drawing.left = 100\n",
    "# chartObj.drawing.width = 300\n",
    "# chartObj.drawing.height = 200\n",
    "\n",
    "# graf01.add_chart(chartObj)\n",
    "\n",
    "pastGrafic.save('sampleChart.xlsx')\n"
   ]
  },
  {
   "cell_type": "code",
   "execution_count": 44,
   "metadata": {},
   "outputs": [],
   "source": [
    "# Gráficos - referência externa\n",
    "\n",
    "from openpyxl import Workbook\n",
    "from openpyxl.chart import (\n",
    "    Reference,\n",
    "    Series,\n",
    "    BarChart3D,\n",
    ")\n",
    "\n",
    "wb = Workbook()\n",
    "ws = wb.active\n",
    "\n",
    "rows = [\n",
    "    (None, 2013, 2014),\n",
    "    (\"Apples\", 5, 4),\n",
    "    (\"Oranges\", 6, 2),\n",
    "    (\"Pears\", 8, 3)\n",
    "]\n",
    "\n",
    "for row in rows:\n",
    "    ws.append(row)\n",
    "\n",
    "data = Reference(ws, min_col=2, min_row=1, max_col=3, max_row=4)\n",
    "titles = Reference(ws, min_col=1, min_row=2, max_row=4)\n",
    "chart = BarChart3D()\n",
    "chart.title = \"3D Bar Chart\"\n",
    "chart.add_data(data=data, titles_from_data=True)\n",
    "chart.set_categories(titles)\n",
    "\n",
    "ws.add_chart(chart, \"E5\")\n",
    "wb.save(\"bar3d.xlsx\")"
   ]
  },
  {
   "cell_type": "code",
   "execution_count": null,
   "metadata": {},
   "outputs": [],
   "source": []
  }
 ]
}