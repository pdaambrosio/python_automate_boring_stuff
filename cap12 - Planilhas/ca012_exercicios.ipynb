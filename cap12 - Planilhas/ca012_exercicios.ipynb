{
 "metadata": {
  "language_info": {
   "codemirror_mode": {
    "name": "ipython",
    "version": 3
   },
   "file_extension": ".py",
   "mimetype": "text/x-python",
   "name": "python",
   "nbconvert_exporter": "python",
   "pygments_lexer": "ipython3",
   "version": "3.7.9-final"
  },
  "orig_nbformat": 2,
  "kernelspec": {
   "name": "Python 3.7.9 64-bit",
   "display_name": "Python 3.7.9 64-bit",
   "metadata": {
    "interpreter": {
     "hash": "d56ee6b60aebec99d6cd94134b60660a07005c400af5f583210d629c4771da92"
    }
   }
  }
 },
 "nbformat": 4,
 "nbformat_minor": 2,
 "cells": [
  {
   "source": [
    "1. O que a função openpyxl.load_workbook() retorna?"
   ],
   "cell_type": "markdown",
   "metadata": {}
  },
  {
   "cell_type": "code",
   "execution_count": 3,
   "metadata": {},
   "outputs": [
    {
     "output_type": "execute_result",
     "data": {
      "text/plain": "&lt;openpyxl.workbook.workbook.Workbook at 0x7fe9291dcad0&gt;"
     },
     "metadata": {},
     "execution_count": 3
    }
   ],
   "source": [
    "# retorna a planilha que foi carregada de acordo com o nome (string) que foi passado para a função ou resumindo, retorna um objeto Workbook. como por exemplo...\n",
    "\n",
    "import openpyxl\n",
    "\n",
    "plan = openpyxl.load_workbook('./produceSales.xlsx')\n",
    "\n",
    "plan"
   ]
  },
  {
   "source": [
    "2. O que o metodo de workbook get_sheet_names() retorna?"
   ],
   "cell_type": "markdown",
   "metadata": {}
  },
  {
   "cell_type": "code",
   "execution_count": 5,
   "metadata": {},
   "outputs": [
    {
     "output_type": "execute_result",
     "data": {
      "text/plain": "[&#39;Plan01&#39;]"
     },
     "metadata": {},
     "execution_count": 5
    }
   ],
   "source": [
    "# retorna a planilha ativa no momento da execução, ou seja, retorna um WorkSheet.\n",
    "\n",
    "import openpyxl\n",
    "\n",
    "plan = openpyxl.load_workbook('./plan01.xlsx')\n",
    "\n",
    "plan.get_sheet_names()"
   ]
  },
  {
   "source": [
    "3. Como podemos obter o objeto Worksheet de uma planilha chamada 'Sheet1'?"
   ],
   "cell_type": "markdown",
   "metadata": {}
  },
  {
   "cell_type": "code",
   "execution_count": 11,
   "metadata": {},
   "outputs": [
    {
     "output_type": "execute_result",
     "data": {
      "text/plain": "&lt;Worksheet &quot;Plan02&quot;&gt;"
     },
     "metadata": {},
     "execution_count": 11
    }
   ],
   "source": [
    "# podemos utilizar o metodo get_sheet_by_name('Sheet1'), conforme o exemplo abaixo, demonstra como obter o Worksheet 'Plan02' no Workbook 'plan01.xlsx'\n",
    "\n",
    "import openpyxl\n",
    "\n",
    "pasta = openpyxl.load_workbook('./plan01.xlsx')\n",
    "\n",
    "plan02 = pasta.get_sheet_by_name('Plan02')\n",
    "\n",
    "pasta.active"
   ]
  },
  {
   "source": [
    "4. Como podemos obter o objeto Worksheet da planilha ativa do workbook? "
   ],
   "cell_type": "markdown",
   "metadata": {}
  },
  {
   "cell_type": "code",
   "execution_count": 12,
   "metadata": {},
   "outputs": [
    {
     "output_type": "execute_result",
     "data": {
      "text/plain": "&lt;Worksheet &quot;Plan02&quot;&gt;"
     },
     "metadata": {},
     "execution_count": 12
    }
   ],
   "source": [
    "# podemos utilizar o metodo 'active' do Workbook, que utilizado em versões anteriores com o 'get_active_sheet()'. Exemplo:\n",
    "\n",
    "import openpyxl\n",
    "\n",
    "pasta = openpyxl.load_workbook('./plan01.xlsx')\n",
    "\n",
    "pasta.active"
   ]
  },
  {
   "source": [
    "5. Como podemos obter o valor que está na célula C5?"
   ],
   "cell_type": "markdown",
   "metadata": {}
  },
  {
   "cell_type": "code",
   "execution_count": 6,
   "metadata": {},
   "outputs": [
    {
     "output_type": "execute_result",
     "data": {
      "text/plain": "27.3"
     },
     "metadata": {},
     "execution_count": 6
    }
   ],
   "source": [
    "# podemos obter o valor usando o Worksheet com a especificando a celular com um string\n",
    "\n",
    "import openpyxl\n",
    "\n",
    "wb = openpyxl.load_workbook('./produceSales.xlsx')\n",
    "sheet = wb.active\n",
    "\n",
    "sheet['C5'].value\n",
    "\n",
    "# or\n",
    "\n",
    "sheet.cell(row=5, column=3).value"
   ]
  },
  {
   "source": [
    "6. Como podemos definir o valor da célula C5 para \"Hello\"?"
   ],
   "cell_type": "markdown",
   "metadata": {}
  },
  {
   "cell_type": "code",
   "execution_count": null,
   "metadata": {},
   "outputs": [],
   "source": [
    "# basta definir o valor de C5 como se fosse uma variavel, exemplo...abs\n",
    "\n",
    "sheet['C5'] = 'Hello'\n",
    "\n",
    "# or\n",
    "\n",
    "sheet(row=5, column=3).value = 'Hello'"
   ]
  },
  {
   "source": [
    "7. Como podemos obter a linha e a coluna da célula na forma de inteiros?"
   ],
   "cell_type": "markdown",
   "metadata": {}
  },
  {
   "cell_type": "code",
   "execution_count": 9,
   "metadata": {
    "tags": []
   },
   "outputs": [
    {
     "output_type": "stream",
     "name": "stdout",
     "text": "5\n3\n"
    }
   ],
   "source": [
    "# utilizando os metodos 'row' e 'column' da celula, como abaixo...\n",
    "\n",
    "cell = sheet['C5']\n",
    "\n",
    "print(cell.row)\n",
    "print(cell.column)"
   ]
  },
  {
   "source": [
    "8. O que os métodos de planilha get_highest_column() e get_highest_row() retornam e qual é o tipo de dado desses valores retornados?"
   ],
   "cell_type": "markdown",
   "metadata": {}
  },
  {
   "cell_type": "code",
   "execution_count": 11,
   "metadata": {
    "tags": []
   },
   "outputs": [
    {
     "output_type": "stream",
     "name": "stdout",
     "text": "72865\n4\n"
    }
   ],
   "source": [
    "# Retornam os maiores valores em quantidade de linhas e de columas como inteiros.\n",
    "\n",
    "import openpyxl\n",
    "\n",
    "past = openpyxl.load_workbook('./censuspopdata.xlsx')\n",
    "plan = past.active\n",
    "\n",
    "print(plan.max_row)\n",
    "print(plan.max_column)"
   ]
  },
  {
   "source": [
    "9. Se for preciso obter o índice inteiro da coluna \"M\", que função devemos chamar?"
   ],
   "cell_type": "markdown",
   "metadata": {}
  },
  {
   "cell_type": "code",
   "execution_count": 12,
   "metadata": {
    "tags": []
   },
   "outputs": [
    {
     "output_type": "stream",
     "name": "stdout",
     "text": "1\n"
    }
   ],
   "source": [
    "# podemos utilizar o 'column_index_from_string', conforme abaixo:\n",
    "\n",
    "import openpyxl\n",
    "from openpyxl.utils import get_column_letter, column_index_from_string\n",
    "\n",
    "pasta = openpyxl.load_workbook('./produceSales.xlsx')\n",
    "plan01 = pasta.active\n",
    "\n",
    "print(column_index_from_string('A'))"
   ]
  },
  {
   "source": [
    "10. Se for preciso obter o nome em string da coluna 14, que função devemos chamar?"
   ],
   "cell_type": "markdown",
   "metadata": {}
  },
  {
   "cell_type": "code",
   "execution_count": 13,
   "metadata": {
    "tags": []
   },
   "outputs": [
    {
     "output_type": "stream",
     "name": "stdout",
     "text": "N\n"
    }
   ],
   "source": [
    "# podemos utilizar o 'get_column_letter', conforme abaixo:\n",
    "\n",
    "import openpyxl\n",
    "from openpyxl.utils import get_column_letter, column_index_from_string\n",
    "\n",
    "pasta = openpyxl.load_workbook('./produceSales.xlsx')\n",
    "plan01 = pasta.active\n",
    "\n",
    "print(get_column_letter(14))\n"
   ]
  },
  {
   "source": [
    "11. Como podemos obter uma tupla com todos os objetos Cell de A1 a F1?"
   ],
   "cell_type": "markdown",
   "metadata": {}
  },
  {
   "cell_type": "code",
   "execution_count": 18,
   "metadata": {
    "tags": []
   },
   "outputs": [
    {
     "output_type": "stream",
     "name": "stdout",
     "text": "((&lt;Cell &#39;Sheet&#39;.A1&gt;, &lt;Cell &#39;Sheet&#39;.B1&gt;, &lt;Cell &#39;Sheet&#39;.C1&gt;, &lt;Cell &#39;Sheet&#39;.D1&gt;, &lt;Cell &#39;Sheet&#39;.E1&gt;, &lt;Cell &#39;Sheet&#39;.F1&gt;),)\nPRODUCE\nCOST PER POUND\nPOUNDS SOLD\nTOTAL\nNone\nNone\n"
    }
   ],
   "source": [
    "# utilizando sheet['A1':'F1'], como no exemplo\n",
    "\n",
    "import openpyxl\n",
    "\n",
    "pasta = openpyxl.load_workbook('./produceSales.xlsx')\n",
    "plan01 = pasta.active\n",
    "\n",
    "print(plan01['A1':'F1'])\n",
    "\n",
    "for row in plan01['A1':'F1']:\n",
    "    for i in row:\n",
    "        print(i.value)"
   ]
  },
  {
   "source": [
    "12. Como podemos salvar o workbook em um arquivo chamado example.xlsx?"
   ],
   "cell_type": "markdown",
   "metadata": {}
  },
  {
   "cell_type": "code",
   "execution_count": 19,
   "metadata": {},
   "outputs": [],
   "source": [
    "# utilizando o metodo 'save' do Workbook\n",
    "\n",
    "import openpyxl\n",
    "\n",
    "pasta = openpyxl.load_workbook('./produceSales.xlsx')\n",
    "\n",
    "pasta.save('example2.xlsx')"
   ]
  },
  {
   "source": [
    "13. Como definimos uma fórmula em uma célula?"
   ],
   "cell_type": "markdown",
   "metadata": {}
  },
  {
   "cell_type": "code",
   "execution_count": 22,
   "metadata": {
    "tags": []
   },
   "outputs": [
    {
     "output_type": "stream",
     "name": "stdout",
     "text": "500\n"
    }
   ],
   "source": [
    "# a formula é definida da mesma maneira que qualquer outro valor, lembrando que a formula começa com o sinal de '='\n",
    "\n",
    "import openpyxl\n",
    "\n",
    "pastFormula2 = openpyxl.load_workbook('writeFormula.xlsx', data_only=True)   # para obter o valor da formula é necessário abrir o arquivo pelo menos uma vez com o editor em questão (Excel), para o resultado ser armazenado na planilha\n",
    "plan2 = pastFormula2.active\n",
    "\n",
    "plan['A1'] = 200\n",
    "plan['A2'] = 300\n",
    "plan['A3'] = '=SUM(A1:A2)'\n",
    "\n",
    "print(plan2['A3'].value)"
   ]
  },
  {
   "source": [
    "14. Se quisermos obter o resultado da formula de uma célula, e não a formula da célula, o que devemos fazer antes?"
   ],
   "cell_type": "markdown",
   "metadata": {}
  },
  {
   "cell_type": "code",
   "execution_count": null,
   "metadata": {},
   "outputs": [],
   "source": [
    "# conforme demonstrado acima, ao chamar o 'load_workbook' chame o argumento 'data_only' definido como 'True'"
   ]
  },
  {
   "source": [
    "15. Como podemos definir a altura da linha 5 para 100?"
   ],
   "cell_type": "markdown",
   "metadata": {}
  },
  {
   "cell_type": "code",
   "execution_count": null,
   "metadata": {},
   "outputs": [],
   "source": [
    "# utilizando o 'row_dimensions'\n",
    "\n",
    "import openpyxl\n",
    "\n",
    "pasta = openpyxl.Workbook()\n",
    "plan1 = pasta.active\n",
    "plan1.title = 'plan1'\n",
    "\n",
    "plan1.row_dimensions[5].height = 100\n"
   ]
  },
  {
   "source": [
    "16. Como podemos ocultar a coluna C?"
   ],
   "cell_type": "markdown",
   "metadata": {}
  },
  {
   "cell_type": "code",
   "execution_count": 23,
   "metadata": {},
   "outputs": [],
   "source": [
    "# utilizando o 'column_dimensions'\n",
    "\n",
    "import openpyxl\n",
    "\n",
    "pasta = openpyxl.Workbook()\n",
    "plan1 = pasta.active\n",
    "plan1.title = 'plan1'\n",
    "\n",
    "plan1.column_dimensions['C'].hidden = True\n"
   ]
  },
  {
   "source": [
    "17. Nomeie alguns recursos que o OpenPyXL 2.1.4 não carrega a partir de um arquivo de planilha?"
   ],
   "cell_type": "markdown",
   "metadata": {}
  },
  {
   "cell_type": "code",
   "execution_count": null,
   "metadata": {},
   "outputs": [],
   "source": [
    "# a versão 2.0.5, não carrega paineis congelados, não exibe titulos, imagens ou gráficos"
   ]
  },
  {
   "source": [
    "18. o que é um painel congelado?"
   ],
   "cell_type": "markdown",
   "metadata": {}
  },
  {
   "cell_type": "code",
   "execution_count": null,
   "metadata": {},
   "outputs": [],
   "source": [
    "# são linhas e colunas que sempre aparecerão na tela. São convenientes para cabeçalhos.abs\n",
    "\n",
    "import openpyxl\n",
    "\n",
    "freezeProductSales = openpyxl.load_workbook('produceSales.xlsx')\n",
    "plan1 = freezeProductSales.active\n",
    "\n",
    "plan1.freeze_panes = 'E2'\n",
    "\n",
    "freezeProductSales.save('freezeProduceSales.xlsx')"
   ]
  },
  {
   "source": [
    "19. Quais são as cinco funções e os metodos que devemos chamar para criar um gráfico de barras?"
   ],
   "cell_type": "markdown",
   "metadata": {}
  },
  {
   "cell_type": "code",
   "execution_count": null,
   "metadata": {},
   "outputs": [],
   "source": [
    "# na versão mais recente do openpyxl, são estas...\n",
    "\n",
    "import openpyxl\n",
    "\n",
    "pastGrafic = openpyxl.Workbook()\n",
    "graf01 = pastGrafic.active\n",
    "\n",
    "for i in range(1, 11):\n",
    "    graf01['A'+str(i)] = i\n",
    "\n",
    "from openpyxl.chart import BarChart, Series, Reference\n",
    "\n",
    "chart1 = BarChart()\n",
    "chart1.type = 'col'\n",
    "chart1.style = 10\n",
    "chart1.title = 'Bar Chart'\n",
    "chart1.y_axis.title = 'Test number'\n",
    "chart1.x_axis.title = 'Sample length (mm)'\n",
    "\n",
    "data = Reference(graf01, min_col=1, min_row=1, max_row=11 max_col=1)\n",
    "chart1.add_data(data, titles_from_data=True)\n",
    "\n",
    "graf01.add_chart(chart1, 'A13')"
   ]
  }
 ]
}