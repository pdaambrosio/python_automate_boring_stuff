{
 "metadata": {
  "language_info": {
   "codemirror_mode": {
    "name": "ipython",
    "version": 3
   },
   "file_extension": ".py",
   "mimetype": "text/x-python",
   "name": "python",
   "nbconvert_exporter": "python",
   "pygments_lexer": "ipython3",
   "version": "3.7.9-final"
  },
  "orig_nbformat": 2,
  "kernelspec": {
   "name": "Python 3.7.9 64-bit",
   "display_name": "Python 3.7.9 64-bit",
   "metadata": {
    "interpreter": {
     "hash": "d56ee6b60aebec99d6cd94134b60660a07005c400af5f583210d629c4771da92"
    }
   }
  }
 },
 "nbformat": 4,
 "nbformat_minor": 2,
 "cells": [
  {
   "cell_type": "code",
   "execution_count": 19,
   "metadata": {
    "tags": []
   },
   "outputs": [
    {
     "output_type": "stream",
     "name": "stdout",
     "text": "Opening workbook...\nReading rows...\nWrotong results...\n\nDone\n"
    }
   ],
   "source": [
    "#!/home/pdajgs/python_labs/py3.7/bin/python3\n",
    "\n",
    "import openpyxl, pprint\n",
    "\n",
    "print('Opening workbook...')\n",
    "\n",
    "wb = openpyxl.load_workbook('censuspopdata.xlsx')\n",
    "sheet = wb.get_sheet_by_name('Population by Census Tract')\n",
    "\n",
    "countyData = {}        # população e setores de cada condado\n",
    "\n",
    "print('Reading rows...')\n",
    "\n",
    "for row in range(2, sheet.max_row + 1):         # sheet.max_row + 1\n",
    "    state = sheet['B' + str(row)].value\n",
    "    county = sheet['C' + str(row)].value\n",
    "    pop = sheet['D' + str(row)].value\n",
    "    countyData.setdefault(state, {})\n",
    "    countyData[state].setdefault(county, {'tracts':0, 'pop':0})\n",
    "    countyData[state][county]['tracts'] += 1\n",
    "    countyData[state][county]['pop'] += int(pop)\n",
    "\n",
    "print('Wrotong results...')\n",
    "\n",
    "with open('censu2010.py', 'w') as resultFile:\n",
    "    resultFile.write('allData = ' + pprint.pformat(countyData))\n",
    "\n",
    "print('\\nDone')"
   ]
  },
  {
   "cell_type": "code",
   "execution_count": 21,
   "metadata": {
    "tags": []
   },
   "outputs": [
    {
     "output_type": "stream",
     "name": "stdout",
     "text": "{'pop': 291826, 'tracts': 55}\n291826\n"
    }
   ],
   "source": [
    "import censu2010\n",
    "\n",
    "print(censu2010.allData['AK']['Anchorage'])\n",
    "print(censu2010.allData['AK']['Anchorage']['pop'])"
   ]
  },
  {
   "cell_type": "code",
   "execution_count": 18,
   "metadata": {},
   "outputs": [
    {
     "output_type": "execute_result",
     "data": {
      "text/plain": "72865"
     },
     "metadata": {},
     "execution_count": 18
    }
   ],
   "source": []
  },
  {
   "cell_type": "code",
   "execution_count": null,
   "metadata": {},
   "outputs": [],
   "source": []
  }
 ]
}