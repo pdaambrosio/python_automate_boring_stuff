{
 "metadata": {
  "language_info": {
   "codemirror_mode": {
    "name": "ipython",
    "version": 3
   },
   "file_extension": ".py",
   "mimetype": "text/x-python",
   "name": "python",
   "nbconvert_exporter": "python",
   "pygments_lexer": "ipython3",
   "version": "3.7.9-final"
  },
  "orig_nbformat": 2,
  "kernelspec": {
   "name": "Python 3.7.9 64-bit",
   "display_name": "Python 3.7.9 64-bit",
   "metadata": {
    "interpreter": {
     "hash": "d56ee6b60aebec99d6cd94134b60660a07005c400af5f583210d629c4771da92"
    }
   }
  }
 },
 "nbformat": 4,
 "nbformat_minor": 2,
 "cells": [
  {
   "cell_type": "code",
   "execution_count": null,
   "metadata": {},
   "outputs": [],
   "source": [
    "import openpyxl, sys\n",
    "from openpyxl.styles import Font, NamedStyle\n",
    "\n",
    "wb = openpyxl.Workbook()\n",
    "sheet = wb.active\n",
    "sheet.title = 'MultiplicationTable'\n",
    "\n",
    "font1 = Font(bold=True)\n",
    "\n",
    "num = sys.argv[1]\n",
    "\n",
    "for i in range(1, num)+1):\n",
    "    sheet['A' + str(i+1)] = i\n",
    "    sheet.cell(row=1, column=i+1).value = i\n",
    "\n",
    "    sheet['A' + str(i+1)].font = font1\n",
    "    sheet.cell(row=1, column=i+1).font =font1\n",
    "\n",
    "for j in range(1, int(num)+1):\n",
    "    for k in range(1, int(num)+1):\n",
    "        sheet.cell(row= j+1, column= k+1).value = j*k # exemplo da tabuada\n",
    "\n",
    "wb.save('multiplicationTable.xlsx')\n",
    "print('Done')"
   ]
  },
  {
   "cell_type": "code",
   "execution_count": null,
   "metadata": {},
   "outputs": [],
   "source": []
  }
 ]
}