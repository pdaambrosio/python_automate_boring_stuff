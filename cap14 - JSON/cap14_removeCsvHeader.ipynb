{
 "metadata": {
  "language_info": {
   "codemirror_mode": {
    "name": "ipython",
    "version": 3
   },
   "file_extension": ".py",
   "mimetype": "text/x-python",
   "name": "python",
   "nbconvert_exporter": "python",
   "pygments_lexer": "ipython3",
   "version": "3.7.9-final"
  },
  "orig_nbformat": 2,
  "kernelspec": {
   "name": "Python 3.7.9 64-bit",
   "display_name": "Python 3.7.9 64-bit",
   "metadata": {
    "interpreter": {
     "hash": "d56ee6b60aebec99d6cd94134b60660a07005c400af5f583210d629c4771da92"
    }
   }
  }
 },
 "nbformat": 4,
 "nbformat_minor": 2,
 "cells": [
  {
   "cell_type": "code",
   "execution_count": 12,
   "metadata": {},
   "outputs": [
    {
     "output_type": "stream",
     "name": "stdout",
     "text": [
      "Removing header fromexample.csv...\nRemoving header fromexampleWithHeader.csv...\nRemoving header fromoutput.csv...\nRemoving header fromexampleWrite.csv...\n"
     ]
    }
   ],
   "source": [
    "#!/home/pdajgs/python_labs/py3.7/bin/python3\n",
    "\n",
    "import csv, os\n",
    "\n",
    "os.makedirs('headerRemoved', exist_ok=True)\n",
    "\n",
    "for csvFilename in os.listdir('.'):\n",
    "    if not csvFilename.endswith('.csv'):\n",
    "        continue\n",
    "    print('Removing header from' + csvFilename + '...')\n",
    "    csvRows = []\n",
    "    with open(csvFilename) as csvFileObj:\n",
    "        readerObj = csv.reader(csvFileObj)\n",
    "        for row in readerObj:\n",
    "            if readerObj.line_num == 1:\n",
    "                continue\n",
    "            csvRows.append(row)\n",
    "    with open(os.path.join('headerRemoved', csvFilename), 'w', newline='') as csvFileObj:\n",
    "        csvWriter = csv.writer(csvFileObj)\n",
    "        for row in csvRows:\n",
    "            csvWriter.writerow(row)"
   ]
  },
  {
   "cell_type": "code",
   "execution_count": null,
   "metadata": {},
   "outputs": [],
   "source": []
  }
 ]
}