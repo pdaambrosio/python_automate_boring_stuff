{
 "metadata": {
  "language_info": {
   "codemirror_mode": {
    "name": "ipython",
    "version": 3
   },
   "file_extension": ".py",
   "mimetype": "text/x-python",
   "name": "python",
   "nbconvert_exporter": "python",
   "pygments_lexer": "ipython3",
   "version": "3.7.9-final"
  },
  "orig_nbformat": 2,
  "kernelspec": {
   "name": "Python 3.7.9 64-bit",
   "display_name": "Python 3.7.9 64-bit",
   "metadata": {
    "interpreter": {
     "hash": "d56ee6b60aebec99d6cd94134b60660a07005c400af5f583210d629c4771da92"
    }
   }
  }
 },
 "nbformat": 4,
 "nbformat_minor": 2,
 "cells": [
  {
   "source": [
    "1. Quais são alguns recursos presentes em planilhas do Excel que não estão presentes em planilhas CSV?"
   ],
   "cell_type": "markdown",
   "metadata": {}
  },
  {
   "cell_type": "code",
   "execution_count": null,
   "metadata": {},
   "outputs": [],
   "source": [
    "# Em Excel, as planilhas podem ter valores com tipos de dados que não sejam strings, as celulas podem ter configurações de fonte, tamanho ou cores diferentes, as celulas podem ter larguras e alturas variadas, celulas adjancentes podem ser mescladas, e você pode incluir imagens e gráficos."
   ]
  },
  {
   "source": [
    "2. O que devemos passar para csv.reader() e para csv.writer() para criar objetos Reader e Writer?"
   ],
   "cell_type": "markdown",
   "metadata": {}
  },
  {
   "cell_type": "code",
   "execution_count": 2,
   "metadata": {},
   "outputs": [
    {
     "output_type": "stream",
     "name": "stdout",
     "text": [
      "[['4/5/2014 13:34', 'Apples', '73'], ['4/5/2014 3:41', 'Cherries', '85'], ['4/6/2014 12:46', 'Pears', '14'], ['4/8/2014 8:59', 'Oranges', '52'], ['4/10/2014 2:07', 'Apples', '152'], ['4/10/2014 18:10', 'Bananas', '23'], ['4/10/2014 2:40', 'Strawberries', '98']]\n"
     ]
    }
   ],
   "source": [
    "# Passe o objeto file, obtido a partir de uma chamada open(), conforme abaixo.:\n",
    "\n",
    "import csv\n",
    "\n",
    "# reader\n",
    "with open('./example.csv') as fileCsv:\n",
    "    fileReader = csv.reader(fileCsv)\n",
    "    fileData = list(fileReader)\n",
    "\n",
    "print(fileData)\n",
    "\n",
    "# writer\n",
    "with open('./teste.csv', 'w', newline='') as fileCsvW:\n",
    "    fileWriter = csv.writer(fileCsvW)\n",
    "    fileWriter.writerrow(['test1', 'test2', 'test3'])\n"
   ]
  },
  {
   "source": [
    "3. Em quais modos os objetos File para objetos Reader e Writer devem ser abertos?"
   ],
   "cell_type": "markdown",
   "metadata": {}
  },
  {
   "cell_type": "code",
   "execution_count": null,
   "metadata": {},
   "outputs": [],
   "source": [
    "# Os objetos que se referem a arquivos binarios, devem ser abertos pelo open() com leitura 'rb' e escrita 'wb' binaria. CSV e JSON não são binarios, xlsx e PDF são.\n",
    "\n"
   ]
  },
  {
   "source": [
    "4. Qual o metódo aceita um argumento de lista e o grava em um arquivo CSV?"
   ],
   "cell_type": "markdown",
   "metadata": {}
  },
  {
   "cell_type": "code",
   "execution_count": null,
   "metadata": {},
   "outputs": [],
   "source": [
    "# writerrow\n",
    "\n",
    "with open('./teste.csv', 'w', newline='') as fileCsvW:\n",
    "    fileWriter = csv.writer(fileCsvW)\n",
    "    fileWriter.writerrow(['test1', 'test2', 'test3'])"
   ]
  },
  {
   "source": [
    "5. O que os argumentos nomeados delimiter e lineterminator fazem?"
   ],
   "cell_type": "markdown",
   "metadata": {}
  },
  {
   "cell_type": "code",
   "execution_count": null,
   "metadata": {},
   "outputs": [],
   "source": [
    "# O argumento delimiter altera a string usada para separar células em uma linha. O argumento lineterminator altera a string usada para separar linhas.\n",
    "\n",
    "import csv\n",
    "\n",
    "with open ('exampleWrite.csv', 'w', newline='') as csvFile:\n",
    "    csvWriter = csv.writer(csvFile, delimiter='\\t', lineterminator='\\n\\n')\n",
    "    csvWriter.writerow(['apples', 'oranges', 'grapes'])\n",
    "    csvWriter.writerow(['eggs', 'bacon', 'ham'])\n",
    "    csvWriter.writerow(['spam', 'spam', 'spam', 'spam'])"
   ]
  },
  {
   "source": [
    "6. Qual função aceita uma string com dados JSON e retorna uma estrutura de dados Python?"
   ],
   "cell_type": "markdown",
   "metadata": {}
  },
  {
   "cell_type": "code",
   "execution_count": null,
   "metadata": {},
   "outputs": [],
   "source": [
    "# json.loads()\n",
    "\n",
    "import json\n",
    "\n",
    "stringJson = '{\"name\":\"Zophie\", \"isCat\":\"True\", \"miceCaught\":0, \"felineIQ\":null}'\n",
    "\n",
    "convertPython = json.loads(stringJson)\n",
    "\n",
    "print(convertPython)"
   ]
  },
  {
   "source": [
    "7. Qual função aceita uma estrutura de dados Python e retorna uma string com dados JSON?"
   ],
   "cell_type": "markdown",
   "metadata": {}
  },
  {
   "cell_type": "code",
   "execution_count": null,
   "metadata": {},
   "outputs": [],
   "source": [
    "# json.dumps()\n",
    "\n",
    "pyDict = {'name': 'Zophie', 'isCat': 'True', 'miceCaught': 0, 'felineIQ': None}\n",
    "\n",
    "import json\n",
    "\n",
    "convertJson = json.dumps(pyDict)\n",
    "\n",
    "print(convertJson)"
   ]
  }
 ]
}