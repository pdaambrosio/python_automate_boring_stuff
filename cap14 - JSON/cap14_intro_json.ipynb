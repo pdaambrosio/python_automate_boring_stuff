{
 "metadata": {
  "language_info": {
   "codemirror_mode": {
    "name": "ipython",
    "version": 3
   },
   "file_extension": ".py",
   "mimetype": "text/x-python",
   "name": "python",
   "nbconvert_exporter": "python",
   "pygments_lexer": "ipython3",
   "version": "3.7.9-final"
  },
  "orig_nbformat": 2,
  "kernelspec": {
   "name": "Python 3.7.9 64-bit",
   "display_name": "Python 3.7.9 64-bit",
   "metadata": {
    "interpreter": {
     "hash": "d56ee6b60aebec99d6cd94134b60660a07005c400af5f583210d629c4771da92"
    }
   }
  }
 },
 "nbformat": 4,
 "nbformat_minor": 2,
 "cells": [
  {
   "cell_type": "code",
   "execution_count": 1,
   "metadata": {},
   "outputs": [
    {
     "output_type": "stream",
     "name": "stdout",
     "text": [
      "{'name': 'Zophie', 'isCat': 'True', 'miceCaught': 0, 'felineIQ': None}\n"
     ]
    }
   ],
   "source": [
    "# json.loads() - convertendo strings json para python\n",
    "\n",
    "import json\n",
    "\n",
    "stringJson = '{\"name\":\"Zophie\", \"isCat\":\"True\", \"miceCaught\":0, \"felineIQ\":null}'\n",
    "\n",
    "convertPython = json.loads(stringJson)\n",
    "\n",
    "print(convertPython)"
   ]
  },
  {
   "cell_type": "code",
   "execution_count": 9,
   "metadata": {},
   "outputs": [
    {
     "output_type": "stream",
     "name": "stdout",
     "text": [
      "{\"name\": \"Zophie\", \"isCat\": \"True\", \"miceCaught\": 0, \"felineIQ\": null}\n"
     ]
    }
   ],
   "source": [
    "# json.dumps() - convertendo python para json\n",
    "\n",
    "pyDict = {'name': 'Zophie', 'isCat': 'True', 'miceCaught': 0, 'felineIQ': None}\n",
    "\n",
    "import json\n",
    "\n",
    "convertJson = json.dumps(pyDict)\n",
    "\n",
    "print(convertJson)"
   ]
  },
  {
   "cell_type": "code",
   "execution_count": 10,
   "metadata": {},
   "outputs": [
    {
     "output_type": "stream",
     "name": "stdout",
     "text": [
      "{\"name\": \"Zophie\", \"isCat\": \"True\", \"miceCaught\": 0, \"felineIQ\": null}\n"
     ]
    }
   ],
   "source": [
    "print(convertJson)"
   ]
  },
  {
   "cell_type": "code",
   "execution_count": null,
   "metadata": {},
   "outputs": [],
   "source": []
  }
 ]
}