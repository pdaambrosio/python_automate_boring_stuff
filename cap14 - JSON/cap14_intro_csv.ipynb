{
 "metadata": {
  "language_info": {
   "codemirror_mode": {
    "name": "ipython",
    "version": 3
   },
   "file_extension": ".py",
   "mimetype": "text/x-python",
   "name": "python",
   "nbconvert_exporter": "python",
   "pygments_lexer": "ipython3",
   "version": "3.7.9-final"
  },
  "orig_nbformat": 2,
  "kernelspec": {
   "name": "Python 3.7.9 64-bit",
   "display_name": "Python 3.7.9 64-bit",
   "metadata": {
    "interpreter": {
     "hash": "d56ee6b60aebec99d6cd94134b60660a07005c400af5f583210d629c4771da92"
    }
   }
  }
 },
 "nbformat": 4,
 "nbformat_minor": 2,
 "cells": [
  {
   "cell_type": "code",
   "execution_count": 11,
   "metadata": {},
   "outputs": [
    {
     "output_type": "stream",
     "name": "stdout",
     "text": [
      "[['4/5/2014 13:34', 'Apples', '73'], ['4/5/2014 3:41', 'Cherries', '85'], ['4/6/2014 12:46', 'Pears', '14'], ['4/8/2014 8:59', 'Oranges', '52'], ['4/10/2014 2:07', 'Apples', '152'], ['4/10/2014 18:10', 'Bananas', '23'], ['4/10/2014 2:40', 'Strawberries', '98']]\n\n4/5/2014 13:34\nStrawberries\n"
     ]
    }
   ],
   "source": [
    "# Objetos Reader\n",
    "\n",
    "import csv\n",
    "\n",
    "with open ('example.csv') as exampleFile:\n",
    "    exampleReader = csv.reader(exampleFile)\n",
    "    exampleData = list(exampleReader)\n",
    "\n",
    "# exampleData[[row][column]]\n",
    "\n",
    "print(exampleData)\n",
    "print()\n",
    "print(exampleData[0][0])\n",
    "print(exampleData[6][1])\n"
   ]
  },
  {
   "cell_type": "code",
   "execution_count": 13,
   "metadata": {},
   "outputs": [
    {
     "output_type": "stream",
     "name": "stdout",
     "text": [
      "Row #1 ['4/5/2014 13:34', 'Apples', '73']\nRow #2 ['4/5/2014 3:41', 'Cherries', '85']\nRow #3 ['4/6/2014 12:46', 'Pears', '14']\nRow #4 ['4/8/2014 8:59', 'Oranges', '52']\nRow #5 ['4/10/2014 2:07', 'Apples', '152']\nRow #6 ['4/10/2014 18:10', 'Bananas', '23']\nRow #7 ['4/10/2014 2:40', 'Strawberries', '98']\n"
     ]
    }
   ],
   "source": [
    "# Reader com loop for\n",
    "\n",
    "import csv\n",
    "\n",
    "with open('example.csv') as exampleFile:\n",
    "    exampleReader = csv.reader(exampleFile)\n",
    "    for row in exampleReader:\n",
    "        print('Row #' + str(exampleReader.line_num) + ' ' + str(row))\n",
    "\n",
    "# exemplo para coletar dados\n",
    "\n",
    "# with open('example.csv') as exampleFile:\n",
    "#     exampleReader = csv.reader(exampleFile)\n",
    "#     for row in exampleReader:\n",
    "#         print('Row #' + str(exampleReader.line_num) + ' ' + str(row[1]))"
   ]
  },
  {
   "cell_type": "code",
   "execution_count": 18,
   "metadata": {},
   "outputs": [],
   "source": [
    "# Objeto Writer\n",
    "\n",
    "import csv\n",
    "\n",
    "with open ('output.csv', 'w', newline='') as outputFile:\n",
    "    outputWriter = csv.writer(outputFile)\n",
    "    outputWriter.writerow(['spam', 'eggs', 'bacon', 'ham'])\n",
    "    outputWriter.writerow(['Hello, world!', 'eggs', 'bacon', 'ham'])\n",
    "    outputWriter.writerow([1,2,3.141592,4])"
   ]
  },
  {
   "cell_type": "code",
   "execution_count": 21,
   "metadata": {},
   "outputs": [
    {
     "output_type": "stream",
     "name": "stdout",
     "text": [
      "[['spam', 'eggs', 'bacon', 'ham'], ['Hello, world!', 'eggs', 'bacon', 'ham'], ['1', '2', '3.141592', '4']]\n"
     ]
    }
   ],
   "source": [
    "with open ('output.csv') as readerFile:\n",
    "    reade = csv.reader(readerFile)\n",
    "    print(list(reade))"
   ]
  },
  {
   "cell_type": "code",
   "execution_count": 23,
   "metadata": {},
   "outputs": [],
   "source": [
    "# Delimiter e lineterminator\n",
    "\n",
    "import csv\n",
    "\n",
    "with open ('exampleWrite.csv', 'w', newline='') as csvFile:\n",
    "    csvWriter = csv.writer(csvFile, delimiter='\\t', lineterminator='\\n\\n')\n",
    "    csvWriter.writerow(['apples', 'oranges', 'grapes'])\n",
    "    csvWriter.writerow(['eggs', 'bacon', 'ham'])\n",
    "    csvWriter.writerow(['spam', 'spam', 'spam', 'spam'])"
   ]
  },
  {
   "cell_type": "code",
   "execution_count": null,
   "metadata": {},
   "outputs": [],
   "source": []
  }
 ]
}