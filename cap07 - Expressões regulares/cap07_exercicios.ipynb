{
 "metadata": {
  "language_info": {
   "codemirror_mode": {
    "name": "ipython",
    "version": 3
   },
   "file_extension": ".py",
   "mimetype": "text/x-python",
   "name": "python",
   "nbconvert_exporter": "python",
   "pygments_lexer": "ipython3",
   "version": "3.7.8-final"
  },
  "orig_nbformat": 2,
  "kernelspec": {
   "name": "python37764bitpy37virtualenv724f8c74c5c7478bad670819f0cdf1e2",
   "display_name": "Python 3.7.7 64-bit ('py3.7': virtualenv)"
  }
 },
 "nbformat": 4,
 "nbformat_minor": 2,
 "cells": [
  {
   "cell_type": "markdown",
   "metadata": {},
   "source": [
    "1. Qual a função que cria objetos Regex?"
   ]
  },
  {
   "cell_type": "code",
   "execution_count": 4,
   "metadata": {},
   "outputs": [],
   "source": [
    "# esta aqui...\n",
    "import re\n",
    "\n",
    "phone_br = re.compile(r'\\(\\d{3}\\)(\\s)(\\d{4})-(\\d{4})')"
   ]
  },
  {
   "cell_type": "markdown",
   "metadata": {},
   "source": [
    "2. Por que as strings puras (raw strings) são mais usadas na criação de objetos Regex?"
   ]
  },
  {
   "cell_type": "code",
   "execution_count": 11,
   "metadata": {
    "tags": []
   },
   "outputs": [],
   "source": [
    "# strings puras são usadas para que as barras invertidas não precisem ser escapadas\n"
   ]
  },
  {
   "cell_type": "markdown",
   "metadata": {},
   "source": [
    "3. O que o método 'search' retorna?"
   ]
  },
  {
   "cell_type": "code",
   "execution_count": 24,
   "metadata": {
    "tags": []
   },
   "outputs": [
    {
     "output_type": "stream",
     "name": "stdout",
     "text": "<re.Match object; span=(2, 17), match='(011) 9999-8888'>\n"
    }
   ],
   "source": [
    "# O metodo search retorna o primeiro valor encontrado de acordo com a expressão regular passada pelo 're.compile' conforme abaixo.:\n",
    "\n",
    "import re\n",
    "\n",
    "phone_br = re.compile(r'\\(\\d{3}\\)(\\s)(\\d{4})-(\\d{4})')\n",
    "\n",
    "list_phone = ['(011) 9999-8888','(011) 7777-8888']\n",
    "\n",
    "print(phone_br.search(str(list_phone)))"
   ]
  },
  {
   "cell_type": "markdown",
   "metadata": {},
   "source": [
    "4. Como podemos obter as strings correspondente ao padrão a partir de um objeto match?"
   ]
  },
  {
   "cell_type": "code",
   "execution_count": 23,
   "metadata": {
    "tags": []
   },
   "outputs": [
    {
     "output_type": "stream",
     "name": "stdout",
     "text": "(011) 9999-8888\n"
    }
   ],
   "source": [
    "# o metodo 'group()' retorna o valor com a string correspondente, se liga...\n",
    "\n",
    "import re\n",
    "\n",
    "phone_br = re.compile(r'\\(\\d{3}\\)(\\s)(\\d{4})-(\\d{4})')\n",
    "\n",
    "list_phone = ['(011) 9999-8888','(011) 7777-8888']\n",
    "\n",
    "print(phone_br.search(str(list_phone)).group())"
   ]
  },
  {
   "cell_type": "markdown",
   "metadata": {},
   "source": [
    "5. Na regex criada a partir de r'(\\d\\d\\d)-(\\d\\d\\d-\\d\\d\\d\\d)', o que o grupo 0, o grupo 1 e o grupo 2 retornam?"
   ]
  },
  {
   "cell_type": "code",
   "execution_count": 41,
   "metadata": {
    "tags": []
   },
   "outputs": [
    {
     "output_type": "stream",
     "name": "stdout",
     "text": "432-412-3123\n432\n412-3123\n"
    }
   ],
   "source": [
    "# bora ver codando...\n",
    "\n",
    "import re\n",
    "\n",
    "eua_phone = re.compile(r'(\\d\\d\\d)-(\\d\\d\\d-\\d\\d\\d\\d)')\n",
    "\n",
    "eua_num = '432-412-3123'\n",
    "\n",
    "print(eua_phone.search(eua_num).group(0)) # group 0, retorna todo o resultado do match seria o mesmo que utilizar 'group()'\n",
    "print(eua_phone.search(eua_num).group(1)) # group 1, retorna o primeiro valor entre parênteses da expressão regular, ou seja '(\\d\\d\\d)' = '432'\n",
    "print(eua_phone.search(eua_num).group(2)) # group 2, retorna o segundo valor entre parênteses da expressão regular, ou seja '(\\d\\d\\d-\\d\\d\\d\\d)' = '412-3123'\n",
    "\n",
    "\n"
   ]
  },
  {
   "cell_type": "markdown",
   "metadata": {},
   "source": [
    "6. Os parêntese e pontos têm significados especificos na sintaxe das expressões regulares. Como podemos especificar uma regex que corresponda aos caracteres que representam parênteses e pontos?"
   ]
  },
  {
   "cell_type": "code",
   "execution_count": 44,
   "metadata": {
    "tags": []
   },
   "outputs": [
    {
     "output_type": "stream",
     "name": "stdout",
     "text": "(011) 9999.8888\n"
    }
   ],
   "source": [
    "# Esses valores podem ser escapados com o '\\'... exemplo:\n",
    "\n",
    "phone_br = re.compile(r'\\(\\d{3}\\)(\\s)(\\d{4})\\.(\\d{4})') # parênteses escapado com '\\(' e '\\)' nesta expressão regular e ponto com '\\.'\n",
    "\n",
    "list_phone = ['(011) 9999.8888','(011) 7777-8888']\n",
    "\n",
    "print(phone_br.search(str(list_phone)).group())"
   ]
  },
  {
   "cell_type": "markdown",
   "metadata": {},
   "source": [
    "7. O metodo findall() retorna uma lista de strings ou uma lista de tuplas de strings. O que faz com que uma ou outra opção seja retornada?"
   ]
  },
  {
   "cell_type": "code",
   "execution_count": 51,
   "metadata": {
    "tags": []
   },
   "outputs": [
    {
     "output_type": "stream",
     "name": "stdout",
     "text": "['011 9999-8888', '011 7777-8888']\n[('011', '9999-8888'), ('011', '7777-8888')]\n"
    }
   ],
   "source": [
    "# Se tiver grupos na expressão regular, uma lista de tuplas de strings será retornada. Se não houver uma lista de strings será retornada.\n",
    "\n",
    "phone_no_group = re.compile(r'\\d{3}\\s\\d{4}-\\d{4}')\n",
    "phone_group = re.compile(r'(\\d{3})\\s(\\d{4}-\\d{4})')\n",
    "\n",
    "list_phone = ['011 9999-8888','011 7777-8888']\n",
    "\n",
    "print(phone_no_group.findall(str(list_phone)))\n",
    "print(phone_group.findall(str(list_phone)))"
   ]
  },
  {
   "cell_type": "markdown",
   "metadata": {},
   "source": [
    "8. O que o caractere '|' representa em expressões regulares?"
   ]
  },
  {
   "cell_type": "code",
   "execution_count": 3,
   "metadata": {
    "tags": []
   },
   "outputs": [
    {
     "output_type": "stream",
     "name": "stdout",
     "text": "[('011', '9999-8888'), ('(011)', '7777-8888')]\n"
    }
   ],
   "source": [
    "# o caractere pipe '|' representa 'ou' nas expressões regulares, conforme demonstrado abaixo.:\n",
    "\n",
    "import re\n",
    "\n",
    "phone_with_pipe = re.compile(r'(\\d{3}|\\(\\d{3}\\))\\s(\\d{4}-\\d{4})') # nesta expressão regular o pipe '|' foi utilizado para o grupo que faz referência ao codigo de aréa, permitindo que o mesmo seja adicionado com ou sem parênteses.\n",
    "\n",
    "list_phone = ['011 9999-8888','(011) 7777-8888']\n",
    "\n",
    "print(phone_with_pipe.findall(str(list_phone)))"
   ]
  },
  {
   "cell_type": "markdown",
   "metadata": {},
   "source": [
    "9. Qual são os significados dos caractere '?' em expressões regulares?"
   ]
  },
  {
   "cell_type": "code",
   "execution_count": 9,
   "metadata": {
    "tags": []
   },
   "outputs": [
    {
     "output_type": "stream",
     "name": "stdout",
     "text": "[('011', '9999-8888'), ('(011)', '7777-8888'), ('', '4444-5555')]\n"
    }
   ],
   "source": [
    "# o ponto de interrogação '?' significa que a expressão anterios pode conter 0, não é obrigatorias ou nogreedy, conforme demonstrado abaixo:\n",
    "\n",
    "import re\n",
    "\n",
    "phone_with_question_mark = re.compile(r'(\\d{3}|\\(\\d{3}\\))?\\s?(\\d{4}-\\d{4})') # o ponto de interrogação foi adicionado ao grupo que se referente ao codigo de área e ao espaço, sendo assim agora eles podem conter '0' não sendo obrigatorio para o regex.\n",
    "\n",
    "list_phone1 = ['011 9999-8888','(011) 7777-8888', '4444-5555']\n",
    "\n",
    "print(phone_with_question_mark.findall(str(list_phone1)))"
   ]
  },
  {
   "cell_type": "markdown",
   "metadata": {},
   "source": [
    "10. Qual a diferença entre os caracteres '+' e '*' em expressões regulares?"
   ]
  },
  {
   "cell_type": "code",
   "execution_count": 11,
   "metadata": {
    "tags": []
   },
   "outputs": [
    {
     "output_type": "stream",
     "name": "stdout",
     "text": "[('011', '9999-8888'), ('(011)', '7777-8888'), ('442', '32123144-5555232')]\n"
    }
   ],
   "source": [
    "# o caractere '+' corresponde a 1 ou mais, já o '*' corresponde a 0 ou mais.\n",
    "\n",
    "import re\n",
    "\n",
    "phone_sum_asterisk = re.compile(r'(\\d{3}|\\(\\d{3}\\))?\\s?(\\d+-\\d*)') # os caracteres '+' e '*' foram adicionados ao grupo referente ao numero de telefone, sendo que agora esses valores podem conter 1 ou mais e 0 ou mais respectivamente\n",
    "\n",
    "list_phone2 = ['011 9999-8888','(011) 7777-8888', '44232123144-5555232']\n",
    "\n",
    "print(phone_sum_asterisk.findall(str(list_phone2)))\n"
   ]
  },
  {
   "cell_type": "markdown",
   "metadata": {},
   "source": [
    "11. Qual a diferença entre {3} e {3,5} em expressões regulares?"
   ]
  },
  {
   "cell_type": "code",
   "execution_count": 14,
   "metadata": {
    "tags": []
   },
   "outputs": [
    {
     "output_type": "stream",
     "name": "stdout",
     "text": "[('011', '9999-8888'), ('(011)', '7777-8888'), ('321', '23144-5511'), ('', '55555-4444')]\n"
    }
   ],
   "source": [
    "# {3} representa exatamente 3 ocorrências do grupo anterior, {3,5} representa exatamente de 3 a 5 ocorrências do groupo anterior\n",
    "\n",
    "phone3_5 = re.compile(r'(\\d{3}|\\(\\d{3}\\))?\\s?(\\d{3,5}-\\d{4})')\n",
    "\n",
    "list_phone3 = ['011 9999-8888','(011) 7777-8888', '44232123144-551155232', '55555-4444']\n",
    "\n",
    "print(phone3_5.findall(str(list_phone3)))"
   ]
  },
  {
   "cell_type": "markdown",
   "metadata": {},
   "source": [
    "12. O que as classes abreviadas de caracteres \\d, \\w e \\s representam em expressões regulares?"
   ]
  },
  {
   "cell_type": "code",
   "execution_count": 15,
   "metadata": {},
   "outputs": [],
   "source": [
    "# \\d qualquer digito de 0 a 9\n",
    "# \\w qualquer letra, digito ou caractere underscore '_'\n",
    "# \\s qualquer espaço, tabulação ou carectere de quebra de linha"
   ]
  },
  {
   "cell_type": "markdown",
   "metadata": {},
   "source": [
    "13. O que as classes abreviadas de caracteres \\D, \\W e \\S representam em expressões regulares?"
   ]
  },
  {
   "cell_type": "code",
   "execution_count": 1,
   "metadata": {},
   "outputs": [],
   "source": [
    "# \\D qualquer caractere que não seja um digito de 0 a 9\n",
    "# \\W qualquer caractere que não seja uma letra, digito ou caractere underscore '_'\n",
    "# \\S qualquer caractere que não seja espaço, tabulação ou carectere de quebra de linha"
   ]
  },
  {
   "cell_type": "markdown",
   "metadata": {},
   "source": [
    "14. Como podemos fazer uma expressão regular ignorar as diferenças entre letras maiúsculas e minusculas (ser case-sensitive)?"
   ]
  },
  {
   "cell_type": "code",
   "execution_count": 3,
   "metadata": {
    "tags": []
   },
   "outputs": [
    {
     "output_type": "stream",
     "name": "stdout",
     "text": "RoboCop\nROBOCOP\nrobocop\n"
    }
   ],
   "source": [
    "# podemos utilizar o 're.IGNORECASE', conforme demonstrado abaixo.:\n",
    "\n",
    "import re\n",
    "robocop = re.compile(r'robocop',re.I) # o 're.I' é o mesmo que 're.IGNORECASE'.\n",
    "\n",
    "print(robocop.search('RoboCop is part man, part machine, all cop.').group())\n",
    "print(robocop.search('ROBOCOP protects the innocent.').group())\n",
    "print(robocop.search('Al, why does your programming book talk about robocop so much?').group())\n"
   ]
  },
  {
   "cell_type": "markdown",
   "metadata": {},
   "source": [
    "15. A que o caractere '.' normalmente corresponde? A que ele corresponderá se 're.DOTALL' for passado como segundo argumento do 're.compile()'?"
   ]
  },
  {
   "cell_type": "code",
   "execution_count": 4,
   "metadata": {
    "tags": []
   },
   "outputs": [
    {
     "output_type": "stream",
     "name": "stdout",
     "text": "Serve the public trust.\n\nServe the public trust.\nProtect the innocent.\nUphold the law.\n"
    }
   ],
   "source": [
    "# o '.' corresponde a qualquer caractere, exceto quebra de linha.\n",
    "# se o '.' for utilizado com o 're.DOTALL' ele irá corresponder a quebra de linha. Conforme abaixo:\n",
    "\n",
    "# sem corresponder a quebra\n",
    "new_line_regex = re.compile(r'.*')\n",
    "print(new_line_regex.search('Serve the public trust.\\nProtect the innocent.\\nUphold the law.').group())\n",
    "print() # pular linha\n",
    "\n",
    "# correspondendo a quebra\n",
    "new_line_regex1 = re.compile('.*',re.DOTALL)\n",
    "print(new_line_regex1.search('Serve the public trust.\\nProtect the innocent.\\nUphold the law.').group())\n",
    "\n"
   ]
  },
  {
   "cell_type": "markdown",
   "metadata": {},
   "source": [
    "16. Qual a diferença entre .* e .*??"
   ]
  },
  {
   "cell_type": "code",
   "execution_count": 12,
   "metadata": {
    "tags": []
   },
   "outputs": [
    {
     "output_type": "stream",
     "name": "stdout",
     "text": "HaHaHaHaHa\nHaHaHa\n\nHaHa\nHaHa\n"
    }
   ],
   "source": [
    "# o '.*' realiza uma correnpondencia greedy e o '.*?' realiza uma correspondencia nongreedy\n",
    "\n",
    "# correspondências greedy\n",
    "\n",
    "greedy_ha_regex = re.compile(r'(Ha){2,5}')\n",
    "\n",
    "ha3 = greedy_ha_regex.search('HaHaHaHaHa')\n",
    "ha4 = greedy_ha_regex.search('HaHaHa')\n",
    "\n",
    "print(ha3.group())\n",
    "print(ha4.group())\n",
    "print()\n",
    "\n",
    "# correspondências nongreedy\n",
    "\n",
    "nongreedy_ha_regex = re.compile(r'(Ha){2,5}?') # repare no ponto de interrogação\n",
    "\n",
    "ha5 = nongreedy_ha_regex.search('HaHaHaHaHa')\n",
    "ha6 = nongreedy_ha_regex.search('HaHaHa')\n",
    "\n",
    "print(ha5.group())\n",
    "print(ha6.group())"
   ]
  },
  {
   "cell_type": "markdown",
   "metadata": {},
   "source": [
    "17. Qual é a sintaxe da classe de caracteres que corresponde a todos os numeros e a todas as letras minúsculas?"
   ]
  },
  {
   "cell_type": "code",
   "execution_count": 13,
   "metadata": {},
   "outputs": [],
   "source": [
    "# [a-z0-9] ou [0-9a-z]"
   ]
  },
  {
   "cell_type": "markdown",
   "metadata": {},
   "source": [
    "18. Se numRegex = re.compile(r'\\d+'), o que numRegex.sub('X', '12 drummers, 11 pipers, five rings, 3 hens') retornará? "
   ]
  },
  {
   "cell_type": "code",
   "execution_count": 14,
   "metadata": {
    "tags": []
   },
   "outputs": [
    {
     "output_type": "stream",
     "name": "stdout",
     "text": "X drummers, X pipers, five rings, X hens\n"
    }
   ],
   "source": [
    "# vamo ver isso agora...\n",
    "\n",
    "numRegex = re.compile(r'\\d+')\n",
    "\n",
    "print(numRegex.sub('X', '12 drummers, 11 pipers, five rings, 3 hens')) # o 'X' irá substituir o valor"
   ]
  },
  {
   "cell_type": "markdown",
   "metadata": {},
   "source": [
    "19.  O que a especificação de 're.VERBOSE' como segundo argumento de 're.compile()' permite fazer?"
   ]
  },
  {
   "cell_type": "code",
   "execution_count": 2,
   "metadata": {},
   "outputs": [],
   "source": [
    "# permite adicionar espaços em branco e comentários a string passada para 're.compile()', conforme o exemplo abaixo.:\n",
    "\n",
    "# administrando regexes complexas\n",
    "import re\n",
    "\n",
    "phones_regex = re.compile(r'((\\d{3}|\\(\\d{3}\\))?(\\s|-|\\.)?\\d{3}(\\s|-|\\.)\\d{4}(\\s*(ext|x|ext.)\\s*\\d{2,5})?)')\n",
    "\n",
    "# distribuindo a expressão regular em varias linhas (re.VERBOSE)\n",
    "\n",
    "phones_regex1 = re.compile(r'''(\n",
    "    (\\d{3}|\\(\\d{3}\\))?              # codigo de aréa\n",
    "    (\\s|-|\\.)                       # separador\n",
    "    \\d{3}                           # primeiros 3 digitos\n",
    "    (\\s|-|\\.)                       # separador\n",
    "    \\d{4}                           # últimos 4 digitos\n",
    "    (\\s*(ext|x|ext.)\\s*d{2,5})?     # extensão\n",
    ")''',re.VERBOSE)"
   ]
  },
  {
   "cell_type": "markdown",
   "metadata": {},
   "source": [
    "20. Escreva regex um regex que corresponda a um numero com virgula a cada três digitos ele deverá corresponder a: '42', '1,234' e '6,368,745'. Mas não deverá corresponder a '12,34,567' e '1234'."
   ]
  },
  {
   "cell_type": "code",
   "execution_count": 65,
   "metadata": {
    "tags": []
   },
   "outputs": [
    {
     "output_type": "stream",
     "name": "stdout",
     "text": "<re.Match object; span=(0, 2), match='10'>\n<re.Match object; span=(0, 2), match='42'>\n<re.Match object; span=(0, 5), match='1,321'>\n<re.Match object; span=(0, 9), match='6,368,745'>\nNone\nNone\n<re.Match object; span=(0, 7), match='123,123'>\n[]\nNone\n"
    }
   ],
   "source": [
    "import re\n",
    "\n",
    "num_virgula = re.compile(r'^\\d{1,3}(,\\d{3})*$')\n",
    "\n",
    "common = '12,34,567'\n",
    "\n",
    "lista = ('10', '42', '1,321', '6,368,745', '12,34,567', '1234', '123,123')\n",
    "\n",
    "for i in lista:\n",
    "    print(num_virgula.search(i))\n",
    "\n",
    "print(num_virgula.findall(str(lista)))\n",
    "\n",
    "print(num_virgula.search(common))\n"
   ]
  },
  {
   "cell_type": "markdown",
   "metadata": {},
   "source": [
    "21. Escreva um regex que corresponda ao nome completo de alguém cujo sobrenome seja 'Nakamoto'?"
   ]
  },
  {
   "cell_type": "code",
   "execution_count": 74,
   "metadata": {
    "tags": []
   },
   "outputs": [
    {
     "output_type": "stream",
     "name": "stdout",
     "text": "<re.Match object; span=(0, 16), match='Satoshi Nakamoto'>\n<re.Match object; span=(0, 14), match='Alice Nakamoto'>\n<re.Match object; span=(0, 16), match='Robocop Nakamoto'>\nNone\nNone\nNone\nNone\n['Satoshi Nakamoto', 'Alice Nakamoto', 'Robocop Nakamoto']\n"
    }
   ],
   "source": [
    "import re\n",
    "\n",
    "name = re.compile(r'[A-Z][a-z]*\\sNakamoto')\n",
    "\n",
    "lista_name = ['Satoshi Nakamoto', 'Alice Nakamoto', 'Robocop Nakamoto', 'satoshi Nakamoto', 'Mr. Nakamoto', 'Nakamoto', 'Satoshi nakamoto']\n",
    "\n",
    "for i in lista_name:\n",
    "    print(name.search(str(i)))\n",
    "\n",
    "print(name.findall(str(lista_name)))"
   ]
  },
  {
   "cell_type": "markdown",
   "metadata": {},
   "source": [
    "22. Escreva um regex que corresponda a uma frase que a primeira letra seja Alice, Bob ou Carol e a segunda seja eats, pets ou throws e a terceira seja apples, cats ou baseballs e a frase termine com ponto."
   ]
  },
  {
   "cell_type": "code",
   "execution_count": 115,
   "metadata": {
    "tags": []
   },
   "outputs": [
    {
     "output_type": "stream",
     "name": "stdout",
     "text": "<re.Match object; span=(0, 18), match='Alice eats apples.'>\n<re.Match object; span=(0, 14), match='Bob pets cats.'>\n<re.Match object; span=(0, 23), match='Carol throws baseballs.'>\nNone\nNone\nNone\n[('Alice', 'eats', 'apples'), ('Bob', 'pets', 'cats'), ('Carol', 'throws', 'baseballs')]\n"
    }
   ],
   "source": [
    "import re\n",
    "\n",
    "first = re.compile(r'(Alice|Bob|Carol)\\s(eats|pets|throws)\\s(apples|cats|baseballs)\\.',re.IGNORECASE)\n",
    "\n",
    "test = 'Alice pets cats'\n",
    "lista_first = ['Alice eats apples.', 'Bob pets cats.', 'Carol throws baseballs.', 'Robocops eats apples.', 'ALICE THROWS FOOTBALLS.', 'Carol eats 7 cats.']\n",
    "\n",
    "for i in lista_first:\n",
    "    print(first.search(i))\n",
    "\n",
    "print(first.findall(str(lista_first)))"
   ]
  },
  {
   "cell_type": "code",
   "execution_count": null,
   "metadata": {},
   "outputs": [],
   "source": []
  }
 ]
}