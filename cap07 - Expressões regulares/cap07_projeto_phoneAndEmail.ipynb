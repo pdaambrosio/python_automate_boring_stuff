{
 "metadata": {
  "language_info": {
   "codemirror_mode": {
    "name": "ipython",
    "version": 3
   },
   "file_extension": ".py",
   "mimetype": "text/x-python",
   "name": "python",
   "nbconvert_exporter": "python",
   "pygments_lexer": "ipython3",
   "version": "3.7.7-final"
  },
  "orig_nbformat": 2,
  "kernelspec": {
   "name": "python37764bitpy37virtualenv724f8c74c5c7478bad670819f0cdf1e2",
   "display_name": "Python 3.7.7 64-bit ('py3.7': virtualenv)"
  }
 },
 "nbformat": 4,
 "nbformat_minor": 2,
 "cells": [
  {
   "cell_type": "code",
   "execution_count": 1,
   "metadata": {
    "tags": []
   },
   "outputs": [
    {
     "output_type": "stream",
     "name": "stdout",
     "text": "Copied to clipboard:\n800-420-7240\n415-863-9900\n415-863-9950\ninfo@nostarch.com\nmedia@nostarch.com\nacademic@nostarch.com\ninfo@nostarch.com\n"
    }
   ],
   "source": [
    "#!/home/pdajgs/python_labs/py3.7/bin/python3\n",
    "\n",
    "import pyperclip,re\n",
    "\n",
    "phone_regex = re.compile(r'''(\n",
    "    (\\d{3}|\\(\\d{3}\\))?                # codigo de aréa\n",
    "    (\\s|-|\\.)?                        # separador\n",
    "    (\\d{3})                           # primeiros 3 digitos\n",
    "    (\\s|-|\\.)                         # separador\n",
    "    (\\d{4})                           # últimos 4 digitos\n",
    "    (\\s*(ext|x|ext.)\\s*(d{2,5}))?     # extensão\n",
    ")''',re.VERBOSE)\n",
    "\n",
    "email_regex = re.compile(r'''(\n",
    "    [a-zA-Z0-9._%+-]+                  # nome do usuário\n",
    "    @                                  # arroba\n",
    "    [a-zA-Z0-9.-]+                     # nome do domínio\n",
    "    (\\.[a-zA-Z{2,4}])?                 # ponto seguido de outros caracteres\n",
    ")''',re.VERBOSE)\n",
    "\n",
    "text = str(pyperclip.paste())\n",
    "matches = []\n",
    "\n",
    "for groups in phone_regex.findall(text):\n",
    "    phone_num = '-'.join([groups[1],groups[3],groups[5]])\n",
    "    if groups[8] != '':\n",
    "        phone_num += 'x' + groups[8]\n",
    "    matches.append(phone_num)\n",
    "\n",
    "for groups in email_regex.findall(text):\n",
    "    matches.append(groups[0])\n",
    "\n",
    "if len(matches) > 0:\n",
    "    pyperclip.copy('\\n'.join(matches))\n",
    "    print('Copied to clipboard:')\n",
    "    print('\\n'.join(matches))\n",
    "else:\n",
    "    print('No phone numbers or email addresses found.')\n",
    "\n"
   ]
  },
  {
   "cell_type": "code",
   "execution_count": 61,
   "metadata": {
    "tags": []
   },
   "outputs": [
    {
     "output_type": "execute_result",
     "data": {
      "text/plain": "'800.420.7240'"
     },
     "metadata": {},
     "execution_count": 61
    }
   ],
   "source": [
    "'''Contact Us\n",
    "No Starch Press, Inc.\n",
    "245 8th Street\n",
    "San Francisco, CA 94103 USA\n",
    "Phone: 800.420.7240 or +1 415.863.9900 (9 a.m. to 5 p.m., M-F, PST)\n",
    "Fax: +1 415.863.9950\n",
    "\n",
    "Reach Us by Email\n",
    "\n",
    "General inquiries: info@nostarch.com\n",
    "Media requests: media@nostarch.com\n",
    "Academic requests: academic@nostarch.com (Further information)\n",
    "Help with your order: info@nostarch.com'''"
   ]
  },
  {
   "cell_type": "code",
   "execution_count": null,
   "metadata": {},
   "outputs": [],
   "source": []
  }
 ]
}