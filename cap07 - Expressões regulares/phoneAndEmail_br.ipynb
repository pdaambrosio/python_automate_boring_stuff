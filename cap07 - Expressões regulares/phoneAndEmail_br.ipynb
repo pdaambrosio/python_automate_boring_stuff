{
 "cells": [
  {
   "cell_type": "code",
   "execution_count": 93,
   "metadata": {},
   "outputs": [
    {
     "name": "stdout",
     "output_type": "stream",
     "text": [
      "('011', '9', '7242', '-', '4687')\n"
     ]
    }
   ],
   "source": [
    "import pyperclip,re\n",
    "\n",
    "# phone_regex = re.compile(r'(\\d{2,3}|\\(\\d{2,3}\\))?(\\s|-)?(\\d{1})(\\s|-)?(\\d{4})(\\s|-)?(\\d{4})')\n",
    "phone_regex = re.compile(r'(\\d{2,3})\\s(\\d)\\s(\\d{4})(\\s|-)(\\d{4})')\n",
    "\n",
    "# email_regex = re.compile(r'''(\n",
    "#     [a-zA-Z0-9._%+-]+                  # nome do usuário\n",
    "#     @                                  # arroba\n",
    "#     [a-zA-Z0-9.-]+                     # nome do domínio\n",
    "#     (\\.[a-zA-Z{2,4}])?                 # ponto seguido de outros caracteres\n",
    "# )''',re.VERBOSE)\n",
    "\n",
    "# text = str(pyperclip.paste())\n",
    "# matches = []\n",
    "\n",
    "text = phone_regex.findall(r'011 9 7242-4687')\n",
    "\n",
    "for i in text:\n",
    "    print(i)\n",
    "\n",
    "# for groups in phone_regex.findall(text):\n",
    "#     phone_num = '-'.join([groups[1],groups[3],groups[5]])\n",
    "#     if groups[8] != '':\n",
    "#         phone_num += 'x' + groups[8]\n",
    "#     matches.append(phone_num)\n",
    "\n",
    "# for groups in email_regex.findall(text):\n",
    "#     matches.append(groups[0])\n",
    "\n",
    "# if len(matches) > 0:\n",
    "#     pyperclip.copy('\\n'.join(matches))\n",
    "#     print('Copied to clipboard:')\n",
    "#     print('\\n'.join(matches))\n",
    "# else:\n",
    "#     print('No phone numbers or email addresses found.')"
   ]
  },
  {
   "cell_type": "code",
   "execution_count": null,
   "metadata": {},
   "outputs": [],
   "source": []
  }
 ],
 "metadata": {
  "kernelspec": {
   "display_name": "Python 3.7.7 64-bit ('py3.7': virtualenv)",
   "language": "python",
   "name": "python37764bitpy37virtualenv724f8c74c5c7478bad670819f0cdf1e2"
  },
  "language_info": {
   "codemirror_mode": {
    "name": "ipython",
    "version": 3
   },
   "file_extension": ".py",
   "mimetype": "text/x-python",
   "name": "python",
   "nbconvert_exporter": "python",
   "pygments_lexer": "ipython3",
   "version": "3.7.7"
  }
 },
 "nbformat": 4,
 "nbformat_minor": 4
}
