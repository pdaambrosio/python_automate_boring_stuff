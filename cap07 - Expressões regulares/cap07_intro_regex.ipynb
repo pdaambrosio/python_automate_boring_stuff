{
 "metadata": {
  "language_info": {
   "codemirror_mode": {
    "name": "ipython",
    "version": 3
   },
   "file_extension": ".py",
   "mimetype": "text/x-python",
   "name": "python",
   "nbconvert_exporter": "python",
   "pygments_lexer": "ipython3",
   "version": "3.7.7-final"
  },
  "orig_nbformat": 2,
  "kernelspec": {
   "name": "python37764bitpy37virtualenv724f8c74c5c7478bad670819f0cdf1e2",
   "display_name": "Python 3.7.7 64-bit ('py3.7': virtualenv)"
  }
 },
 "nbformat": 4,
 "nbformat_minor": 2,
 "cells": [
  {
   "cell_type": "code",
   "execution_count": 30,
   "metadata": {
    "tags": []
   },
   "outputs": [
    {
     "output_type": "stream",
     "name": "stdout",
     "text": "Phone number found: 415-555-4242\nPhone number found: 415-555-4242\nPhone number found: ('415', '555-4242')\n\n415\n555-4242\n\n(415)\n555-4242\n"
    }
   ],
   "source": [
    "# espaço, tabulação ou carectere de quebra de linha\n",
    "\n",
    "phone_number_regex1 = re.compile(r'\\d\\d\\d-\\d\\d\\d-\\d\\d\\d\\d')\n",
    "\n",
    "phone_number_regex2 = re.compile(r'(\\d\\d\\d)-(\\d\\d\\d-\\d\\d\\d\\d)')\n",
    "\n",
    "mo1 = phone_number_regex.search('My number is 415-555-4242.')\n",
    "\n",
    "mo2 = phone_number_regex2.search('My number is 415-555-4242.')\n",
    "\n",
    "print('Phone number found: '+ mo1.group())\n",
    "print('Phone number found: '+ mo2.group())\n",
    "print('Phone number found: '+ str(mo2.groups()))\n",
    "print()\n",
    "\n",
    "area_code, main_number = mo2.groups()\n",
    "\n",
    "print(area_code)\n",
    "print(main_number)\n",
    "print()\n",
    "\n",
    "phone_number_regex3 = re.compile(r'(\\(\\d\\d\\d\\)) (\\d\\d\\d-\\d\\d\\d\\d)')\n",
    "mo3 = phone_number_regex3.search('My number is (415) 555-4242.')\n",
    "\n",
    "print(mo3.group(1))\n",
    "print(mo3.group(2))\n"
   ]
  },
  {
   "cell_type": "code",
   "execution_count": 31,
   "metadata": {
    "tags": []
   },
   "outputs": [
    {
     "output_type": "stream",
     "name": "stdout",
     "text": "Batman\nTina Fey\n"
    }
   ],
   "source": [
    "hero_regex = re.compile(r'Batman|Tina Fey') # pipe corresponde a 'ou'\n",
    "mo4 = hero_regex.search('Batman and Tina Fey')\n",
    "\n",
    "print(mo4.group())\n",
    "\n",
    "mo5 = hero_regex.search('Tina Fey and Batman')\n",
    "\n",
    "print(mo5.group())"
   ]
  },
  {
   "cell_type": "code",
   "execution_count": 32,
   "metadata": {
    "tags": []
   },
   "outputs": [
    {
     "output_type": "stream",
     "name": "stdout",
     "text": "Batmobile\nmobile\n"
    }
   ],
   "source": [
    "bat_regex = re.compile('Bat(man|mobile|copter|bat)') # pipe corresponde a 'ou'\n",
    "\n",
    "mo6 = bat_regex.search('Batmobile lost a wheel') # o pipe também pode ser escapado com '\\|'\n",
    "\n",
    "print(mo6.group())\n",
    "print(mo6.group(1))"
   ]
  },
  {
   "cell_type": "code",
   "execution_count": 35,
   "metadata": {
    "tags": []
   },
   "outputs": [
    {
     "output_type": "stream",
     "name": "stdout",
     "text": "Batman\nBatwoman\n\n415-555-4242\n555-4242\n"
    }
   ],
   "source": [
    "# correspondência opcional com '?'\n",
    "\n",
    "bat_regex2 = re.compile(r'Bat(wo)?man')\n",
    "\n",
    "bat1 = bat_regex2.search('The adventures of Batman')\n",
    "bat2 = bat_regex2.search('The adventures of Batwoman')\n",
    "\n",
    "print(bat1.group())\n",
    "print(bat2.group())\n",
    "print()\n",
    "\n",
    "phone_number_regex4 = re.compile(r'(\\d\\d\\d-)?\\d\\d\\d-\\d\\d\\d\\d')\n",
    "\n",
    "phone1 = phone_number_regex4.search('My number is 415-555-4242')\n",
    "phone2 = phone_number_regex4.search('My number is 555-4242')\n",
    "\n",
    "print(phone1.group())\n",
    "print(phone2.group())"
   ]
  },
  {
   "cell_type": "code",
   "execution_count": 37,
   "metadata": {
    "tags": []
   },
   "outputs": [
    {
     "output_type": "stream",
     "name": "stdout",
     "text": "Batman\nBatwoman\nBatwowowowowowoman\n"
    }
   ],
   "source": [
    "# correspondência com asterisco '*' (corresponda a zero ou mais)\n",
    "\n",
    "bat_regex3 = re.compile(r'Bat(wo)*man') # se houver necessidade de utilizar o asterisco propriamente dito utilize a expressão regular '\\*'\n",
    "\n",
    "bat3 = bat_regex3.search('The adventures of Batman.')\n",
    "bat4 = bat_regex3.search('The adventures of Batwoman.')\n",
    "bat5 = bat_regex3.search('The adventures of Batwowowowowowoman.')\n",
    "\n",
    "print(bat3.group())\n",
    "print(bat4.group())\n",
    "print(bat5.group())"
   ]
  },
  {
   "cell_type": "code",
   "execution_count": 39,
   "metadata": {
    "tags": []
   },
   "outputs": [
    {
     "output_type": "stream",
     "name": "stdout",
     "text": "None\nBatwoman\nBatwowowowowowoman\n"
    }
   ],
   "source": [
    "# correspondendo uma ou mais utilizando o sinal de adição '+'\n",
    "\n",
    "bat_regex4 = re.compile(r'Bat(wo)+man')# se houver necessidade de utilizar o sinal de adição propriamente dito utilize a expressão regular '\\+'\n",
    "\n",
    "bat6 = bat_regex4.search('The adventures of Batman.')\n",
    "bat7 = bat_regex4.search('The adventures of Batwoman.')\n",
    "bat8 = bat_regex4.search('The adventures of Batwowowowowowoman.')\n",
    "\n",
    "print(bat6) # não tem correspondência (group), o resultado será 'None'\n",
    "print(bat7.group())\n",
    "print(bat8.group())"
   ]
  },
  {
   "cell_type": "code",
   "execution_count": 41,
   "metadata": {
    "tags": []
   },
   "outputs": [
    {
     "output_type": "stream",
     "name": "stdout",
     "text": "HaHaHa\nNone\n"
    }
   ],
   "source": [
    "# correspondendo repetições utilizando chaves especificas\n",
    "\n",
    "ha_regex = re.compile(r'(Ha){3}')\n",
    "\n",
    "ha1 = ha_regex.search('HaHaHa')\n",
    "ha2 = ha_regex.search('HaHa')\n",
    "\n",
    "print(ha1.group())\n",
    "print(ha2) # não tem correspondência (group), o resultado será 'None'"
   ]
  },
  {
   "cell_type": "code",
   "execution_count": 52,
   "metadata": {
    "tags": []
   },
   "outputs": [
    {
     "output_type": "stream",
     "name": "stdout",
     "text": "HaHaHaHaHa\nHaHaHa\n\nHaHaHa\nHaHaHa\n"
    }
   ],
   "source": [
    "# correspondências greedy e nongreedy\n",
    "\n",
    "greedy_ha_regex = re.compile(r'(Ha){3,5}')\n",
    "\n",
    "ha3 = greedy_ha_regex.search('HaHaHaHaHa')\n",
    "ha4 = greedy_ha_regex.search('HaHaHa')\n",
    "\n",
    "print(ha3.group())\n",
    "print(ha4.group())\n",
    "print()\n",
    "\n",
    "nongreedy_ha_regex = re.compile(r'(Ha){3,5}?') # repare no ponto de interrogação\n",
    "\n",
    "ha5 = nongreedy_ha_regex.search('HaHaHaHaHa')\n",
    "ha6 = nongreedy_ha_regex.search('HaHaHa')\n",
    "\n",
    "print(ha5.group())\n",
    "print(ha6.group())"
   ]
  },
  {
   "cell_type": "code",
   "execution_count": 58,
   "metadata": {
    "tags": []
   },
   "outputs": [
    {
     "output_type": "stream",
     "name": "stdout",
     "text": "415-555-4242\n['415-555-4242', '212-555-0000']\n[('415', '555', '4242'), ('212', '555', '0000')]\n"
    }
   ],
   "source": [
    "# metodo findall\n",
    "\n",
    "phone_number_regex10 = re.compile(r'\\d\\d\\d-\\d\\d\\d-\\d\\d\\d\\d')\n",
    "\n",
    "ph1 = phone_number_regex.search('Cell: 415-555-4242 Work: 212-555-0000') # 'search' realiza o match na primeira ocorrência\n",
    "\n",
    "print(ph1.group())\n",
    "\n",
    "phone_number_regex11 = re.compile(r'\\d\\d\\d-\\d\\d\\d-\\d\\d\\d\\d')\n",
    "\n",
    "ph2 = phone_number_regex11.findall('Cell: 415-555-4242 Work: 212-555-0000') # 'findall' busca todas as ocorrências\n",
    "\n",
    "print(ph2)\n",
    "\n",
    "phone_number_regex12 = re.compile(r'(\\d\\d\\d)-(\\d\\d\\d)-(\\d\\d\\d\\d)') # com grupos, repare nos parênteses\n",
    "\n",
    "ph3 = phone_number_regex12.findall('Cell: 415-555-4242 Work: 212-555-0000')\n",
    "\n",
    "print(ph3) # o 'findall' irá retornar os valores com tuplas, devido aos grupos\n"
   ]
  },
  {
   "cell_type": "code",
   "execution_count": 6,
   "metadata": {
    "tags": []
   },
   "outputs": [
    {
     "output_type": "stream",
     "name": "stdout",
     "text": "['12 drummers', '11 pipers', '10 lords', '9 ladies', '8 maids', '7 swans', '6 geese', '5 rings', '4 birds', '3 hens', '2 doves', '1 partridge']\n"
    }
   ],
   "source": [
    "# classes de caracteres\n",
    "\n",
    "'''\n",
    "classes\n",
    "\\d        qualquer digito de 0 a 9\n",
    "\\D        qualquer caractere que não seja um digito de 0 a 9\n",
    "\\w        qualquer letra, digito ou caractere underscore '_'\n",
    "\\W        qualquer caractere que não seja uma letra, digito ou caractere underscore '_'\n",
    "\\s        qualquer espaço, tabulação ou carectere de quebra de linha (espaços)\n",
    "\\S        qualquer caractere que não seja espaço, tabulação ou carectere de quebra de linha\n",
    "'''\n",
    "xmas_regex = re.compile(r'\\d+\\s\\w+') # corresponde a textos que tenham 'um' ou 'mais' digitos (\\d+) seguidos de um caractere de espaço em branco (\\s) seguido de um ou mais caracteres que sejam letra/digito/underscore (\\w+)\n",
    "\n",
    "print(xmas_regex.findall('12 drummers, 11 pipers, 10 lords, 9 ladies, 8 maids, 7 swans, 6 geese, 5 rings, 4 birds, 3 hens, 2 doves, 1 partridge'))  \n"
   ]
  },
  {
   "cell_type": "code",
   "execution_count": 5,
   "metadata": {
    "tags": []
   },
   "outputs": [
    {
     "output_type": "stream",
     "name": "stdout",
     "text": "['o', 'o', 'o', 'e', 'a', 'a', 'o', 'o', 'A', 'O', 'O']\n['R', 'b', 'c', 'p', 'y', ' ', 't', 's', ' ', 'b', 'b', 'y', ' ', 'f', 'd', '.', ' ', 'B', 'B', 'B', 'Y', ' ', 'F', 'D', '.']\n"
    }
   ],
   "source": [
    "# criando suas classes de caracteres\n",
    "import re\n",
    "\n",
    "vowell_regex = re.compile(r'[aeiouAEIOU]')\n",
    "print(vowell_regex.findall('Robocopy eats baby food. BABBY FOOD.'))\n",
    "\n",
    "vowell_regex1 = re.compile(r'[^aeiouAEIOU]') # classe negatia com acento circunflexo '^', fazendo correspondência aos caracteres que não são vogais\n",
    "print(vowell_regex1.findall('Robocopy eats baby food. BABBY FOOD.'))"
   ]
  },
  {
   "cell_type": "code",
   "execution_count": 14,
   "metadata": {
    "tags": []
   },
   "outputs": [
    {
     "output_type": "stream",
     "name": "stdout",
     "text": "<re.Match object; span=(0, 5), match='Hello'>\nNone\n\n<re.Match object; span=(16, 17), match='2'>\nNone\n\n<re.Match object; span=(0, 10), match='1234567890'>\nNone\nNone\n"
    }
   ],
   "source": [
    "# acento circunflexo e o sinal de dólar\n",
    "'''\n",
    "o acento circunflexo (^) também pode ser usado no inicio de uma regex para indicar que uma correspondência deve ocorrer no inicio de um texto. Da mesma forma, podemos colocar um sinal de dólar ($) no final da regex para indicar que a string deve terminar com esse padrão.\n",
    "'''\n",
    "import re\n",
    "\n",
    "begins_with_hello = re.compile(r'^Hello')\n",
    "# begins_with_hello.search('Hello world') # sem o print (só para ver a saída do 'match')\n",
    "print(begins_with_hello.search('Hello world'))\n",
    "print(begins_with_hello.search('He said hello')) # retorna 'None', pois não encontrou a expressão regular\n",
    "print() # pular linha\n",
    "\n",
    "end_with_number = re.compile(r'\\d$') # strings que terminem com um caractere numerico de 0 a 9\n",
    "print(end_with_number.search('Yuor number is 42'))\n",
    "print(end_with_number.search('Your number is forty two'))\n",
    "print() # pular linha\n",
    "\n",
    "whole_strings_isnum = re.compile(r'^\\d+$') # strings que comecem e terminem com um caractere numerico de 0 a 9\n",
    "print(whole_strings_isnum.search('1234567890'))\n",
    "print(whole_strings_isnum.search('123quatro567890'))\n",
    "print(whole_strings_isnum.search('1234 5 67890'))"
   ]
  },
  {
   "cell_type": "code",
   "execution_count": 15,
   "metadata": {
    "tags": []
   },
   "outputs": [
    {
     "output_type": "stream",
     "name": "stdout",
     "text": "['cat', 'hat', 'sat', 'mat']\n"
    }
   ],
   "source": [
    "# o caractere coringa ponto (.), corresponde a qualquer caractere, exceto uma quebra de linha\n",
    "# para fazer a correspondência com o ponto propriamente dito, escape-o com a barra invertida (\\.)\n",
    "\n",
    "at_regex = re.compile(r'.at')\n",
    "print(at_regex.findall('The cat in the hat sat on the mat'))"
   ]
  },
  {
   "cell_type": "code",
   "execution_count": 28,
   "metadata": {
    "tags": []
   },
   "outputs": [
    {
     "output_type": "stream",
     "name": "stdout",
     "text": "First Name: Al Last Name: Sweigart\n Al\n Sweigart\n\n<To serve man>\n<To serve man> for dinner>\n"
    }
   ],
   "source": [
    "# correspondendo a tudo usando ponto (.) com asterisco (*)\n",
    "\n",
    "name_regex = re.compile(r'First Name:(.*) Last Name:(.*)') # ponto quer dizer qualquer caractere único, exceto a quebra de linha e o asterisco quer dizer zero ou mais ocorrências do caractere anterior\n",
    "name = name_regex.search('First Name: Al Last Name: Sweigart')\n",
    "print(name.group())\n",
    "print(name.group(1))\n",
    "print(name.group(2))\n",
    "print()\n",
    "\n",
    "# modo nongreedy\n",
    "\n",
    "nongreedy_regex = re.compile(r'<.*?>')\n",
    "non = nongreedy_regex.search('<To serve man> for dinner>')\n",
    "print(non.group())\n",
    "\n",
    "# modo greedy\n",
    "\n",
    "greedy_regex = re.compile(r'<.*>')\n",
    "gree = greedy_regex.search('<To serve man> for dinner>')\n",
    "print(gree.group())"
   ]
  },
  {
   "cell_type": "code",
   "execution_count": 35,
   "metadata": {
    "tags": []
   },
   "outputs": [
    {
     "output_type": "stream",
     "name": "stdout",
     "text": "Serve the public trust.\n\nServe the public trust.\nProtect the innocent.\nUphold the law.\n"
    }
   ],
   "source": [
    "# correspondendo a quebra de linhas\n",
    "\n",
    "# sem corresponder a quebra\n",
    "new_line_regex = re.compile(r'.*')\n",
    "print(new_line_regex.search('Serve the public trust.\\nProtect the innocent.\\nUphold the law.').group())\n",
    "print() # pular linha\n",
    "\n",
    "# correspondendo a quebra\n",
    "new_line_regex1 = re.compile('.*',re.DOTALL)\n",
    "print(new_line_regex1.search('Serve the public trust.\\nProtect the innocent.\\nUphold the law.').group())"
   ]
  },
  {
   "cell_type": "code",
   "execution_count": 36,
   "metadata": {},
   "outputs": [
    {
     "output_type": "execute_result",
     "data": {
      "text/plain": "\"\\n?       corresponde a zero ou uma ocorrência de grupo anterior\\n*       corresponde a zero ou mais ocorrências do grupo anterior\\n+       corresponde a uma ou mais ocorrências do grupo anterior\\n{n}     corresponde exatamente a 'n' ocorrências do grupo anterior\\n{n,}    corresponde exatamente a 'n' ou mais ocorrências do grupo anterior\\n{,m}    corresponde a zero até 'm' ocorrências do grupo anterior\\n{n,m}   corresponde ao minimo de 'n' e no maximo 'm' ocorrências do grupo anterior\\n{n,m}?  ou '*?' ou '+?' faz uma correspondência nongreedy do grupo anterior\\n^spam   a string deve começar com 'spam', circunflexo corresponde ao inicio\\nspam$   a string deve terminar com 'spam', dólar corresponde ao final\\n.       corresponde a qualquer caractere, exceto quebra de linha\\n\\\\d      qualquer digito de 0 a 9\\n\\\\D      qualquer caractere que não seja um digito de 0 a 9\\n\\\\w      qualquer letra, digito ou caractere underscore '_'\\n\\\\W      qualquer caractere que não seja uma letra, digito ou caractere underscore '_'\\n\\\\s      qualquer espaço, tabulação ou carectere de quebra de linha (espaços)\\n\\\\S      qualquer caractere que não seja espaço, tabulação ou carectere de quebra de linha\\n[abc]   corresponde a qualquer caractere que estiver entre os colchetes (neste exemplo a,b,c)\\n[^abc]  corresponde a qualquer caractere que não estiver entre os colchetes (neste exemplo a,b,c)\\n\""
     },
     "metadata": {},
     "execution_count": 36
    }
   ],
   "source": [
    "# revisão dos simbolos\n",
    "'''\n",
    "?       corresponde a zero ou uma ocorrência de grupo anterior\n",
    "*       corresponde a zero ou mais ocorrências do grupo anterior\n",
    "+       corresponde a uma ou mais ocorrências do grupo anterior\n",
    "{n}     corresponde exatamente a 'n' ocorrências do grupo anterior\n",
    "{n,}    corresponde exatamente a 'n' ou mais ocorrências do grupo anterior\n",
    "{,m}    corresponde a zero até 'm' ocorrências do grupo anterior\n",
    "{n,m}   corresponde ao minimo de 'n' e no maximo 'm' ocorrências do grupo anterior\n",
    "{n,m}?  ou '*?' ou '+?' faz uma correspondência nongreedy do grupo anterior\n",
    "^spam   a string deve começar com 'spam', circunflexo corresponde ao inicio\n",
    "spam$   a string deve terminar com 'spam', dólar corresponde ao final\n",
    ".       corresponde a qualquer caractere, exceto quebra de linha\n",
    "\\d      qualquer digito de 0 a 9\n",
    "\\D      qualquer caractere que não seja um digito de 0 a 9\n",
    "\\w      qualquer letra, digito ou caractere underscore '_'\n",
    "\\W      qualquer caractere que não seja uma letra, digito ou caractere underscore '_'\n",
    "\\s      qualquer espaço, tabulação ou carectere de quebra de linha (espaços)\n",
    "\\S      qualquer caractere que não seja espaço, tabulação ou carectere de quebra de linha\n",
    "[abc]   corresponde a qualquer caractere que estiver entre os colchetes (neste exemplo a,b,c)\n",
    "[^abc]  corresponde a qualquer caractere que não estiver entre os colchetes (neste exemplo a,b,c)\n",
    "'''"
   ]
  },
  {
   "cell_type": "code",
   "execution_count": 38,
   "metadata": {
    "tags": []
   },
   "outputs": [
    {
     "output_type": "stream",
     "name": "stdout",
     "text": "RoboCop\nROBOCOP\nrobocop\n"
    }
   ],
   "source": [
    "# correspondência de case-insensitive\n",
    "'''\n",
    "as expressões regulares fazem correspondência de textos com o tipo exato de letra (case-sensitive)\n",
    "'''\n",
    "# os regexes abaixo, fazem correspondência de strings totalmente diferentes\n",
    "\n",
    "regex1 = re.compile(r'RoboCop')\n",
    "regex2 = re.compile(r'ROBOCOP')\n",
    "regex3 = re.compile(r'robOcop')\n",
    "regex4 = re.compile(r'RobocOp')\n",
    "\n",
    "# usando case-insensitive (re.IGNORECASE)\n",
    "\n",
    "robocop = re.compile(r'robocop',re.I)\n",
    "print(robocop.search('RoboCop is part man, part machine, all cop.').group())\n",
    "print(robocop.search('ROBOCOP protects the innocent.').group())\n",
    "print(robocop.search('Al, why does your programming book talk about robocop so much?').group())"
   ]
  },
  {
   "cell_type": "code",
   "execution_count": 46,
   "metadata": {
    "tags": []
   },
   "outputs": [
    {
     "output_type": "stream",
     "name": "stdout",
     "text": "CENSORED gave the secret documents to CENSORED.\n\nA**** told C**** that E**** knew B**** was a double agent\n"
    }
   ],
   "source": [
    "# subtituindo strings com método 'sub()'\n",
    "\n",
    "names_regex = re.compile(r'Agent \\w+')\n",
    "print(names_regex.sub('CENSORED','Agent Alice gave the secret documents to Agent Bob.'))\n",
    "print()\n",
    "\n",
    "agent_names_regex = re.compile(r'Agent (\\w)\\w*')\n",
    "print(agent_names_regex.sub(r'\\1****','Agent Alice told Agent Carol that Agent Eve knew Agent Bob was a double agent')) # \\1 nessa string será substituido por qualquer texto correspondente no grupo 1 - ou seja, o grupo (\\w) da expressão regular"
   ]
  },
  {
   "cell_type": "code",
   "execution_count": 48,
   "metadata": {},
   "outputs": [],
   "source": [
    "# administrando regexes complexas\n",
    "\n",
    "phones_regex = re.compile(r'((\\d{3}|\\(\\d{3}\\))?(\\s|-|\\.)?\\d{3}(\\s|-|\\.)\\d{4}(\\s*(ext|x|ext.)\\s*\\d{2,5})?)')\n",
    "\n",
    "# distribuindo a expressão regular em varias linhas (re.VERBOSE)\n",
    "\n",
    "phones_regex1 = re.compile(r'''(\n",
    "    (\\d{3}|\\(\\d{3}\\))?              # codigo de aréa\n",
    "    (\\s|-|\\.)                       # separador\n",
    "    \\d{3}                           # primeiros 3 digitos\n",
    "    (\\s|-|\\.)                       # separador\n",
    "    \\d{4}                           # últimos 4 digitos\n",
    "    (\\s*(ext|x|ext.)\\s*d{2,5})?     # extensão\n",
    ")''',re.VERBOSE)\n"
   ]
  },
  {
   "cell_type": "code",
   "execution_count": null,
   "metadata": {},
   "outputs": [],
   "source": [
    "# combinando re.IGNORECASE, re.DOTALL e re.VERBOSE\n",
    "'''\n",
    "re.compile() aceita somente um argumento como valor secundario. Essa limitação pode ser contornada com o pip (|), que nesse contexto é conhecido como o operador bit a bit (bitwiser or)\n",
    "'''\n",
    "\n",
    "some_regex_value1 = re.compile(r'foo',re.IGNORECASE|re.DOTALL)\n",
    "some_regex_value2 = re.compile(r'foo',re.IGNORECASE|re.DOTALL|re.VERBOSE)"
   ]
  }
 ]
}