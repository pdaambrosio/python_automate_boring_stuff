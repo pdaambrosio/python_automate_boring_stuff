{
 "metadata": {
  "language_info": {
   "codemirror_mode": {
    "name": "ipython",
    "version": 3
   },
   "file_extension": ".py",
   "mimetype": "text/x-python",
   "name": "python",
   "nbconvert_exporter": "python",
   "pygments_lexer": "ipython3",
   "version": "3.7.8-final"
  },
  "orig_nbformat": 2,
  "kernelspec": {
   "name": "python37764bitpy37virtualenv724f8c74c5c7478bad670819f0cdf1e2",
   "display_name": "Python 3.7.7 64-bit ('py3.7': virtualenv)"
  }
 },
 "nbformat": 4,
 "nbformat_minor": 2,
 "cells": [
  {
   "cell_type": "code",
   "execution_count": 15,
   "metadata": {
    "tags": []
   },
   "outputs": [],
   "source": [
    "# detectação de senhas robustas\n",
    "\n",
    "def check_passwd(pwd):\n",
    "    import re\n",
    "    passwd = re.compile(r'(?=.*[a-z]{2})(?=.*[A-Z])(?=.*[0-9])[a-zA-z0-9]{8,16}$')\n",
    "    if passwd.search(pwd):\n",
    "        return 'Senha Ok: '+ passwd.search(pwd).group()\n",
    "    else:\n",
    "        return 'Senha invalida'\n",
    "\n"
   ]
  },
  {
   "cell_type": "code",
   "execution_count": 17,
   "metadata": {},
   "outputs": [
    {
     "output_type": "execute_result",
     "data": {
      "text/plain": "'Senha Ok: v1a2FvGaq341FG'"
     },
     "metadata": {},
     "execution_count": 17
    }
   ],
   "source": [
    "check_passwd('v1a2FvGaq341FG')"
   ]
  },
  {
   "cell_type": "code",
   "execution_count": 75,
   "metadata": {},
   "outputs": [
    {
     "output_type": "execute_result",
     "data": {
      "text/plain": "'Senha invalida'"
     },
     "metadata": {},
     "execution_count": 75
    }
   ],
   "source": [
    "check_passwd('abcd12341aasdsdas')"
   ]
  },
  {
   "cell_type": "code",
   "execution_count": null,
   "metadata": {},
   "outputs": [],
   "source": []
  }
 ]
}