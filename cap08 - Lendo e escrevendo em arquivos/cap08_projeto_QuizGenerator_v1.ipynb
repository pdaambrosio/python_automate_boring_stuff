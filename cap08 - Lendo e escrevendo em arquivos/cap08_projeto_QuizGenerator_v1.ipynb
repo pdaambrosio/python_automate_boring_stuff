{
 "metadata": {
  "language_info": {
   "codemirror_mode": {
    "name": "ipython",
    "version": 3
   },
   "file_extension": ".py",
   "mimetype": "text/x-python",
   "name": "python",
   "nbconvert_exporter": "python",
   "pygments_lexer": "ipython3",
   "version": "3.7.8-final"
  },
  "orig_nbformat": 2,
  "kernelspec": {
   "name": "python37764bitpy37virtualenv724f8c74c5c7478bad670819f0cdf1e2",
   "display_name": "Python 3.7.7 64-bit ('py3.7': virtualenv)"
  }
 },
 "nbformat": 4,
 "nbformat_minor": 2,
 "cells": [
  {
   "cell_type": "code",
   "execution_count": 16,
   "metadata": {},
   "outputs": [],
   "source": [
    "#!/home/pdajgs/python_labs/py3.7/bin/python3\n",
    "\n",
    "'''\n",
    "Cria provas com perguntas e respostas em ordem aleatória, juntamente com os gabaritos contendo as respostas\n",
    "'''\n",
    "\n",
    "import random\n",
    "\n",
    "capitals = {'Alabama': 'Montgomery', 'Alaska': 'Juneau', 'Arizona':'Phoenix',\n",
    " 'Arkansas': 'Little Rock', 'California': 'Sacramento', 'Colorado':'Denver',\n",
    " 'Connecticut': 'Hartford', 'Delaware': 'Dover', 'Florida': 'Tallahassee',\n",
    " 'Georgia': 'Atlanta', 'Hawaii': 'Honolulu', 'Idaho': 'Boise', 'Illinois':\n",
    " 'Springfield', 'Indiana': 'Indianapolis', 'Iowa': 'Des Moines', 'Kansas':\n",
    " 'Topeka', 'Kentucky': 'Frankfort', 'Louisiana': 'Baton Rouge', 'Maine':\n",
    " 'Augusta', 'Maryland': 'Annapolis', 'Massachusetts': 'Boston', 'Michigan':\n",
    " 'Lansing', 'Minnesota': 'Saint Paul', 'Mississippi': 'Jackson', 'Missouri':\n",
    " 'Jefferson City', 'Montana': 'Helena', 'Nebraska': 'Lincoln', 'Nevada':\n",
    " 'Carson City', 'New Hampshire': 'Concord', 'New Jersey': 'Trenton', \n",
    " 'New Mexico': 'Santa Fe', 'New York': 'Albany', 'North Carolina':  'Raleigh',\n",
    " 'North Dakota': 'Bismarck', 'Ohio': 'Columbus', 'Oklahoma': 'Oklahoma City',\n",
    " 'Oregon': 'Salem', 'Pennsylvania': 'Harrisburg', 'Rhode Island': 'Providence',\n",
    " 'South Carolina': 'Columbia', 'South Dakota': 'Pierre', 'Tennessee':\n",
    " 'Nashville', 'Texas': 'Austin', 'Utah': 'Salt Lake City', 'Vermont':\n",
    " 'Montpelier', 'Virginia': 'Richmond', 'Washington': 'Olympia', \n",
    " 'West Virginia': 'Charleston', 'Wisconsin': 'Madison', 'Wyoming': 'Cheyenne'}\n",
    "\n",
    "for quiz_num in range(3):\n",
    "     quiz_files = open('./provas/capitals-quiz%s.txt' % (quiz_num + 1), 'w')\n",
    "     answer_files = open('./provas/capitals-answer%s.txt' % (quiz_num + 1), 'w')\n",
    "     # cabeçalho das provas\n",
    "     quiz_files.write('Name:\\n\\nDate:\\n\\nPeriod:\\n\\n')\n",
    "     quiz_files.write(('' * 20) + 'State Capitals Quiz (Form %s)' % (quiz_num + 1))\n",
    "     quiz_files.write('\\n\\n')\n",
    "     states = list(capitals.keys())\n",
    "     random.shuffle(states)\n",
    "\n",
    "     for question_num in range(50):\n",
    "        correct_answer = capitals[states[question_num]]\n",
    "        wrong_answer = list(capitals.values())\n",
    "        del wrong_answer[wrong_answer.index(correct_answer)]\n",
    "        wrong_answer = random.sample(wrong_answer, 3)\n",
    "        answer_options = wrong_answer + [correct_answer]\n",
    "        random.shuffle(answer_options)\n",
    "        # escreve as perguntas e opções\n",
    "        quiz_files.write('%s. What is the capital of %s?\\n\\n' % (question_num + 1, states[question_num]))\n",
    "        for i in range(4):\n",
    "            quiz_files.write(' %s. %s\\n' % ('ABCD'[i], answer_options[i]))\n",
    "            quiz_files.write('\\n')\n",
    "        answer_files.write('%s. %s\\n' % (question_num + 1, 'ABCD'[answer_options.index\n",
    "            (correct_answer)]))\n",
    "quiz_files.close()\n",
    "answer_files.close()"
   ]
  },
  {
   "cell_type": "code",
   "execution_count": 15,
   "metadata": {
    "tags": []
   },
   "outputs": [
    {
     "output_type": "stream",
     "name": "stdout",
     "text": "[0, 3, 2, 1, 4]\n"
    }
   ],
   "source": [
    "import random\n",
    "\n",
    "num = list(range(5))\n",
    "random.shuffle(num)\n",
    "print(num)"
   ]
  },
  {
   "cell_type": "code",
   "execution_count": 30,
   "metadata": {},
   "outputs": [
    {
     "output_type": "execute_result",
     "data": {
      "text/plain": "'Charleston'"
     },
     "metadata": {},
     "execution_count": 30
    }
   ],
   "source": [
    "capitals[states[0]]"
   ]
  },
  {
   "cell_type": "code",
   "execution_count": 35,
   "metadata": {
    "tags": []
   },
   "outputs": [
    {
     "output_type": "execute_result",
     "data": {
      "text/plain": "['Saint Paul', 'Atlanta', 'Des Moines', 'Harrisburg']"
     },
     "metadata": {},
     "execution_count": 35
    }
   ],
   "source": [
    "answer_options"
   ]
  },
  {
   "cell_type": "code",
   "execution_count": null,
   "metadata": {},
   "outputs": [],
   "source": []
  }
 ]
}