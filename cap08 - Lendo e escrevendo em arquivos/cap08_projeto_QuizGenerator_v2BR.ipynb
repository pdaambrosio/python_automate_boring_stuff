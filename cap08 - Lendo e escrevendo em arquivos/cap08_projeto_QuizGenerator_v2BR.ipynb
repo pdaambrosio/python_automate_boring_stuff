{
 "metadata": {
  "language_info": {
   "codemirror_mode": {
    "name": "ipython",
    "version": 3
   },
   "file_extension": ".py",
   "mimetype": "text/x-python",
   "name": "python",
   "nbconvert_exporter": "python",
   "pygments_lexer": "ipython3",
   "version": "3.7.8-final"
  },
  "orig_nbformat": 2,
  "kernelspec": {
   "name": "python37764bitpy37virtualenv724f8c74c5c7478bad670819f0cdf1e2",
   "display_name": "Python 3.7.7 64-bit ('py3.7': virtualenv)"
  }
 },
 "nbformat": 4,
 "nbformat_minor": 2,
 "cells": [
  {
   "cell_type": "code",
   "execution_count": 1,
   "metadata": {},
   "outputs": [],
   "source": [
    "#!/home/pdajgs/python_labs/py3.7/bin/python3\n",
    "\n",
    "'''\n",
    "Cria provas com perguntas e respostas em ordem aleatória, juntamente com os gabaritos contendo as respostas\n",
    "'''\n",
    "\n",
    "import random\n",
    "\n",
    "capitais = {'Acre': 'Rio Branco', 'Alagoas': 'Maceió', 'Amapá': 'Macapá', 'Amazonas': 'Manaus', 'Bahia': 'Salvador', 'Ceará': 'Fortaleza', 'Espírito Santo': 'Vitória', 'Goiás': 'Goiânia','Maranhão': 'São Luís', 'Mato Grosso': 'Cuiabá', 'Mato Grosso do Sul': 'Campo Grande', 'Minas Gerais': 'Belo Horizonte', 'Pará': 'Belém', 'Paraíba': 'João Pessoa', 'Paraná': 'Curitiba', 'Pernambuco': 'Recife', 'Piauí': 'Teresina', 'Rio de Janeiro': 'Rio de Janeiro', 'Rio Grande do Norte': 'Natal', 'Rio Grande do Sul': 'Porto Alegre', 'Rondônia': 'Porto Velho', 'Roraima': 'Boa Vista', 'Santa Catarina': 'Florianópolis', 'São Paulo': 'São Paulo', 'Sergipe': 'Aracaju', 'Tocantins': 'Palmas'}\n",
    "\n",
    "for prova in range(1):\n",
    "    # criando os arquivos das provas e os arquivos de resposta\n",
    "    with open(r'./provas/prova-capitais%s.txt' % (prova + 1), 'w') as perg_prova, \\\n",
    "        open(r'./provas/resp-prova%s.txt' % (prova + 1), 'w') as resp_prova:\n",
    "        \n",
    "        # escrevendo o cabeçalho da prova\n",
    "        perg_prova.write('Nome:\\n\\nData:  /  /  \\n\\nPeriodo:\\n\\n')\n",
    "        perg_prova.write((' ' * 20) + 'Prova sobre Estados e suas Capitais (Nº %s)' %(prova + 1))\n",
    "        perg_prova.write('\\n\\n')\n",
    "\n",
    "        # colocando os estados em ordem aleatoria\n",
    "        estados = list(capitais.keys())\n",
    "        random.shuffle(estados)\n",
    "\n",
    "        for perg_num in range(26):\n",
    "            # capturando a resposta correta\n",
    "            resp_correta = capitais[estados[perg_num]]\n",
    "            # criando uma lista com outras capitais, para complementar as opções\n",
    "            resp_incorreta = list(capitais.values())\n",
    "            # deletando a resposta correta da lista, para não aparecer nas respostas 2 vezes\n",
    "            del resp_incorreta[resp_incorreta.index(resp_correta)]\n",
    "            # pegando 3 opções da lista e colocando em ordem aleatoria\n",
    "            resp_incorreta = random.sample(resp_incorreta, 3)\n",
    "            # adicionando a resposta correta na lista como uma nova variavel\n",
    "            op_respostas = resp_incorreta + [resp_correta]\n",
    "            # colocando a lista em ordem aleatoria\n",
    "            random.shuffle(op_respostas)\n",
    "            \n",
    "            # escrevendo perguntas nas provas\n",
    "            perg_prova.write('%s. Qual é a capital de %s?\\n\\n' % (perg_num + 1, estados[perg_num]))\n",
    "\n",
    "            # escrevendo as opções das perguntas nas provas\n",
    "            for i in range(4):\n",
    "                perg_prova.write('   %s. %s\\n' % ('ABCD'[i], op_respostas[i]))\n",
    "                perg_prova.write('\\n')\n",
    "            resp_prova.write('%s. %s\\n' % (perg_num + 1, 'ABCD'[op_respostas.index(resp_correta)]))"
   ]
  },
  {
   "cell_type": "code",
   "execution_count": 26,
   "metadata": {},
   "outputs": [
    {
     "output_type": "execute_result",
     "data": {
      "text/plain": "['Natal', 'Maceió', 'Curitiba', 'Cuiabá']"
     },
     "metadata": {},
     "execution_count": 26
    }
   ],
   "source": []
  },
  {
   "cell_type": "code",
   "execution_count": null,
   "metadata": {},
   "outputs": [],
   "source": []
  }
 ]
}