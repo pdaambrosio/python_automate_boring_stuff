{
 "metadata": {
  "language_info": {
   "codemirror_mode": {
    "name": "ipython",
    "version": 3
   },
   "file_extension": ".py",
   "mimetype": "text/x-python",
   "name": "python",
   "nbconvert_exporter": "python",
   "pygments_lexer": "ipython3",
   "version": "3.7.8-final"
  },
  "orig_nbformat": 2,
  "kernelspec": {
   "name": "python37764bitpy37virtualenv724f8c74c5c7478bad670819f0cdf1e2",
   "display_name": "Python 3.7.7 64-bit ('py3.7': virtualenv)"
  }
 },
 "nbformat": 4,
 "nbformat_minor": 2,
 "cells": [
  {
   "cell_type": "code",
   "execution_count": 3,
   "metadata": {
    "tags": []
   },
   "outputs": [
    {
     "output_type": "execute_result",
     "data": {
      "text/plain": "'home/pdajgs/Downloads'"
     },
     "metadata": {},
     "execution_count": 3
    }
   ],
   "source": [
    "import os\n",
    "\n",
    "os.path.join('home', 'pdajgs', 'Downloads')"
   ]
  },
  {
   "cell_type": "code",
   "execution_count": 6,
   "metadata": {
    "tags": []
   },
   "outputs": [
    {
     "output_type": "stream",
     "name": "stdout",
     "text": "/home/pdajgs/Downloads/ContainersLab1-EN.pdf\n/home/pdajgs/Downloads/docker_linuxtips.pdf\n/home/pdajgs/Downloads/Get-CegonhaPlanejamento.txt\n"
    }
   ],
   "source": [
    "my_files = ['ContainersLab1-EN.pdf', 'docker_linuxtips.pdf', 'Get-CegonhaPlanejamento.txt']\n",
    "\n",
    "for files in my_files:\n",
    "    fl = os.path.join('/home', 'pdajgs', 'Downloads', files)\n",
    "    print(fl)\n",
    "    "
   ]
  },
  {
   "cell_type": "code",
   "execution_count": 11,
   "metadata": {},
   "outputs": [
    {
     "output_type": "execute_result",
     "data": {
      "text/plain": "'/home/pdajgs/Downloads'"
     },
     "metadata": {},
     "execution_count": 11
    }
   ],
   "source": [
    "os.chdir('/home/pdajgs/Downloads') # mudar o diretorio workdir (atual)\n",
    "\n",
    "os.getcwd() # exibir diretorio atual"
   ]
  },
  {
   "cell_type": "code",
   "execution_count": 2,
   "metadata": {},
   "outputs": [],
   "source": [
    "os.makedirs('./test1/test2') # cria diretorios"
   ]
  },
  {
   "cell_type": "code",
   "execution_count": 9,
   "metadata": {
    "tags": []
   },
   "outputs": [
    {
     "output_type": "stream",
     "name": "stdout",
     "text": "/home/pdajgs/OneDrive/Locaweb/courses_projects/python/Automatize_tarefas_python/cap08 - Lendo e escrevendo em arquivos\n\nFalse\n\nTrue\n"
    }
   ],
   "source": [
    "print(os.path.abspath('.'))\n",
    "print()\n",
    "print(os.path.isabs('.'))\n",
    "print()\n",
    "print(os.path.isabs(os.path.abspath('.')))"
   ]
  },
  {
   "cell_type": "code",
   "execution_count": 10,
   "metadata": {},
   "outputs": [
    {
     "output_type": "execute_result",
     "data": {
      "text/plain": "'../../Downloads'"
     },
     "metadata": {},
     "execution_count": 10
    }
   ],
   "source": [
    "os.path.relpath('/home/pdajgs/Downloads', '/home/pdajgs/OneDrive/Locaweb')"
   ]
  },
  {
   "cell_type": "code",
   "execution_count": 22,
   "metadata": {
    "tags": []
   },
   "outputs": [
    {
     "output_type": "stream",
     "name": "stdout",
     "text": "/home/pdajgs/Downloads\ndocker-linuxtips.pdf\n('/home/pdajgs/Downloads', 'docker-linuxtips.pdf')\n\n['', 'home', 'pdajgs', 'Downloads', 'docker-linuxtips.pdf']\n"
    }
   ],
   "source": [
    "path = '/home/pdajgs/Downloads/docker-linuxtips.pdf'\n",
    "\n",
    "print(os.path.dirname(path))\n",
    "print(os.path.basename(path))\n",
    "print(os.path.split(path))\n",
    "print()\n",
    "print(path.split(os.path.sep))"
   ]
  },
  {
   "cell_type": "code",
   "execution_count": 27,
   "metadata": {
    "tags": []
   },
   "outputs": [
    {
     "output_type": "stream",
     "name": "stdout",
     "text": "415683\n['Fotos Pessoais', 'AWS', 'Locaweb']\n"
    }
   ],
   "source": [
    "print(os.path.getsize('/home/pdajgs/Downloads/docker_linuxtips.pdf'))\n",
    "print(os.listdir('/home/pdajgs/OneDrive'))"
   ]
  },
  {
   "cell_type": "code",
   "execution_count": 45,
   "metadata": {
    "tags": []
   },
   "outputs": [
    {
     "output_type": "stream",
     "name": "stdout",
     "text": "40373\n73921\n224071\n144476\n223555\n148498\n65515\n"
    }
   ],
   "source": [
    "diretory = os.listdir('/home/pdajgs/Downloads/Graylog-PCI')\n",
    "\n",
    "for filename in diretory:\n",
    "    size = os.path.getsize(os.path.join('/home/pdajgs/Downloads/Graylog-PCI', filename))\n",
    "    print(size)"
   ]
  },
  {
   "cell_type": "code",
   "execution_count": 47,
   "metadata": {
    "tags": []
   },
   "outputs": [
    {
     "output_type": "stream",
     "name": "stdout",
     "text": "920409\n"
    }
   ],
   "source": [
    "diretory = os.listdir('/home/pdajgs/Downloads/Graylog-PCI')\n",
    "total = 0\n",
    "\n",
    "for filename in diretory:\n",
    "    size = os.path.getsize(os.path.join('/home/pdajgs/Downloads/Graylog-PCI', filename))\n",
    "    total += size\n",
    "print(total)"
   ]
  },
  {
   "cell_type": "code",
   "execution_count": 50,
   "metadata": {
    "tags": []
   },
   "outputs": [
    {
     "output_type": "stream",
     "name": "stdout",
     "text": "Disk-percent.png..................40373\nexpurgo.png..................73921\nsnapshot.png..................224071\nGraylog-01-06-2020.png..................144476\nGraylog-12-05-2020.png..................223555\nGraylog-13-07-2020.png..................148498\nbackup.png..................65515\n"
    }
   ],
   "source": [
    "diretory = os.listdir('/home/pdajgs/Downloads/Graylog-PCI')\n",
    "\n",
    "for filename in diretory:\n",
    "    size = os.path.getsize(os.path.join('/home/pdajgs/Downloads/Graylog-PCI', filename))\n",
    "    print(filename+'..................'+str(size))"
   ]
  },
  {
   "cell_type": "code",
   "execution_count": 53,
   "metadata": {
    "tags": []
   },
   "outputs": [
    {
     "output_type": "stream",
     "name": "stdout",
     "text": "False\nTrue\nTrue\n"
    }
   ],
   "source": [
    "print(os.path.isdir('/home/pdajgs/Downloads/docker_linuxtips.pdf'))\n",
    "print(os.path.exists('/home/pdajgs/Downloads/docker_linuxtips.pdf'))\n",
    "print(os.path.isfile('/home/pdajgs/Downloads/docker_linuxtips.pdf'))"
   ]
  },
  {
   "cell_type": "code",
   "execution_count": 1,
   "metadata": {},
   "outputs": [
    {
     "output_type": "execute_result",
     "data": {
      "text/plain": "'/home/pdajgs/OneDrive/Locaweb/courses_projects/python/Automatize_tarefas_python/cap08 - Lendo e escrevendo em arquivos'"
     },
     "metadata": {},
     "execution_count": 1
    }
   ],
   "source": [
    "import os\n",
    "\n",
    "os.getcwd()"
   ]
  },
  {
   "cell_type": "code",
   "execution_count": 15,
   "metadata": {},
   "outputs": [],
   "source": [
    "# abrindo arquivos\n",
    "hello_file = open('./helloworld.txt', 'r') # 'r' é passado como default ao abrir um arquivo (read)\n",
    "sonnet = open('./sonnet29.txt')"
   ]
  },
  {
   "cell_type": "code",
   "execution_count": 3,
   "metadata": {},
   "outputs": [
    {
     "output_type": "execute_result",
     "data": {
      "text/plain": "'Hello World!!!'"
     },
     "metadata": {},
     "execution_count": 3
    }
   ],
   "source": [
    "hello_file.read()"
   ]
  },
  {
   "cell_type": "code",
   "execution_count": 18,
   "metadata": {},
   "outputs": [
    {
     "output_type": "execute_result",
     "data": {
      "text/plain": "[]"
     },
     "metadata": {},
     "execution_count": 18
    }
   ],
   "source": [
    "sonnet.readlines()"
   ]
  },
  {
   "cell_type": "code",
   "execution_count": 19,
   "metadata": {},
   "outputs": [
    {
     "output_type": "execute_result",
     "data": {
      "text/plain": "13"
     },
     "metadata": {},
     "execution_count": 19
    }
   ],
   "source": [
    "# escrevendo em arquivos\n",
    "\n",
    "bacon_file = open('./bacon.txt', 'w') # abre o arquivo no modo 'escrita', se o arquivo não existir o mesmo será criado\n",
    "bacon_file.write('Hello world!\\n') # escreve no arquivo\n",
    "bacon_file.close() # fecha o arquivo"
   ]
  },
  {
   "cell_type": "code",
   "execution_count": 21,
   "metadata": {},
   "outputs": [],
   "source": [
    "bacon_file = open('bacon.txt', 'a') # abre o arquivo no modo 'adição', se o arquivo não existir o mesmo será criado\n",
    "bacon_file.write('Bacon is not a vegetable.') # adiciona uma nova linha no arquivo\n",
    "bacon_file.close() # fecha o arquivo\n"
   ]
  },
  {
   "cell_type": "code",
   "execution_count": 22,
   "metadata": {
    "tags": []
   },
   "outputs": [
    {
     "output_type": "stream",
     "name": "stdout",
     "text": "Hello world!\nBacon is not a vegetable.\n"
    }
   ],
   "source": [
    "bacon_file = open('bacon.txt') # abre o arquivo no modo default (read)\n",
    "content = bacon_file.read() # armazena o conteudo em uma variavel\n",
    "bacon_file.close() # fecha o arquivo\n",
    "print(content)"
   ]
  },
  {
   "cell_type": "code",
   "execution_count": 39,
   "metadata": {
    "tags": []
   },
   "outputs": [],
   "source": [
    "# salvando variaveis com o modulo 'shelve'\n",
    "\n",
    "import shelve\n",
    "\n",
    "shelf_file = shelve.open('data') # criando o arquivo 'mydata.db' para armazenar as variaveis\n",
    "cats = ['Zoophie', 'Pooka', 'Simon'] # variavel que será armazenada\n",
    "shelf_file['cats'] = cats # armazenando variavel\n",
    "shelf_file.close() # fechando o arquivo"
   ]
  },
  {
   "cell_type": "code",
   "execution_count": 42,
   "metadata": {
    "tags": []
   },
   "outputs": [
    {
     "output_type": "stream",
     "name": "stdout",
     "text": "['Zoophie', 'Pooka', 'Simon']\n"
    }
   ],
   "source": [
    "shelf_file = shelve.open('data') # abrindo o arquivo\n",
    "print(shelf_file['cats']) # exibindo as informações\n",
    "shelf_file.close() # fechando o arquivo"
   ]
  },
  {
   "cell_type": "code",
   "execution_count": 43,
   "metadata": {
    "tags": []
   },
   "outputs": [
    {
     "output_type": "stream",
     "name": "stdout",
     "text": "['cats']\n[['Zoophie', 'Pooka', 'Simon']]\n"
    }
   ],
   "source": [
    "shelf_file = shelve.open('data') # abrindo o arquivo\n",
    "print(list(shelf_file.keys())) # convertendo em lista\n",
    "print(list(shelf_file.values())) # convertendo em lista\n",
    "shelf_file.close() # fechando o arquivo"
   ]
  },
  {
   "cell_type": "code",
   "execution_count": 1,
   "metadata": {},
   "outputs": [],
   "source": [
    "# salvando variaveis com pprint.pformat()\n",
    "\n",
    "import pprint\n",
    "\n",
    "cats = [{'name':'Zophie', 'desc:':'chubby'},{'name':'Pooka', 'desc':'fluffy'}]\n",
    "\n",
    "pprint.pformat(cats)\n",
    "\n",
    "file_obj = open('mycats.py', 'w')\n",
    "file_obj.write('cats =' + pprint.pformat(cats) + '\\n')\n",
    "file_obj.close()"
   ]
  },
  {
   "cell_type": "code",
   "execution_count": 5,
   "metadata": {
    "tags": []
   },
   "outputs": [
    {
     "output_type": "stream",
     "name": "stdout",
     "text": "[{'desc:': 'chubby', 'name': 'Zophie'}, {'desc': 'fluffy', 'name': 'Pooka'}]\n{'desc:': 'chubby', 'name': 'Zophie'}\nPooka\n"
    }
   ],
   "source": [
    "import mycats\n",
    "\n",
    "print(mycats.cats)\n",
    "print(mycats.cats[0])\n",
    "print(mycats.cats[1]['name'])"
   ]
  },
  {
   "cell_type": "code",
   "execution_count": null,
   "metadata": {},
   "outputs": [],
   "source": []
  }
 ]
}