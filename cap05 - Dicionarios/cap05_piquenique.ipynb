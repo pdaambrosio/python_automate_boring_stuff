{
 "cells": [
  {
   "cell_type": "code",
   "execution_count": 13,
   "metadata": {
    "tags": []
   },
   "outputs": [
    {
     "output_type": "stream",
     "name": "stdout",
     "text": "Maçãs: 7\nBiscoitos: 12\nHamburger: 3\nBolos: 3\nAbacaxi: 1\nSucos: 0\n"
    }
   ],
   "source": [
    "convidados = {'Alice':{'maçãs':5, 'biscoitos':12,}, 'Bob':{'hamburger':3, 'maçãs':2}, 'Carol':{'bolos':3, 'abacaxi':1}}\n",
    "\n",
    "def total_cm_convidados(convidado,item):\n",
    "    num_items = 0\n",
    "    for c, i in convidado.items():\n",
    "        num_items = num_items + i.get(item,0)\n",
    "    return num_items\n",
    "\n",
    "print('Maçãs: ' + str(total_cm_convidados(convidados,'maçãs')))\n",
    "print('Biscoitos: ' + str(total_cm_convidados(convidados,'biscoitos')))\n",
    "print('Hamburger: ' + str(total_cm_convidados(convidados,'hamburger')))\n",
    "print('Bolos: ' + str(total_cm_convidados(convidados,'bolos')))\n",
    "print('Abacaxi: ' + str(total_cm_convidados(convidados,'abacaxi')))\n",
    "print('Sucos: ' + str(total_cm_convidados(convidados,'sucos')))"
   ]
  },
  {
   "cell_type": "code",
   "execution_count": 16,
   "metadata": {
    "tags": []
   },
   "outputs": [
    {
     "output_type": "stream",
     "name": "stdout",
     "text": "5\n2\n0\n"
    }
   ],
   "source": [
    "for c, i in convidados.items():\n",
    "    print(i.get('maçãs',0))"
   ]
  },
  {
   "cell_type": "code",
   "execution_count": null,
   "metadata": {},
   "outputs": [],
   "source": []
  }
 ],
 "metadata": {
  "language_info": {
   "codemirror_mode": {
    "name": "ipython",
    "version": 3
   },
   "file_extension": ".py",
   "mimetype": "text/x-python",
   "name": "python",
   "nbconvert_exporter": "python",
   "pygments_lexer": "ipython3",
   "version": "3.7.7-final"
  },
  "orig_nbformat": 2,
  "kernelspec": {
   "name": "python37764bitpy37virtualenv724f8c74c5c7478bad670819f0cdf1e2",
   "display_name": "Python 3.7.7 64-bit ('py3.7': virtualenv)"
  }
 },
 "nbformat": 4,
 "nbformat_minor": 2
}