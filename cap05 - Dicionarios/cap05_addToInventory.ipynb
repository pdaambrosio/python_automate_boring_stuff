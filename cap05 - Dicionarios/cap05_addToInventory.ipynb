{
 "cells": [
  {
   "cell_type": "code",
   "execution_count": null,
   "metadata": {},
   "outputs": [],
   "source": [
    "def add_inventory(inventory,add_items):\n",
    "    inv = {'gold_coin':42, 'rope':1}\n",
    "    dragon_loot = ['gold_coin', 'dagger', 'gold_coin', 'gold_coin', 'ruby']\n",
    "\n",
    "\n"
   ]
  }
 ],
 "metadata": {
  "language_info": {
   "codemirror_mode": {
    "name": "ipython",
    "version": 3
   },
   "file_extension": ".py",
   "mimetype": "text/x-python",
   "name": "python",
   "nbconvert_exporter": "python",
   "pygments_lexer": "ipython3",
   "version": 3
  },
  "orig_nbformat": 2
 },
 "nbformat": 4,
 "nbformat_minor": 2
}