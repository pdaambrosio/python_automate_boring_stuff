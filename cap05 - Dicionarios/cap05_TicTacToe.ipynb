{
 "cells": [
  {
   "cell_type": "code",
   "execution_count": 3,
   "metadata": {
    "tags": []
   },
   "outputs": [
    {
     "output_type": "stream",
     "name": "stdout",
     "text": "||\n-+-+-\n||\n-+-+-\n||\nEscolha X. Mova escolhendo o espaço:\n||\n-+-+-\n||\n-+-+-\n||\nEscolha O. Mova escolhendo o espaço:\n||\n-+-+-\n|O|\n-+-+-\n||\nEscolha X. Mova escolhendo o espaço:\n||\n-+-+-\nX|O|\n-+-+-\n||\nEscolha O. Mova escolhendo o espaço:\n||\n-+-+-\nX|O|O\n-+-+-\n||\nEscolha X. Mova escolhendo o espaço:\n||\n-+-+-\nX|O|O\n-+-+-\nX||\nEscolha O. Mova escolhendo o espaço:\nO||\n-+-+-\nX|O|O\n-+-+-\nX||\nEscolha X. Mova escolhendo o espaço:\nO||\n-+-+-\nX|O|O\n-+-+-\nX||X\nEscolha O. Mova escolhendo o espaço:\nO|O|\n-+-+-\nX|O|O\n-+-+-\nX||X\nEscolha X. Mova escolhendo o espaço:\nO|O|\n-+-+-\nX|O|O\n-+-+-\nX|X|X\n"
    }
   ],
   "source": [
    "# jogo da velha\n",
    "\n",
    "tabuleiro = {'topo-Esquerda':'', 'topo-Meio':'', 'topo-Direita': '', 'meio-Esquerda':'', 'meio-Meio':'', 'meio-Direita':'', 'baixo-Esquerda':'', 'baixo-Meio':'', 'baixo-Direita':''}\n",
    "\n",
    "def print_tabuleiro(ptabu):\n",
    "    print(ptabu['topo-Esquerda'] + '|' + ptabu['topo-Meio'] + '|' + ptabu['topo-Direita'])\n",
    "    print('-+-+-')\n",
    "    print(ptabu['meio-Esquerda'] + '|' + ptabu['meio-Meio'] + '|' + ptabu['meio-Direita'])\n",
    "    print('-+-+-')\n",
    "    print(ptabu['baixo-Esquerda'] + '|' + ptabu['baixo-Meio'] + '|' + ptabu['baixo-Direita'])\n",
    "\n",
    "# print_tabuleiro(tabuleiro)\n",
    "turno = 'X'\n",
    "for i in range(9):\n",
    "    print_tabuleiro(tabuleiro)\n",
    "    print('Escolha ' + turno + '. Mova escolhendo o espaço:')\n",
    "    mover = input()\n",
    "    tabuleiro[mover] = turno\n",
    "    if turno == 'X':\n",
    "        turno = 'O'\n",
    "    else:\n",
    "        turno = 'X'\n",
    "print_tabuleiro(tabuleiro)\n"
   ]
  },
  {
   "cell_type": "code",
   "execution_count": null,
   "metadata": {},
   "outputs": [],
   "source": []
  }
 ],
 "metadata": {
  "language_info": {
   "codemirror_mode": {
    "name": "ipython",
    "version": 3
   },
   "file_extension": ".py",
   "mimetype": "text/x-python",
   "name": "python",
   "nbconvert_exporter": "python",
   "pygments_lexer": "ipython3",
   "version": "3.7.7-final"
  },
  "orig_nbformat": 2,
  "kernelspec": {
   "name": "python37764bitpy37virtualenv724f8c74c5c7478bad670819f0cdf1e2",
   "display_name": "Python 3.7.7 64-bit ('py3.7': virtualenv)"
  }
 },
 "nbformat": 4,
 "nbformat_minor": 2
}