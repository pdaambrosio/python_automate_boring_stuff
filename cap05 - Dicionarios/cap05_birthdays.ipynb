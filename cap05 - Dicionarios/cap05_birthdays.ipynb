{
 "cells": [
  {
   "cell_type": "code",
   "execution_count": 4,
   "metadata": {
    "tags": []
   },
   "outputs": [
    {
     "output_type": "stream",
     "name": "stdout",
     "text": "Enter a name: (blank to quit)\nI do not have birthday information for Paulo\n\nWhat is their birthday?\nBirthday database updated\nEnter a name: (blank to quit)\nI do not have birthday information for Paul\n\nWhat is their birthday?\nBirthday database updated\nEnter a name: (blank to quit)\nApril 29 is the birthday of Paulo\n\nEnter a name: (blank to quit)\n"
    }
   ],
   "source": [
    "birthdays = {'Alice':'Apr 1', 'Bob':'Dec 12', 'Carol':'Mar 4'}\n",
    "\n",
    "while True:\n",
    "    print('Enter a name: (blank to quit)')\n",
    "    name = input()\n",
    "    if name == '':\n",
    "        break\n",
    "    if name in birthdays:\n",
    "        print(birthdays[name] + ' is the birthday of ' + name)\n",
    "        print('')\n",
    "    else:\n",
    "        print('I do not have birthday information for ' + name)\n",
    "        print('')\n",
    "        print('What is their birthday?')\n",
    "        bday = input()\n",
    "        print('Birthday database updated')\n",
    "        birthdays[name] = bday"
   ]
  },
  {
   "cell_type": "code",
   "execution_count": null,
   "metadata": {},
   "outputs": [],
   "source": []
  }
 ],
 "metadata": {
  "language_info": {
   "codemirror_mode": {
    "name": "ipython",
    "version": 3
   },
   "file_extension": ".py",
   "mimetype": "text/x-python",
   "name": "python",
   "nbconvert_exporter": "python",
   "pygments_lexer": "ipython3",
   "version": "3.7.7-final"
  },
  "orig_nbformat": 2,
  "kernelspec": {
   "name": "python37764bitpy37virtualenv724f8c74c5c7478bad670819f0cdf1e2",
   "display_name": "Python 3.7.7 64-bit ('py3.7': virtualenv)"
  }
 },
 "nbformat": 4,
 "nbformat_minor": 2
}