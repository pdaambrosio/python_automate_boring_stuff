{
 "cells": [
  {
   "cell_type": "markdown",
   "metadata": {},
   "source": [
    "#### 1. Por que é vantajoso ter funções em seus programas?"
   ]
  },
  {
   "cell_type": "markdown",
   "metadata": {},
   "source": [
    "As funções são a maneira principal de compartimentar o codigo em grupos logicos. Como as variaveis, nas funções existem seus proprios escopos locais, o codigo me uma função não pode afetar diretamente os valores de variaveis em outras funções."
   ]
  },
  {
   "cell_type": "markdown",
   "metadata": {},
   "source": [
    "#### 2. Em que momento o codigo de uma função é executado: quando ela é definida ou quando ela é chamada?"
   ]
  },
  {
   "cell_type": "markdown",
   "metadata": {},
   "source": [
    "Quando ela é chamada"
   ]
  },
  {
   "cell_type": "markdown",
   "metadata": {},
   "source": [
    "#### 3. Que instrução cria uma função?"
   ]
  },
  {
   "cell_type": "markdown",
   "metadata": {},
   "source": [
    "A instrução 'def'"
   ]
  },
  {
   "cell_type": "markdown",
   "metadata": {},
   "source": [
    "#### 4. Qual a diferença entre uma função e uma chamada de função?"
   ]
  },
  {
   "cell_type": "markdown",
   "metadata": {},
   "source": [
    "A função em si, define o codigo que será executado. A chamada é a execução deste codigo."
   ]
  },
  {
   "cell_type": "markdown",
   "metadata": {},
   "source": [
    "#### 5. Quantos escopos globais existem em um programa Python? E quantos escopos locais?"
   ]
  },
  {
   "cell_type": "markdown",
   "metadata": {},
   "source": [
    "2 Global e Local"
   ]
  },
  {
   "cell_type": "markdown",
   "metadata": {},
   "source": [
    "#### 6. O que acontece as variaveis em um escopo local quando a chamada da função retorna?"
   ]
  },
  {
   "cell_type": "markdown",
   "metadata": {},
   "source": [
    "Variaveis locais em uma função, serão removidas (apagadas), após a execução do codigo."
   ]
  },
  {
   "cell_type": "markdown",
   "metadata": {},
   "source": [
    "#### 7. O que é um valor de retorno? Um valor de retorno pode fazer parte de uma expressão?"
   ]
  },
  {
   "cell_type": "markdown",
   "metadata": {},
   "source": [
    "O valor de retorno de uma função. Sim, pode fazer parte de uma expressão."
   ]
  },
  {
   "cell_type": "markdown",
   "metadata": {},
   "source": [
    "#### 8. Se uma função não tiver instrução de retorno, qual será o valor de retorno de uma chamada a essa função?"
   ]
  },
  {
   "cell_type": "markdown",
   "metadata": {},
   "source": [
    "O retorno será None."
   ]
  },
  {
   "cell_type": "markdown",
   "metadata": {},
   "source": [
    "#### 9. Como podemos fazer com que uma variavel um uma função refira-se a variavel global?"
   ]
  },
  {
   "cell_type": "markdown",
   "metadata": {},
   "source": [
    "def teste():\n",
    "global nome_da_variavel"
   ]
  },
  {
   "cell_type": "markdown",
   "metadata": {},
   "source": [
    "#### 10. Qual o tipo de dado None?"
   ]
  },
  {
   "cell_type": "markdown",
   "metadata": {},
   "source": [
    "É um valor Null (nulo)."
   ]
  },
  {
   "cell_type": "markdown",
   "metadata": {},
   "source": [
    "#### 11. O que a instrução import areallyourpetsnamederic faz?"
   ]
  },
  {
   "cell_type": "code",
   "execution_count": null,
   "metadata": {},
   "outputs": [],
   "source": [
    "import areallyourpetsnamederic # Erro pois esse modulo não existe"
   ]
  },
  {
   "cell_type": "markdown",
   "metadata": {},
   "source": [
    "#### 12. Em uma função chamada bacon() em um modulo chamado spam(), como você chamaria o a função após ter importado o modulo?"
   ]
  },
  {
   "cell_type": "markdown",
   "metadata": {},
   "source": [
    "spam.bacon()"
   ]
  },
  {
   "cell_type": "markdown",
   "metadata": {},
   "source": [
    "#### 13. Como podemos evitar que um programa falhe quanto houver um erro?"
   ]
  },
  {
   "cell_type": "markdown",
   "metadata": {},
   "source": [
    "Tratando o erro com o 'except' do 'try'."
   ]
  },
  {
   "cell_type": "markdown",
   "metadata": {},
   "source": [
    "#### 14. De que é composta a clausula 'try'? De que é composta a clausula 'except'?{}"
   ]
  },
  {
   "cell_type": "markdown",
   "metadata": {},
   "source": [
    "Try componhe codigos que serão testados na execução e 'except' trata os erros exceções geradas por esses codigos."
   ]
  },
  {
   "cell_type": "markdown",
   "metadata": {},
   "source": [
    "## Projetos práticos"
   ]
  },
  {
   "cell_type": "code",
   "execution_count": null,
   "metadata": {
    "tags": []
   },
   "outputs": [],
   "source": [
    "# minha versão\n",
    "\n",
    "def collatz(number):\n",
    "    if number %2==0:\n",
    "        number = number//2\n",
    "    else:\n",
    "        number = 3*number+1\n",
    "    return number\n",
    "    \n",
    "try:\n",
    "    num = int(input())\n",
    "    coll = collatz(num)\n",
    "except ValueError:\n",
    "    print('Digite um numero inteiro')\n",
    "\n",
    "while coll != 1:\n",
    "    coll = collatz(coll)\n",
    "    print(coll)"
   ]
  },
  {
   "cell_type": "code",
   "execution_count": null,
   "metadata": {
    "tags": []
   },
   "outputs": [],
   "source": [
    "def collatz(num):\n",
    "    # global number\n",
    "    # print(number)\n",
    "    while num != 1:\n",
    "        if num % 2 == 0:\n",
    "            num = num // 2\n",
    "            print(num)\n",
    "        else:\n",
    "            num = 3 * num + 1\n",
    "            print(num)\n",
    "    return num\n",
    "\n",
    "print('Digite um numero:')\n",
    "try:\n",
    "    number = int(input())\n",
    "    collatz(number)\n",
    "except ValueError:\n",
    "    print('')\n",
    "    print('Por favor, digite um numero inteiro')\n",
    "\n",
    "\n"
   ]
  },
  {
   "cell_type": "code",
   "execution_count": null,
   "metadata": {},
   "outputs": [],
   "source": []
  }
 ],
 "metadata": {
  "language_info": {
   "codemirror_mode": {
    "name": "ipython",
    "version": 3
   },
   "file_extension": ".py",
   "mimetype": "text/x-python",
   "name": "python",
   "nbconvert_exporter": "python",
   "pygments_lexer": "ipython3",
   "version": "3.7.7-final"
  },
  "orig_nbformat": 2,
  "kernelspec": {
   "name": "python37764bitpy37virtualenv724f8c74c5c7478bad670819f0cdf1e2",
   "display_name": "Python 3.7.7 64-bit ('py3.7': virtualenv)"
  }
 },
 "nbformat": 4,
 "nbformat_minor": 2
}