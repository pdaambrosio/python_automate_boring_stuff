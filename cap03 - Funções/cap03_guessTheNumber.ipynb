{
 "cells": [
  {
   "cell_type": "code",
   "execution_count": null,
   "metadata": {
    "tags": []
   },
   "outputs": [],
   "source": [
    "# Game de advinhar numero\n",
    "import random\n",
    "\n",
    "secret_number = random.randint(1,20)\n",
    "print('Adivinha o numero, ele está entre 1 e 20')\n",
    "print('')\n",
    "\n",
    "# Peça para o jogador tentar advinhar um numero 6 vezes\n",
    "for chute in range(1, 7):\n",
    "    print('Chuta um numero ai vai... você tem 6 chances')\n",
    "    numero = int(input())\n",
    "    print('')\n",
    "\n",
    "    if numero < secret_number:\n",
    "        print(f'{numero}, você chutou muito baixo')\n",
    "    elif numero > secret_number:\n",
    "        print(f'{numero}... nuss, chutou alto jovem.')\n",
    "    else:\n",
    "        break\n",
    "\n",
    "print('')\n",
    "if numero == secret_number:\n",
    "    print(f'Ai Sim!!! O numero é este {secret_number}')\n",
    "else:\n",
    "    print(f'Não foi desta vez, o numero era este {secret_number}')"
   ]
  },
  {
   "cell_type": "code",
   "execution_count": null,
   "metadata": {},
   "outputs": [],
   "source": []
  }
 ],
 "metadata": {
  "language_info": {
   "codemirror_mode": {
    "name": "ipython",
    "version": 3
   },
   "file_extension": ".py",
   "mimetype": "text/x-python",
   "name": "python",
   "nbconvert_exporter": "python",
   "pygments_lexer": "ipython3",
   "version": "3.7.7-final"
  },
  "orig_nbformat": 2,
  "kernelspec": {
   "name": "python37764bitpy37virtualenv724f8c74c5c7478bad670819f0cdf1e2",
   "display_name": "Python 3.7.7 64-bit ('py3.7': virtualenv)"
  }
 },
 "nbformat": 4,
 "nbformat_minor": 2
}