{
 "cells": [
  {
   "cell_type": "code",
   "execution_count": null,
   "metadata": {},
   "outputs": [],
   "source": [
    "def hello():\n",
    "    print('Howdy!')\n",
    "    print('Howdy!!!')\n",
    "    print('Hello there.')"
   ]
  },
  {
   "cell_type": "code",
   "execution_count": null,
   "metadata": {
    "tags": []
   },
   "outputs": [],
   "source": [
    "hello()"
   ]
  },
  {
   "cell_type": "code",
   "execution_count": null,
   "metadata": {},
   "outputs": [],
   "source": [
    "def hello(name):\n",
    "    print('Hello ' +name)"
   ]
  },
  {
   "cell_type": "code",
   "execution_count": null,
   "metadata": {
    "tags": []
   },
   "outputs": [],
   "source": [
    "hello('PDA')"
   ]
  },
  {
   "cell_type": "markdown",
   "metadata": {},
   "source": [
    "#### magic8ball.py"
   ]
  },
  {
   "cell_type": "code",
   "execution_count": null,
   "metadata": {
    "tags": []
   },
   "outputs": [],
   "source": [
    "import random\n",
    "\n",
    "def magic8ball(number):\n",
    "    if number == 1:\n",
    "       return 'Is is certain'\n",
    "    elif number == 2:\n",
    "       return 'It is decidecly so'\n",
    "    elif number == 3:\n",
    "       return 'Yes'\n",
    "    elif number == 4:\n",
    "       return 'Reply hazy try again'\n",
    "    elif number == 5:\n",
    "       return 'Ask again later'\n",
    "    elif number == 6:\n",
    "       return 'Concetrate an ask again'\n",
    "    elif number == 7:\n",
    "       return 'My reply is no'\n",
    "    elif number == 8:\n",
    "       return 'Outlook not so good'\n",
    "    elif number == 9:\n",
    "       return 'Very doubtful'\n",
    "\n",
    "r = random.randint(1,9)\n",
    "fortune = magic8ball(r)\n",
    "\n",
    "print(r)\n",
    "print(fortune)\n",
    "\n",
    "print(magic8ball(random.randint(1,9)))\n",
    "\n",
    "\n"
   ]
  },
  {
   "cell_type": "code",
   "execution_count": null,
   "metadata": {
    "tags": []
   },
   "outputs": [],
   "source": [
    "print('Hello')\n",
    "print('Wolrd')"
   ]
  },
  {
   "cell_type": "code",
   "execution_count": null,
   "metadata": {
    "tags": []
   },
   "outputs": [],
   "source": [
    "print('Hello', end='')\n",
    "print('World')"
   ]
  },
  {
   "cell_type": "code",
   "execution_count": null,
   "metadata": {
    "tags": []
   },
   "outputs": [],
   "source": [
    "print('cats','dogs','mice')"
   ]
  },
  {
   "cell_type": "code",
   "execution_count": null,
   "metadata": {
    "tags": []
   },
   "outputs": [],
   "source": [
    "print('cats','dogs','mice', sep='/')"
   ]
  },
  {
   "cell_type": "markdown",
   "metadata": {},
   "source": [
    "#### Variaveis locais não podem ser acessadas com escopo global"
   ]
  },
  {
   "cell_type": "code",
   "execution_count": null,
   "metadata": {
    "tags": []
   },
   "outputs": [],
   "source": [
    "def spam():\n",
    "  eggs += 31337  # variável local\n",
    "\n",
    "spam()\n",
    "print(eggs)"
   ]
  },
  {
   "cell_type": "code",
   "execution_count": null,
   "metadata": {
    "tags": []
   },
   "outputs": [],
   "source": [
    "def spam2():\n",
    "  print(eggs)\n",
    "\n",
    "eggs = 42    # variável global\n",
    "\n",
    "spam2()"
   ]
  },
  {
   "cell_type": "markdown",
   "metadata": {},
   "source": [
    "#### sameName.py"
   ]
  },
  {
   "cell_type": "code",
   "execution_count": null,
   "metadata": {
    "tags": []
   },
   "outputs": [],
   "source": [
    "def spam():\n",
    "  eggs = 'spam local'\n",
    "  print(eggs)\n",
    "\n",
    "spam()\n",
    "\n",
    "#############\n",
    "\n",
    "def bacon():\n",
    "  eggs = 'bacon local'\n",
    "  print(eggs)\n",
    "\n",
    "bacon()\n",
    "\n",
    "#############\n",
    "\n",
    "eggs = 'global'\n",
    "\n",
    "print(eggs)"
   ]
  },
  {
   "cell_type": "markdown",
   "metadata": {},
   "source": [
    "#### sameName2.py"
   ]
  },
  {
   "cell_type": "code",
   "execution_count": null,
   "metadata": {
    "tags": []
   },
   "outputs": [],
   "source": [
    "def spam1():\n",
    "  global eggs1\n",
    "  eggs1 = 'spam' # irá modificar a variável global\n",
    "  print(eggs1)\n",
    "\n",
    "def spam2():\n",
    "  global eggs2  # irá utilizar a variável global\n",
    "  print(eggs2)\n",
    "\n",
    "eggs1 = 'global1'\n",
    "eggs2 = 'global2'\n",
    "\n",
    "spam1()\n",
    "spam2()"
   ]
  },
  {
   "cell_type": "markdown",
   "metadata": {},
   "source": [
    "#### Tratamentos de exceções"
   ]
  },
  {
   "cell_type": "code",
   "execution_count": null,
   "metadata": {
    "tags": []
   },
   "outputs": [],
   "source": [
    "def dividir(dividepor):\n",
    "  return 42 / dividepor\n",
    "\n",
    "print(dividir(2))\n",
    "print(dividir(12))\n",
    "print(dividir(1))\n",
    "print(dividir(0))"
   ]
  },
  {
   "cell_type": "code",
   "execution_count": null,
   "metadata": {
    "tags": []
   },
   "outputs": [],
   "source": [
    "def dividir(dividepor):\n",
    "    try:\n",
    "        return 42 / dividepor\n",
    "    except ZeroDivisionError:\n",
    "        print('Erro: Não tem como dividir por zero fi!!!')\n",
    "\n",
    "print(dividir(2))\n",
    "print(dividir(12))\n",
    "print(dividir(1))\n",
    "print(dividir(0))"
   ]
  },
  {
   "cell_type": "code",
   "execution_count": null,
   "metadata": {
    "tags": []
   },
   "outputs": [],
   "source": [
    "def dividir(dividepor):\n",
    "    return 42 / dividepor\n",
    "\n",
    "try:\n",
    "    print(dividir(2))\n",
    "    print(dividir(12))\n",
    "    print(dividir(0))\n",
    "    print(dividir(1))\n",
    "except ZeroDivisionError:\n",
    "    print('Erro: é serio isso!?')"
   ]
  },
  {
   "cell_type": "code",
   "execution_count": null,
   "metadata": {},
   "outputs": [],
   "source": []
  }
 ],
 "metadata": {
  "language_info": {
   "codemirror_mode": {
    "name": "ipython",
    "version": 3
   },
   "file_extension": ".py",
   "mimetype": "text/x-python",
   "name": "python",
   "nbconvert_exporter": "python",
   "pygments_lexer": "ipython3",
   "version": "3.7.7-final"
  },
  "orig_nbformat": 2,
  "kernelspec": {
   "name": "python37764bitpy37virtualenv724f8c74c5c7478bad670819f0cdf1e2",
   "display_name": "Python 3.7.7 64-bit ('py3.7': virtualenv)"
  }
 },
 "nbformat": 4,
 "nbformat_minor": 2
}