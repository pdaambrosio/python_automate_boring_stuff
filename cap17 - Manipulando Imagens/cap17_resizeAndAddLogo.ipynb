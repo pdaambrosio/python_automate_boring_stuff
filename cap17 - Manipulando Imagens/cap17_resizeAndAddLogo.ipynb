{
 "metadata": {
  "language_info": {
   "codemirror_mode": {
    "name": "ipython",
    "version": 3
   },
   "file_extension": ".py",
   "mimetype": "text/x-python",
   "name": "python",
   "nbconvert_exporter": "python",
   "pygments_lexer": "ipython3",
   "version": "3.7.9-final"
  },
  "orig_nbformat": 2,
  "kernelspec": {
   "name": "python3",
   "display_name": "Python 3",
   "language": "python"
  }
 },
 "nbformat": 4,
 "nbformat_minor": 2,
 "cells": [
  {
   "cell_type": "code",
   "execution_count": 41,
   "metadata": {},
   "outputs": [
    {
     "output_type": "stream",
     "name": "stdout",
     "text": [
      "Resizing zophieHorizontal.png...\n",
      "Adding logo to zophieHorizontal.png\n",
      "Resizing zophieRotate270.png...\n",
      "Adding logo to zophieRotate270.png\n",
      "Resizing transparentImage.png...\n",
      "Adding logo to transparentImage.png\n",
      "Resizing zophie2Resize2.png...\n",
      "Adding logo to zophie2Resize2.png\n",
      "Resizing zophieRotate180.png...\n",
      "Adding logo to zophieRotate180.png\n",
      "Resizing putPixel.png...\n",
      "Adding logo to putPixel.png\n",
      "Resizing tiled.png...\n",
      "Adding logo to tiled.png\n",
      "Resizing zophieRotateExpand6.png...\n",
      "Adding logo to zophieRotateExpand6.png\n",
      "Resizing purpleImage.png...\n",
      "Adding logo to purpleImage.png\n",
      "Resizing zophie2.png...\n",
      "Adding logo to zophie2.png\n",
      "Resizing zophieRotate90.png...\n",
      "Adding logo to zophieRotate90.png\n",
      "Resizing zophieRotate6.png...\n",
      "Adding logo to zophieRotate6.png\n",
      "Resizing pasted.png...\n",
      "Adding logo to pasted.png\n",
      "Resizing cropped.png...\n",
      "Adding logo to cropped.png\n",
      "Resizing zophie.jpg...\n",
      "Adding logo to zophie.jpg\n",
      "Resizing zophie.png...\n",
      "Adding logo to zophie.png\n",
      "Resizing zophieVertical.png...\n",
      "Adding logo to zophieVertical.png\n",
      "Resizing zophie2Resize.png...\n",
      "Adding logo to zophie2Resize.png\n"
     ]
    }
   ],
   "source": [
    "#!/home/pdajgs/python_labs/py3.7/bin/python3\n",
    "\n",
    "# resizeAndAddLogo.py - redimenciona todas as imagens do diretorio de trabalho atual para que\n",
    "# caibam em um quadrado de 300x300 e acrescenta cotlogo.png no canto inferior direito.\n",
    "\n",
    "# passo 1 - abrir imagem com o logo e criar as constantes (variaveis)\n",
    "import os\n",
    "from PIL import Image\n",
    "\n",
    "square_fit_size = 300\n",
    "logo_filename = 'catlogo.png'\n",
    "directory = './images'\n",
    "logoImg = Image.open(os.path.join(directory, logo_filename))\n",
    "logoWidth, logoHeight = logoImg.size\n",
    "\n",
    "# passo 2 - percorrer todos os arquivos e abrir as imagens em um loop\n",
    "os.makedirs('withLogo', exist_ok=True)\n",
    "\n",
    "# ignora as imagens que não contenham imagens e o proprio arquivo de logo\n",
    "for filename in os.listdir(directory):\n",
    "    if not (filename.endswith('.png') or filename.endswith('.jpg')) or filename == logo_filename:\n",
    "        continue\n",
    "    img = Image.open(os.path.join(directory,filename))\n",
    "    width, height = img.size\n",
    "    # passo 3 - redimencioar o as imagens\n",
    "    if width > square_fit_size and height > square_fit_size:\n",
    "        if width > height:\n",
    "            height = int((square_fit_size / width)*height)\n",
    "            width = square_fit_size\n",
    "        else:\n",
    "            width = int((square_fit_size / height)*width)\n",
    "            height = square_fit_size\n",
    "\n",
    "    print(f'Resizing {filename}...')\n",
    "    img = img.resize((width,height))\n",
    "    # passo 4 - adicionar logo e salvar alterações\n",
    "    print(f'Adding logo to {filename}')\n",
    "    img.paste(logoImg, (width - logoWidth, height - logoHeight), logoImg)\n",
    "    # salvando\n",
    "    img.save(os.path.join('withLogo', filename))"
   ]
  },
  {
   "cell_type": "code",
   "execution_count": 35,
   "metadata": {},
   "outputs": [
    {
     "output_type": "stream",
     "name": "stdout",
     "text": [
      "./images/zophieHorizontal.png\n./images/zophieRotate270.png\n./images/transparentImage.png\n./images/catlogo.png\n./images/zophie2Resize2.png\n./images/zophieRotate180.png\n./images/putPixel.png\n./images/tiled.png\n./images/zophieRotateExpand6.png\n./images/purpleImage.png\n./images/zophie2.png\n./images/zophieRotate90.png\n./images/zophieRotate6.png\n./images/pasted.png\n./images/cropped.png\n./images/zophie.jpg\n./images/zophie.png\n./images/zophieVertical.png\n./images/zophie2Resize.png\n"
     ]
    }
   ],
   "source": [
    "l = os.listdir('./images/')\n",
    "d = './images'\n",
    "for i in l:\n",
    "    print(os.path.join(d, i))"
   ]
  },
  {
   "cell_type": "code",
   "execution_count": null,
   "metadata": {},
   "outputs": [],
   "source": []
  }
 ]
}