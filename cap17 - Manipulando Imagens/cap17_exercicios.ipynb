{
 "metadata": {
  "language_info": {
   "codemirror_mode": {
    "name": "ipython",
    "version": 3
   },
   "file_extension": ".py",
   "mimetype": "text/x-python",
   "name": "python",
   "nbconvert_exporter": "python",
   "pygments_lexer": "ipython3",
   "version": "3.7.9-final"
  },
  "orig_nbformat": 2,
  "kernelspec": {
   "name": "python3",
   "display_name": "Python 3",
   "language": "python"
  }
 },
 "nbformat": 4,
 "nbformat_minor": 2,
 "cells": [
  {
   "source": [
    "1. O que é uma valor RGBA?"
   ],
   "cell_type": "markdown",
   "metadata": {}
  },
  {
   "cell_type": "code",
   "execution_count": 3,
   "metadata": {},
   "outputs": [],
   "source": [
    "# um valor RGBA é uma tupla de quatro inteiros, cada qual variando de 0 a 255.\n",
    "# os quatro inteiro correspondem a quantidade de vermelho (red), verde (green), azul (blue) e transparência (alpha) da cor.\n",
    "\n",
    "from PIL import Image\n",
    "\n",
    "imgNew = Image.new('RGBA', (100,100), (210,0,0)) # exemplo de RGBA com red 210\n",
    "imgNew.save('./images/red.png')"
   ]
  },
  {
   "source": [
    "2. Como podemos obter o valor de RGBA de 'CornflowerBlue' com o modulo Pillow?"
   ],
   "cell_type": "markdown",
   "metadata": {}
  },
  {
   "cell_type": "code",
   "execution_count": 4,
   "metadata": {},
   "outputs": [
    {
     "output_type": "execute_result",
     "data": {
      "text/plain": [
       "(100, 149, 237, 255)"
      ]
     },
     "metadata": {},
     "execution_count": 4
    }
   ],
   "source": [
    "# uma chamada de função a 'ImageColor' retornara o valor RGBA dessa cor. Conforme abaixo.:\n",
    "\n",
    "from PIL import ImageColor\n",
    "\n",
    "ImageColor.getcolor('CornflowerBlue', 'RGBA')"
   ]
  },
  {
   "source": [
    "3. O que é uma tupla de caixa (box tuple)?"
   ],
   "cell_type": "markdown",
   "metadata": {}
  },
  {
   "cell_type": "code",
   "execution_count": null,
   "metadata": {},
   "outputs": [],
   "source": [
    "# uma tupla de caixa é uma valor de tupla com 4 inteiros: a coordenada x da borda esquerda, a coordenada y da borda superior, a largura e a altura, respectivamente.\n",
    "\n",
    "# recortando imagens\n",
    "from PIL import Image\n",
    "\n",
    "getImg = Image.open('./images/zophie.png')\n",
    "\n",
    "croppedImg = getImage.crop((335,345,565,560)) # exemplo de recorte com uma 'box tuple'\n",
    "croppedImg.save('./images/cropped.png')"
   ]
  },
  {
   "source": [
    "4. Qual função retorna um objeto Image, por exemplo, para um arquivo de imagem chamado \"zophie.png\"?"
   ],
   "cell_type": "markdown",
   "metadata": {}
  },
  {
   "cell_type": "code",
   "execution_count": null,
   "metadata": {},
   "outputs": [],
   "source": [
    "# utilize a função Image.open()\n",
    "from PIL import Image\n",
    "\n",
    "Image.open('./images/zophie.png')"
   ]
  },
  {
   "source": [
    "5. Como podemos descobrir a largura e altura da imagem em um objeto Image?"
   ],
   "cell_type": "markdown",
   "metadata": {}
  },
  {
   "cell_type": "code",
   "execution_count": 8,
   "metadata": {},
   "outputs": [
    {
     "output_type": "execute_result",
     "data": {
      "text/plain": [
       "(816, 1088)"
      ]
     },
     "metadata": {},
     "execution_count": 8
    }
   ],
   "source": [
    "# com o ImageObj.size() que retorna uma tupla de dois inteiros com a largura e altura\n",
    "from PIL import Image\n",
    "\n",
    "image = Image.open('./images/zophie.png')\n",
    "image.size"
   ]
  },
  {
   "source": [
    "6. Qual método deve ser chamado para um objeto Image de uma imagem de 100 X 100 seja obtido, excluindo a quarta parede no canto inferior esquerdo?"
   ],
   "cell_type": "markdown",
   "metadata": {}
  },
  {
   "cell_type": "code",
   "execution_count": 11,
   "metadata": {},
   "outputs": [],
   "source": [
    "# utilizando o método crop\n",
    "from PIL import Image\n",
    "\n",
    "exe6 = Image.new('RGBA', (100,100))\n",
    "exe6.crop((0,50,50,50))\n",
    "\n",
    "exe6.save('./images/exe6.png')"
   ]
  },
  {
   "source": [
    "7. Após fazer alterações em um objeto Image, como podemos salva-ló em um arquivo de imagem?"
   ],
   "cell_type": "markdown",
   "metadata": {}
  },
  {
   "cell_type": "code",
   "execution_count": null,
   "metadata": {},
   "outputs": [],
   "source": [
    "# com o método save\n",
    "from PIL import Image\n",
    "\n",
    "imgNew = Image.new('RGBA', (100,100), (210,0,0)) # exemplo de RGBA com red 210\n",
    "imgNew.save('./images/red.png')\n"
   ]
  },
  {
   "source": [
    "8. Qual o módulo contém o codigo para desenhar formas no Pillow?"
   ],
   "cell_type": "markdown",
   "metadata": {}
  },
  {
   "cell_type": "code",
   "execution_count": null,
   "metadata": {},
   "outputs": [],
   "source": [
    "# utilize o modulo ImageDraw\n",
    "# exemplo de desenho\n",
    "from PIL import Image, ImageDraw\n",
    "\n",
    "img = Image.new('RGBA', (200, 200), 'white')\n",
    "draw = ImageDraw.Draw(img)\n",
    "\n",
    "draw.line([(0,0), (199,0), (199,199), (0, 199), (0,0)], fill='black')\n",
    "draw.rectangle((20, 30, 60, 60), fill='blue')\n",
    "draw.ellipse((120, 30, 160, 60), fill='red')\n",
    "draw.polygon(((57,87), (79, 62), (94, 85), (120, 90), (103, 113)), fill='brown')\n",
    "\n",
    "for i in range(100, 200, 10):\n",
    "    draw.line([(i, 0), (200, i -100)], fill='green')\n",
    "\n",
    "img.save('./images/drawing.png')"
   ]
  },
  {
   "source": [
    "9. Os objetos Image não tem métodos de desenho. Que tipo de objeto tem esses métodos? Como esse tipo de objeto pode ser obtido?"
   ],
   "cell_type": "markdown",
   "metadata": {}
  },
  {
   "cell_type": "code",
   "execution_count": null,
   "metadata": {},
   "outputs": [],
   "source": [
    "# utilize o modulo ImageDraw. Conforme demonstrado na questão 8."
   ]
  }
 ]
}