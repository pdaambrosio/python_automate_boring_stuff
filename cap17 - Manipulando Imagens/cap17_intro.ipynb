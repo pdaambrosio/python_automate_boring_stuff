{
 "metadata": {
  "language_info": {
   "codemirror_mode": {
    "name": "ipython",
    "version": 3
   },
   "file_extension": ".py",
   "mimetype": "text/x-python",
   "name": "python",
   "nbconvert_exporter": "python",
   "pygments_lexer": "ipython3",
   "version": "3.7.9-final"
  },
  "orig_nbformat": 2,
  "kernelspec": {
   "name": "python3",
   "display_name": "Python 3",
   "language": "python"
  }
 },
 "nbformat": 4,
 "nbformat_minor": 2,
 "cells": [
  {
   "cell_type": "code",
   "execution_count": 2,
   "metadata": {},
   "outputs": [
    {
     "output_type": "stream",
     "name": "stdout",
     "text": [
      "(255, 0, 0, 255)\n(0, 0, 0, 255)\n(210, 105, 30, 255)\n(100, 149, 237, 255)\n"
     ]
    }
   ],
   "source": [
    "from PIL import ImageColor\n",
    "\n",
    "# o pillow tem a função ImageColor.getcolor() que aceita uma string com o nome de uma cor como seu primeiro argumento e a string 'RGBA' como segundo.\n",
    "\n",
    "print(ImageColor.getcolor('red', 'RGBA'))\n",
    "print(ImageColor.getcolor('Black', 'RGBA'))\n",
    "print(ImageColor.getcolor('chocolate', 'RGBA'))\n",
    "print(ImageColor.getcolor('CornflowerBlue', 'RGBA'))"
   ]
  },
  {
   "cell_type": "code",
   "execution_count": null,
   "metadata": {},
   "outputs": [],
   "source": [
    "from PIL import Image\n",
    "getImage = Image.open('./images/zophie.png')\n",
    "\n",
    "# opcional, mudar o diretorio de trabalho atual para o diretorio de imagens\n",
    "import os\n",
    "os.chdir('images/')\n"
   ]
  },
  {
   "cell_type": "code",
   "execution_count": 8,
   "metadata": {},
   "outputs": [
    {
     "output_type": "stream",
     "name": "stdout",
     "text": [
      "816\n1088\n./images/zophie.png\nPNG\nPortable network graphics\n"
     ]
    }
   ],
   "source": [
    "from PIL import Image\n",
    "\n",
    "getImage = Image.open('./images/zophie.png')\n",
    "\n",
    "getImage.size\n",
    "width, height = getImage.size\n",
    "\n",
    "print(width)\n",
    "print(height)\n",
    "print(getImage.filename)\n",
    "print(getImage.format)\n",
    "print(getImage.format_description)\n",
    "\n",
    "getImage.save('./images/zophie.jpg')"
   ]
  },
  {
   "cell_type": "code",
   "execution_count": 9,
   "metadata": {},
   "outputs": [],
   "source": [
    "# criando imagens\n",
    "from PIL import Image\n",
    "\n",
    "img1 = Image.new('RGBA', (100, 200), 'purple')\n",
    "img1.save('./images/purpleImage.png')\n",
    "img2 = Image.new('RGBA', (20, 20))\n",
    "img2.save('./images/transparentImage.png')"
   ]
  },
  {
   "cell_type": "code",
   "execution_count": 11,
   "metadata": {},
   "outputs": [],
   "source": [
    "# recortando imagens\n",
    "from PIL import Image\n",
    "\n",
    "getImg = Image.open('./images/zophie.png')\n",
    "\n",
    "croppedImg = getImage.crop((335,345,565,560))\n",
    "croppedImg.save('./images/cropped.png')"
   ]
  },
  {
   "cell_type": "code",
   "execution_count": 5,
   "metadata": {},
   "outputs": [],
   "source": [
    "# copiando e colando imagens\n",
    "\n",
    "from PIL import Image\n",
    "\n",
    "catImg = Image.open('./images/zophie.jpg')\n",
    "# copiando\n",
    "catCopyImg = catImg.copy()\n",
    "\n",
    "# colando uma imagem sobre outra\n",
    "# cortando\n",
    "faceImg = catImg.crop((335, 345, 565, 560))\n",
    "faceImg.size\n",
    "\n",
    "catCopyImg.paste(faceImg,(0,0))\n",
    "catCopyImg.paste(faceImg, (400, 500))\n",
    "catCopyImg.save('./images/pasted.png')"
   ]
  },
  {
   "cell_type": "code",
   "execution_count": 24,
   "metadata": {
    "tags": []
   },
   "outputs": [
    {
     "output_type": "stream",
     "name": "stdout",
     "text": [
      "0 0\n0 215\n0 430\n0 645\n0 860\n0 1075\n230 0\n230 215\n230 430\n230 645\n230 860\n230 1075\n460 0\n460 215\n460 430\n460 645\n460 860\n460 1075\n690 0\n690 215\n690 430\n690 645\n690 860\n690 1075\n"
     ]
    }
   ],
   "source": [
    "# colando lado-a-lado\n",
    "\n",
    "catImgWidth, catImgHeight = catImg.size\n",
    "faceImgWidth, faceImgHeight = faceImg.size\n",
    "\n",
    "catCopyTwo = catImg.copy()\n",
    "\n",
    "for left in range(0, catImgWidth, faceImgWidth):\n",
    "    for top in range(0, catImgHeight, faceImgHeight):\n",
    "        catCopyTwo.paste(faceImg, (left,top))\n",
    "        print(left,top)\n",
    "catCopyTwo.save('./images/tiled.png')"
   ]
  },
  {
   "cell_type": "code",
   "execution_count": 5,
   "metadata": {},
   "outputs": [
    {
     "output_type": "stream",
     "name": "stdout",
     "text": [
      "(816, 1088)\n(544, 408)\n(816, 1388)\n"
     ]
    }
   ],
   "source": [
    "# redimencionando uma imagem\n",
    "\n",
    "from PIL import Image\n",
    "\n",
    "img = Image.open('./images/zophie2.png')\n",
    "\n",
    "\n",
    "largura, altura = img.size\n",
    "resizeImg = img.resize((int(altura/2), int(largura/2)))\n",
    "resizeImg.save('./images/zophie2Resize.png')\n",
    "\n",
    "img2 = Image.open('./images/zophie2Resize.png')\n",
    "\n",
    "resizeImg2 = img.resize((largura, altura + 300))\n",
    "resizeImg2.save('./images/zophie2Resize2.png')\n",
    "\n",
    "img3 = Image.open('./images/zophie2Resize2.png')\n",
    "\n",
    "print(img.size)\n",
    "print(img2.size)\n",
    "print(img3.size)\n"
   ]
  },
  {
   "cell_type": "code",
   "execution_count": 11,
   "metadata": {},
   "outputs": [],
   "source": [
    "# rotação e invertendo imagem\n",
    "\n",
    "from PIL import Image\n",
    "\n",
    "img = Image.open('./images/zophie.png')\n",
    "# metodo rotate\n",
    "img.rotate(90).save('./images/zophieRotate90.png')\n",
    "img.rotate(180).save('./images/zophieRotate180.png')\n",
    "img.rotate(270).save('./images/zophieRotate270.png')\n",
    "img.rotate(6).save('./images/zophieRotate6.png')\n",
    "img.rotate(6, expand=True).save('./images/zophieRotateExpand6.png')\n",
    "# espelhando\n",
    "img.transpose(Image.FLIP_LEFT_RIGHT).save('./images/zophieHorizontal.png')\n",
    "img.transpose(Image.FLIP_TOP_BOTTOM).save('./images/zophieVertical.png')"
   ]
  },
  {
   "cell_type": "code",
   "execution_count": 16,
   "metadata": {},
   "outputs": [
    {
     "output_type": "stream",
     "name": "stdout",
     "text": [
      "(210, 210, 210, 255)\n(169, 169, 169, 255)\n"
     ]
    }
   ],
   "source": [
    "# alterando pixels\n",
    "\n",
    "from PIL import Image\n",
    "\n",
    "imgNew = Image.new('RGBA', (100,100))\n",
    "imgNew.getpixel((0,0))\n",
    "\n",
    "# colorindo em cima\n",
    "for x in range(100):\n",
    "    for y in range(50):\n",
    "        imgNew.putpixel((x,y),(210,210,210))\n",
    "\n",
    "# colorindo em baixo\n",
    "from PIL import ImageColor\n",
    "\n",
    "for x in range(100):\n",
    "    for y in range(50,100):\n",
    "        imgNew.putpixel((x,y), ImageColor.getcolor('darkgray', 'RGBA'))\n",
    "\n",
    "imgNew.save('./images/putPixel.png')\n",
    "\n",
    "print(imgNew.getpixel((0,0)))\n",
    "print(imgNew.getpixel((0,50)))"
   ]
  },
  {
   "cell_type": "code",
   "execution_count": null,
   "metadata": {},
   "outputs": [],
   "source": [
    "# desenhando em imagens\n",
    "from PIL import Image, ImageDraw\n",
    "\n",
    "# criando uma nova imagem com o fundo brando e passando a mesma para a função ImageDraw\n",
    "img = Image.new('RGBA', (200,200), 'white')\n",
    "draw = ImageDraw.Draw(img)"
   ]
  },
  {
   "cell_type": "code",
   "execution_count": 3,
   "metadata": {},
   "outputs": [],
   "source": [
    "# exemplo de desenho\n",
    "from PIL import Image, ImageDraw\n",
    "\n",
    "img = Image.new('RGBA', (200, 200), 'white')\n",
    "draw = ImageDraw.Draw(img)\n",
    "\n",
    "draw.line([(0,0), (199,0), (199,199), (0, 199), (0,0)], fill='black')\n",
    "draw.rectangle((20, 30, 60, 60), fill='blue')\n",
    "draw.ellipse((120, 30, 160, 60), fill='red')\n",
    "draw.polygon(((57,87), (79, 62), (94, 85), (120, 90), (103, 113)), fill='brown')\n",
    "\n",
    "for i in range(100, 200, 10):\n",
    "    draw.line([(i, 0), (200, i -100)], fill='green')\n",
    "\n",
    "img.save('./images/drawing.png')"
   ]
  },
  {
   "cell_type": "code",
   "execution_count": 8,
   "metadata": {},
   "outputs": [],
   "source": [
    "# desenhando textos\n",
    "from PIL import Image, ImageDraw, ImageFont\n",
    "import os\n",
    "\n",
    "img = Image.new('RGBA',(200, 200), 'white')\n",
    "draw = ImageDraw.Draw(img)\n",
    "\n",
    "draw.text((20, 150), 'Hello', fill='purple')\n",
    "fontsFolder = '/usr/share/fonts/dejavu/'\n",
    "\n",
    "dejavuFont = ImageFont.truetype(os.path.join(fontsFolder, 'DejaVuSans.ttf'), 32)\n",
    "draw.text((80, 150), 'Howdy', fill='gray', font=dejavuFont)\n",
    "\n",
    "img.save('./images/text.png')\n"
   ]
  },
  {
   "cell_type": "code",
   "execution_count": null,
   "metadata": {},
   "outputs": [],
   "source": []
  }
 ]
}