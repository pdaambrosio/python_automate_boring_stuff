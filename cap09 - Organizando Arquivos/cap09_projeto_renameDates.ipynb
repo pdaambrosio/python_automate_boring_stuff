{
 "metadata": {
  "language_info": {
   "codemirror_mode": {
    "name": "ipython",
    "version": 3
   },
   "file_extension": ".py",
   "mimetype": "text/x-python",
   "name": "python",
   "nbconvert_exporter": "python",
   "pygments_lexer": "ipython3",
   "version": "3.7.8-final"
  },
  "orig_nbformat": 2,
  "kernelspec": {
   "name": "python37764bitpy37virtualenv724f8c74c5c7478bad670819f0cdf1e2",
   "display_name": "Python 3.7.7 64-bit ('py3.7': virtualenv)"
  }
 },
 "nbformat": 4,
 "nbformat_minor": 2,
 "cells": [
  {
   "cell_type": "code",
   "execution_count": 49,
   "metadata": {
    "tags": []
   },
   "outputs": [
    {
     "output_type": "stream",
     "name": "stdout",
     "text": "Renaming 01-03-2014eggs.zip to 03-01-2014eggs.zip\n\nRenaming spam12-04-1999.txt to spam04-12-1999.txt\n\n"
    }
   ],
   "source": [
    "#!/home/pdajgs/python_labs/py3.7/bin/python3\n",
    "\n",
    "'''\n",
    "Renomeia datas do estilo americado MM-DD-AAAA para o estilo europeu DD-MM-AAAA\n",
    "'''\n",
    "\n",
    "import shutil, os, re\n",
    "\n",
    "date_parttern = re.compile(r'''\n",
    "^(.*?)                          # Todo texto que vier antes da data\n",
    "(\\d{2})-                        # Dois digitos do mês\n",
    "(\\d{2})-                        # Dois digitos do dia\n",
    "(\\d{2,4})                       # Dois ou quatro digitos do ano\n",
    "(.*?)$                          # Todo texto que vier depois do ano\n",
    "''', re.VERBOSE)\n",
    "\n",
    "for files in os.listdir(r'.'):\n",
    "    date_eua = date_parttern.search(files)\n",
    "    if date_eua == None:\n",
    "        continue\n",
    "    before_part = date_eua.group(1)\n",
    "    month_part = date_eua.group(2)\n",
    "    day_part = date_eua.group(3)\n",
    "    year_part = date_eua.group(4)\n",
    "    after_part = date_eua.group(5)\n",
    "\n",
    "    date_euro = before_part + day_part + '-' + month_part + '-' + year_part + after_part\n",
    "    dir_path = os.getcwd()\n",
    "    file_eua = os.path.join(dir_path, files)\n",
    "    file_euro = os.path.join(dir_path, date_euro)\n",
    "\n",
    "    print(f'Renaming {date_eua.group(0)} to {date_euro}\\n')\n",
    "    shutil.move(files, file_euro)\n",
    "\n",
    "# print(file_eua+'\\n')\n",
    "# print(file_euro+'\\n')"
   ]
  },
  {
   "cell_type": "code",
   "execution_count": 3,
   "metadata": {
    "tags": []
   },
   "outputs": [
    {
     "output_type": "stream",
     "name": "stdout",
     "text": "spam04-04-20.txt\n"
    }
   ],
   "source": [
    "print(dateParttern.search('spam04-04-20.txt').group(0))"
   ]
  },
  {
   "cell_type": "code",
   "execution_count": 102,
   "metadata": {},
   "outputs": [],
   "source": [
    "files = dateParttern.search('spam04-04-20.txt')"
   ]
  },
  {
   "cell_type": "code",
   "execution_count": 105,
   "metadata": {},
   "outputs": [
    {
     "output_type": "execute_result",
     "data": {
      "text/plain": "'spam04-04-20.txt'"
     },
     "metadata": {},
     "execution_count": 105
    }
   ],
   "source": [
    "files.group(0)"
   ]
  },
  {
   "cell_type": "code",
   "execution_count": 46,
   "metadata": {
    "tags": []
   },
   "outputs": [
    {
     "output_type": "stream",
     "name": "stdout",
     "text": "['01-03-2014eggs.zip', 'spam12-04-1999.txt']\n"
    }
   ],
   "source": [
    "print(os.listdir(r'.'))"
   ]
  },
  {
   "cell_type": "code",
   "execution_count": 45,
   "metadata": {},
   "outputs": [
    {
     "output_type": "execute_result",
     "data": {
      "text/plain": "'/home/pdajgs/OneDrive/Locaweb/courses_projects/python/Automatize_tarefas_python/cap09 - Organizando Arquivos/renameDatesFiles'"
     },
     "metadata": {},
     "execution_count": 45
    }
   ],
   "source": [
    "os.path.abspath('.')"
   ]
  },
  {
   "cell_type": "code",
   "execution_count": 43,
   "metadata": {},
   "outputs": [
    {
     "output_type": "execute_result",
     "data": {
      "text/plain": "'/home/pdajgs/OneDrive/Locaweb/courses_projects/python/Automatize_tarefas_python/cap09 - Organizando Arquivos/renameDatesFiles'"
     },
     "metadata": {},
     "execution_count": 43
    }
   ],
   "source": [
    "os.getcwd()"
   ]
  },
  {
   "cell_type": "code",
   "execution_count": 42,
   "metadata": {},
   "outputs": [],
   "source": [
    "os.chdir('/home/pdajgs/OneDrive/Locaweb/courses_projects/python/Automatize_tarefas_python/cap09 - Organizando Arquivos/renameDatesFiles')"
   ]
  },
  {
   "cell_type": "code",
   "execution_count": null,
   "metadata": {},
   "outputs": [],
   "source": []
  }
 ]
}