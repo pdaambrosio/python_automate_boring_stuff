{
 "metadata": {
  "language_info": {
   "codemirror_mode": {
    "name": "ipython",
    "version": 3
   },
   "file_extension": ".py",
   "mimetype": "text/x-python",
   "name": "python",
   "nbconvert_exporter": "python",
   "pygments_lexer": "ipython3",
   "version": "3.7.8-final"
  },
  "orig_nbformat": 2,
  "kernelspec": {
   "name": "python37764bitpy37virtualenv724f8c74c5c7478bad670819f0cdf1e2",
   "display_name": "Python 3.7.7 64-bit ('py3.7': virtualenv)"
  }
 },
 "nbformat": 4,
 "nbformat_minor": 2,
 "cells": [
  {
   "cell_type": "code",
   "execution_count": 32,
   "metadata": {},
   "outputs": [],
   "source": [
    "#!/home/pdajgs/python_labs/py3.7/bin/python3\n",
    "\n",
    "import shutil, os\n",
    "\n",
    "def arquivos (path, ext):\n",
    "    path = os.listdir(path)\n",
    "    for filename in path:\n",
    "        if filename.endswith(ext):\n",
    "            shutil.move('/home/pdajgs/Downloads/'+filename,'/home/pdajgs/Downloads/images/')\n",
    "            print(f'Moving {filename} to /images\\n')\n",
    "    print('Done!!!')"
   ]
  },
  {
   "cell_type": "code",
   "execution_count": 31,
   "metadata": {
    "tags": []
   },
   "outputs": [
    {
     "output_type": "stream",
     "name": "stdout",
     "text": "Moving node-v13.12.0-linux-x64.tar.xz to /images\n\nDone!!!\n"
    }
   ],
   "source": [
    "arquivos('/home/pdajgs/Downloads/','.jpg')"
   ]
  },
  {
   "cell_type": "code",
   "execution_count": null,
   "metadata": {},
   "outputs": [],
   "source": []
  }
 ]
}