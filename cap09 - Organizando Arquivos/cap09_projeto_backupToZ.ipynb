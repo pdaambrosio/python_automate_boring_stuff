{
 "metadata": {
  "language_info": {
   "codemirror_mode": {
    "name": "ipython",
    "version": 3
   },
   "file_extension": ".py",
   "mimetype": "text/x-python",
   "name": "python",
   "nbconvert_exporter": "python",
   "pygments_lexer": "ipython3",
   "version": "3.7.8-final"
  },
  "orig_nbformat": 2,
  "kernelspec": {
   "name": "python37764bitpy37virtualenv724f8c74c5c7478bad670819f0cdf1e2",
   "display_name": "Python 3.7.7 64-bit ('py3.7': virtualenv)"
  }
 },
 "nbformat": 4,
 "nbformat_minor": 2,
 "cells": [
  {
   "cell_type": "code",
   "execution_count": null,
   "metadata": {},
   "outputs": [],
   "source": [
    "#!/home/pdajgs/python_labs/py3.7/bin/python3\n",
    "\n",
    "# backup incremental\n",
    "\n",
    "import os, zipfile\n",
    "\n",
    "def backup_to_zip(folder):\n",
    "    folder = os.path.abspath(folder)\n",
    "    number = 1\n",
    "\n",
    "    while True:\n",
    "        zip_filename = os.path.basename(folder) + '_' + str(number) + '.zip'\n",
    "        if os.path.exists(zip_filename):\n",
    "            break\n",
    "        number += 1\n",
    "        print(f'Creating backup file... {zip_filename}')\n",
    "        backup_zip = zipfile.ZipFile(zip_filename, 'w', zipfile.ZIP_DEFLATED)\n",
    "        for foldername, subfolders, filenames in os.walk(folder):\n",
    "            print('Adding files in... %s' % (foldername))\n",
    "            # backup_zip.write(foldername)\n",
    "            for filename in filenames:\n",
    "                new_base = os.path.basename(folder)+'_'\n",
    "                if filename.startswith(new_base) and filename.endswith('.zip'):\n",
    "                    continue\n",
    "                    backup_zip.write(os.path.join(foldername, filename))\n",
    "                backup_zip.close()\n",
    "        print('Done!')"
   ]
  },
  {
   "cell_type": "code",
   "execution_count": null,
   "metadata": {
    "tags": [
     "outputPrepend"
    ]
   },
   "outputs": [],
   "source": [
    "backup_to_zip('/home/pdajgs/Downloads/Dutra')"
   ]
  },
  {
   "cell_type": "code",
   "execution_count": null,
   "metadata": {
    "tags": []
   },
   "outputs": [],
   "source": [
    "path = os.walk('./delicious')\n",
    "\n",
    "for f, s, a in path:\n",
    "    for i in a:\n",
    "        print(i)"
   ]
  },
  {
   "cell_type": "code",
   "execution_count": 3,
   "metadata": {},
   "outputs": [
    {
     "output_type": "execute_result",
     "data": {
      "text/plain": "'/home/pdajgs/Downloads/Dutra'"
     },
     "metadata": {},
     "execution_count": 3
    }
   ],
   "source": [
    "os.path.abspath('/home/pdajgs/Downloads/Dutra')"
   ]
  },
  {
   "cell_type": "code",
   "execution_count": null,
   "metadata": {},
   "outputs": [],
   "source": [
    "os.path.exists('/home/pdajgs/Downloads/Dutra')"
   ]
  },
  {
   "cell_type": "code",
   "execution_count": null,
   "metadata": {},
   "outputs": [],
   "source": []
  }
 ]
}