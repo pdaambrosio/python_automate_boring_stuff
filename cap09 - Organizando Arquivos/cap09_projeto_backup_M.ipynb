{
 "metadata": {
  "language_info": {
   "codemirror_mode": {
    "name": "ipython",
    "version": 3
   },
   "file_extension": ".py",
   "mimetype": "text/x-python",
   "name": "python",
   "nbconvert_exporter": "python",
   "pygments_lexer": "ipython3",
   "version": "3.7.8-final"
  },
  "orig_nbformat": 2,
  "kernelspec": {
   "name": "python37764bitpy37virtualenv724f8c74c5c7478bad670819f0cdf1e2",
   "display_name": "Python 3.7.7 64-bit ('py3.7': virtualenv)"
  }
 },
 "nbformat": 4,
 "nbformat_minor": 2,
 "cells": [
  {
   "cell_type": "code",
   "execution_count": 17,
   "metadata": {},
   "outputs": [],
   "source": [
    "# este funciona\n",
    "\n",
    "import os, zipfile\n",
    "\n",
    "def backup (path):\n",
    "    path = os.path.abspath(path)\n",
    "    zipname = os.path.basename(path)+'.zip'\n",
    "    with zipfile.ZipFile(zipname, 'w', zipfile.ZIP_DEFLATED) as files:\n",
    "        print(f'Criando o arquivo {zipname}\\n')\n",
    "        for folders, subfolders, arqs in os.walk(path):\n",
    "            for arq in arqs:\n",
    "                arq = folders + '/' + arq\n",
    "                if os.path.isfile(arq):                \n",
    "                    print(f'Fazendo backup do... {arq}')\n",
    "                    files.write(arq)\n",
    "        print('\\nDone!!!')"
   ]
  },
  {
   "cell_type": "code",
   "execution_count": 18,
   "metadata": {
    "tags": []
   },
   "outputs": [
    {
     "output_type": "stream",
     "name": "stdout",
     "text": "Criando o arquivo abcd.zip\n\n\nDone!!!\n"
    }
   ],
   "source": [
    "backup('/abcd')"
   ]
  },
  {
   "cell_type": "code",
   "execution_count": 36,
   "metadata": {
    "tags": []
   },
   "outputs": [],
   "source": [
    "# este funciona\n",
    "\n",
    "import os, zipfile\n",
    "\n",
    "def backup (path):\n",
    "    path = os.path.abspath(path)\n",
    "    zipname = os.path.basename(path)+'.zip'\n",
    "    if os.listdir(path):\n",
    "        with zipfile.ZipFile(zipname, 'w', zipfile.ZIP_DEFLATED) as files:\n",
    "            print(f'Criando o arquivo {zipname}\\n')\n",
    "            for folders, subfolders, arqs in os.walk(path):\n",
    "                for arq in arqs:\n",
    "                    arq = folders + '/' + arq\n",
    "                    if os.path.isfile(arq):                \n",
    "                        print(f'Fazendo backup do... {arq}')\n",
    "                        files.write(arq)\n",
    "            print('\\nDone!!!')"
   ]
  },
  {
   "cell_type": "code",
   "execution_count": 38,
   "metadata": {
    "tags": []
   },
   "outputs": [
    {
     "output_type": "stream",
     "name": "stdout",
     "text": "Criando o arquivo delicious.zip\n\nFazendo backup do... /home/pdajgs/OneDrive/Locaweb/courses_projects/python/Automatize_tarefas_python/cap09 - Organizando Arquivos/delicious/cats/catnames.txt\nFazendo backup do... /home/pdajgs/OneDrive/Locaweb/courses_projects/python/Automatize_tarefas_python/cap09 - Organizando Arquivos/delicious/cats/zophie.jpg\nFazendo backup do... /home/pdajgs/OneDrive/Locaweb/courses_projects/python/Automatize_tarefas_python/cap09 - Organizando Arquivos/delicious/walnut/waffles/butter.txt\n\nDone!!!\n"
    }
   ],
   "source": [
    "backup('./delicious')"
   ]
  },
  {
   "cell_type": "code",
   "execution_count": 35,
   "metadata": {
    "tags": []
   },
   "outputs": [
    {
     "output_type": "execute_result",
     "data": {
      "text/plain": "['cats', 'walnut']"
     },
     "metadata": {},
     "execution_count": 35
    }
   ],
   "source": []
  },
  {
   "cell_type": "code",
   "execution_count": null,
   "metadata": {},
   "outputs": [],
   "source": []
  }
 ]
}