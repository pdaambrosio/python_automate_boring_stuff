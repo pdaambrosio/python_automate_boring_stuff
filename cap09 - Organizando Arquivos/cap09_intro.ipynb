{
 "metadata": {
  "language_info": {
   "codemirror_mode": {
    "name": "ipython",
    "version": 3
   },
   "file_extension": ".py",
   "mimetype": "text/x-python",
   "name": "python",
   "nbconvert_exporter": "python",
   "pygments_lexer": "ipython3",
   "version": "3.7.8-final"
  },
  "orig_nbformat": 2,
  "kernelspec": {
   "name": "python37764bitpy37virtualenv724f8c74c5c7478bad670819f0cdf1e2",
   "display_name": "Python 3.7.7 64-bit ('py3.7': virtualenv)"
  }
 },
 "nbformat": 4,
 "nbformat_minor": 2,
 "cells": [
  {
   "cell_type": "code",
   "execution_count": 2,
   "metadata": {},
   "outputs": [],
   "source": [
    "import shutil, os"
   ]
  },
  {
   "cell_type": "code",
   "execution_count": 5,
   "metadata": {},
   "outputs": [
    {
     "output_type": "execute_result",
     "data": {
      "text/plain": "'/home/pdajgs/OneDrive/Locaweb/courses_projects/python/Automatize_tarefas_python/cap09 - Organizando Arquivos'"
     },
     "metadata": {},
     "execution_count": 5
    }
   ],
   "source": [
    "os.getcwd()"
   ]
  },
  {
   "cell_type": "code",
   "execution_count": 9,
   "metadata": {},
   "outputs": [
    {
     "output_type": "execute_result",
     "data": {
      "text/plain": "'./bacon2'"
     },
     "metadata": {},
     "execution_count": 9
    }
   ],
   "source": [
    "# copiando arquivos\n",
    "\n",
    "shutil.copy(r'../cap08 - Lendo e escrevendo em arquivos/bacon.txt', './')\n",
    "\n",
    "# para renomear na copia\n",
    "\n",
    "shutil.copy(r'../cap08 - Lendo e escrevendo em arquivos/bacon.txt', './bacon2')\n"
   ]
  },
  {
   "cell_type": "code",
   "execution_count": 12,
   "metadata": {},
   "outputs": [
    {
     "output_type": "execute_result",
     "data": {
      "text/plain": "'./provas2'"
     },
     "metadata": {},
     "execution_count": 12
    }
   ],
   "source": [
    "# copiando pastas com subpastas e arquivos\n",
    "\n",
    "shutil.copytree(r'../cap08 - Lendo e escrevendo em arquivos/provas', './provas2')"
   ]
  },
  {
   "cell_type": "code",
   "execution_count": 13,
   "metadata": {},
   "outputs": [
    {
     "output_type": "execute_result",
     "data": {
      "text/plain": "'./move.txt'"
     },
     "metadata": {},
     "execution_count": 13
    }
   ],
   "source": [
    "# mover arquivos e pastas\n",
    "\n",
    "shutil.move(r'../cap08 - Lendo e escrevendo em arquivos/move.txt','./')"
   ]
  },
  {
   "cell_type": "code",
   "execution_count": 14,
   "metadata": {},
   "outputs": [],
   "source": [
    "# apagando arquivos e pastas vazias\n",
    "\n",
    "os.unlink('./deleteme.txt')\n",
    "os.rmdir('./deleteme_dir')"
   ]
  },
  {
   "cell_type": "code",
   "execution_count": 15,
   "metadata": {},
   "outputs": [],
   "source": [
    "# deletando pastas, subpastas e arquivos\n",
    "\n",
    "shutil.rmtree('./deleteme_dir')"
   ]
  },
  {
   "cell_type": "code",
   "execution_count": 5,
   "metadata": {
    "tags": []
   },
   "outputs": [
    {
     "output_type": "stream",
     "name": "stdout",
     "text": "bacon.txt\nhelloworld.txt\n"
    }
   ],
   "source": [
    "# cuidado ao criar programas\n",
    "\n",
    "# errado, era para ser .txt\n",
    "\n",
    "for filename in os.listdir():\n",
    "    if filename.endswith('.rtx'):\n",
    "        os.unlink(filename)\n",
    "\n",
    "# use o print para verificar (testar)\n",
    "\n",
    "for filename in os.listdir():\n",
    "    if filename.endswith('.txt'):\n",
    "        # os.unlink(filename)\n",
    "        print(filename)"
   ]
  },
  {
   "cell_type": "code",
   "execution_count": 7,
   "metadata": {},
   "outputs": [],
   "source": [
    "# apagando arquivos com segurança com o modulo \"send2trash\" (enviar para lixeira)\n",
    "\n",
    "# pip install send2trash\n",
    "\n",
    "import send2trash\n",
    "\n",
    "for filename in os.listdir():\n",
    "    if filename.endswith('.txt'):\n",
    "        send2trash.send2trash(filename)\n",
    "\n"
   ]
  },
  {
   "cell_type": "code",
   "execution_count": 35,
   "metadata": {
    "tags": []
   },
   "outputs": [
    {
     "output_type": "stream",
     "name": "stdout",
     "text": "The current folder is ./delicious\nSubfolder of./delicious/cats\nSubfolder of./delicious/walnut\n\nThe current folder is ./delicious/cats\nFile inside /catnames.txt\nFile inside /zophie.jpg\n\nThe current folder is ./delicious/walnut\nSubfolder of./delicious/walnut/waffles\n\nThe current folder is ./delicious/walnut/waffles\nFile inside /butter.txt\n\n"
    }
   ],
   "source": [
    "# percorrendo arquivos e pastas\n",
    "\n",
    "import os\n",
    "\n",
    "for folder, subfolder, filename in os.walk('./delicious'):\n",
    "    print('The current folder is ' + folder)\n",
    "\n",
    "    for sub in subfolder:\n",
    "        print('Subfolder of' + folder + '/' + sub )\n",
    "\n",
    "    for filename in filename:\n",
    "        print(f'File inside /{filename}')\n",
    "    \n",
    "    print()"
   ]
  },
  {
   "cell_type": "code",
   "execution_count": 52,
   "metadata": {
    "tags": []
   },
   "outputs": [
    {
     "output_type": "stream",
     "name": "stdout",
     "text": "['spam.txt', 'cats/', 'cats/catnames.txt', 'cats/zophie.jpg']\n\n13908\n\n3828\n\nCompress file is 3.63x smaller!\n\nCompress file is 3.633228840125392x smaller!\n"
    }
   ],
   "source": [
    "# lendo arquivos zip\n",
    "\n",
    "import zipfile, os\n",
    "\n",
    "readzip = zipfile.ZipFile('./example.zip')\n",
    "\n",
    "print(readzip.namelist())\n",
    "\n",
    "spam = readzip.getinfo('spam.txt')\n",
    "print()\n",
    "print(spam.file_size)\n",
    "print()\n",
    "print(spam.compress_size)\n",
    "print()\n",
    "\n",
    "print('Compress file is %sx smaller!' % (round(spam.file_size/spam.compress_size, 2))) # com round\n",
    "print()\n",
    "print('Compress file is %sx smaller!' % (spam.file_size/spam.compress_size)) # sem round\n",
    "\n",
    "readzip.close()"
   ]
  },
  {
   "cell_type": "code",
   "execution_count": 54,
   "metadata": {},
   "outputs": [],
   "source": [
    "# extraindo arquivos zip\n",
    "\n",
    "import zipfile, os\n",
    "\n",
    "extractzip = zipfile.ZipFile('example.zip')\n",
    "\n",
    "# extractzip.extractall() # sem passar um diretorio\n",
    "\n",
    "extractzip.extractall('./deleteme') # passando um diretorio\n",
    "\n",
    "extractzip.extract('spam.txt', './deleteme') # passando um diretorio e extraindo somente um arquivo\n",
    "\n",
    "extractzip.close()\n"
   ]
  },
  {
   "cell_type": "code",
   "execution_count": 55,
   "metadata": {},
   "outputs": [],
   "source": [
    "# criando arquivos zip\n",
    "\n",
    "import zipfile\n",
    "\n",
    "filezip = zipfile.ZipFile('file.zip', 'w')\n",
    "\n",
    "filezip.write('./delicious/', compress_type=zipfile.ZIP_DEFLATED)\n",
    "\n",
    "filezip.close()"
   ]
  },
  {
   "cell_type": "code",
   "execution_count": 90,
   "metadata": {},
   "outputs": [],
   "source": [
    "# criando arquivos zip, melhorado\n",
    "\n",
    "import zipfile\n",
    "\n",
    "with zipfile.ZipFile('files.zip', 'w', zipfile.ZIP_DEFLATED) as files:\n",
    "    for folder, subfolder, arqs in os.walk('./delicious'):\n",
    "        for arq in arqs:\n",
    "            arq = folder+'/'+arq  # cria a estrutura de pastas\n",
    "            if (os.path.isfile(arq)):\n",
    "                files.write(arq)"
   ]
  },
  {
   "cell_type": "code",
   "execution_count": 93,
   "metadata": {
    "tags": []
   },
   "outputs": [],
   "source": [
    "# adicionando arquivos a um zip\n",
    "\n",
    "with zipfile.ZipFile('files.zip', 'a', zipfile.ZIP_DEFLATED) as files:\n",
    "    files.write('./spam.txt')"
   ]
  },
  {
   "cell_type": "code",
   "execution_count": 75,
   "metadata": {},
   "outputs": [
    {
     "output_type": "execute_result",
     "data": {
      "text/plain": "True"
     },
     "metadata": {},
     "execution_count": 75
    }
   ],
   "source": []
  },
  {
   "cell_type": "code",
   "execution_count": null,
   "metadata": {},
   "outputs": [],
   "source": []
  }
 ]
}