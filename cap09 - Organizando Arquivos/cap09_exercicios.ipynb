{
 "metadata": {
  "language_info": {
   "codemirror_mode": {
    "name": "ipython",
    "version": 3
   },
   "file_extension": ".py",
   "mimetype": "text/x-python",
   "name": "python",
   "nbconvert_exporter": "python",
   "pygments_lexer": "ipython3",
   "version": 3
  },
  "orig_nbformat": 2
 },
 "nbformat": 4,
 "nbformat_minor": 2,
 "cells": [
  {
   "cell_type": "markdown",
   "metadata": {},
   "source": [
    "1. Qual a diferença entre \"shutil.copy()\" e \"shutil.copytree()\"?"
   ]
  },
  {
   "cell_type": "code",
   "execution_count": null,
   "metadata": {},
   "outputs": [],
   "source": [
    "# A função \"shutil.copytree()\" copia uma pasta inteira, enquanto a função \"shutil.copy()\", copia um unico arquivo."
   ]
  },
  {
   "cell_type": "markdown",
   "metadata": {},
   "source": [
    "2. Qual função é usada para renomear um arquivo?"
   ]
  },
  {
   "cell_type": "code",
   "execution_count": null,
   "metadata": {},
   "outputs": [],
   "source": [
    "# A função shutil.move() é utilizada para renomear ou mover arquivos."
   ]
  },
  {
   "cell_type": "markdown",
   "metadata": {},
   "source": [
    "3. Qual a diferença entre as funções para apagar arquivos \"shutil.rmtree()\" e a \"send2trash()\" "
   ]
  },
  {
   "cell_type": "code",
   "execution_count": null,
   "metadata": {},
   "outputs": [],
   "source": [
    "# A função send2trash(), move arquivos para lixeira e o shutil.rmtree() apaga os arquivos de forma permanente."
   ]
  },
  {
   "cell_type": "markdown",
   "metadata": {},
   "source": [
    "4. A função \"zipfile\" tem o metodo \"close()\" igual ao metodo close da função file. Qual metodo do zipfile é equivalente ao metodo \"open()\" da função file?"
   ]
  },
  {
   "cell_type": "code",
   "execution_count": null,
   "metadata": {},
   "outputs": [],
   "source": [
    "# zipfile.ZipFile() é equivalente ao open()."
   ]
  }
 ]
}