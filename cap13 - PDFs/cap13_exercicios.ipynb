{
 "metadata": {
  "language_info": {
   "codemirror_mode": {
    "name": "ipython",
    "version": 3
   },
   "file_extension": ".py",
   "mimetype": "text/x-python",
   "name": "python",
   "nbconvert_exporter": "python",
   "pygments_lexer": "ipython3",
   "version": 3
  },
  "orig_nbformat": 2
 },
 "nbformat": 4,
 "nbformat_minor": 2,
 "cells": [
  {
   "source": [
    "1. Um valor de string com o nome do arquivo PFF não é passado para a função PyPDF2.PdfFileReader(). O que é passado para essa função em seu lugar?"
   ],
   "cell_type": "markdown",
   "metadata": {}
  },
  {
   "cell_type": "code",
   "execution_count": null,
   "metadata": {},
   "outputs": [],
   "source": [
    "# um objeto file retornado por open, conforme exemplo.:\n",
    "\n",
    "import PyPDF2\n",
    "\n",
    "fileReader = PyPDF2.PdfFileReader(open('./document.pdf', 'rb'))"
   ]
  },
  {
   "source": [
    "2. Em quais modos os objetos File para PdfFileReader() e para PdfFileWrite() devem ser abertos?"
   ],
   "cell_type": "markdown",
   "metadata": {}
  },
  {
   "cell_type": "code",
   "execution_count": null,
   "metadata": {},
   "outputs": [],
   "source": [
    "# em modo de escrita binaria 'wb' e leitura binaria 'rb'.\n",
    "\n",
    "import PyPDF2\n",
    "\n",
    "fileReader = PyPDF2.PdfFileReader(open('document.pdf', 'rb'))\n",
    "\n",
    "fileWrite = PyPDF2.PdfFileWriter(open('writeDocument.pdf', 'wb'))"
   ]
  },
  {
   "source": [
    "3. Como podemos adquirir um objeto Page para a pagina 5 de um objeto PdfFileReader?"
   ],
   "cell_type": "markdown",
   "metadata": {}
  },
  {
   "cell_type": "code",
   "execution_count": null,
   "metadata": {},
   "outputs": [],
   "source": [
    "# isso pode ser feito chamando o objeto, getPage(4), pois o indice começa com 0\n",
    "\n",
    "import PyPDF2\n",
    "\n",
    "pdfReader2 = PyPDF2.PdfFileReader(open('./encrypted.pdf', 'rb'))\n",
    "\n",
    "pdfReader2.getPage(4)"
   ]
  },
  {
   "source": [
    "4. Qual objeto do PdfFileReader armazena o número de paginas do documento PDF?"
   ],
   "cell_type": "markdown",
   "metadata": {}
  },
  {
   "cell_type": "code",
   "execution_count": null,
   "metadata": {},
   "outputs": [],
   "source": [
    "# numPages armazena o numero de paginas do PDF\n",
    "\n",
    "import PyPDF2\n",
    "\n",
    "fileReader = PyPDF2.PdfFileReader(open('documento.pdf', 'rb'))\n",
    "\n",
    "fileReader.numPages"
   ]
  },
  {
   "source": [
    "5. Se o PDF de um objeto PdfFileReader estiver criptografado com a senha 'swordfish', o que devemos fazer antes de podermos obter objetos Page de PDF?"
   ],
   "cell_type": "markdown",
   "metadata": {}
  },
  {
   "cell_type": "code",
   "execution_count": null,
   "metadata": {},
   "outputs": [],
   "source": [
    "# podemos passar a senha para descriptografa-lo\n",
    "\n",
    "import PyPDF2\n",
    "\n",
    "fileReader = PyPDF2.PdfFileReader(open('./encrypted.pdf', 'rb'))\n",
    "\n",
    "print(fileReader.isEncrypted)\n",
    "\n",
    "fileReader.decrypt('rosebud')\n",
    "\n",
    "page1 = pdfReader2.getPage(0)"
   ]
  },
  {
   "source": [
    "6. Quais metodos devemos usar para fazer a rotação de uma pagina?"
   ],
   "cell_type": "markdown",
   "metadata": {}
  },
  {
   "cell_type": "code",
   "execution_count": null,
   "metadata": {},
   "outputs": [],
   "source": [
    "# podemos utilizar o 'rotateClockwise' e 'rotateCounterClockwise' para a rotação de paginas\n",
    "\n",
    "import PyPDF2\n",
    "\n",
    "minutesFile = PyPDF2.PdfFileReader(open('./meetingminutes.pdf', 'rb'))\n",
    "\n",
    "page = minutesFile.getPage(0)\n",
    "page.rotateClockwise(90)\n",
    "\n",
    "rotateFile = PyPDF2.PdfFileWriter()\n",
    "rotateFile.addPage(page)\n",
    "\n",
    "rotateFile.write(open('rotateFile.pdf', 'wb'))"
   ]
  },
  {
   "source": [
    "7. Qual metodo retorna um objeto Document para um arquivo chamado demo.docx?"
   ],
   "cell_type": "markdown",
   "metadata": {}
  },
  {
   "cell_type": "code",
   "execution_count": null,
   "metadata": {},
   "outputs": [],
   "source": [
    "# conforme abaixo\n",
    "\n",
    "import docx\n",
    "\n",
    "docx.Document('demo.docx')"
   ]
  },
  {
   "source": [
    "8. Qual é a diferença entre um objeto Paragraph e um objeto Run?"
   ],
   "cell_type": "markdown",
   "metadata": {}
  },
  {
   "cell_type": "code",
   "execution_count": null,
   "metadata": {},
   "outputs": [],
   "source": [
    "# Um documento contém varios paragrafos. Um paragrafo começa em uma nova linha e contém varios runs. Os runs são grupos contiguos de caracteres em um paragrafo.\n",
    "\n",
    "import docx\n",
    "\n",
    "doc = docx.Document('./demo.docx')\n",
    "\n",
    "print(len(doc.paragraphs))\n",
    "\n",
    "print(doc.paragraphs[0].text)\n",
    "print(doc.paragraphs[1].text)\n",
    "print(len(doc.paragraphs[1].runs))\n",
    "print()\n",
    "print(doc.paragraphs[1].runs[0].text)\n",
    "print(doc.paragraphs[1].runs[1].text)\n",
    "print(doc.paragraphs[1].runs[2].text)\n",
    "print(doc.paragraphs[1].runs[3].text)\n",
    "print(doc.paragraphs[1].runs[4].text)"
   ]
  },
  {
   "source": [
    "9. Como podemos obter uma lista de objetos Paragraph para um objeto Document armazenado em uma variavel chamada doc?"
   ],
   "cell_type": "markdown",
   "metadata": {}
  },
  {
   "cell_type": "code",
   "execution_count": null,
   "metadata": {},
   "outputs": [],
   "source": [
    "# doc.paragraph\n",
    "\n",
    "import docx\n",
    "\n",
    "doc = docx.Document('./demo.docx')\n",
    "\n",
    "print(doc.paragraphs)"
   ]
  },
  {
   "source": [
    "10. Que tipo de objeto tem variaveis bold, underline, italic, strike e outline?"
   ],
   "cell_type": "markdown",
   "metadata": {}
  },
  {
   "cell_type": "code",
   "execution_count": null,
   "metadata": {},
   "outputs": [],
   "source": [
    "# um objeto run contém essas variaveis\n",
    "\n",
    "import docx\n",
    "\n",
    "doc = docx.Document('demo.docx')\n",
    "\n",
    "doc.paragraphs[0].text\n",
    "\n",
    "doc.paragraphs[0].style\n",
    "\n",
    "doc.paragraphs[0].style = 'Normal'\n",
    "\n",
    "doc.paragraphs[1].text\n",
    "\n",
    "doc.paragraphs[1].runs[0].style = 'QuoteChar'\n",
    "doc.paragraphs[1].runs[1].underline = True\n",
    "doc.paragraphs[1].runs[3].underline = True\n",
    "\n",
    "doc.save('reStyled.docx')\n",
    "print('Done')"
   ]
  },
  {
   "source": [
    "11. Qual a diferença entre definir a variavel bold com True, False ou None?"
   ],
   "cell_type": "markdown",
   "metadata": {}
  },
  {
   "cell_type": "code",
   "execution_count": null,
   "metadata": {},
   "outputs": [],
   "source": [
    "# True sempre deixa o objeto Run em negrito e False sempre remove o negrito, independente da configuração de negrito do estilo. None fará o objeto Run simplesmente usar a configuração de negrito do estilo"
   ]
  },
  {
   "source": [
    "12. Como podemos criar um objeto Document para um novo documento do Word?"
   ],
   "cell_type": "markdown",
   "metadata": {}
  },
  {
   "cell_type": "code",
   "execution_count": null,
   "metadata": {},
   "outputs": [],
   "source": [
    "# utilizando o metodo Document sem parametro do docx\n",
    "\n",
    "import docx\n",
    "\n",
    "new = docx.Document()\n",
    "new.save('newDocument.docx')"
   ]
  },
  {
   "source": [
    "13. Como podemos acrescentar um paragrafo com o texto 'Hello There!' em um objeto Document armazenado me uma variavel chamada doc?"
   ],
   "cell_type": "markdown",
   "metadata": {}
  },
  {
   "cell_type": "code",
   "execution_count": null,
   "metadata": {},
   "outputs": [],
   "source": [
    "# utilize doc.add_paragraph('Hello there!')\n",
    "\n",
    "import docx\n",
    "\n",
    "new = docx.Document()\n",
    "new.add_paragraph('Hello there!')\n",
    "\n",
    "new.save('newDocument.docx')"
   ]
  },
  {
   "source": [
    "14. Quais inteiros representam os niveis de titulos disponiveis em documentos do Word?"
   ],
   "cell_type": "markdown",
   "metadata": {}
  },
  {
   "cell_type": "code",
   "execution_count": null,
   "metadata": {},
   "outputs": [],
   "source": [
    "# os inteiros de 0 á 4\n",
    "\n",
    "import docx\n",
    "\n",
    "docWrite1 = docx.Document()\n",
    "\n",
    "docWrite1.add_heading('Header 0', 0)\n",
    "docWrite1.add_heading('Header 1', 1)\n",
    "docWrite1.add_heading('Header 2', 2)\n",
    "docWrite1.add_heading('Header 3', 3)\n",
    "docWrite1.add_heading('Header 4', 4)\n",
    "\n",
    "docWrite1.save('headings.docx')"
   ]
  }
 ]
}