{
 "metadata": {
  "language_info": {
   "codemirror_mode": {
    "name": "ipython",
    "version": 3
   },
   "file_extension": ".py",
   "mimetype": "text/x-python",
   "name": "python",
   "nbconvert_exporter": "python",
   "pygments_lexer": "ipython3",
   "version": "3.7.9-final"
  },
  "orig_nbformat": 2,
  "kernelspec": {
   "name": "Python 3.7.9 64-bit",
   "display_name": "Python 3.7.9 64-bit",
   "metadata": {
    "interpreter": {
     "hash": "d56ee6b60aebec99d6cd94134b60660a07005c400af5f583210d629c4771da92"
    }
   }
  }
 },
 "nbformat": 4,
 "nbformat_minor": 2,
 "cells": [
  {
   "cell_type": "code",
   "execution_count": 9,
   "metadata": {},
   "outputs": [
    {
     "output_type": "stream",
     "name": "stdout",
     "text": [
      "7\nDocument Title\nA plain paragraph with some bold and some italic\n5\n\nA plain paragraph with\n some \nbold\n and some \nitalic\n"
     ]
    }
   ],
   "source": [
    "# lendo um documento\n",
    "\n",
    "import docx\n",
    "\n",
    "doc = docx.Document('./demo.docx')\n",
    "\n",
    "print(len(doc.paragraphs))\n",
    "\n",
    "print(doc.paragraphs[0].text)\n",
    "print(doc.paragraphs[1].text)\n",
    "print(len(doc.paragraphs[1].runs))\n",
    "print()\n",
    "print(doc.paragraphs[1].runs[0].text)\n",
    "print(doc.paragraphs[1].runs[1].text)\n",
    "print(doc.paragraphs[1].runs[2].text)\n",
    "print(doc.paragraphs[1].runs[3].text)\n",
    "print(doc.paragraphs[1].runs[4].text)"
   ]
  },
  {
   "cell_type": "code",
   "execution_count": 11,
   "metadata": {},
   "outputs": [
    {
     "output_type": "stream",
     "name": "stdout",
     "text": [
      "Document Title\nA plain paragraph with some bold and some italic\nHeading, level 1\nIntense quote\nfirst item in unordered list\nfirst item in ordered list\n\n\n"
     ]
    }
   ],
   "source": [
    "# obtendo o texto completo\n",
    "# salvo como readDocx.py\n",
    "\n",
    "import docx\n",
    "\n",
    "def getText(filename):\n",
    "    doc = docx.Document(filename)\n",
    "    fullText = []\n",
    "    for paragr in doc.paragraphs:\n",
    "        fullText.append(paragr.text)\n",
    "    return '\\n'.join(fullText)\n",
    "\n",
    "print(getText('demo.docx'))"
   ]
  },
  {
   "cell_type": "code",
   "execution_count": 12,
   "metadata": {},
   "outputs": [
    {
     "output_type": "stream",
     "name": "stdout",
     "text": [
      "Document Title\nA plain paragraph with some bold and some italic\nHeading, level 1\nIntense quote\nfirst item in unordered list\nfirst item in ordered list\n\n\n"
     ]
    }
   ],
   "source": [
    "import readDocx\n",
    "\n",
    "print(readDocx.getText('demo.docx'))"
   ]
  },
  {
   "cell_type": "code",
   "execution_count": 18,
   "metadata": {},
   "outputs": [
    {
     "output_type": "stream",
     "name": "stdout",
     "text": [
      "Done\n"
     ]
    }
   ],
   "source": [
    "# estilizando paragráfos\n",
    "\n",
    "import docx\n",
    "\n",
    "doc = docx.Document('demo.docx')\n",
    "\n",
    "doc.paragraphs[0].text\n",
    "\n",
    "doc.paragraphs[0].style\n",
    "\n",
    "doc.paragraphs[0].style = 'Normal'\n",
    "\n",
    "doc.paragraphs[1].text\n",
    "\n",
    "doc.paragraphs[1].runs[0].style = 'QuoteChar'\n",
    "doc.paragraphs[1].runs[1].underline = True\n",
    "doc.paragraphs[1].runs[3].underline = True\n",
    "\n",
    "doc.save('reStyled.docx')\n",
    "print('Done')"
   ]
  },
  {
   "cell_type": "code",
   "execution_count": 5,
   "metadata": {},
   "outputs": [],
   "source": [
    "# escrevendo em um documento Word\n",
    "\n",
    "import docx\n",
    "\n",
    "docWrite = docx.Document()\n",
    "docWrite.add_paragraph('Hello World!', 'Title') # pode ser adicionado um segundo elemento do o estilo de formatação, exemplo de 'Title'\n",
    "\n",
    "# adicionando paragrafos e textos ao final dos mesmos\n",
    "\n",
    "linha2 = docWrite.add_paragraph('This is a second paragraph.')\n",
    "linha3 = docWrite.add_paragraph('This is a yet another paragraph.')\n",
    "linha2.add_run(' This text in being added to the second paragraph.')\n",
    "\n",
    "docWrite.save('helloWorld.docx')"
   ]
  },
  {
   "cell_type": "code",
   "execution_count": 7,
   "metadata": {},
   "outputs": [],
   "source": [
    "# adicionando titulos\n",
    "\n",
    "import docx\n",
    "\n",
    "docWrite1 = docx.Document()\n",
    "\n",
    "docWrite1.add_heading('Header 0', 0)\n",
    "docWrite1.add_heading('Header 1', 1)\n",
    "docWrite1.add_heading('Header 2', 2)\n",
    "docWrite1.add_heading('Header 3', 3)\n",
    "docWrite1.add_heading('Header 4', 4)\n",
    "\n",
    "docWrite1.save('headings.docx')"
   ]
  },
  {
   "cell_type": "code",
   "execution_count": 13,
   "metadata": {},
   "outputs": [],
   "source": [
    "# adicionando quebra de linha e de pagina\n",
    "\n",
    "import docx\n",
    "\n",
    "doc1 = docx.Document()\n",
    "\n",
    "doc1.add_paragraph('Thi is on the first page!')\n",
    "\n",
    "doc1.paragraphs[0].runs[0].add_break(docx.enum.text.WD_BREAK.PAGE) # ou utilizar o 'from docx.text.run import *' para utilizar o WD_BREAK conforme abaixo.:\n",
    "# doc1.paragraphs[0].runs[0].add_break(WD_BREAK.PAGE) \n",
    "\n",
    "doc1.add_paragraph('This is on the second page!')\n",
    "\n",
    "doc1.save('twoPage.docx')"
   ]
  },
  {
   "cell_type": "code",
   "execution_count": 15,
   "metadata": {},
   "outputs": [],
   "source": [
    "# adicionando imagens\n",
    "\n",
    "import docx\n",
    "\n",
    "doc = docx.Document()\n",
    "\n",
    "doc.add_picture('./zophie.png', width=docx.shared.Inches(1), height=docx.shared.Cm(4))\n",
    "\n",
    "doc.save('imageAdd.docx')"
   ]
  },
  {
   "cell_type": "code",
   "execution_count": null,
   "metadata": {},
   "outputs": [],
   "source": []
  }
 ]
}