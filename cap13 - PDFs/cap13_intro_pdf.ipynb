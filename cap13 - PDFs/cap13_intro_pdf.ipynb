{
 "metadata": {
  "language_info": {
   "codemirror_mode": {
    "name": "ipython",
    "version": 3
   },
   "file_extension": ".py",
   "mimetype": "text/x-python",
   "name": "python",
   "nbconvert_exporter": "python",
   "pygments_lexer": "ipython3",
   "version": "3.7.9-final"
  },
  "orig_nbformat": 2,
  "kernelspec": {
   "name": "Python 3.7.9 64-bit",
   "display_name": "Python 3.7.9 64-bit",
   "metadata": {
    "interpreter": {
     "hash": "d56ee6b60aebec99d6cd94134b60660a07005c400af5f583210d629c4771da92"
    }
   }
  }
 },
 "nbformat": 4,
 "nbformat_minor": 2,
 "cells": [
  {
   "cell_type": "code",
   "execution_count": 4,
   "metadata": {
    "tags": []
   },
   "outputs": [
    {
     "output_type": "stream",
     "name": "stdout",
     "text": "19\n\nOOFFFFIICCIIAALL  BBOOAARRDD  MMIINNUUTTEESS   Meeting of \nMarch 7\n, 2014\n        \n     The Board of Elementary and Secondary Education shall provide leadership and \ncreate policies for education that expand opportunities for children, empower \nfamilies and communities, and advance Louisiana in an increasingly \ncompetitive glob\nal market.\n BOARD \n of ELEMENTARY\n and \n SECONDARY\n EDUCATION\n  \n"
    }
   ],
   "source": [
    "# examplo de utilização\n",
    "\n",
    "import PyPDF2\n",
    "\n",
    "pdfFile = open('./meetingminutes.pdf', 'rb')\n",
    "pdfReader = PyPDF2.PdfFileReader(pdfFile)\n",
    "\n",
    "print(pdfReader.numPages)\n",
    "print()\n",
    "\n",
    "page = pdfReader.getPage(0)\n",
    "\n",
    "print(page.extractText())"
   ]
  },
  {
   "cell_type": "code",
   "execution_count": 11,
   "metadata": {
    "tags": []
   },
   "outputs": [
    {
     "output_type": "stream",
     "name": "stdout",
     "text": "True\n{&#39;/CropBox&#39;: [0, 0, 612, 792], &#39;/Parent&#39;: IndirectObject(4, 0), &#39;/Type&#39;: &#39;/Page&#39;, &#39;/Contents&#39;: [IndirectObject(946, 0), IndirectObject(947, 0), IndirectObject(948, 0), IndirectObject(949, 0), IndirectObject(950, 0), IndirectObject(951, 0), IndirectObject(952, 0), IndirectObject(953, 0)], &#39;/Resources&#39;: {&#39;/ExtGState&#39;: {&#39;/GS0&#39;: IndirectObject(954, 0)}, &#39;/XObject&#39;: {&#39;/Im0&#39;: IndirectObject(955, 0)}, &#39;/ColorSpace&#39;: {&#39;/CS1&#39;: IndirectObject(956, 0), &#39;/CS2&#39;: IndirectObject(956, 0), &#39;/CS0&#39;: IndirectObject(6, 0)}, &#39;/Font&#39;: {&#39;/TT2&#39;: IndirectObject(957, 0), &#39;/TT1&#39;: IndirectObject(958, 0), &#39;/TT0&#39;: IndirectObject(959, 0), &#39;/TT5&#39;: IndirectObject(960, 0), &#39;/TT4&#39;: IndirectObject(961, 0), &#39;/TT3&#39;: IndirectObject(962, 0)}}, &#39;/MediaBox&#39;: [0, 0, 612, 792], &#39;/StructParents&#39;: 0, &#39;/Rotate&#39;: 0}\n"
    }
   ],
   "source": [
    "# descriptografando PDFs\n",
    "\n",
    "import PyPDF2\n",
    "\n",
    "pdfReader2 = PyPDF2.PdfFileReader(open('./encrypted.pdf', 'rb'))\n",
    "\n",
    "print(pdfReader2.isEncrypted)\n",
    "\n",
    "# pdfReader2.getPage(0) \n",
    "\n",
    "pdfReader2.decrypt('rosebud')\n",
    "\n",
    "page1 = pdfReader2.getPage(0)\n",
    "\n",
    "print(page1)"
   ]
  },
  {
   "cell_type": "code",
   "execution_count": 1,
   "metadata": {
    "tags": []
   },
   "outputs": [
    {
     "output_type": "stream",
     "name": "stdout",
     "text": "Done\n"
    }
   ],
   "source": [
    "# escrevendo PDFs\n",
    "\n",
    "import PyPDF2\n",
    "\n",
    "pdf1File = open('./meetingminutes.pdf', 'rb')\n",
    "pdf2File = open('./meetingminutes2.pdf', 'rb')\n",
    "\n",
    "pdf1Reader = PyPDF2.PdfFileReader(pdf1File)\n",
    "pdf2Reader = PyPDF2.PdfFileReader(pdf2File)\n",
    "\n",
    "pdfWriter = PyPDF2.PdfFileWriter()\n",
    "\n",
    "for page in range(pdf1Reader.numPages):\n",
    "    numPage = pdf1Reader.getPage(page)\n",
    "    pdfWriter.addPage(numPage)\n",
    "\n",
    "for page2 in range(pdf2Reader.numPages):\n",
    "    numPage2 = pdf2Reader.getPage(page2)\n",
    "    pdfWriter.addPage(numPage2)\n",
    "\n",
    "outputFile = open('./combinedMinutes.pdf', 'wb')\n",
    "\n",
    "pdfWriter.write(outputFile)\n",
    "\n",
    "outputFile.close()\n",
    "pdf1File.close()\n",
    "pdf2File.close()\n",
    "print('Done')"
   ]
  },
  {
   "cell_type": "code",
   "execution_count": 2,
   "metadata": {},
   "outputs": [],
   "source": [
    "# rotação de paginas\n",
    "\n",
    "import PyPDF2\n",
    "\n",
    "minutesFile = PyPDF2.PdfFileReader(open('./meetingminutes.pdf', 'rb'))\n",
    "\n",
    "page = minutesFile.getPage(0)\n",
    "page.rotateClockwise(90)\n",
    "\n",
    "rotateFile = PyPDF2.PdfFileWriter()\n",
    "rotateFile.addPage(page)\n",
    "\n",
    "rotateFile.write(open('rotateFile.pdf', 'wb'))"
   ]
  },
  {
   "cell_type": "code",
   "execution_count": 3,
   "metadata": {},
   "outputs": [],
   "source": [
    "# sobrepondo paginas (marca-d'agua)\n",
    "\n",
    "import PyPDF2\n",
    "\n",
    "minutesFile = PyPDF2.PdfFileReader(open('./meetingminutes.pdf', 'rb'))\n",
    "minutesFirstPage = minutesFile.getPage(0)\n",
    "\n",
    "watermarkFile = PyPDF2.PdfFileReader(open('./watermark.pdf', 'rb'))\n",
    "minutesFirstPage.mergePage(watermarkFile.getPage(0))\n",
    "\n",
    "fileWriter = PyPDF2.PdfFileWriter()\n",
    "fileWriter.addPage(minutesFirstPage)\n",
    "\n",
    "for page in range(1, minutesFile.numPages):\n",
    "    pageNum = minutesFile.getPage(page)\n",
    "    fileWriter.addPage(pageNum)\n",
    "\n",
    "\n",
    "fileWriter.write(open('./watermarkedCover.pdf', 'wb'))"
   ]
  },
  {
   "cell_type": "code",
   "execution_count": 5,
   "metadata": {},
   "outputs": [],
   "source": [
    "# criptografando documentos\n",
    "\n",
    "import PyPDF2\n",
    "\n",
    "minutesFileAgain = PyPDF2.PdfFileReader(open('./meetingminutes.pdf', 'rb'))\n",
    "writeFile = PyPDF2.PdfFileWriter()\n",
    "\n",
    "for page in range(minutesFile.numPages):\n",
    "    writeFile.addPage(minutesFile.getPage(page))\n",
    "\n",
    "writeFile.encrypt('swordfish')\n",
    "\n",
    "writeFile.write(open('encryptdMinutes.pdf', 'wb'))"
   ]
  },
  {
   "cell_type": "code",
   "execution_count": null,
   "metadata": {},
   "outputs": [],
   "source": []
  }
 ]
}