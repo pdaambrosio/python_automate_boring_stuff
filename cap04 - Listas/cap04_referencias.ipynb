{
 "cells": [
  {
   "cell_type": "code",
   "execution_count": 1,
   "metadata": {
    "tags": []
   },
   "outputs": [
    {
     "output_type": "stream",
     "name": "stdout",
     "text": "['a', 'b', 'c', 'manga']\n['a', 'b', 'c', 'manga']\n"
    }
   ],
   "source": [
    "var1 = ['a', 'b' , 'c']\n",
    "var2 = var1\n",
    "\n",
    "var2.append('manga')\n",
    "\n",
    "print(var1)\n",
    "print(var2)"
   ]
  },
  {
   "cell_type": "code",
   "execution_count": 2,
   "metadata": {
    "tags": []
   },
   "outputs": [
    {
     "output_type": "stream",
     "name": "stdout",
     "text": "abcd\ntest\n"
    }
   ],
   "source": [
    "var3 = 'test'\n",
    "var4 = var3\n",
    "\n",
    "var3 = 'abcd'\n",
    "\n",
    "print(var3)\n",
    "print(var4)"
   ]
  },
  {
   "cell_type": "code",
   "execution_count": 3,
   "metadata": {
    "tags": []
   },
   "outputs": [
    {
     "output_type": "stream",
     "name": "stdout",
     "text": "['a', 'b', 'c']\n['a', 'b', 'c', 'D']\n"
    }
   ],
   "source": [
    "import copy\n",
    "\n",
    "var5 = ['a', 'b', 'c']\n",
    "var6 = copy.copy(var5)\n",
    "\n",
    "var6.append('D')\n",
    "\n",
    "print(var5)\n",
    "print(var6)"
   ]
  },
  {
   "cell_type": "code",
   "execution_count": null,
   "metadata": {},
   "outputs": [],
   "source": []
  }
 ],
 "metadata": {
  "language_info": {
   "codemirror_mode": {
    "name": "ipython",
    "version": 3
   },
   "file_extension": ".py",
   "mimetype": "text/x-python",
   "name": "python",
   "nbconvert_exporter": "python",
   "pygments_lexer": "ipython3",
   "version": "3.7.7-final"
  },
  "orig_nbformat": 2,
  "kernelspec": {
   "name": "python37764bitpy37virtualenv724f8c74c5c7478bad670819f0cdf1e2",
   "display_name": "Python 3.7.7 64-bit ('py3.7': virtualenv)"
  }
 },
 "nbformat": 4,
 "nbformat_minor": 2
}