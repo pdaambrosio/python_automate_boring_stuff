{
 "cells": [
  {
   "cell_type": "markdown",
   "metadata": {},
   "source": [
    "#### Com muita repetição de variável"
   ]
  },
  {
   "cell_type": "code",
   "execution_count": null,
   "metadata": {},
   "outputs": [],
   "source": [
    "print(\"Enter the name of the cat 1:\")\n",
    "cat1 = input()\n",
    "print(\"Enter the name of the cat 2:\")\n",
    "cat2 = input()\n",
    "print(\"Enter the name of the cat 3:\")\n",
    "cat3 = input()\n",
    "print(\"Enter the name of the cat 4:\")\n",
    "cat4 = input()\n",
    "print(\"Enter the name of the cat 5:\")\n",
    "cat5 = input()\n",
    "print(\"Enter the name of the cat 6:\")\n",
    "cat6 = input()\n",
    "print(\"The cat names are:\")\n",
    "print(f\"{cat1}, {cat2}, {cat3}, {cat4}, {cat5} and {cat6}\")"
   ]
  },
  {
   "cell_type": "markdown",
   "metadata": {},
   "source": [
    "#### Codigo da forma correta"
   ]
  },
  {
   "cell_type": "code",
   "execution_count": 4,
   "metadata": {
    "tags": []
   },
   "outputs": [
    {
     "output_type": "stream",
     "name": "stdout",
     "text": "Enter the name of cat1 (or enter nothing to stop):\nEnter the name of cat2 (or enter nothing to stop):\nEnter the name of cat3 (or enter nothing to stop):\nEnter the name of cat4 (or enter nothing to stop):\nEnter the name of cat5 (or enter nothing to stop):\n\nThe cat names are:\n A\n B\n C\n D\n"
    }
   ],
   "source": [
    "cat_name = []\n",
    "while True:\n",
    "    print('Enter the name of cat' + str(len(cat_name)+1) + ' (or enter nothing to stop):')\n",
    "    name = input()\n",
    "    if name == '':\n",
    "        break\n",
    "    cat_name = cat_name + [name]\n",
    "print('')\n",
    "print('The cat names are:')\n",
    "for n in cat_name:\n",
    "    print(' ' + n)"
   ]
  },
  {
   "cell_type": "code",
   "execution_count": null,
   "metadata": {},
   "outputs": [],
   "source": []
  }
 ],
 "metadata": {
  "language_info": {
   "codemirror_mode": {
    "name": "ipython",
    "version": 3
   },
   "file_extension": ".py",
   "mimetype": "text/x-python",
   "name": "python",
   "nbconvert_exporter": "python",
   "pygments_lexer": "ipython3",
   "version": "3.7.7-final"
  },
  "orig_nbformat": 2,
  "kernelspec": {
   "name": "python37764bitpy37virtualenv724f8c74c5c7478bad670819f0cdf1e2",
   "display_name": "Python 3.7.7 64-bit ('py3.7': virtualenv)"
  }
 },
 "nbformat": 4,
 "nbformat_minor": 2
}