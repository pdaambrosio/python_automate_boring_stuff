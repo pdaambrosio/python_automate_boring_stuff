{
 "cells": [
  {
   "cell_type": "markdown",
   "metadata": {},
   "source": [
    "1. O que é []?"
   ]
  },
  {
   "cell_type": "markdown",
   "metadata": {},
   "source": [
    "Uma lista vazia... exemplo.:\n",
    "var = []"
   ]
  },
  {
   "cell_type": "markdown",
   "metadata": {},
   "source": [
    "2. Como vc atribuiria o valor 'hello' como terceiro valor de uma lista armazenada em uma variavel chamada spam? (suponha que a lista contenha [2, 4, 6, 8, 10])"
   ]
  },
  {
   "cell_type": "code",
   "execution_count": 1,
   "metadata": {
    "tags": []
   },
   "outputs": [
    {
     "output_type": "stream",
     "name": "stdout",
     "text": "[2, 4, 6, 'hello', 8, 10]\n"
    }
   ],
   "source": [
    "# faria assim...\n",
    "spam = [2, 4, 6, 8, 10]\n",
    "\n",
    "spam.insert(3,'hello')\n",
    "\n",
    "print(spam)"
   ]
  },
  {
   "cell_type": "markdown",
   "metadata": {},
   "source": [
    "3. Como o valor spam[int(int('3' * 2) / 11)] é avaliado?"
   ]
  },
  {
   "cell_type": "code",
   "execution_count": 9,
   "metadata": {
    "tags": []
   },
   "outputs": [
    {
     "output_type": "execute_result",
     "data": {
      "text/plain": "'hello'"
     },
     "metadata": {},
     "execution_count": 9
    }
   ],
   "source": [
    "spam[int(int('3' * 2) / 11)]\n"
   ]
  },
  {
   "cell_type": "markdown",
   "metadata": {},
   "source": [
    "4. Como o valor spam[-1] é avaliado?"
   ]
  },
  {
   "cell_type": "code",
   "execution_count": 10,
   "metadata": {},
   "outputs": [
    {
     "output_type": "execute_result",
     "data": {
      "text/plain": "10"
     },
     "metadata": {},
     "execution_count": 10
    }
   ],
   "source": [
    "spam[-1]"
   ]
  },
  {
   "cell_type": "markdown",
   "metadata": {},
   "source": [
    "5. Como o valor spam[:2] é avaliado?"
   ]
  },
  {
   "cell_type": "code",
   "execution_count": 11,
   "metadata": {},
   "outputs": [
    {
     "output_type": "execute_result",
     "data": {
      "text/plain": "[2, 4]"
     },
     "metadata": {},
     "execution_count": 11
    }
   ],
   "source": [
    "spam[:2]"
   ]
  },
  {
   "cell_type": "markdown",
   "metadata": {},
   "source": [
    "Para as três perguntas a seguir vamos supor que bacon contenha [3.14, 'cat', 11, 'cat', True] "
   ]
  },
  {
   "cell_type": "code",
   "execution_count": 20,
   "metadata": {},
   "outputs": [],
   "source": [
    "bacon = [3.14, 'cat', 11, 'cat', True]"
   ]
  },
  {
   "cell_type": "markdown",
   "metadata": {},
   "source": [
    "6. Como o valor bacon.index('cat') é avaliado?"
   ]
  },
  {
   "cell_type": "code",
   "execution_count": 15,
   "metadata": {},
   "outputs": [
    {
     "output_type": "execute_result",
     "data": {
      "text/plain": "1"
     },
     "metadata": {},
     "execution_count": 15
    }
   ],
   "source": [
    "# ira retornar o primeiro index encontrado com a string 'cat'\n",
    "bacon.index('cat')"
   ]
  },
  {
   "cell_type": "markdown",
   "metadata": {},
   "source": [
    "7. Como bacon.append(99) altera o valor da lista bacon?"
   ]
  },
  {
   "cell_type": "code",
   "execution_count": 16,
   "metadata": {
    "tags": []
   },
   "outputs": [
    {
     "output_type": "stream",
     "name": "stdout",
     "text": "[3.14, 'cat', 11, 'cat', True, 99]\n"
    }
   ],
   "source": [
    "# A lista bacon recebera o valor 99 no final dela\n",
    "bacon.append(99)\n",
    "print(bacon)"
   ]
  },
  {
   "cell_type": "markdown",
   "metadata": {},
   "source": [
    "8. Como bacon.remove('cat') altera o valor de lista bacon?"
   ]
  },
  {
   "cell_type": "code",
   "execution_count": 21,
   "metadata": {
    "tags": []
   },
   "outputs": [
    {
     "output_type": "stream",
     "name": "stdout",
     "text": "[3.14, 11, 'cat', True]\n"
    }
   ],
   "source": [
    "# Remove a primeira ocorrencia da string 'cat' da lista bacon\n",
    "bacon.remove('cat')\n",
    "print(bacon)"
   ]
  },
  {
   "cell_type": "markdown",
   "metadata": {},
   "source": [
    "9. Quais são os operadores para concatenação de listas e para repetição de listas?"
   ]
  },
  {
   "cell_type": "code",
   "execution_count": 22,
   "metadata": {
    "tags": []
   },
   "outputs": [
    {
     "output_type": "stream",
     "name": "stdout",
     "text": "[1, 2, 3, 4, 5, 6, 7, 8]\n"
    }
   ],
   "source": [
    "# Concatenar\n",
    "list1 = [1, 2, 3, 4]\n",
    "list2 = [5, 6, 7, 8]\n",
    "list1 += list2\n",
    "print(list1)"
   ]
  },
  {
   "cell_type": "code",
   "execution_count": 23,
   "metadata": {
    "tags": []
   },
   "outputs": [
    {
     "output_type": "stream",
     "name": "stdout",
     "text": "[1, 2, 3, 4]\n[1, 2, 3, 4]\n"
    }
   ],
   "source": [
    "# Repetir\n",
    "import copy\n",
    "list1 = [1, 2, 3, 4]\n",
    "list2 = copy.copy(list1)\n",
    "print(list1)\n",
    "print(list2)"
   ]
  },
  {
   "cell_type": "markdown",
   "metadata": {},
   "source": [
    "10. Qual a diferença entre os metodos append() e insert()?"
   ]
  },
  {
   "cell_type": "code",
   "execution_count": 24,
   "metadata": {},
   "outputs": [],
   "source": [
    "## Append adiciona o valor ao final da lista, no insert é possivel escolher a posição."
   ]
  },
  {
   "cell_type": "markdown",
   "metadata": {},
   "source": [
    "11. Quais são as duas maneiras de remover valores em uma lista?"
   ]
  },
  {
   "cell_type": "code",
   "execution_count": 36,
   "metadata": {
    "tags": []
   },
   "outputs": [
    {
     "output_type": "stream",
     "name": "stdout",
     "text": "[1, 3, 4]\n[1, 3, 4]\n"
    }
   ],
   "source": [
    "# com os comandos remove passando o valor ou del informando o index\n",
    "list1 = [1, 2, 3, 4]\n",
    "list2 = [1, 2, 3, 4]\n",
    "list1.remove(2)\n",
    "del list2[1]\n",
    "print(list1)\n",
    "print(list2)"
   ]
  },
  {
   "cell_type": "markdown",
   "metadata": {},
   "source": [
    "12. Nomeie alguns aspectos em relação aos quais os valores de lista são semelhantes ao valores de string."
   ]
  },
  {
   "cell_type": "code",
   "execution_count": 3,
   "metadata": {
    "tags": []
   },
   "outputs": [
    {
     "output_type": "stream",
     "name": "stdout",
     "text": "b\nb\n"
    }
   ],
   "source": [
    "# Ambos contém indices... como demonstrado abaixo.:\n",
    "srt = 'banana'\n",
    "list1 = ['banana']\n",
    "\n",
    "print(srt[0])\n",
    "print(list1[0][0])"
   ]
  },
  {
   "cell_type": "markdown",
   "metadata": {},
   "source": [
    "13. Qual a diferença entre listas e tuplas?"
   ]
  },
  {
   "cell_type": "code",
   "execution_count": 5,
   "metadata": {},
   "outputs": [
    {
     "output_type": "error",
     "ename": "AttributeError",
     "evalue": "'tuple' object has no attribute 'append'",
     "traceback": [
      "\u001b[0;31m---------------------------------------------------------------------------\u001b[0m",
      "\u001b[0;31mAttributeError\u001b[0m                            Traceback (most recent call last)",
      "\u001b[0;32m<ipython-input-5-b3a29f43ceed>\u001b[0m in \u001b[0;36m<module>\u001b[0;34m\u001b[0m\n\u001b[1;32m      4\u001b[0m \u001b[0mtupla\u001b[0m \u001b[0;34m=\u001b[0m \u001b[0;34m(\u001b[0m\u001b[0;34m'a'\u001b[0m\u001b[0;34m,\u001b[0m \u001b[0;34m'b'\u001b[0m\u001b[0;34m,\u001b[0m \u001b[0;34m'c'\u001b[0m\u001b[0;34m)\u001b[0m\u001b[0;34m\u001b[0m\u001b[0;34m\u001b[0m\u001b[0m\n\u001b[1;32m      5\u001b[0m \u001b[0mlista\u001b[0m\u001b[0;34m.\u001b[0m\u001b[0mappend\u001b[0m\u001b[0;34m(\u001b[0m\u001b[0;34m'd'\u001b[0m\u001b[0;34m)\u001b[0m\u001b[0;34m\u001b[0m\u001b[0;34m\u001b[0m\u001b[0m\n\u001b[0;32m----> 6\u001b[0;31m \u001b[0mtupla\u001b[0m\u001b[0;34m.\u001b[0m\u001b[0mappend\u001b[0m\u001b[0;34m(\u001b[0m\u001b[0;34m'd'\u001b[0m\u001b[0;34m)\u001b[0m\u001b[0;34m\u001b[0m\u001b[0;34m\u001b[0m\u001b[0m\n\u001b[0m\u001b[1;32m      7\u001b[0m \u001b[0;34m\u001b[0m\u001b[0m\n\u001b[1;32m      8\u001b[0m \u001b[0mprint\u001b[0m\u001b[0;34m(\u001b[0m\u001b[0mlista\u001b[0m\u001b[0;34m)\u001b[0m\u001b[0;34m\u001b[0m\u001b[0;34m\u001b[0m\u001b[0m\n",
      "\u001b[0;31mAttributeError\u001b[0m: 'tuple' object has no attribute 'append'"
     ]
    }
   ],
   "source": [
    "# Listas são criadas com colchetes [] e podem ser modificadas, tuplas são criadas com parenteses () e são imutaveis.\n",
    "\n",
    "lista = ['a', 'b', 'c']\n",
    "tupla = ('a', 'b', 'c')\n",
    "lista.append('d')\n",
    "tupla.append('d') # Vai dar erro\n",
    "\n",
    "print(lista)\n",
    "print(tupla)"
   ]
  },
  {
   "cell_type": "markdown",
   "metadata": {},
   "source": [
    "14. Como você deve digitar o valor de uma tupla que contenha somente o valor inteiro 42?"
   ]
  },
  {
   "cell_type": "code",
   "execution_count": 6,
   "metadata": {},
   "outputs": [
    {
     "output_type": "execute_result",
     "data": {
      "text/plain": "tuple"
     },
     "metadata": {},
     "execution_count": 6
    }
   ],
   "source": [
    "# Para definir um único valor a uma tupla, uma virgula deve ser adicionada ao final do valor da tupla, conforma abaixo:\n",
    "\n",
    "tupla = (42,)\n",
    "type(tupla)"
   ]
  },
  {
   "cell_type": "markdown",
   "metadata": {},
   "source": [
    "15. Como podemos obter a forma de tupla de um valor de lista? Como podemos obter a forma de lista de um valor de tupla?"
   ]
  },
  {
   "cell_type": "code",
   "execution_count": 5,
   "metadata": {
    "tags": []
   },
   "outputs": [
    {
     "output_type": "stream",
     "name": "stdout",
     "text": "['cat', 'dog', 5]\n('cat', 'dog', 5)\n"
    }
   ],
   "source": [
    "# Convertendo a forma de tupla em um valor de lista:\n",
    "tupla = ('cat', 'dog', 5)\n",
    "c_lista = list(tupla)\n",
    "print(c_lista)\n",
    "\n",
    "## Convertendo a forma de lista me um valor de tupla:\n",
    "lista = ['cat', 'dog', 5]\n",
    "c_tupla = tuple(lista)\n",
    "print(c_tupla)"
   ]
  },
  {
   "cell_type": "markdown",
   "metadata": {},
   "source": [
    "16. As variaveis que \"contêm\" valores de lista não contêm realemte as listas diretamente. O que elas contêm em seu lugar?"
   ]
  },
  {
   "cell_type": "code",
   "execution_count": 6,
   "metadata": {},
   "outputs": [],
   "source": [
    "# As variaveis com os valores de listas, contém uma referencia para as lista elas não armazenam a lista em si."
   ]
  },
  {
   "cell_type": "markdown",
   "metadata": {},
   "source": [
    "17. Qual a diferença entre copy.copy() e copy.deepcopy()?"
   ]
  },
  {
   "cell_type": "code",
   "execution_count": 7,
   "metadata": {},
   "outputs": [],
   "source": [
    "# O copy.copy() realiza a copia de uma lista, independente da quantidade de niveis ela tiver, somente a primeira será copiada. O copy.deepcopy() copia todas as listas em todos os niveis."
   ]
  },
  {
   "cell_type": "markdown",
   "metadata": {},
   "source": [
    "#### Exercicios práticos - Codigos para virgula"
   ]
  },
  {
   "cell_type": "code",
   "execution_count": null,
   "metadata": {
    "tags": []
   },
   "outputs": [],
   "source": [
    "def l_items ():\n",
    "    print('Digite os items da lista:')\n",
    "    lista = []\n",
    "    items = input()\n",
    "    while True:\n",
    "        if items == '':\n",
    "            break\n",
    "        lista += [items]\n",
    "    print(lista)\n"
   ]
  },
  {
   "cell_type": "code",
   "execution_count": null,
   "metadata": {
    "tags": []
   },
   "outputs": [],
   "source": []
  },
  {
   "cell_type": "code",
   "execution_count": null,
   "metadata": {},
   "outputs": [],
   "source": []
  }
 ],
 "metadata": {
  "language_info": {
   "codemirror_mode": {
    "name": "ipython",
    "version": 3
   },
   "file_extension": ".py",
   "mimetype": "text/x-python",
   "name": "python",
   "nbconvert_exporter": "python",
   "pygments_lexer": "ipython3",
   "version": "3.7.7-final"
  },
  "orig_nbformat": 2,
  "kernelspec": {
   "name": "python37764bitpy37virtualenv724f8c74c5c7478bad670819f0cdf1e2",
   "display_name": "Python 3.7.7 64-bit ('py3.7': virtualenv)"
  }
 },
 "nbformat": 4,
 "nbformat_minor": 2
}