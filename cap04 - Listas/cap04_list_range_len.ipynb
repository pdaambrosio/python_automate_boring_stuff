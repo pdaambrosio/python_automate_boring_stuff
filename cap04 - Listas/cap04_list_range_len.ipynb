{
 "cells": [
  {
   "cell_type": "code",
   "execution_count": 1,
   "metadata": {
    "tags": []
   },
   "outputs": [
    {
     "output_type": "stream",
     "name": "stdout",
     "text": "Index 0 in the supplies is: pen\nIndex 1 in the supplies is: pencil\nIndex 2 in the supplies is: binders\nIndex 3 in the supplies is: beer\n"
    }
   ],
   "source": [
    "supplies = ['pen', 'pencil', 'binders', 'beer']\n",
    "\n",
    "for i in range(len(supplies)):\n",
    "    print(f'Index {i} in the supplies is: {supplies[i]}')"
   ]
  },
  {
   "cell_type": "code",
   "execution_count": null,
   "metadata": {},
   "outputs": [],
   "source": []
  }
 ],
 "metadata": {
  "language_info": {
   "codemirror_mode": {
    "name": "ipython",
    "version": 3
   },
   "file_extension": ".py",
   "mimetype": "text/x-python",
   "name": "python",
   "nbconvert_exporter": "python",
   "pygments_lexer": "ipython3",
   "version": "3.7.7-final"
  },
  "orig_nbformat": 2,
  "kernelspec": {
   "name": "python37764bitpy37virtualenv724f8c74c5c7478bad670819f0cdf1e2",
   "display_name": "Python 3.7.7 64-bit ('py3.7': virtualenv)"
  }
 },
 "nbformat": 4,
 "nbformat_minor": 2
}